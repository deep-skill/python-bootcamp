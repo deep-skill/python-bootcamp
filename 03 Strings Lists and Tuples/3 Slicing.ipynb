{
 "cells": [
  {
   "cell_type": "markdown",
   "metadata": {},
   "source": [
    "## Slicing de strings y listas\n",
    "\n",
    "El *slicing* en Python, nos permite obtener un subconjunto de elementos de una cadena o una lista. El *slicing* funciona de la siguiente manera:\n",
    "\n",
    "```python\n",
    "string[start:end] # Obtenemos una subcadena desde la posición 'start' (inclusive) \n",
    "                  # hasta la posición 'end' (exclusive)\n",
    "\n",
    "string[start:]    # Obtenemos una subcadena desde la posición 'start' (inclusive)\n",
    "                  # hasta llegar al final de la cadena (inclusive)\n",
    "\n",
    "string[:end]      # Obtenemos una subcadena desde el inicio de la cadena (inclusive)\n",
    "                  # hasta la posición 'end' (exclusive)\n",
    "```\n",
    "\n",
    "Veamos unos ejemplos:"
   ]
  },
  {
   "cell_type": "code",
   "execution_count": 2,
   "metadata": {},
   "outputs": [],
   "source": [
    "full_name = 'Mario Rosales'"
   ]
  },
  {
   "cell_type": "markdown",
   "metadata": {},
   "source": [
    "<center><img src=\"../Images/slice1.jpg\" width=750></center>"
   ]
  },
  {
   "cell_type": "code",
   "execution_count": 3,
   "metadata": {},
   "outputs": [
    {
     "data": {
      "text/plain": [
       "'rio Ro'"
      ]
     },
     "execution_count": 3,
     "metadata": {},
     "output_type": "execute_result"
    }
   ],
   "source": [
    "full_name[2:8]"
   ]
  },
  {
   "cell_type": "code",
   "execution_count": 4,
   "metadata": {},
   "outputs": [
    {
     "data": {
      "text/plain": [
       "'o Rosal'"
      ]
     },
     "execution_count": 4,
     "metadata": {},
     "output_type": "execute_result"
    }
   ],
   "source": [
    "full_name[4:11]"
   ]
  },
  {
   "cell_type": "code",
   "execution_count": 5,
   "metadata": {},
   "outputs": [
    {
     "data": {
      "text/plain": [
       "'Mario Ros'"
      ]
     },
     "execution_count": 5,
     "metadata": {},
     "output_type": "execute_result"
    }
   ],
   "source": [
    "full_name[:9]"
   ]
  },
  {
   "cell_type": "code",
   "execution_count": 6,
   "metadata": {},
   "outputs": [
    {
     "data": {
      "text/plain": [
       "'io Rosales'"
      ]
     },
     "execution_count": 6,
     "metadata": {},
     "output_type": "execute_result"
    }
   ],
   "source": [
    "full_name[3:]"
   ]
  },
  {
   "cell_type": "code",
   "execution_count": 7,
   "metadata": {},
   "outputs": [
    {
     "data": {
      "text/plain": [
       "'Mario Rosales'"
      ]
     },
     "execution_count": 7,
     "metadata": {},
     "output_type": "execute_result"
    }
   ],
   "source": [
    "full_name[:]"
   ]
  },
  {
   "cell_type": "code",
   "execution_count": 8,
   "metadata": {},
   "outputs": [
    {
     "data": {
      "text/plain": [
       "str"
      ]
     },
     "execution_count": 8,
     "metadata": {},
     "output_type": "execute_result"
    }
   ],
   "source": [
    "# Los slicings obtenidos también son del tipo 'str'\n",
    "\n",
    "type(full_name[2:8])"
   ]
  },
  {
   "cell_type": "markdown",
   "metadata": {},
   "source": [
    "Podemos usar índices negativos:\n",
    "\n",
    "<center><img src='../Images/slice2.jpg' width=750></center>"
   ]
  },
  {
   "cell_type": "code",
   "execution_count": null,
   "metadata": {},
   "outputs": [],
   "source": [
    "full_name[-10:-5]"
   ]
  },
  {
   "cell_type": "code",
   "execution_count": null,
   "metadata": {},
   "outputs": [],
   "source": [
    "full_name[-6:-3]"
   ]
  },
  {
   "cell_type": "code",
   "execution_count": null,
   "metadata": {},
   "outputs": [],
   "source": [
    "full_name[:-2]"
   ]
  },
  {
   "cell_type": "code",
   "execution_count": null,
   "metadata": {},
   "outputs": [],
   "source": [
    "full_name[-7:]"
   ]
  },
  {
   "cell_type": "markdown",
   "metadata": {},
   "source": [
    "En el *slicing* definimos el inicio y final de la subcadena, pero también podemos definir un tercer parámetro:\n",
    "\n",
    "```python\n",
    "\n",
    "string[start : end : step]  # Obtenemos una subcadena desde la posición 'start' (inclusive)\n",
    "                            # hasta la posición 'end' (exclusive), pero solo las posiciones\n",
    "                            # cada 'step' pasos\n",
    "                            # Es decir, tomará las posiciones:\n",
    "                            # start, start + step, starte + 2 * step, start + 3 * step + ...\n",
    "\n",
    "string[start : : step]      # Iniciamos desde 'start' hasta el final de la cadena (inclusive)\n",
    "\n",
    "string[ : end : step]       # Iniciamos desde la posición 0 hasta la posición 'end' (exclusive)\n",
    "\n",
    "```\n",
    "\n",
    "<center><img src='../Images/slice3.jpg' width=750></center>"
   ]
  },
  {
   "cell_type": "code",
   "execution_count": null,
   "metadata": {},
   "outputs": [],
   "source": [
    "full_name[2:12:2]"
   ]
  },
  {
   "cell_type": "code",
   "execution_count": null,
   "metadata": {},
   "outputs": [],
   "source": [
    "full_name[-11:-1:3]"
   ]
  },
  {
   "cell_type": "code",
   "execution_count": null,
   "metadata": {},
   "outputs": [],
   "source": [
    "full_name[4::4]"
   ]
  },
  {
   "cell_type": "code",
   "execution_count": null,
   "metadata": {},
   "outputs": [],
   "source": [
    "full_name[:-5:5]"
   ]
  },
  {
   "cell_type": "markdown",
   "metadata": {},
   "source": [
    "El parámetro `step` también admite valores negativos; sin embargo, iniciaremos desde la posición 'end' (inclusive) y finalizaremos en la posición 'start':\n",
    "\n",
    "<center><img src='../Images/slice4.jpg' width=750></center>"
   ]
  },
  {
   "cell_type": "code",
   "execution_count": null,
   "metadata": {},
   "outputs": [],
   "source": [
    "full_name[9:2:-1]"
   ]
  },
  {
   "cell_type": "code",
   "execution_count": null,
   "metadata": {},
   "outputs": [],
   "source": [
    "full_name[-6:-12:-2]"
   ]
  },
  {
   "cell_type": "code",
   "execution_count": null,
   "metadata": {},
   "outputs": [],
   "source": [
    "full_name[:4:-3]"
   ]
  },
  {
   "cell_type": "code",
   "execution_count": null,
   "metadata": {},
   "outputs": [],
   "source": [
    "full_name[-3::-4]"
   ]
  },
  {
   "cell_type": "markdown",
   "metadata": {},
   "source": [
    "Todos los ejemplos que vimos, fueron con cadenas, pero de la misma manera, se pueden aplicar en listas:"
   ]
  },
  {
   "cell_type": "code",
   "execution_count": 2,
   "metadata": {},
   "outputs": [
    {
     "name": "stdout",
     "output_type": "stream",
     "text": [
      "[11, 20, -7]\n",
      "[20, -1, 91]\n",
      "[-1, 0, 91, 103, -17, -23]\n",
      "[91, 0, -1, -7, 20]\n"
     ]
    }
   ],
   "source": [
    "number_list = [3, 10, 11, 20, -7, -1, 0, 91, 103, -17, -23]\n",
    "\n",
    "                                    # POSICIONES\n",
    "print(number_list[2:5])             # 2, 3, 4\n",
    "print(number_list[3:8:2])           # 3, 5, 7\n",
    "print(number_list[-6:])             # -6, -5, -4, ...\n",
    "print(number_list[7:2:-1])          # 7, 6, 5, 4, 3"
   ]
  },
  {
   "cell_type": "markdown",
   "metadata": {},
   "source": [
    "### NOTA"
   ]
  },
  {
   "cell_type": "code",
   "execution_count": 3,
   "metadata": {},
   "outputs": [
    {
     "name": "stdout",
     "output_type": "stream",
     "text": [
      "4370207232\n",
      "4370175488\n"
     ]
    }
   ],
   "source": [
    "# Cuando obtenemos un slicing de una lista, se asigna a una nueva dirección de memoria\n",
    "\n",
    "sublist = number_list[2:5]\n",
    "\n",
    "print(id(number_list))\n",
    "print(id(sublist))"
   ]
  },
  {
   "cell_type": "code",
   "execution_count": 6,
   "metadata": {},
   "outputs": [
    {
     "name": "stdout",
     "output_type": "stream",
     "text": [
      "[3, 10, 11, 20, -7, -1, 0, 91, 103, -17, -23]\n",
      "[3, 10, 11, 20, -7, -1, 0, 91, 103, -17, -23]\n",
      "4370207232\n",
      "4370286976\n"
     ]
    }
   ],
   "source": [
    "# Usando este hecho, podemos crear una copia de la lista con distinta dirección de memoria\n",
    "\n",
    "number_list2 = number_list[:]\n",
    "\n",
    "print(number_list)\n",
    "print(number_list2)\n",
    "\n",
    "print(id(number_list))\n",
    "print(id(number_list2))"
   ]
  },
  {
   "cell_type": "code",
   "execution_count": 7,
   "metadata": {},
   "outputs": [
    {
     "name": "stdout",
     "output_type": "stream",
     "text": [
      "[3, 10, 11, 20, -7, -1, 0, 91, 103, -17, -23]\n",
      "[3, 10, 11, 20, -7, -1, 0, 91, 103, -17, -23, 999]\n"
     ]
    }
   ],
   "source": [
    "# Las modificaciones son independientes\n",
    "\n",
    "number_list2.append(999)\n",
    "\n",
    "print(number_list)\n",
    "print(number_list2)"
   ]
  }
 ],
 "metadata": {
  "kernelspec": {
   "display_name": "Python 3",
   "language": "python",
   "name": "python3"
  },
  "language_info": {
   "codemirror_mode": {
    "name": "ipython",
    "version": 3
   },
   "file_extension": ".py",
   "mimetype": "text/x-python",
   "name": "python",
   "nbconvert_exporter": "python",
   "pygments_lexer": "ipython3",
   "version": "3.11.6"
  }
 },
 "nbformat": 4,
 "nbformat_minor": 2
}
