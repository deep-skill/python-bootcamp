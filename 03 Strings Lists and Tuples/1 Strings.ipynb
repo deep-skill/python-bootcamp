{
 "cells": [
  {
   "cell_type": "markdown",
   "metadata": {},
   "source": [
    "# Strings, Listas y Tuplas\n",
    "\n",
    "## 1. Introducción a las estructuras de datos\n",
    "\n",
    "En Python, sabemos que podemos almacenar un dato en una variable. Pero que es lo que pasa si tenemos múltiples datos que queremos almacenar, para ellos podemos usar distintas **estructuras de datos** que nos proporciona Python. \n",
    "\n",
    "--- pilas colas estructuras lineales\n",
    "\n",
    "## 2. Definición y manipulación de strings\n",
    "\n",
    "En el primer módulo vimos que los *strings* es una cadena de caracteres donde podemos almacenar texto. En general, podemos almacenar cualquier tipo de caracter del código [ascii](https://elcodigoascii.com.ar):\n",
    "\n",
    "Veamos de qué formas se pueden utilizar los strings:"
   ]
  },
  {
   "cell_type": "code",
   "execution_count": null,
   "metadata": {},
   "outputs": [],
   "source": [
    "# Para indicar que la variable es del tipo string, ponemos el valor en comillas ('') o doble comillas (\"\")\n",
    "first_name = 'Mario'\n",
    "last_name = \"Rosales\"\n",
    "\n",
    "print(type(first_name))\n",
    "print(type(last_name))\n",
    "\n",
    "print(first_name)\n",
    "print(last_name)"
   ]
  },
  {
   "cell_type": "code",
   "execution_count": null,
   "metadata": {},
   "outputs": [],
   "source": [
    "# Suma de strings: concatenan los string\n",
    "\n",
    "full_name = first_name + ' ' + last_name\n",
    "print('Mi nombre es: ' + full_name)"
   ]
  },
  {
   "cell_type": "code",
   "execution_count": null,
   "metadata": {},
   "outputs": [],
   "source": [
    "# Podemos acceder a un caracter de la siguiente manera:\n",
    "\n",
    "print(first_name[0])    # Accede al primer caracter desde la izquierda\n",
    "print(first_name[1])    # Accede al segundo caracter desde la izquierda\n",
    "\n",
    "# NOTA: El primer caracter está en la posición 0, no en la posición 1"
   ]
  },
  {
   "cell_type": "code",
   "execution_count": null,
   "metadata": {},
   "outputs": [],
   "source": [
    "print(first_name[-1])   # Accede al caracter de última posición\n",
    "print(first_name[-2])   # Accede al caracter de penúltima posición"
   ]
  },
  {
   "cell_type": "markdown",
   "metadata": {},
   "source": [
    "Ahora veremos dos maneras de iterar sobre los caracteres de un string."
   ]
  },
  {
   "cell_type": "code",
   "execution_count": null,
   "metadata": {},
   "outputs": [],
   "source": [
    "first_name = 'Mario'\n",
    "\n",
    "# len(first_name) : cantidad de caracteres que tiene la cadena\n",
    "\n",
    "for i in range(len(first_name)):\n",
    "    print(first_name[i])"
   ]
  },
  {
   "cell_type": "code",
   "execution_count": null,
   "metadata": {},
   "outputs": [],
   "source": [
    "# Los strings son objetos iterables\n",
    "\n",
    "for c in first_name:\n",
    "    print(c)"
   ]
  }
 ],
 "metadata": {
  "language_info": {
   "name": "python"
  }
 },
 "nbformat": 4,
 "nbformat_minor": 2
}
