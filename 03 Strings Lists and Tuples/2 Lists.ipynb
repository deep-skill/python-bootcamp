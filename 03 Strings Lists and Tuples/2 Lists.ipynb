{
 "cells": [
  {
   "cell_type": "markdown",
   "metadata": {},
   "source": [
    "## 3. Introducción a listas\n",
    "\n",
    "Una **lista** es una estructura de datos que nos va a permitir almacenar y organizar elementos de manera ordenada. Para declarar una lista, usaremos corchetes `[]`:"
   ]
  },
  {
   "cell_type": "code",
   "execution_count": null,
   "metadata": {},
   "outputs": [],
   "source": [
    "lst = [12, 15, 0, -3, 5]\n",
    "\n",
    "print(type(lst))\n",
    "print(lst)"
   ]
  },
  {
   "cell_type": "code",
   "execution_count": null,
   "metadata": {},
   "outputs": [],
   "source": [
    "# Podemos añadir un elemento al final de la lista\n",
    "\n",
    "lst.append(7)\n",
    "lst"
   ]
  },
  {
   "cell_type": "code",
   "execution_count": null,
   "metadata": {},
   "outputs": [],
   "source": [
    "# Además, podemos añadir un elemento con cualquier tipo de dato\n",
    "\n",
    "lst.append('hello')\n",
    "lst.append(True)\n",
    "lst.append(2.3)\n",
    "\n",
    "lst"
   ]
  },
  {
   "cell_type": "markdown",
   "metadata": {},
   "source": [
    "Podemos acceder a los elementos de la lista según la posición que se encuentra en la lista, similar a los strings:"
   ]
  },
  {
   "cell_type": "code",
   "execution_count": null,
   "metadata": {},
   "outputs": [],
   "source": [
    "number_list = [2, 3, 5, 7, 11, 13, 17, 19, 23, 29]"
   ]
  },
  {
   "cell_type": "code",
   "execution_count": null,
   "metadata": {},
   "outputs": [],
   "source": [
    "# Podemos acceder a sus elementos de la siguiente manera\n",
    "\n",
    "print(number_list[0]) # Primer elemento\n",
    "print(number_list[1]) # Segundo elemento\n",
    "print(number_list[4]) # Quinto elemento"
   ]
  },
  {
   "cell_type": "code",
   "execution_count": null,
   "metadata": {},
   "outputs": [],
   "source": [
    "# Índices negativos\n",
    "\n",
    "print(number_list[-1]) # Último elemento\n",
    "print(number_list[-2]) # Penúltimo elemento"
   ]
  },
  {
   "cell_type": "code",
   "execution_count": null,
   "metadata": {},
   "outputs": [],
   "source": [
    "# Modificar un elemento de la lista\n",
    "\n",
    "number_list[0] = 31\n",
    "number_list"
   ]
  },
  {
   "cell_type": "markdown",
   "metadata": {},
   "source": [
    "Las listas son objetos iterables, por lo que podemos iterar sobre ellas:"
   ]
  },
  {
   "cell_type": "code",
   "execution_count": null,
   "metadata": {},
   "outputs": [],
   "source": [
    "number_list = [2, 3, 5, 7, 11, 13, 17, 19, 23, 29]\n",
    "\n",
    "for number in number_list:\n",
    "    print(number)"
   ]
  },
  {
   "cell_type": "markdown",
   "metadata": {},
   "source": [
    "Existen diferentes maneras de eliminar un elemento de una lista. \n",
    "\n",
    "El método **REMOVE**:\n",
    "\n",
    "```python\n",
    "lst.remove(element)\n",
    "```\n",
    "\n",
    "Elimina la primera aparición de `element` en la lista."
   ]
  },
  {
   "cell_type": "code",
   "execution_count": null,
   "metadata": {},
   "outputs": [],
   "source": [
    "animal_list = ['monkey', 'parrot', 'cat', 'dog', 'mouse', 'cat', 'monkey', 'cat']\n",
    "animal_list"
   ]
  },
  {
   "cell_type": "code",
   "execution_count": null,
   "metadata": {},
   "outputs": [],
   "source": [
    "# Elimina 'parrot' de la lista\n",
    "animal_list.remove('parrot')\n",
    "print(animal_list)"
   ]
  },
  {
   "cell_type": "code",
   "execution_count": null,
   "metadata": {},
   "outputs": [],
   "source": [
    "# Elimina 'cat' de la lista. Como hay tres elementos 'cat' en la lista, eliminará el primero de ellos\n",
    "animal_list.remove('cat')\n",
    "print(animal_list)"
   ]
  },
  {
   "cell_type": "code",
   "execution_count": null,
   "metadata": {},
   "outputs": [],
   "source": [
    "animal_list.remove('mouse')\n",
    "print(animal_list)"
   ]
  },
  {
   "cell_type": "markdown",
   "metadata": {},
   "source": [
    "El método **POP**:\n",
    "\n",
    "```python\n",
    "lst.pop(index)\n",
    "```\n",
    "\n",
    "Elimina el elemento con índice `index`."
   ]
  },
  {
   "cell_type": "code",
   "execution_count": null,
   "metadata": {},
   "outputs": [],
   "source": [
    "animal_list = ['monkey', 'parrot', 'cat', 'dog', 'mouse', 'cat', 'monkey', 'cat']\n",
    "animal_list"
   ]
  },
  {
   "cell_type": "code",
   "execution_count": null,
   "metadata": {},
   "outputs": [],
   "source": [
    "# Elimina el elemento de índice 2\n",
    "animal_list.pop(2)\n",
    "print(animal_list)"
   ]
  },
  {
   "cell_type": "code",
   "execution_count": null,
   "metadata": {},
   "outputs": [],
   "source": [
    "# Elimina el elemento de índice 4\n",
    "animal_list.pop(4)\n",
    "print(animal_list)"
   ]
  },
  {
   "cell_type": "code",
   "execution_count": null,
   "metadata": {},
   "outputs": [],
   "source": [
    "# Elimina el elemento de índice -1 (o última posición)\n",
    "animal_list.pop(-1)\n",
    "print(animal_list)"
   ]
  }
 ],
 "metadata": {
  "language_info": {
   "name": "python"
  }
 },
 "nbformat": 4,
 "nbformat_minor": 2
}
