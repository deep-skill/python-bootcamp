{
 "cells": [
  {
   "cell_type": "markdown",
   "metadata": {},
   "source": [
    "## Introducción a listas\n",
    "\n",
    "Una **lista** es una estructura de datos que nos va a permitir almacenar y organizar elementos de manera ordenada. Para declarar una lista, usaremos corchetes `[]`:"
   ]
  },
  {
   "cell_type": "code",
   "execution_count": null,
   "metadata": {},
   "outputs": [],
   "source": [
    "lst = [12, 15, 0, -3, 5]\n",
    "\n",
    "print(type(lst))\n",
    "print(lst)"
   ]
  },
  {
   "cell_type": "code",
   "execution_count": null,
   "metadata": {},
   "outputs": [],
   "source": [
    "# Podemos añadir un elemento al final de la lista\n",
    "\n",
    "lst.append(7)\n",
    "lst"
   ]
  },
  {
   "cell_type": "code",
   "execution_count": null,
   "metadata": {},
   "outputs": [],
   "source": [
    "# Además, podemos añadir un elemento de cualquier tipo de dato\n",
    "\n",
    "lst.append('hello')\n",
    "lst.append(True)\n",
    "lst.append(2.3)\n",
    "\n",
    "lst"
   ]
  },
  {
   "cell_type": "markdown",
   "metadata": {},
   "source": [
    "Podemos acceder a los elementos de la lista según la posición que se encuentra en la lista, similar a los strings:"
   ]
  },
  {
   "cell_type": "code",
   "execution_count": null,
   "metadata": {},
   "outputs": [],
   "source": [
    "number_list = [2, 3, 5, 7, 11, 13, 17, 19, 23, 29]"
   ]
  },
  {
   "cell_type": "code",
   "execution_count": null,
   "metadata": {},
   "outputs": [],
   "source": [
    "# Podemos acceder a sus elementos de la siguiente manera\n",
    "\n",
    "print(number_list[0]) # Primer elemento\n",
    "print(number_list[1]) # Segundo elemento\n",
    "print(number_list[4]) # Quinto elemento"
   ]
  },
  {
   "cell_type": "code",
   "execution_count": null,
   "metadata": {},
   "outputs": [],
   "source": [
    "# Índices negativos\n",
    "\n",
    "print(number_list[-1]) # Último elemento\n",
    "print(number_list[-2]) # Penúltimo elemento"
   ]
  },
  {
   "cell_type": "code",
   "execution_count": null,
   "metadata": {},
   "outputs": [],
   "source": [
    "# Modificar un elemento de la lista\n",
    "\n",
    "number_list[0] = 31\n",
    "number_list"
   ]
  },
  {
   "cell_type": "code",
   "execution_count": null,
   "metadata": {},
   "outputs": [],
   "source": [
    "# Determinar si un elemento se encuentra en number_list\n",
    "\n",
    "11 in number_list"
   ]
  },
  {
   "cell_type": "code",
   "execution_count": null,
   "metadata": {},
   "outputs": [],
   "source": [
    "1 in number_list"
   ]
  },
  {
   "cell_type": "markdown",
   "metadata": {},
   "source": [
    "El operador `+`, al igual que en las cadenas, resulta la concatenación de listas:"
   ]
  },
  {
   "cell_type": "code",
   "execution_count": null,
   "metadata": {},
   "outputs": [],
   "source": [
    "list1 = [1, 2, 3, 4, 5]\n",
    "list2 = [6, 7, 8, 9, 10]"
   ]
  },
  {
   "cell_type": "code",
   "execution_count": null,
   "metadata": {},
   "outputs": [],
   "source": [
    "list3 = list1 + list2\n",
    "list3"
   ]
  },
  {
   "cell_type": "code",
   "execution_count": null,
   "metadata": {},
   "outputs": [],
   "source": [
    "list4 = list2 + list1\n",
    "list4"
   ]
  },
  {
   "cell_type": "markdown",
   "metadata": {},
   "source": [
    "También podemos multiplicar un número con una lista, y obtendremos una repetición de la lista:"
   ]
  },
  {
   "cell_type": "code",
   "execution_count": null,
   "metadata": {},
   "outputs": [],
   "source": [
    "list1 = [1, 2, 3, 4]\n",
    "\n",
    "list2 = 3 * list1\n",
    "list2"
   ]
  },
  {
   "cell_type": "markdown",
   "metadata": {},
   "source": [
    "Las listas son objetos iterables, por lo que podemos iterar sobre ellas:"
   ]
  },
  {
   "cell_type": "code",
   "execution_count": null,
   "metadata": {},
   "outputs": [],
   "source": [
    "number_list = [2, 3, 5, 7, 11, 13, 17, 19, 23, 29]\n",
    "\n",
    "for number in number_list:\n",
    "    print(number)"
   ]
  },
  {
   "cell_type": "markdown",
   "metadata": {},
   "source": [
    "Podemos ordenar los elementos de una lista con la función `sorted()`:"
   ]
  },
  {
   "cell_type": "code",
   "execution_count": 1,
   "metadata": {},
   "outputs": [
    {
     "name": "stdout",
     "output_type": "stream",
     "text": [
      "[3, 1, 4, 1, 5, 9, 2, 6, 5, 3, 5]\n",
      "[1, 1, 2, 3, 3, 4, 5, 5, 5, 6, 9]\n"
     ]
    }
   ],
   "source": [
    "number_list = [3, 1, 4, 1, 5, 9, 2, 6, 5, 3, 5]\n",
    "sorted_list = sorted(number_list)\n",
    "\n",
    "print(number_list)\n",
    "print(sorted_list)"
   ]
  },
  {
   "cell_type": "markdown",
   "metadata": {},
   "source": [
    "## Eliminar elemento de una lista\n",
    "\n",
    "Existen diferentes maneras de eliminar un elemento de una lista. \n",
    "\n",
    "El método **REMOVE**:\n",
    "\n",
    "```python\n",
    "lst.remove(element)\n",
    "```\n",
    "\n",
    "Elimina la primera aparición de `element` en la lista."
   ]
  },
  {
   "cell_type": "code",
   "execution_count": null,
   "metadata": {},
   "outputs": [],
   "source": [
    "animal_list = ['monkey', 'parrot', 'cat', 'dog', 'mouse', 'cat', 'monkey', 'cat']\n",
    "animal_list"
   ]
  },
  {
   "cell_type": "code",
   "execution_count": null,
   "metadata": {},
   "outputs": [],
   "source": [
    "# Elimina 'parrot' de la lista\n",
    "animal_list.remove('parrot')\n",
    "print(animal_list)"
   ]
  },
  {
   "cell_type": "code",
   "execution_count": null,
   "metadata": {},
   "outputs": [],
   "source": [
    "# Elimina 'cat' de la lista. Como hay tres elementos 'cat' en la lista, eliminará el primero de ellos\n",
    "animal_list.remove('cat')\n",
    "print(animal_list)"
   ]
  },
  {
   "cell_type": "code",
   "execution_count": null,
   "metadata": {},
   "outputs": [],
   "source": [
    "animal_list.remove('mouse')\n",
    "print(animal_list)"
   ]
  },
  {
   "cell_type": "markdown",
   "metadata": {},
   "source": [
    "El método **POP**:\n",
    "\n",
    "```python\n",
    "lst.pop(index)\n",
    "```\n",
    "\n",
    "Elimina el elemento con índice `index`."
   ]
  },
  {
   "cell_type": "code",
   "execution_count": null,
   "metadata": {},
   "outputs": [],
   "source": [
    "animal_list = ['monkey', 'parrot', 'cat', 'dog', 'mouse', 'cat', 'monkey', 'cat']\n",
    "animal_list"
   ]
  },
  {
   "cell_type": "code",
   "execution_count": null,
   "metadata": {},
   "outputs": [],
   "source": [
    "# Elimina el elemento de índice 2\n",
    "animal_list.pop(2)\n",
    "print(animal_list)"
   ]
  },
  {
   "cell_type": "code",
   "execution_count": null,
   "metadata": {},
   "outputs": [],
   "source": [
    "# Elimina el elemento de índice 4\n",
    "animal_list.pop(4)\n",
    "print(animal_list)"
   ]
  },
  {
   "cell_type": "code",
   "execution_count": null,
   "metadata": {},
   "outputs": [],
   "source": [
    "# Elimina el elemento de índice -1 (o última posición)\n",
    "animal_list.pop(-1)\n",
    "print(animal_list)"
   ]
  },
  {
   "cell_type": "markdown",
   "metadata": {},
   "source": [
    "## List comprehension\n",
    "\n",
    "Supongamos que queremos crear una lista de `n` elementos, todos inicializados en 0. Podemos usar un bucle para esto:"
   ]
  },
  {
   "cell_type": "code",
   "execution_count": null,
   "metadata": {},
   "outputs": [],
   "source": [
    "n = 7\n",
    "\n",
    "number_list = []\n",
    "\n",
    "for i in range(n):\n",
    "    number_list.append(0)\n",
    "\n",
    "number_list"
   ]
  },
  {
   "cell_type": "markdown",
   "metadata": {},
   "source": [
    "En Python, existe una manera sencilla de construir listas con la longitud que deseemos y los elementos que queramos que contenga. Podemos reducir el código anterior, en una sola línea usando la *comprensión de listas*:"
   ]
  },
  {
   "cell_type": "code",
   "execution_count": null,
   "metadata": {},
   "outputs": [],
   "source": [
    "n = 7\n",
    "\n",
    "number_list = [0 for i in range(n)]\n",
    "\n",
    "number_list"
   ]
  },
  {
   "cell_type": "markdown",
   "metadata": {},
   "source": [
    "La sintaxis general es:\n",
    "\n",
    "```python\n",
    "new_list = [expression for element in iterable if condition]\n",
    "```\n",
    "\n",
    "Podemos decir que es la comprensión del siguiente código:\n",
    "\n",
    "```python\n",
    "for element in iterable:\n",
    "    if condition:\n",
    "        new_list.append(expression)\n",
    "```\n",
    "\n",
    "**NOTA:** La condicional es opcional."
   ]
  },
  {
   "cell_type": "markdown",
   "metadata": {},
   "source": [
    "Veamos otro ejemplo. Queremos una lista de todos los números pares entre $1$ y $n$:"
   ]
  },
  {
   "cell_type": "code",
   "execution_count": null,
   "metadata": {},
   "outputs": [],
   "source": [
    "# Versión extendida\n",
    "\n",
    "n = 15\n",
    "even_list = []\n",
    "\n",
    "for i in range(n):\n",
    "    if i % 2 == 0:\n",
    "        even_list.append(i)\n",
    "\n",
    "even_list"
   ]
  },
  {
   "cell_type": "code",
   "execution_count": null,
   "metadata": {},
   "outputs": [],
   "source": [
    "# Versión comprendida\n",
    "\n",
    "n = 15\n",
    "\n",
    "even_list = [i for i in range(n) if i % 2 == 0]\n",
    "even_list"
   ]
  },
  {
   "cell_type": "markdown",
   "metadata": {},
   "source": [
    "Queremos una lista que contenga todo el abecedario desde la `a` hasta la `z`:"
   ]
  },
  {
   "cell_type": "code",
   "execution_count": null,
   "metadata": {},
   "outputs": [],
   "source": [
    "# Versión extendida\n",
    "\n",
    "abc = []\n",
    "\n",
    "for i in range(ord('a'), ord('z') + 1):\n",
    "    abc.append(chr(i))\n",
    "\n",
    "abc"
   ]
  },
  {
   "cell_type": "code",
   "execution_count": null,
   "metadata": {},
   "outputs": [],
   "source": [
    "# Versión comprendida\n",
    "\n",
    "abc = [chr(i) for i in range(ord('a'), ord('z') + 1)]\n",
    "abc"
   ]
  },
  {
   "cell_type": "markdown",
   "metadata": {},
   "source": [
    "## Objetos mutables e inmutables\n",
    "\n",
    "Veamos el siguiente caso:"
   ]
  },
  {
   "cell_type": "code",
   "execution_count": null,
   "metadata": {},
   "outputs": [],
   "source": [
    "list1 = [1, 2, 3, 4, 5]\n",
    "list2 = list1"
   ]
  },
  {
   "cell_type": "markdown",
   "metadata": {},
   "source": [
    "Tenemos una lista `a` y la asignamos a `b`."
   ]
  },
  {
   "cell_type": "code",
   "execution_count": null,
   "metadata": {},
   "outputs": [],
   "source": [
    "print(list1)\n",
    "print(list2)"
   ]
  },
  {
   "cell_type": "markdown",
   "metadata": {},
   "source": [
    "Si modificamos un valor de `a`, veamos lo que sucede en `b`:"
   ]
  },
  {
   "cell_type": "code",
   "execution_count": null,
   "metadata": {},
   "outputs": [],
   "source": [
    "list1[0] = 10\n",
    "\n",
    "print(list1)\n",
    "print(list2)"
   ]
  },
  {
   "cell_type": "markdown",
   "metadata": {},
   "source": [
    "Notamos que a pesar de hacer solo el cambio en `list1`, la lista `list2` también se ve afectada. Esto sucede ya que la asignación de las listas es por *referencia*. Cuando nosotros creamos una *lista*, esta se almacena en alguna dirección de la memoria de la computadora. Para poder acceder a esa dirección de memoria, usamos un identificador (`list1`). Podríamos decir que `list1` es la dirección donde se encuentra la lista. Cuando asignamos `list1` a `list2`, ahora `list2` también apunta a la **misma dirección de la lista**. Entonces si modificamos `list1` o `list2`, estamos modificando a la misma dirección de memoria. "
   ]
  },
  {
   "cell_type": "code",
   "execution_count": null,
   "metadata": {},
   "outputs": [],
   "source": [
    "list1 = [1, 2, 3, 4, 5]\n",
    "\n",
    "# Nos permite obtener la dirección de memoria del objeto\n",
    "# Puede variar entre ejecución y ejecución (ya que se la asignación de memoria varía en cada ejecución)\n",
    "id(list1)"
   ]
  },
  {
   "cell_type": "markdown",
   "metadata": {},
   "source": [
    "Si modificamos al objeto, mantendrá su dirección de memoria"
   ]
  },
  {
   "cell_type": "code",
   "execution_count": null,
   "metadata": {},
   "outputs": [],
   "source": [
    "list1.append(50)\n",
    "print(list1)\n",
    "print(id(list1))"
   ]
  },
  {
   "cell_type": "code",
   "execution_count": null,
   "metadata": {},
   "outputs": [],
   "source": [
    "list1[2] = 10\n",
    "print(list1)\n",
    "print(id(list1))"
   ]
  },
  {
   "cell_type": "markdown",
   "metadata": {},
   "source": [
    "`list2` tiene la misma dirección de memoria que `list1`:"
   ]
  },
  {
   "cell_type": "code",
   "execution_count": null,
   "metadata": {},
   "outputs": [],
   "source": [
    "list2 = list1\n",
    "print(list2)\n",
    "print(id(list2))"
   ]
  },
  {
   "cell_type": "code",
   "execution_count": null,
   "metadata": {},
   "outputs": [],
   "source": [
    "list2.append(50)\n",
    "print(list1)\n",
    "print(list2)\n",
    "print(id(list2))"
   ]
  },
  {
   "cell_type": "markdown",
   "metadata": {},
   "source": [
    "Las listas son **objetos mutables**, que podemos entender que son objetos donde podemos *modificar su contenido*. Todos los objetos mutables tienen asignación por referencia y tienen el mismo comportamiento. Las tipos de datos básicos como `int`, `float` o `str` son **objetos inmutables**, y fijémonos en su comportamiento:"
   ]
  },
  {
   "cell_type": "code",
   "execution_count": null,
   "metadata": {},
   "outputs": [],
   "source": [
    "num1 = 10\n",
    "print(num1)\n",
    "print(id(num1))"
   ]
  },
  {
   "cell_type": "markdown",
   "metadata": {},
   "source": [
    "Cuando modificamos el valor de `num1`, su dirección de memoria variará, ya que no se modifica el valor de `num1` sino que se crea un **nuevo objeto** y se reserva una nueva dirección de memoria para `num1`:"
   ]
  },
  {
   "cell_type": "code",
   "execution_count": null,
   "metadata": {},
   "outputs": [],
   "source": [
    "num1 = num1 + 5\n",
    "print(num1)\n",
    "print(id(num1))"
   ]
  },
  {
   "cell_type": "code",
   "execution_count": null,
   "metadata": {},
   "outputs": [],
   "source": [
    "num1 = num1 * 3\n",
    "print(num1)\n",
    "print(id(num1))"
   ]
  },
  {
   "cell_type": "markdown",
   "metadata": {},
   "source": [
    "Lo mismo sucede con los demás *objetos inmutables*, donde no podemos modificar su contenido, solo se crean nuevos objetos. Esta diferencia hace que la asignación no sean como las listas:"
   ]
  },
  {
   "cell_type": "code",
   "execution_count": null,
   "metadata": {},
   "outputs": [],
   "source": [
    "num1 = 5\n",
    "num2 = num1\n",
    "\n",
    "# Por ahora ambos comparten dirección de memoria\n",
    "print(id(num1))\n",
    "print(id(num2))"
   ]
  },
  {
   "cell_type": "code",
   "execution_count": null,
   "metadata": {},
   "outputs": [],
   "source": [
    "# Ahora `num1` tiene distinta dirección de memoria\n",
    "\n",
    "num1 = num1 + 10\n",
    "print(id(num1))\n",
    "print(id(num2))"
   ]
  },
  {
   "cell_type": "code",
   "execution_count": null,
   "metadata": {},
   "outputs": [],
   "source": [
    "# Y vemos que la modificación solo afectó a `num1` ya que tienen distinta dirección de memoria\n",
    "\n",
    "print(num1)\n",
    "print(num2)"
   ]
  },
  {
   "cell_type": "markdown",
   "metadata": {},
   "source": [
    "Si queremos asignar una lista y que no apunte a la misma dirección de memoria, podemos usar el método `copy()`:"
   ]
  },
  {
   "cell_type": "code",
   "execution_count": null,
   "metadata": {},
   "outputs": [],
   "source": [
    "list1 = [1, 2, 3, 4, 5]\n",
    "list2 = list1.copy()\n",
    "\n",
    "# No comparten dirección de memoria\n",
    "print(id(list1))\n",
    "print(id(list2))"
   ]
  },
  {
   "cell_type": "code",
   "execution_count": null,
   "metadata": {},
   "outputs": [],
   "source": [
    "# Las modificaciones son independientes\n",
    "\n",
    "list1.append(50)\n",
    "list2[3] = -1\n",
    "\n",
    "print(list1)\n",
    "print(list2)"
   ]
  },
  {
   "cell_type": "markdown",
   "metadata": {},
   "source": [
    "En resumen, consideremos lo siguiente:\n",
    "\n",
    "1. Los *objetos inmutables* (`int`, `str`, `float`, `tuple`): No podemos modificar su contenido, se crearán nuevos objetos.\n",
    "2. Los *objetos mutables* (`list`, `dict`, `set`): Podemos modificar su contenido, y la asignación será por referencia."
   ]
  }
 ],
 "metadata": {
  "kernelspec": {
   "display_name": "Python 3",
   "language": "python",
   "name": "python3"
  },
  "language_info": {
   "codemirror_mode": {
    "name": "ipython",
    "version": 3
   },
   "file_extension": ".py",
   "mimetype": "text/x-python",
   "name": "python",
   "nbconvert_exporter": "python",
   "pygments_lexer": "ipython3",
   "version": "3.11.6"
  }
 },
 "nbformat": 4,
 "nbformat_minor": 2
}
