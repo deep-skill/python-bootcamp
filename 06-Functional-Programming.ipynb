{
 "cells": [
  {
   "cell_type": "markdown",
   "metadata": {},
   "source": [
    "# Programación Funcional\n",
    "\n"
   ]
  },
  {
   "cell_type": "markdown",
   "metadata": {},
   "source": [
    "## 1. Funciones lambda\n",
    "\n",
    "Las funciones lambda son funciones anónimas pequeñas que pueden tener cualquier número de parámetros, pero solo pueden tener una expresión. \n",
    "\n",
    "### Sintaxis de la función lambda\n",
    "\n",
    "```python\n",
    "\n",
    "function_name = lambda parameter1, parameter2, parameter3 : expression\n",
    "\n",
    "```\n",
    "\n",
    "Veamos algunos ejemplos:"
   ]
  },
  {
   "cell_type": "code",
   "execution_count": null,
   "metadata": {},
   "outputs": [],
   "source": [
    "exponentation = lambda x, y : x ** y\n",
    "exponentation(3, 5)"
   ]
  },
  {
   "cell_type": "code",
   "execution_count": null,
   "metadata": {},
   "outputs": [],
   "source": [
    "from math import pi\n",
    "\n",
    "area_circle = lambda radius : (radius ** 2) * pi\n",
    "area_circle(2)"
   ]
  },
  {
   "cell_type": "code",
   "execution_count": null,
   "metadata": {},
   "outputs": [],
   "source": [
    "area_equilateral_triangle = lambda side : (3 ** 0.5) / 4 * (side ** 2)\n",
    "area_equilateral_triangle(3)"
   ]
  },
  {
   "cell_type": "markdown",
   "metadata": {},
   "source": [
    "Una **función de orden superior** es aquella que toma a alguna función como uno de sus parámetros y/o que retorne una función. Esto significa que las funciones son tratadas como cualquier otro tipo de objeto, y pueden ser manipuladas de la misma manera que otros tipos de datos."
   ]
  },
  {
   "cell_type": "code",
   "execution_count": null,
   "metadata": {},
   "outputs": [],
   "source": [
    "def get_area(value, area_function):\n",
    "    return area_function(value)"
   ]
  },
  {
   "cell_type": "code",
   "execution_count": null,
   "metadata": {},
   "outputs": [],
   "source": [
    "get_area(4, area_circle)"
   ]
  },
  {
   "cell_type": "code",
   "execution_count": null,
   "metadata": {},
   "outputs": [],
   "source": [
    "get_area(4, area_equilateral_triangle)"
   ]
  },
  {
   "cell_type": "code",
   "execution_count": null,
   "metadata": {},
   "outputs": [],
   "source": [
    "def get_area_function(shape):\n",
    "    if shape == 'circle':\n",
    "        return area_circle\n",
    "    if shape == 'triangle':\n",
    "        return area_equilateral_triangle"
   ]
  },
  {
   "cell_type": "code",
   "execution_count": null,
   "metadata": {},
   "outputs": [],
   "source": [
    "function_area = get_area_function('circle')\n",
    "function_area(4)"
   ]
  },
  {
   "cell_type": "code",
   "execution_count": null,
   "metadata": {},
   "outputs": [],
   "source": [
    "function_area = get_area_function('triangle')\n",
    "function_area(4)"
   ]
  },
  {
   "cell_type": "markdown",
   "metadata": {},
   "source": [
    "## 2. Funciones de orden superior principales de Python\n",
    "\n",
    "\n",
    "\n",
    "### Filter\n",
    "\n",
    "Es una función de orden superior que filtra los elementos de un iterable según una función de prueba. Retorna los elementos filtrados.\n",
    "\n",
    "```python\n",
    "filter(function, iterable)\n",
    "```\n",
    "\n"
   ]
  },
  {
   "cell_type": "code",
   "execution_count": null,
   "metadata": {},
   "outputs": [],
   "source": [
    "# Filtrar los números pares de una lista\n",
    "\n",
    "number_list = [2, 5, 7, 20, 22, 41, 64, 75]\n",
    "is_even = lambda x : x % 2 == 0       # Función lambda que retorna True si 'x' es par\n",
    "\n",
    "even_list = filter(is_even, number_list)\n",
    "\n",
    "print(type(even_list))                 # Es del tipo 'filter'\n",
    "\n",
    "even_list = list(even_list)            # Lo convertimos a lista\n",
    "print(even_list)                       # Obtenemos la lista de con solo números pares de 'number_list'"
   ]
  },
  {
   "cell_type": "code",
   "execution_count": null,
   "metadata": {},
   "outputs": [],
   "source": [
    "# Filtrar todos los números primos\n",
    "\n",
    "def is_prime(n):\n",
    "    if n <= 1:\n",
    "        return False\n",
    "    \n",
    "    for i in range(2, n):\n",
    "        if n % i == 0:\n",
    "            return False\n",
    "        \n",
    "    return True\n",
    "\n",
    "number_list = [2, 5, 7, 20, 97, 41, 64, 75]\n",
    "prime_list = list(filter(is_prime, number_list))\n",
    "prime_list"
   ]
  },
  {
   "cell_type": "code",
   "execution_count": null,
   "metadata": {},
   "outputs": [],
   "source": [
    "# Filtrar los nombres con longitud igual a 5\n",
    "\n",
    "name_list = ['Mario', 'Stephanie', 'Linda', 'Rocio', 'Jhon', 'Kevin']\n",
    "filtered_name_list = list(filter(lambda name : len(name) == 5, name_list))\n",
    "filtered_name_list"
   ]
  },
  {
   "cell_type": "code",
   "execution_count": null,
   "metadata": {},
   "outputs": [],
   "source": [
    "# Dado los radios de unos círculos, filtrar aquellos que su área sea menor a 300.0\n",
    "\n",
    "radius_list = [2, 10, 4, 1, 19, 8, 14]\n",
    "filtered_radius_list = list(filter(lambda radius : area_circle(radius) < 300.0, radius_list))\n",
    "filtered_radius_list"
   ]
  },
  {
   "cell_type": "markdown",
   "metadata": {},
   "source": [
    "### Map\n",
    "\n",
    "Es una función de orden superior que aplica una función a todos los elementos de un iterable y retorna un nuevo iterable con los resultados:\n",
    "\n",
    "```python\n",
    "\n",
    "map(function, iterable)\n",
    "\n",
    "```"
   ]
  },
  {
   "cell_type": "code",
   "execution_count": null,
   "metadata": {},
   "outputs": [],
   "source": [
    "number_list = [5, 10, 23, 4, 5]\n",
    "square_list = list(map(lambda x : x ** 2, number_list))\n",
    "square_list"
   ]
  },
  {
   "cell_type": "code",
   "execution_count": null,
   "metadata": {},
   "outputs": [],
   "source": [
    "import math\n",
    "\n",
    "number_list = [5, 10, 23, 4, 5]\n",
    "\n",
    "# math.factorial es una función, y puede ser usada como parámetro en 'map'\n",
    "factorial_list = list(map(math.factorial, number_list))\n",
    "factorial_list"
   ]
  },
  {
   "cell_type": "code",
   "execution_count": null,
   "metadata": {},
   "outputs": [],
   "source": [
    "name_list = ['Mario', 'Stephanie', 'Linda', 'Rocio', 'Jhon', 'Kevin']\n",
    "len_list = list(map(len, name_list))\n",
    "len_list"
   ]
  },
  {
   "cell_type": "markdown",
   "metadata": {},
   "source": [
    "### Reduce\n",
    "\n",
    "Es una función de orden superior que se encuentra en el módulo `functools` y se utiliza para aplicar repetidamente una función binaria (funciones con dos parámetros) de un iterable, de manera acumulativa. \n",
    "\n",
    "La función binaria, primero se aplica a los dos primeros elementos. El resultado, ahora es aplicado la función junto al siguiente término de la lista. Y así sucesivamente. `reduce()` retornará el resultado luego de aplicar la función binaria a todos los elementos del iterable.\n",
    "\n",
    "```python\n",
    "\n",
    "from functools import reduce\n",
    "reduce(function, iterable, [initializer])\n",
    "\n",
    "```\n",
    "\n",
    "El tercer parámetro `initializer` es opcional, y es un valor inicial que se utiliza como primer argumento en la primera llamada a la función."
   ]
  },
  {
   "cell_type": "code",
   "execution_count": null,
   "metadata": {},
   "outputs": [],
   "source": [
    "from functools import reduce"
   ]
  },
  {
   "cell_type": "code",
   "execution_count": null,
   "metadata": {},
   "outputs": [],
   "source": [
    "number_list = [2, 5, 75, 20, 22, 41, 64, 7]\n",
    "total_sum = reduce(lambda a, b : a + b, number_list)\n",
    "total_sum"
   ]
  },
  {
   "cell_type": "code",
   "execution_count": null,
   "metadata": {},
   "outputs": [],
   "source": [
    "number_list = [2, 5, 75, 20, 22, 41, 64, 7]\n",
    "total_sum = reduce(max, number_list)\n",
    "total_sum"
   ]
  },
  {
   "cell_type": "markdown",
   "metadata": {},
   "source": [
    "## 3. Recursividad\n",
    "\n",
    "La recursividad es un cocepto importante en la programación funcional y se refiere a la capacidad de una función de poder llamarse a sí misma.\n",
    "\n",
    "Veamos un ejemplo de recursividad en la función factorial:\n",
    "\n",
    "$$\n",
    "\n",
    "\\text{factorial}(0) = 1 \\\\\n",
    "\n",
    "\\text{factorial}(n) = 1 \\times 2 \\times 3 \\times \\cdots \\times n\\\\\n",
    "\\text{factorial}(n) = \\text{factorial}(n-1) \\times n\n",
    "\n",
    "$$\n",
    "\n",
    "La función `factorial` se puede expresar en términos de si misma. Esta es una función matemática recursiva y podemos implementarla en Python:"
   ]
  },
  {
   "cell_type": "code",
   "execution_count": null,
   "metadata": {},
   "outputs": [],
   "source": [
    "def factorial(n):\n",
    "    # Caso base\n",
    "    if n == 0:\n",
    "        return 1\n",
    "    \n",
    "    # Paso recursivo\n",
    "    return n * factorial(n-1)\n"
   ]
  },
  {
   "cell_type": "code",
   "execution_count": null,
   "metadata": {},
   "outputs": [],
   "source": [
    "factorial(5)"
   ]
  },
  {
   "cell_type": "code",
   "execution_count": null,
   "metadata": {},
   "outputs": [],
   "source": [
    "factorial(10)"
   ]
  },
  {
   "cell_type": "markdown",
   "metadata": {},
   "source": [
    "Es importante que una función recursiva tenga un *caso base*. Por ejemplo, en el factorial, el caso base es cuando `n=0`. Si la función no tuviese esa condicional, se ejecutaría infinitamente y llevándonos a un error, ya que Python tiene un límite máximo de llamados recursivos."
   ]
  },
  {
   "cell_type": "code",
   "execution_count": null,
   "metadata": {},
   "outputs": [],
   "source": [
    "def factorial2(n):\n",
    "    return n * factorial2(n-1)"
   ]
  },
  {
   "cell_type": "code",
   "execution_count": null,
   "metadata": {},
   "outputs": [],
   "source": [
    "factorial2(5)"
   ]
  },
  {
   "cell_type": "markdown",
   "metadata": {},
   "source": [
    "La secuencia fibonnaci también es una función recursiva:\n",
    "$$\n",
    "\n",
    "fibo(n) = \\begin{cases}\n",
    "\n",
    "    0 & n = 0 \\\\\n",
    "    1 & n = 1 \\\\\n",
    "    fibo(n-1) + fibo(n-2) & \\text{en otro caso}\n",
    "\n",
    "\\end{cases}\n",
    "\n",
    "$$\n",
    "\n",
    "Y la implementación en Python, sería:"
   ]
  },
  {
   "cell_type": "code",
   "execution_count": null,
   "metadata": {},
   "outputs": [],
   "source": [
    "def fibo(n):\n",
    "\n",
    "    # Ahora contamos con dos casos bases necesarios\n",
    "    if n == 0:\n",
    "        return 0\n",
    "    if n == 1:\n",
    "        return 1\n",
    "    \n",
    "    # Paso recursivo\n",
    "    return fibo(n-1) + fibo(n-2)"
   ]
  },
  {
   "cell_type": "code",
   "execution_count": null,
   "metadata": {},
   "outputs": [],
   "source": [
    "n = 20\n",
    "\n",
    "for i in range(n):\n",
    "    print(fibo(i))"
   ]
  },
  {
   "cell_type": "markdown",
   "metadata": {},
   "source": [
    "Las funciones recursivas nos pueden ayudar a resolver ciertos problemas de una manera más elegante y simple. En Python, las funciones recursivas no son tan eficientes como en otros lenguajes de programación. Por lo que será importante evaluar si la recursividad es la mejor solución para un problema en particular."
   ]
  }
 ],
 "metadata": {
  "kernelspec": {
   "display_name": "Python 3",
   "language": "python",
   "name": "python3"
  },
  "language_info": {
   "codemirror_mode": {
    "name": "ipython",
    "version": 3
   },
   "file_extension": ".py",
   "mimetype": "text/x-python",
   "name": "python",
   "nbconvert_exporter": "python",
   "pygments_lexer": "ipython3",
   "version": "3.11.6"
  }
 },
 "nbformat": 4,
 "nbformat_minor": 2
}
