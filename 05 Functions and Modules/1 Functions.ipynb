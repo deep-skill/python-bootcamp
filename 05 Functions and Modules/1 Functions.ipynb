{
 "cells": [
  {
   "cell_type": "markdown",
   "metadata": {},
   "source": [
    "# Funciones y Módulos\n",
    "\n",
    "## 1. ¿Qué es una función en programación?\n",
    "\n",
    "Las funciones son bloques de código que tienen una importante característica: *reutilizable*. Una vez declarada una función, podemos utilizarla en donde el programa lo necesite. \n",
    "\n",
    "### Sintaxis de una función\n",
    "\n",
    "```python\n",
    "def function_name(paremeter1, parameter2, parameter3):\n",
    "    <Bloque de código\n",
    "    Bloque de código\n",
    "    Bloque de código>\n",
    "```\n",
    "\n",
    "Las funciones tienen parámetros para poder trabajar sobre ellas. Veamos un ejemplo:"
   ]
  },
  {
   "cell_type": "code",
   "execution_count": null,
   "metadata": {},
   "outputs": [],
   "source": [
    "# La siguiente función calcula el factorial de un número\n",
    "# Tiene como parámetro: 'n'\n",
    "\n",
    "def print_factorial(n):\n",
    "    fn = 1\n",
    "    i = 1\n",
    "\n",
    "    while i <= n:\n",
    "        fn = fn * i\n",
    "        i += 1\n",
    "\n",
    "    print('El factorial de ' + str(n) + ' es ' + str(fn))"
   ]
  },
  {
   "cell_type": "markdown",
   "metadata": {},
   "source": [
    "Podemos observar, que la función calcula el factorial de la variable `n`. Ahora podemos llamar a nuestra función, y darle un valor a `n`:"
   ]
  },
  {
   "cell_type": "code",
   "execution_count": null,
   "metadata": {},
   "outputs": [],
   "source": [
    "# n = 5\n",
    "\n",
    "print_factorial(5)"
   ]
  },
  {
   "cell_type": "code",
   "execution_count": null,
   "metadata": {},
   "outputs": [],
   "source": [
    "# n = 10\n",
    "\n",
    "print_factorial(10)"
   ]
  },
  {
   "cell_type": "code",
   "execution_count": null,
   "metadata": {},
   "outputs": [],
   "source": [
    "# n = 5\n",
    "\n",
    "print_factorial(20)"
   ]
  },
  {
   "cell_type": "markdown",
   "metadata": {},
   "source": [
    "Vemos que los parámetros asumen los valores que insertamos a la hora de llamar a nuestra función. Veamos una función con varios parámetros:"
   ]
  },
  {
   "cell_type": "code",
   "execution_count": null,
   "metadata": {},
   "outputs": [],
   "source": [
    "def say_hello(name, career, university):\n",
    "    print('Hola soy ' + name + ' y estudio ' + career + ' en la ' + university)"
   ]
  },
  {
   "cell_type": "code",
   "execution_count": null,
   "metadata": {},
   "outputs": [],
   "source": [
    "say_hello('Emanuel', 'Ciencia de la Computación', 'UNI')"
   ]
  },
  {
   "cell_type": "code",
   "execution_count": null,
   "metadata": {},
   "outputs": [],
   "source": [
    "say_hello('Emanuel', 'UNI', 'Ciencia de la Computación')"
   ]
  },
  {
   "cell_type": "code",
   "execution_count": null,
   "metadata": {},
   "outputs": [],
   "source": [
    "say_hello('UNI', 'Ciencia de la Computación', 'Emanuel')"
   ]
  },
  {
   "cell_type": "markdown",
   "metadata": {},
   "source": [
    "Si existen varios parámetros, se asignarán los valores según el orden de los mismos.\n",
    "\n",
    "La función `print_factorial` calcula el factorial de un número, e imprime el resultado. Pero, ¿y si queremos calcular el factorial de ese número y asignarlo a una variable? Para ello usaremos la sentencia `return`:\n"
   ]
  },
  {
   "cell_type": "code",
   "execution_count": null,
   "metadata": {},
   "outputs": [],
   "source": [
    "def factorial(n):\n",
    "    fn = 1\n",
    "    i = 1\n",
    "\n",
    "    while i <= n:\n",
    "        fn = fn * i\n",
    "        i += 1\n",
    "\n",
    "    return fn        # Retornamos el valor del factorial"
   ]
  },
  {
   "cell_type": "code",
   "execution_count": null,
   "metadata": {},
   "outputs": [],
   "source": [
    "fn = factorial(5)\n",
    "fn"
   ]
  },
  {
   "cell_type": "code",
   "execution_count": null,
   "metadata": {},
   "outputs": [],
   "source": [
    "fn = factorial(10)\n",
    "fn"
   ]
  },
  {
   "cell_type": "code",
   "execution_count": null,
   "metadata": {},
   "outputs": [],
   "source": [
    "fn = factorial(20)\n",
    "fn"
   ]
  },
  {
   "cell_type": "markdown",
   "metadata": {},
   "source": [
    "Una función puede retornar cualquier tipo de dato, ya sean enteros, flotantes, strings, listas, tuplas, etc.\n",
    "\n",
    "En el segundo módulo del curso, el código para el cálculo del coeficiente binomial es el siguiente:"
   ]
  },
  {
   "cell_type": "code",
   "execution_count": null,
   "metadata": {},
   "outputs": [],
   "source": [
    "n = 10\n",
    "k = 3\n",
    "\n",
    "fn = 1               # Factorial de n\n",
    "i = 1\n",
    "\n",
    "while i <= n:\n",
    "    fn = fn * i\n",
    "    i += 1\n",
    "\n",
    "fk = 1               # Factorial de k\n",
    "i = 1\n",
    "\n",
    "while i <= k:\n",
    "    fk = fk * i\n",
    "    i += 1\n",
    "\n",
    "d = n-k\n",
    "\n",
    "fd = 1               # Factorial de n-k\n",
    "i = 1\n",
    "\n",
    "while i <= d:\n",
    "    fd = fd * i\n",
    "    i += 1\n",
    "\n",
    "coeficiente_binomial = fn // (fk * fd)\n",
    "print(coeficiente_binomial)"
   ]
  },
  {
   "cell_type": "markdown",
   "metadata": {},
   "source": [
    "Ahora podemos reemplazar el código para el cálculo del factorial con nuestra función:"
   ]
  },
  {
   "cell_type": "code",
   "execution_count": null,
   "metadata": {},
   "outputs": [],
   "source": [
    "n = 10\n",
    "k = 3\n",
    "\n",
    "d = n-k\n",
    "\n",
    "fn = factorial(n)\n",
    "fk = factorial(k)\n",
    "fd = factorial(d)\n",
    "\n",
    "binomial_coefficient = fn // (fk * fd)\n",
    "print(binomial_coefficient)"
   ]
  },
  {
   "cell_type": "markdown",
   "metadata": {},
   "source": [
    "El código con respecto al planteado en el módulo 2 es mucho más comprensible. En el primero, existen bloques de código repetitivos (el cálculo del factorial), lo cual es una mala práctica de progamación. Imaginemos que nos confundimos en alguna parte de ese bloque, tendríamos que hacer el mismo cambio para todos los bloques de código existentes en el programa, y esto puede llevar a más errores. Mientras si tenemos funciones, podemos cambiar el algoritmo dentro de la función, y el cambio se aplicará para todos a la vez.\n",
    "\n",
    "Es importante saber que la ejecución de una función termina cuando retorna un valor:"
   ]
  },
  {
   "cell_type": "code",
   "execution_count": null,
   "metadata": {},
   "outputs": [],
   "source": [
    "# Función para determinar si un número es primo o no\n",
    "\n",
    "def is_prime(n):\n",
    "    if n <= 1:\n",
    "        # Si n <= 1, entonces la función retorna False y termina la ejecución\n",
    "        return False\n",
    "\n",
    "    for i in range(2, n):\n",
    "        if n % i == 0:\n",
    "            # Si encontramos un divisor de n, entonces sabemos que n no es primo, \n",
    "            # por lo tanto retornamos False y termina la ejecución\n",
    "            return False\n",
    "        \n",
    "    # Si el flujo de ejecución llega a este punto, significa que no se encontró ningún divisor\n",
    "    # entonces n es primo\n",
    "    return True"
   ]
  },
  {
   "cell_type": "code",
   "execution_count": null,
   "metadata": {},
   "outputs": [],
   "source": [
    "is_prime(15)"
   ]
  },
  {
   "cell_type": "code",
   "execution_count": null,
   "metadata": {},
   "outputs": [],
   "source": [
    "is_prime(37)"
   ]
  }
 ],
 "metadata": {
  "language_info": {
   "name": "python"
  }
 },
 "nbformat": 4,
 "nbformat_minor": 2
}
