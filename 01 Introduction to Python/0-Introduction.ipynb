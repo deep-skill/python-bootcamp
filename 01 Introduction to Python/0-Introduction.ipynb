{
 "cells": [
  {
   "cell_type": "markdown",
   "metadata": {},
   "source": [
    "# Python #"
   ]
  },
  {
   "cell_type": "markdown",
   "metadata": {},
   "source": [
    "## Definición ##"
   ]
  },
  {
   "cell_type": "markdown",
   "metadata": {},
   "source": [
    "Es un lenguaje de programación multipropósito, interpretado, con tipado dinámico, fuertemente tipado, multiplataforma y multiparadigma."
   ]
  },
  {
   "cell_type": "markdown",
   "metadata": {},
   "source": [
    "#### Multipropósito ####"
   ]
  },
  {
   "cell_type": "markdown",
   "metadata": {},
   "source": [
    "Hay lenguajes de propósito específico como R y Matlab diseñados con uso especializado para matemáticas y ciencia de datos, también hay lenguajes de propósito general o multipropósito como C++, Java y Php, pero que en la práctica no son lenguajes tan versátiles, por ejemplo Php tiene un uso casi exclusivo para web. En cambio Python es multipropósito por excelencia ya que tiene un uso común en campos como ingeniería, ciencia de datos, desarrollo web, web scraping, desarrollo de escritorio y más."
   ]
  },
  {
   "cell_type": "markdown",
   "metadata": {},
   "source": [
    "#### Interpretado ####"
   ]
  },
  {
   "cell_type": "markdown",
   "metadata": {},
   "source": [
    "Un lenguaje interpretado o de script es aquel que se ejecuta utilizando un programa intermedio llamado intérprete, en lugar de compilar el código a lenguaje máquina que pueda comprender y ejecutar directamente una computadora (lenguajes compilados). La ventaja de los lenguajes compilados es que su ejecución es más rápida. Sin embargo los lenguajes interpretados son más flexibles y más portables. Python tiene, no obstante, muchas de las características de los lenguajes compilados, por lo que se podría decir que es semi interpretado. En Python, como en Java y muchos otros lenguajes, el código fuente se traduce a un pseudo código máquina intermedio llamado bytecode la primera vez que se ejecuta, generando archivos .pyc o .pyo (bytecode optimizado), que son los que se ejecutarán en sucesivas ocasiones."
   ]
  },
  {
   "cell_type": "markdown",
   "metadata": {},
   "source": [
    "#### Tipado dinámico ####"
   ]
  },
  {
   "cell_type": "markdown",
   "metadata": {},
   "source": [
    "La característica de tipado dinámico se refiere a que no es necesario declarar el tipo de dato que va a contener una determinada variable, sino que su tipo se determinará en tiempo de ejecución según el tipo del valor que se le asigne, y el tipo de esta variable puede cambiar si se le asigna un valor de otro tipo."
   ]
  },
  {
   "cell_type": "markdown",
   "metadata": {},
   "source": [
    "Podemos ver como Python detecta el tipo de la variable:"
   ]
  },
  {
   "cell_type": "code",
   "execution_count": null,
   "metadata": {},
   "outputs": [],
   "source": [
    "variable = 5\n",
    "type(variable)"
   ]
  },
  {
   "cell_type": "markdown",
   "metadata": {},
   "source": [
    "Ahora usamos la misma variable para guardar otro tipo de dato:"
   ]
  },
  {
   "cell_type": "code",
   "execution_count": null,
   "metadata": {},
   "outputs": [],
   "source": [
    "variable = 'string'\n",
    "type(variable)"
   ]
  },
  {
   "cell_type": "markdown",
   "metadata": {},
   "source": [
    "#### Fuertemente tipado ####"
   ]
  },
  {
   "cell_type": "markdown",
   "metadata": {},
   "source": [
    "No se permite tratar a una variable como si fuera de un tipo distinto al que tiene, es necesario convertir de forma explícita dicha variable al nuevo tipo previamente. Por ejemplo, si tenemos una variable que contiene un texto (variable de tipo cadena o string) no podremos tratarla como un número (sumar la cadena “20” y el número 30). En otros lenguajes como Php o Javascript el tipo de la variable cambiaría para adaptarse al comportamiento esperado, aunque esto es más propenso a errores."
   ]
  },
  {
   "cell_type": "markdown",
   "metadata": {},
   "source": [
    "Esto es un error:"
   ]
  },
  {
   "cell_type": "code",
   "execution_count": null,
   "metadata": {},
   "outputs": [],
   "source": [
    "\"30\" + 20"
   ]
  },
  {
   "cell_type": "code",
   "execution_count": null,
   "metadata": {},
   "outputs": [],
   "source": [
    "Es necesario hacer el casting:"
   ]
  },
  {
   "cell_type": "code",
   "execution_count": null,
   "metadata": {},
   "outputs": [],
   "source": [
    "int(\"30\") + 20"
   ]
  },
  {
   "cell_type": "markdown",
   "metadata": {},
   "source": [
    "#### Multiplataforma ####"
   ]
  },
  {
   "cell_type": "markdown",
   "metadata": {},
   "source": [
    "Python tiene interpretes para Windows, Macos y variadas distribuciones GNU Linux. Sólo basta con tener instalada la versión correcta del intérprete y se podrá ejecutar el código Python."
   ]
  },
  {
   "cell_type": "markdown",
   "metadata": {},
   "source": [
    "#### Multiparadigma ####"
   ]
  },
  {
   "cell_type": "markdown",
   "metadata": {},
   "source": [
    "Python está diseñado para soportar los paradigmas de programación imperativa, programación orientada a objetos y también aunque en menor medida programación funcional."
   ]
  },
  {
   "cell_type": "markdown",
   "metadata": {},
   "source": [
    "## Historia ##"
   ]
  },
  {
   "cell_type": "markdown",
   "metadata": {},
   "source": [
    "Python fue creado a finales de los 80s y principios de los 90s por Guido Van Rossum, quien hasta ahora sigue al frente del desarrollo del mítico lenguaje.\n",
    "\n",
    "Todo empezó en 1989, cuando Guido Van Rossum, quien trabajaba en el CWI (un centro de investigación holandés), decidió empezar un proyecto como pasatiempo dándole continuidad a ABC, un lenguaje de programación que se desarrolló en el CWI.\n",
    "\n",
    "Python ya tiene 30 años de desarrollo y ha pasado por muchos versiones, siendo las dos más importantes la versión 2 y 3."
   ]
  },
  {
   "cell_type": "markdown",
   "metadata": {},
   "source": [
    "<img src=\"images/python-timeline.jpg\" alt=\"Python Time Line\" width=\"500\"/>\n",
    "\n",
    "Fuente: GeeksForGeeks"
   ]
  },
  {
   "cell_type": "markdown",
   "metadata": {},
   "source": [
    "[Más sobre la historia de Python](https://en.wikipedia.org/wiki/History_of_Python)"
   ]
  },
  {
   "cell_type": "markdown",
   "metadata": {},
   "source": [
    "## Filosofía ##"
   ]
  },
  {
   "cell_type": "code",
   "execution_count": null,
   "metadata": {
    "scrolled": true
   },
   "outputs": [],
   "source": [
    "import this"
   ]
  },
  {
   "cell_type": "markdown",
   "metadata": {},
   "source": [
    "## Uso ##"
   ]
  },
  {
   "cell_type": "markdown",
   "metadata": {},
   "source": [
    "Python nos ofrece un shell interactivo que puede ser levantado desde cualquier sistema operativo, sólo con dar la orden `python` en una terminal.\n",
    "\n",
    "Si queremos ejecutar un script python bastará con la orden `python nombre-programa.py` en la terminal o mandar a ejecutar desde un IDE.\n",
    "\n",
    "[IDEs recomendadas](https://hackr.io/blog/best-python-ide)\n",
    "\n",
    "Para este curso elegiremos Jupyter Notebook para la mayoría de ejemplos, para instalarlo basta con:\n",
    "\n",
    "```bash\n",
    "python -m venv .env\n",
    "source .env/bin/activate\n",
    "pip install jupyter\n",
    "jupyter notebook\n",
    "```\n",
    "\n",
    "[Más sobre Jupyter Notebook](https://jupyter-notebook.readthedocs.io/en/stable/)"
   ]
  }
 ],
 "metadata": {
  "kernelspec": {
   "display_name": "Python 3 (ipykernel)",
   "language": "python",
   "name": "python3"
  },
  "language_info": {
   "codemirror_mode": {
    "name": "ipython",
    "version": 3
   },
   "file_extension": ".py",
   "mimetype": "text/x-python",
   "name": "python",
   "nbconvert_exporter": "python",
   "pygments_lexer": "ipython3",
   "version": "3.9.6"
  }
 },
 "nbformat": 4,
 "nbformat_minor": 4
}
