{
 "cells": [
  {
   "cell_type": "markdown",
   "metadata": {},
   "source": [
    "# Fundamentos de Python"
   ]
  },
  {
   "cell_type": "markdown",
   "metadata": {},
   "source": [
    "## Variables y tipos de datos básicos\n",
    "\n",
    "Una *variable* es un contenedor o espacio de almacenamiento con un nombre simbólico (o un identificador) que se utiliza para almacenar información o datos en un programa.\n",
    "\n",
    "Veamos como crear una variable y como acceder a su valor:"
   ]
  },
  {
   "cell_type": "code",
   "execution_count": null,
   "metadata": {},
   "outputs": [],
   "source": [
    "# Creamos un variable con 'identificador' number. Y le asignamos un valor númerico de 10\n",
    "number = 10\n",
    "\n",
    "# La función 'print' nos permite imprimir o mostrar el valor de la variable\n",
    "print(number)"
   ]
  },
  {
   "cell_type": "markdown",
   "metadata": {},
   "source": [
    "Las variables están categorizadas en distintos tipos:\n",
    "\n",
    "1. Tipo de dato `int` (número entero):"
   ]
  },
  {
   "cell_type": "code",
   "execution_count": null,
   "metadata": {},
   "outputs": [],
   "source": [
    "# Números enteros, pueden ser positivos o negativos\n",
    "\n",
    "number1 = 15         \n",
    "number2 = -10\n",
    "\n",
    "print(number1 + number2)    # Imprimimos la suma -> 15 + (-10) = 5\n",
    "print(type(number1))        # <class 'int'>\n",
    "print(type(number2))        # <class 'int'>"
   ]
  },
  {
   "cell_type": "markdown",
   "metadata": {},
   "source": [
    "2. Tipo de dato `float` (número real):"
   ]
  },
  {
   "cell_type": "code",
   "execution_count": null,
   "metadata": {},
   "outputs": [],
   "source": [
    "# Números reales\n",
    "\n",
    "number1 = -0.5\n",
    "number2 = 13.6\n",
    "\n",
    "print(number1 * number2)    # Múltiplicacion de ambos números\n",
    "print(type(number1))\n",
    "print(type(number2))"
   ]
  },
  {
   "cell_type": "markdown",
   "metadata": {},
   "source": [
    "Operadores entre números (también es aplicable para los flotantes, intenta cambiar los valores de `number1` y `number2` con valores flotantes):"
   ]
  },
  {
   "cell_type": "code",
   "execution_count": null,
   "metadata": {},
   "outputs": [],
   "source": [
    "# Operadores entre números\n",
    "\n",
    "number1 = 33\n",
    "number2 = 4\n",
    "\n",
    "sum = number1 + number2\n",
    "difference = number1 - number2\n",
    "multiplication = number1 * number2\n",
    "division = number1 / number2\n",
    "exact_division = number1 // number2\n",
    "exponentation = number1 ** number2\n",
    "\n",
    "print(sum)                  # Suma\n",
    "print(difference)           # Diferencia\n",
    "print(multiplication)      # Multiplicación\n",
    "\n",
    "# 33 / 4 = 8.25\n",
    "print(division)             # División      (la division entre dos 'int' se convierte 'float')\n",
    "\n",
    "# 33 // 4 = 8 (solo nos quedamos con la parte entera)\n",
    "print(exact_division)       # División exacta (coeficiente)\n",
    "\n",
    "print(exponentation)        # Exponenciación (x ^ y)"
   ]
  },
  {
   "cell_type": "markdown",
   "metadata": {},
   "source": [
    "3. Tipo de dato `str` (string, cadena de caracteres):"
   ]
  },
  {
   "cell_type": "code",
   "execution_count": null,
   "metadata": {},
   "outputs": [],
   "source": [
    "# String o cadenas de caracteres\n",
    "\n",
    "# Variable para almacenar texto. El valor, tiene que ir entre una comilla ('')\n",
    "string1 = 'Mario'\n",
    "\n",
    "# o entre dobre comilla (\"\")\n",
    "string2 = \"Mateo\"\n",
    "\n",
    "\n",
    "print(string1)\n",
    "print(string2)\n",
    "print(string1 + string2)   # La suma de strings, resulta una concatenación de ambas\n",
    "print(type(string1))\n",
    "print(type(string2))"
   ]
  },
  {
   "cell_type": "code",
   "execution_count": null,
   "metadata": {},
   "outputs": [],
   "source": [
    "# Podemos guardar todo tipo de caracter en las variables de tipo string:\n",
    "\n",
    "string = '!@$(*%1230?'\n",
    "print(string)\n",
    "print(type(string1))"
   ]
  },
  {
   "cell_type": "code",
   "execution_count": null,
   "metadata": {},
   "outputs": [],
   "source": [
    "# Las siguientes variables son del tipo string, pues los valores estan entre comillas\n",
    "\n",
    "string_number1 = '12'\n",
    "string_number2 = '15'\n",
    "\n",
    "print(string_number1 + string_number2) # La suma resultará una concatenación entre ambas cadenas"
   ]
  },
  {
   "cell_type": "code",
   "execution_count": null,
   "metadata": {},
   "outputs": [],
   "source": [
    "number = 10\n",
    "\n",
    "# Esto nos causará un error, pues la variable number es del tipo 'int'\n",
    "# y no podemos sumar una variable del tipo 'int' con una del tipo 'str'\n",
    "print('El numero es: ' + number)"
   ]
  },
  {
   "cell_type": "code",
   "execution_count": null,
   "metadata": {},
   "outputs": [],
   "source": [
    "number = 10\n",
    "\n",
    "# Podemos convertir al numero en tipo 'str' de la siguiente manera\n",
    "number = str(number)\n",
    "print(type(number))\n",
    "\n",
    "# Ahora podemos concatenar el texto con el número\n",
    "print('El numero es: ' + number)"
   ]
  },
  {
   "cell_type": "code",
   "execution_count": null,
   "metadata": {},
   "outputs": [],
   "source": [
    "# Una manera más simplificada:\n",
    "\n",
    "number = 10\n",
    "print('El numero es: ' + str(number)) # Esto no convierte a la variable 'number' en tipo 'str' \n",
    "                                      # pues no asignamos 'number = str(number)' como el anterior caso\n",
    "\n",
    "print(type(number))"
   ]
  },
  {
   "cell_type": "markdown",
   "metadata": {},
   "source": [
    "4. Tipo de dato `bool` (booleano):"
   ]
  },
  {
   "cell_type": "code",
   "execution_count": null,
   "metadata": {},
   "outputs": [],
   "source": [
    "# Son variables que pueden ser True (verdadero) o False (falso)\n",
    "\n",
    "bool1 = True\n",
    "bool2 = False\n",
    "\n",
    "print(bool1)\n",
    "print(bool2)\n",
    "print(type(bool1))"
   ]
  },
  {
   "cell_type": "code",
   "execution_count": null,
   "metadata": {},
   "outputs": [],
   "source": [
    "# Podemos obtener el resultado de comparaciones. Por ejemplo entre números\n",
    "\n",
    "number = 10\n",
    "\n",
    "bool3 = (number > 5)  \n",
    "bool4 = (number < -4.5)\n",
    "\n",
    "print(bool3)\n",
    "print(bool4)\n",
    "print(type(bool3))\n",
    "print(type(bool4))"
   ]
  },
  {
   "cell_type": "code",
   "execution_count": null,
   "metadata": {},
   "outputs": [],
   "source": [
    "nombre1 = 'Mario'\n",
    "nombre2 = 'Maria'\n",
    "\n",
    "# NOTA:\n",
    "# El operador '=' es de asignación (asigna un valor a una variable)\n",
    "# El operador '==' es de comparación de igualdad (compara si dos elementos son iguales)\n",
    "# El operador '!=' es de comparación de diferencia (compara si dos elementos son distintos)\n",
    "\n",
    "bool5 = (nombre1 == nombre2)\n",
    "bool6 = (nombre1 != nombre2)\n",
    "\n",
    "print(bool5)\n",
    "print(bool6)\n",
    "print(type(bool5))\n",
    "print(type(bool6))"
   ]
  }
 ],
 "metadata": {
  "kernelspec": {
   "display_name": "Python 3 (ipykernel)",
   "language": "python",
   "name": "python3"
  },
  "language_info": {
   "codemirror_mode": {
    "name": "ipython",
    "version": 3
   },
   "file_extension": ".py",
   "mimetype": "text/x-python",
   "name": "python",
   "nbconvert_exporter": "python",
   "pygments_lexer": "ipython3",
   "version": "3.9.6"
  }
 },
 "nbformat": 4,
 "nbformat_minor": 4
}
