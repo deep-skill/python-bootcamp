{
 "cells": [
  {
   "cell_type": "markdown",
   "metadata": {},
   "source": [
    "# 2. Estructuras de Control\n",
    "\n",
    "## IF, ELSE, ELIF\n",
    "\n",
    "1. Dado los coeficientes $a$, $b$ y $c$ de la ecuación\n",
    "    $$a \\cdot x ^ 2 + b \\cdot x + c = 0$$\n",
    "    determine si la ecuación tiene raíces reales o no. En el caso de que sean reales, calcule las dos raíces de la ecuación."
   ]
  },
  {
   "cell_type": "code",
   "execution_count": null,
   "metadata": {},
   "outputs": [],
   "source": [
    "a = 1\n",
    "b = -5\n",
    "c = 6\n",
    "\n",
    "# ESCRIBA SU CÓDIGO AQUÍ\n"
   ]
  },
  {
   "cell_type": "markdown",
   "metadata": {},
   "source": [
    "2. Conocemos el valor de la suma y la resta de dos números. Determine si los números son enteros. En el caso de ser enteros, imprima ambos números."
   ]
  },
  {
   "cell_type": "code",
   "execution_count": null,
   "metadata": {},
   "outputs": [],
   "source": [
    "suma = 35\n",
    "resta = 13\n",
    "\n",
    "# ESCRIBA SU CÓDIGO AQUÍ\n"
   ]
  },
  {
   "cell_type": "markdown",
   "metadata": {},
   "source": [
    "3. "
   ]
  },
  {
   "cell_type": "code",
   "execution_count": null,
   "metadata": {},
   "outputs": [],
   "source": []
  }
 ],
 "metadata": {
  "language_info": {
   "name": "python"
  }
 },
 "nbformat": 4,
 "nbformat_minor": 2
}
