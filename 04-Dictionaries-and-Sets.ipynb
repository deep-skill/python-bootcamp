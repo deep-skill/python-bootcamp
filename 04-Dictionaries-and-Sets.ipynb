{
 "cells": [
  {
   "cell_type": "markdown",
   "metadata": {},
   "source": [
    "# Diccionarios y Sets\n",
    "\n",
    "## 1. Diccionarios\n",
    "\n",
    "Los *diccionarios* en Python son estructuras de datos que nos van a permitir relacionar **llaves** con **valores**. Para declarar un diccionario, usaremos los caracteres llaves `{}`.\n",
    "\n",
    "```python\n",
    "dictionary = {key1 : value1, key2 : value2, key3 : value3}\n",
    "```\n",
    "\n",
    "Las **llaves** y los **valores** pueden ser de cualquier tipo.\n",
    "\n",
    "Podemos acceder al valor de una llave de la siguiente manera:\n",
    "\n",
    "```python\n",
    "dictionary[key1]\n",
    "```\n",
    "\n",
    "Veamos un ejemplo de un diccionario, donde almacenamos datos de una persona:\n",
    "\n",
    "- Nombre\n",
    "- Apellido\n",
    "- Edad"
   ]
  },
  {
   "cell_type": "code",
   "execution_count": null,
   "metadata": {},
   "outputs": [],
   "source": [
    "person_data = {'first_name' : 'Mario', 'last_name' : 'Rosales', 'age' : 30}\n",
    "\n",
    "print(person_data)\n",
    "print(type(person_data))"
   ]
  },
  {
   "cell_type": "markdown",
   "metadata": {},
   "source": [
    "En una lista, accedemos a sus elementos mediante sus índices. Los índices siempre son números enteros. En el caso de un diccionario, la llave puede ser del tipo `str`, `int`, etc. "
   ]
  },
  {
   "cell_type": "code",
   "execution_count": null,
   "metadata": {},
   "outputs": [],
   "source": [
    "person_data['first_name']"
   ]
  },
  {
   "cell_type": "code",
   "execution_count": null,
   "metadata": {},
   "outputs": [],
   "source": [
    "person_data['last_name']"
   ]
  },
  {
   "cell_type": "code",
   "execution_count": null,
   "metadata": {},
   "outputs": [],
   "source": [
    "person_data['age']"
   ]
  },
  {
   "cell_type": "code",
   "execution_count": null,
   "metadata": {},
   "outputs": [],
   "source": [
    "'Hola, soy ' + person_data['first_name'] + ' ' + person_data['last_name'] + ' y tengo ' + str(person_data['age']) + ' años'"
   ]
  },
  {
   "cell_type": "markdown",
   "metadata": {},
   "source": [
    "Es posible modificar el valor de una llave. Simplemente le asignamos otro valor:"
   ]
  },
  {
   "cell_type": "code",
   "execution_count": null,
   "metadata": {},
   "outputs": [],
   "source": [
    "person_data['age'] = 25\n",
    "person_data"
   ]
  },
  {
   "cell_type": "markdown",
   "metadata": {},
   "source": [
    "Para añadir un elemento en el diccionario, simplemente asignamos un *valor* a la *llave* a añadir:"
   ]
  },
  {
   "cell_type": "code",
   "execution_count": null,
   "metadata": {},
   "outputs": [],
   "source": [
    "person_data['gender'] = 'male'\n",
    "person_data"
   ]
  },
  {
   "cell_type": "code",
   "execution_count": null,
   "metadata": {},
   "outputs": [],
   "source": [
    "person_data['profession'] = 'engineer'\n",
    "person_data"
   ]
  },
  {
   "cell_type": "markdown",
   "metadata": {},
   "source": [
    "### Obtener las llaves, valores y elementos de un diccionario"
   ]
  },
  {
   "cell_type": "code",
   "execution_count": null,
   "metadata": {},
   "outputs": [],
   "source": [
    "person_data = {'first_name': 'Mario',\n",
    "               'last_name': 'Rosales',\n",
    "               'age': 25,\n",
    "               'gender': 'male',\n",
    "               'profession': 'engineer'}"
   ]
  },
  {
   "cell_type": "code",
   "execution_count": null,
   "metadata": {},
   "outputs": [],
   "source": [
    "# LLAVES DEL DICCIONARIO\n",
    "\n",
    "person_data.keys()"
   ]
  },
  {
   "cell_type": "code",
   "execution_count": null,
   "metadata": {},
   "outputs": [],
   "source": [
    "# Podemos iterar sobre sus llaves\n",
    "\n",
    "for key in person_data.keys():\n",
    "    print(key)"
   ]
  },
  {
   "cell_type": "code",
   "execution_count": null,
   "metadata": {},
   "outputs": [],
   "source": [
    "# VALORES DEL DICCIONARIO\n",
    " \n",
    "person_data.values()"
   ]
  },
  {
   "cell_type": "code",
   "execution_count": null,
   "metadata": {},
   "outputs": [],
   "source": [
    "for value in person_data.values():\n",
    "    print(value)"
   ]
  },
  {
   "cell_type": "code",
   "execution_count": null,
   "metadata": {},
   "outputs": [],
   "source": [
    "# ELEMENTOS DEL DICCIONARIO\n",
    "\n",
    "# Una lista de tuplas\n",
    "# [(key1, value1), (key2, value2), (key3, value3)]\n",
    "\n",
    "person_data.items()"
   ]
  },
  {
   "cell_type": "code",
   "execution_count": null,
   "metadata": {},
   "outputs": [],
   "source": [
    "# Desempaquetamos la tupla en las variables 'key' y 'value'\n",
    "\n",
    "for key, value in person_data.items():\n",
    "    print('La llave (' + str(key) + ') tiene valor: (' + str(value) + ')')"
   ]
  },
  {
   "cell_type": "markdown",
   "metadata": {},
   "source": [
    "## 2. Sets\n",
    "\n",
    "El **conjunto** (set) es otra estructura de datos de Python. Se declara también con llaves `{}`, de la siguiente manera:\n",
    "\n",
    "```python\n",
    "\n",
    "set = {element1, element2, element3, element4}\n",
    "\n",
    "```\n",
    "\n",
    "La particularidad de esta estructura de datos, es que sus elementos cumplirán dos propiedades:\n",
    "\n",
    "1. Se encuentran ordenados de menor o mayor\n",
    "2. No existen duplicados\n"
   ]
  },
  {
   "cell_type": "code",
   "execution_count": null,
   "metadata": {},
   "outputs": [],
   "source": [
    "# Los elementos están en cualquier orden y existen elementos duplicados\n",
    "\n",
    "s = {4, 0, 15, 0, 10, 10, 10, 7, 5, 0, 3, 9, 7}\n",
    "\n",
    "# Una vez declarado el conjunto, los ordenará y eliminará duplicados\n",
    "\n",
    "s"
   ]
  },
  {
   "cell_type": "markdown",
   "metadata": {},
   "source": [
    "También, podemos añadir elementos al conjunto, y se seguirán cumpliendo las dos propiedades mencionadas:"
   ]
  },
  {
   "cell_type": "code",
   "execution_count": null,
   "metadata": {},
   "outputs": [],
   "source": [
    "# Añadimos '6' al conjunto\n",
    "s.add(6)\n",
    "\n",
    "# Vemos que sus elementos siguen ordenados\n",
    "s"
   ]
  },
  {
   "cell_type": "markdown",
   "metadata": {},
   "source": [
    "Si añadimos un elemento duplicado, será ignorado:"
   ]
  },
  {
   "cell_type": "code",
   "execution_count": null,
   "metadata": {},
   "outputs": [],
   "source": [
    "s.add(7)\n",
    "s"
   ]
  },
  {
   "cell_type": "markdown",
   "metadata": {},
   "source": [
    "Existen dos maneras de eliminar un elemento de un conjunto, usando el método `.remove()` y `.discard()`. La diferencia entre ambos, es que si el elemento a eliminar no existe, el método `.remove()` generará un error, mientras que el método `.discard()` ignorará la acción."
   ]
  },
  {
   "cell_type": "code",
   "execution_count": null,
   "metadata": {},
   "outputs": [],
   "source": [
    "s.remove(10)\n",
    "s"
   ]
  },
  {
   "cell_type": "code",
   "execution_count": null,
   "metadata": {},
   "outputs": [],
   "source": [
    "s.discard(4)\n",
    "s"
   ]
  },
  {
   "cell_type": "code",
   "execution_count": null,
   "metadata": {},
   "outputs": [],
   "source": [
    "# 11 no existe en el conjunto\n",
    "# .remove() generará un error\n",
    "s.remove(11)\n",
    "s"
   ]
  },
  {
   "cell_type": "code",
   "execution_count": null,
   "metadata": {},
   "outputs": [],
   "source": [
    "# 11 no existe en el conjunto\n",
    "# .discard() simplemente ignora la acción, y seguirá con la ejecución\n",
    "s.discard(11)\n",
    "s"
   ]
  },
  {
   "cell_type": "markdown",
   "metadata": {},
   "source": [
    "No podemos acceder a los elementos por índice en los conjuntos como si se pueden hacer en las listas, nos generará un error:"
   ]
  },
  {
   "cell_type": "code",
   "execution_count": null,
   "metadata": {},
   "outputs": [],
   "source": [
    "s[0]"
   ]
  },
  {
   "cell_type": "markdown",
   "metadata": {},
   "source": [
    "Pero, los conjuntos son objetos iterables, de esa manera podemos acceder a sus elementos:"
   ]
  },
  {
   "cell_type": "code",
   "execution_count": null,
   "metadata": {},
   "outputs": [],
   "source": [
    "for element in s:\n",
    "    print(element)"
   ]
  },
  {
   "cell_type": "markdown",
   "metadata": {},
   "source": [
    "Si queremos acceder a sus elementos por índice, podemos **convertir el conjunto en una lista**:"
   ]
  },
  {
   "cell_type": "code",
   "execution_count": null,
   "metadata": {},
   "outputs": [],
   "source": [
    "my_list = list(s)\n",
    "my_list"
   ]
  },
  {
   "cell_type": "code",
   "execution_count": null,
   "metadata": {},
   "outputs": [],
   "source": [
    "my_list[0]"
   ]
  },
  {
   "cell_type": "code",
   "execution_count": null,
   "metadata": {},
   "outputs": [],
   "source": [
    "my_list[3]"
   ]
  },
  {
   "cell_type": "markdown",
   "metadata": {},
   "source": [
    "Los conjuntos serán útiles, cuando requiramos una estructura que *ordene elementos* o queramos *eliminar elementos duplicados*. Por ejemplo, si tenemos una lista y queremos eliminar sus duplicados, podemos convertirlo en un conjunto y luego en una lista: "
   ]
  },
  {
   "cell_type": "code",
   "execution_count": null,
   "metadata": {},
   "outputs": [],
   "source": [
    "name_list = ['Mario', 'Denis', 'Marco', 'Marco', 'Rosa', 'Denis', 'Julio', 'Denis', 'Vanesa']\n",
    "\n",
    "name_list = list(set(name_list))\n",
    "\n",
    "# Nota que los elementos no se encuentran ordenados\n",
    "# al convertir de 'set' a 'list' obtendremos cualquier orden\n",
    "name_list"
   ]
  },
  {
   "cell_type": "code",
   "execution_count": null,
   "metadata": {},
   "outputs": [],
   "source": [
    "# Podemos ordenar la lista\n",
    "name_list = sorted(name_list)\n",
    "print(name_list)"
   ]
  }
 ],
 "metadata": {
  "kernelspec": {
   "display_name": "Python 3",
   "language": "python",
   "name": "python3"
  },
  "language_info": {
   "codemirror_mode": {
    "name": "ipython",
    "version": 3
   },
   "file_extension": ".py",
   "mimetype": "text/x-python",
   "name": "python",
   "nbconvert_exporter": "python",
   "pygments_lexer": "ipython3",
   "version": "3.11.6"
  }
 },
 "nbformat": 4,
 "nbformat_minor": 2
}
