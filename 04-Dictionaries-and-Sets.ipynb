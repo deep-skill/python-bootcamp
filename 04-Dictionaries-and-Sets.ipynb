{
 "cells": [
  {
   "cell_type": "markdown",
   "metadata": {},
   "source": [
    "# Diccionarios y Sets\n",
    "\n",
    "## 1. Introducción a diccionarios\n",
    "\n",
    "Los *diccionarios* en Python son estructuras de datos que nos van a permitir relacionar **llaves** con **valores**. Para declarar un diccionario, usaremos los caracteres llaves `{}`.\n",
    "\n",
    "Por ejemplo, queremos almacenar los siguientes datos de una persona:\n",
    "\n",
    "- Nombre\n",
    "- Apellido\n",
    "- Edad\n",
    "- Género\n",
    "- Profesión"
   ]
  },
  {
   "cell_type": "code",
   "execution_count": null,
   "metadata": {},
   "outputs": [],
   "source": [
    "person_data = {'name' : 'Mario', 'last_name' : 'Rosales', 'age' : 30, 'gender' : 'male', 'profession' : 'engineer'}\n",
    "\n"
   ]
  }
 ],
 "metadata": {
  "kernelspec": {
   "display_name": "Python 3",
   "language": "python",
   "name": "python3"
  },
  "language_info": {
   "name": "python",
   "version": "3.11.6"
  }
 },
 "nbformat": 4,
 "nbformat_minor": 2
}
