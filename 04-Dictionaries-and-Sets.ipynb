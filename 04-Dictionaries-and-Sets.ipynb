{
 "cells": [
  {
   "cell_type": "markdown",
   "metadata": {},
   "source": [
    "# Diccionarios y Sets\n",
    "\n",
    "## 1. Diccionarios\n",
    "\n",
    "Los *diccionarios* en Python son estructuras de datos que nos van a permitir relacionar **llaves** con **valores**. Para declarar un diccionario, usaremos los caracteres llaves `{}`.\n",
    "\n",
    "```python\n",
    "dictionary = {key1 : value1, key2 : value2, key3 : value3}\n",
    "```\n",
    "\n",
    "Las **llaves** y los **valores** pueden ser de cualquier tipo.\n",
    "\n",
    "Podemos acceder al valor de una llave de la siguiente manera:\n",
    "\n",
    "```python\n",
    "dictionary[key1]\n",
    "```\n",
    "\n",
    "Veamos un ejemplo de un diccionario, donde almacenamos datos de una persona:\n",
    "\n",
    "- Nombre\n",
    "- Apellido\n",
    "- Edad"
   ]
  },
  {
   "cell_type": "code",
   "execution_count": null,
   "metadata": {},
   "outputs": [],
   "source": [
    "person_data = {'first_name' : 'Mario', 'last_name' : 'Rosales', 'age' : 30}\n",
    "\n",
    "print(person_data)\n",
    "print(type(person_data))"
   ]
  },
  {
   "cell_type": "markdown",
   "metadata": {},
   "source": [
    "En una lista, accedemos a sus elementos mediante sus índices. Los índices siempre son números enteros. En el caso de un diccionario, la llave puede ser del tipo `str`, `int`, etc. "
   ]
  },
  {
   "cell_type": "code",
   "execution_count": null,
   "metadata": {},
   "outputs": [],
   "source": [
    "person_data['first_name']"
   ]
  },
  {
   "cell_type": "code",
   "execution_count": null,
   "metadata": {},
   "outputs": [],
   "source": [
    "person_data['last_name']"
   ]
  },
  {
   "cell_type": "code",
   "execution_count": null,
   "metadata": {},
   "outputs": [],
   "source": [
    "person_data['age']"
   ]
  },
  {
   "cell_type": "code",
   "execution_count": null,
   "metadata": {},
   "outputs": [],
   "source": [
    "'Hola, soy ' + person_data['first_name'] + ' ' + person_data['last_name'] + ' y tengo ' + str(person_data['age']) + ' años'"
   ]
  },
  {
   "cell_type": "markdown",
   "metadata": {},
   "source": [
    "Es posible modificar el valor de una llave. Simplemente le asignamos otro valor:"
   ]
  },
  {
   "cell_type": "code",
   "execution_count": null,
   "metadata": {},
   "outputs": [],
   "source": [
    "person_data['age'] = 25\n",
    "person_data"
   ]
  },
  {
   "cell_type": "markdown",
   "metadata": {},
   "source": [
    "Para añadir un elemento en el diccionario, simplemente asignamos un *valor* a la *llave* a añadir:"
   ]
  },
  {
   "cell_type": "code",
   "execution_count": null,
   "metadata": {},
   "outputs": [],
   "source": [
    "person_data['gender'] = 'male'\n",
    "person_data"
   ]
  },
  {
   "cell_type": "code",
   "execution_count": null,
   "metadata": {},
   "outputs": [],
   "source": [
    "person_data['profession'] = 'engineer'\n",
    "person_data"
   ]
  },
  {
   "cell_type": "markdown",
   "metadata": {},
   "source": [
    "### Obtener las llaves, valores y elementos de un diccionario"
   ]
  },
  {
   "cell_type": "code",
   "execution_count": null,
   "metadata": {},
   "outputs": [],
   "source": [
    "person_data = {'first_name': 'Mario',\n",
    "               'last_name': 'Rosales',\n",
    "               'age': 25,\n",
    "               'gender': 'male',\n",
    "               'profession': 'engineer'}"
   ]
  },
  {
   "cell_type": "code",
   "execution_count": null,
   "metadata": {},
   "outputs": [],
   "source": [
    "# LLAVES DEL DICCIONARIO\n",
    "\n",
    "person_data.keys()"
   ]
  },
  {
   "cell_type": "code",
   "execution_count": null,
   "metadata": {},
   "outputs": [],
   "source": [
    "# Podemos iterar sobre sus llaves\n",
    "\n",
    "for key in person_data.keys():\n",
    "    print(key)"
   ]
  },
  {
   "cell_type": "code",
   "execution_count": null,
   "metadata": {},
   "outputs": [],
   "source": [
    "# VALORES DEL DICCIONARIO\n",
    " \n",
    "person_data.values()"
   ]
  },
  {
   "cell_type": "code",
   "execution_count": null,
   "metadata": {},
   "outputs": [],
   "source": [
    "for value in person_data.values():\n",
    "    print(value)"
   ]
  },
  {
   "cell_type": "code",
   "execution_count": null,
   "metadata": {},
   "outputs": [],
   "source": [
    "# ELEMENTOS DEL DICCIONARIO\n",
    "\n",
    "# Una lista de tuplas\n",
    "# [(key1, value1), (key2, value2), (key3, value3)]\n",
    "\n",
    "person_data.items()"
   ]
  },
  {
   "cell_type": "code",
   "execution_count": null,
   "metadata": {},
   "outputs": [],
   "source": [
    "# Desempaquetamos la tupla en las variables 'key' y 'value'\n",
    "\n",
    "for key, value in person_data.items():\n",
    "    print('La llave (' + str(key) + ') tiene valor: (' + str(value) + ')')"
   ]
  },
  {
   "cell_type": "markdown",
   "metadata": {},
   "source": [
    "## 2. Sets"
   ]
  },
  {
   "cell_type": "code",
   "execution_count": 1,
   "metadata": {},
   "outputs": [
    {
     "name": "stdout",
     "output_type": "stream",
     "text": [
      "<class 'set'>\n"
     ]
    }
   ],
   "source": []
  }
 ],
 "metadata": {
  "kernelspec": {
   "display_name": "Python 3",
   "language": "python",
   "name": "python3"
  },
  "language_info": {
   "codemirror_mode": {
    "name": "ipython",
    "version": 3
   },
   "file_extension": ".py",
   "mimetype": "text/x-python",
   "name": "python",
   "nbconvert_exporter": "python",
   "pygments_lexer": "ipython3",
   "version": "3.11.6"
  }
 },
 "nbformat": 4,
 "nbformat_minor": 2
}
