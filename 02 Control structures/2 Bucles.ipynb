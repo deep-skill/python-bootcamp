{
 "cells": [
  {
   "cell_type": "markdown",
   "metadata": {},
   "source": [
    "## 2. Bucles: WHILE y FOR\n",
    "\n",
    "### Sintaxis del bucle **WHILE**\n",
    "\n",
    "`Mientras` se cumpla la `<condición>`, entonces se ejecutará el `<bloque de código>`.\n",
    "\n",
    "```python\n",
    "\n",
    "while <condición>:\n",
    "    \n",
    "    <Bloque de código\n",
    "    Bloque de código\n",
    "    Bloque de código>\n",
    "\n",
    "```\n",
    "\n",
    "Si nos vemos en la situación donde queramos ejecutar un bloque de código varias veces, la sentencia **WHILE** nos será útil. A esta repetición de código se le conoce como **bucle**."
   ]
  },
  {
   "cell_type": "code",
   "execution_count": 2,
   "metadata": {
    "ExecuteTime": {
     "end_time": "2024-02-20T19:52:01.422084Z",
     "start_time": "2024-02-20T19:52:01.416836Z"
    }
   },
   "outputs": [
    {
     "name": "stdout",
     "output_type": "stream",
     "text": [
      "El valor de i es : 1\n",
      "El valor de i es : 2\n",
      "El valor de i es : 3\n",
      "El valor de i es : 4\n",
      "El valor de i es : 5\n",
      "El valor de i es : 6\n",
      "El valor de i es : 7\n",
      "El valor de i es : 8\n",
      "El valor de i es : 9\n",
      "El valor de i es : 10\n",
      "11\n"
     ]
    }
   ],
   "source": [
    "# Inicializamos una variable en 1\n",
    "\n",
    "i = 1\n",
    "\n",
    "# Mientras que (i <= 10), ejecutaremos el bloque de código\n",
    "while i <= 10:\n",
    "    # Imprimimos el valor de 'i'\n",
    "    print('El valor de i es : ' + str(i))\n",
    "    # Aumentamos en 1 el valor de 'i'\n",
    "    i += 1\n",
    "\n",
    "print(i)"
   ]
  },
  {
   "cell_type": "markdown",
   "metadata": {},
   "source": [
    "### Computar el coeficiente binomial\n",
    "\n",
    "Queremos crear un programa que nos ayude a computar el coeficiente binomial. Sabemos que \n",
    "\n",
    "$${n\\choose k} = \\frac{n!}{k!(n-k)!},$$\n",
    "\n",
    "por lo tanto, debemos ser capaces de calcular el factorial de $n$, $k$ y $(n-k)$ para finalmente computar el coeficiente binomial.\n",
    "\n",
    "Sabemos que el factorial de un número entero positivo se define de la siguiente manera:\n",
    "\n",
    "$$f(0) = 1\\\\\n",
    "f(n) = 1 \\times 2 \\times \\cdots \\times n = \\prod_{i=1}^{n} i$$\n",
    "\n",
    "Por lo que para calcular el factorial, tenemos que multiplicar todos los números de $1$ a $n$. Por ello, podríamos plantear el siguiente código"
   ]
  },
  {
   "cell_type": "code",
   "execution_count": null,
   "metadata": {},
   "outputs": [],
   "source": [
    "N = 10\n",
    "factorial = 1                      # Inicializamos el factorial en 1\n",
    "\n",
    "i = 1                              \n",
    "while i <= N:                      # Repetiremos la acción mientras que 'i' <= N\n",
    "    factorial = factorial * i      # multiplicamos a factorial por 'i'\n",
    "    i += 1                      # aumentamos en 1 a 'i'\n",
    "\n",
    "print(factorial)"
   ]
  },
  {
   "cell_type": "markdown",
   "metadata": {},
   "source": [
    "Vemos que en cada `iteración` del bucle, la variable $i$ tomará los valores desde $1$ hasta $N$, el cual es multiplicado a la variable *factorial*. Cuando $i$ ya no cumpla la condición, es decir, cuando $i$ tome el valor de $N+1$, el bucle terminará y se imprimirá el valor de *factorial*.\n",
    "\n",
    "Ahora que ya aprendimos a calcular el factorial de un número, terminemos el problema inicial."
   ]
  },
  {
   "cell_type": "code",
   "execution_count": 3,
   "metadata": {
    "ExecuteTime": {
     "end_time": "2024-02-20T20:02:27.031769Z",
     "start_time": "2024-02-20T20:02:27.026330Z"
    }
   },
   "outputs": [
    {
     "name": "stdout",
     "output_type": "stream",
     "text": [
      "120\n"
     ]
    }
   ],
   "source": [
    "n = 10\n",
    "k = 3\n",
    "\n",
    "fn = 1               # Factorial de n\n",
    "i = 1\n",
    "\n",
    "while i <= n:\n",
    "    fn = fn * i\n",
    "    i += 1\n",
    "\n",
    "fk = 1               # Factorial de k\n",
    "i = 1\n",
    "\n",
    "while i <= k:\n",
    "    fk = fk * i\n",
    "    i += 1\n",
    "\n",
    "d = n-k\n",
    "\n",
    "fd = 1               # Factorial de n-k\n",
    "i = 1\n",
    "\n",
    "while i <= d:\n",
    "    fd = fd * i\n",
    "    i += 1\n",
    "\n",
    "coeficiente_binomial = fn // (fk * fd)\n",
    "print(coeficiente_binomial)"
   ]
  },
  {
   "cell_type": "markdown",
   "metadata": {},
   "source": [
    "### Computar $\\sin(x)$ con la expansión de Taylor\n",
    "\n",
    "Supongamos que queremos calcular el valor de $\\text{seno} (x)$. Podemos aproximar el valor de $\\text{seno} (x)$ con su expansión de Taylor sobre 0:\n",
    "\n",
    "$$\\sin(x) \\approx x - \\frac{x^3}{3!} + \\frac{x^5}{5!} - \\frac{x^7}{7!} + \\cdots$$\n",
    "\n",
    "De manera similar, podemos calcular esta sumatoria usando la sentencia **WHILE**, pero esta vez la sumatoria es infinita, por lo que debemos tener una condición para que el bucle termine y aproximar lo más posible el valor a calcular.\n",
    "\n",
    "El término n-ésismo está definido por:\n",
    "\n",
    "$$t_n = (-1)^{n+1}\\frac{x^{(2n - 1)}}{(2n - 1 )!}.$$\n",
    "\n",
    "Ahora veamos el término $n+1$:\n",
    "\n",
    "$$t_{n+1} = (-1)^{n+2}\\frac{x^{(2n + 1)}}{(2n + 1 )!}.$$\n",
    "\n",
    "Si dividimos ambos términos, tenemos que:\n",
    "\n",
    "$$\\frac{t_{n+1}}{t_{n}} = -1\\cdot\\frac{x^2}{2n  (2n+1)}$$\n",
    "\n",
    "Así, obtenemos $t_{n+1}$ en función de $t_n$:\n",
    "\n",
    "$${t_{n+1}} = \\frac{-x^2}{2n  (2n+1)}t_n$$\n",
    "\n",
    "A medida que $n$ crece, $t_n$ va disminuyendo. Por tanto, si $t_n$ empieza a tomar valores muy pequeños podemos detener el bucle ya que no afectará a la aproximación:\n",
    "\n",
    "$$\\lvert t_n \\rvert > \\epsilon \\Longrightarrow t_n > \\epsilon \\lor t_n < -\\epsilon,$$\n",
    "\n",
    "para $\\epsilon = 10^{-12}$ (valor muy pequeño)."
   ]
  },
  {
   "cell_type": "code",
   "execution_count": 4,
   "metadata": {
    "ExecuteTime": {
     "end_time": "2024-02-20T20:03:43.152343Z",
     "start_time": "2024-02-20T20:03:43.114643Z"
    }
   },
   "outputs": [
    {
     "name": "stdout",
     "output_type": "stream",
     "text": [
      "0.7842463477419677\n"
     ]
    }
   ],
   "source": [
    "x = 3.14159265359 / 4.0   # PI / 4\n",
    "term = x               # Primer termino de la sucesion\n",
    "sin_x = 0\n",
    "\n",
    "epsilon = 1.0e-12         # 10 ^ (-12) \n",
    "\n",
    "while term > epsilon or term < -epsilon:  \n",
    "                          # Mientras que el término sea mayor a +epsilon o menor a -epsilon (en el caso de que sea negativo)\n",
    "                          # el bucle se ejecutará.\n",
    "                          # En otro caso, consideraremos que el valor del término es muy pequeño\n",
    "                          # y el bucle finaliza.\n",
    "    \n",
    "    sin_x += term     # Sumamos el n-esimo termino\n",
    "\n",
    "    # Calculamos el termino n+1\n",
    "    next_term = - x * x / (2 * n * (2 * n + 1)) * term\n",
    "    term = next_term\n",
    "\n",
    "print(sin_x)"
   ]
  },
  {
   "cell_type": "markdown",
   "metadata": {},
   "source": [
    "### Sintaxis del bucle **FOR**\n",
    "\n",
    "`Para` cada `elemento` de un `conjunto`, ejecutar el `<bloque de código>`\n",
    "\n",
    "```python\n",
    "\n",
    "for elemento in conjunto:\n",
    "    <Bloque de código\n",
    "    Bloque de código\n",
    "    Bloque de código>\n",
    "\n",
    "```\n",
    "\n",
    "Este `conjunto` formalmente se denomina *objeto iterable*. Es decir, el bucle **for** itera sobre los elementos de un *objeto iterable*.\n",
    "\n",
    "En Python, existen muchos *objetos iterables* como: listas, tuplas, diccionarios, etc. Todos estos objetos los veremos en siguientes módulos. Por ahora, veremos el objeto iterable `range(a, b)`, el cual genera una secuencia consecutiva de números desde `a` (inclusivo) hasta `b` (exclusivo):"
   ]
  },
  {
   "cell_type": "code",
   "execution_count": 5,
   "metadata": {
    "ExecuteTime": {
     "end_time": "2024-02-20T20:09:37.712475Z",
     "start_time": "2024-02-20T20:09:37.681713Z"
    }
   },
   "outputs": [
    {
     "name": "stdout",
     "output_type": "stream",
     "text": [
      "1\n",
      "2\n",
      "3\n",
      "4\n",
      "5\n",
      "6\n",
      "7\n",
      "8\n",
      "9\n"
     ]
    }
   ],
   "source": [
    "a = 1\n",
    "b = 10\n",
    "\n",
    "for i in range(a, b): # 'i' tomará los valores de los elementos del rango en orden\n",
    "                      # es decir: a, a+1, a+2, ..., b-2, b-1\n",
    "    print(i)"
   ]
  },
  {
   "cell_type": "code",
   "execution_count": 6,
   "metadata": {
    "ExecuteTime": {
     "end_time": "2024-02-20T20:12:12.538994Z",
     "start_time": "2024-02-20T20:12:12.490180Z"
    }
   },
   "outputs": [
    {
     "name": "stdout",
     "output_type": "stream",
     "text": [
      "9\n",
      "8\n",
      "7\n",
      "6\n",
      "5\n",
      "4\n",
      "3\n",
      "2\n",
      "1\n"
     ]
    }
   ],
   "source": [
    "a = 1\n",
    "b = 10\n",
    "\n",
    "for i in reversed(range(a, b)): # También podemos invertir el orden del rango\n",
    "                                # b-1, b-2, ..., a+2, a+1, a\n",
    "    print(i)"
   ]
  },
  {
   "cell_type": "code",
   "execution_count": 7,
   "metadata": {
    "ExecuteTime": {
     "end_time": "2024-02-20T20:13:39.165281Z",
     "start_time": "2024-02-20T20:13:39.142863Z"
    }
   },
   "outputs": [
    {
     "name": "stdout",
     "output_type": "stream",
     "text": [
      "14\n",
      "7\n",
      "-3\n",
      "10\n",
      "2\n"
     ]
    }
   ],
   "source": [
    "lst = [14, 7, -3, 10, 2] # A esta estructura se le denomina 'lista' en Python\n",
    "                           # También es un objeto iterable\n",
    "\n",
    "for element in lst:\n",
    "    print(element)"
   ]
  },
  {
   "cell_type": "markdown",
   "metadata": {},
   "source": [
    "### Test de primalidad\n",
    "\n",
    "Ahora, crearemos un programa que nos permita determinar si un número es primo o no. Sabemos que un número natural $p$ mayor que $1$ es primo si y solo si tiene solo 2 divisores: el $1$ y el mismo. En otras palabras, si encontramos algún número entre $[2, p-1]$ que sea divisor de $p$, diremos que $p$ es no primo o compuesto."
   ]
  },
  {
   "cell_type": "code",
   "execution_count": 12,
   "metadata": {
    "ExecuteTime": {
     "end_time": "2024-02-20T20:27:21.413608Z",
     "start_time": "2024-02-20T20:27:16.671121Z"
    }
   },
   "outputs": [
    {
     "name": "stdout",
     "output_type": "stream",
     "text": [
      "10 no es primo.\n"
     ]
    }
   ],
   "source": [
    "p = int(input(\"Ingresa el número: \"))\n",
    "is_prime = True                        # Inicialmente, asumiremos que p es primo\n",
    "\n",
    "for i in range(2, p):                  # Iteramos sobre [2, p-1]\n",
    "    if p % i == 0:                     \n",
    "        is_prime = False               # Si encontramos un divisor, significa que p no es primo\n",
    "        break\n",
    "\n",
    "# Imprimimos el resultado\n",
    "if is_prime:\n",
    "    print(str(p) + ' es primo.')\n",
    "else:\n",
    "    print(str(p) + ' no es primo.')"
   ]
  },
  {
   "cell_type": "markdown",
   "metadata": {},
   "source": [
    "**NOTA** : Muchos problemas se pueden resolver ya sea usando el bucle **FOR** o **WHILE**. Por ejemplo, podrías intentar crear un test de primalidad con el bucle **WHILE** en vez de **FOR**. Sin embargo, habrá situaciones donde será más simple usar un bucle en vez de otro."
   ]
  },
  {
   "cell_type": "markdown",
   "metadata": {},
   "source": [
    "### Bucles anidados\n",
    "\n",
    "De la misma manera que existen **IF** anidados, también existen bucles anidados, es decir, bucles dentro de bucles.\n",
    "\n",
    "1. **WHILE** anidados\n",
    "\n",
    "    ```python\n",
    "    while <condición1>:\n",
    "        <Bloque de código1>\n",
    "\n",
    "        while <condición2>:\n",
    "            <Bloque de código2>\n",
    "\n",
    "        <Bloque de código3>\n",
    "    ```\n",
    "\n",
    "2. **FOR** anidados\n",
    "\n",
    "    ```python\n",
    "    for elemento1 in <conjunto1>:\n",
    "        <Bloque de código1>\n",
    "\n",
    "        for elemento2 in <conjunto2>:\n",
    "            <Bloque de código2>\n",
    "\n",
    "        <Bloque de código3>\n",
    "    ```\n",
    "\n",
    "3. **FOR** anidado en un **WHILE**\n",
    "    \n",
    "    ```python\n",
    "    while <condición1>:\n",
    "        <Bloque de código1>\n",
    "\n",
    "        for elemento in <conjunto>:\n",
    "            <Bloque de código2>\n",
    "\n",
    "        <Bloque de código3>\n",
    "    ```"
   ]
  },
  {
   "cell_type": "markdown",
   "metadata": {},
   "source": [
    "Ahora veamos un ejemplo:\n",
    "\n",
    "Dado una lista de números, determinar la suma de todos los números que son primos"
   ]
  },
  {
   "cell_type": "code",
   "execution_count": null,
   "metadata": {},
   "outputs": [],
   "source": [
    "numbers = [1, 3, 13, -5, 19, -10000, 37]\n",
    "sum_primes = 0\n",
    "\n",
    "for num in numbers:\n",
    "\n",
    "    # Aseguramos que el número sea mayor a 1\n",
    "    if num > 1:\n",
    "        \n",
    "        is_prime = True\n",
    "        for i in range(2, num):\n",
    "            if num % i == 0:\n",
    "                is_prime = False\n",
    "\n",
    "        # Si es primo, añadimos el número a la suma de primos\n",
    "        if is_prime:\n",
    "            sum_primes += num\n",
    "    \n",
    "print('La suma de los números primos: ' + str(sum_primes))"
   ]
  },
  {
   "cell_type": "markdown",
   "metadata": {},
   "source": [
    "## 3. Control de flujo: BREAK y CONTINUE\n",
    "\n",
    "### Sintaxis de la sentencia **BREAK**\n",
    "\n",
    "Fuerza a que el bucle finalize en la iteración actual:\n",
    "\n",
    "```python\n",
    "while <condicion>:\n",
    "\n",
    "    <Bloque de código\n",
    "    Bloque de código\n",
    "    Bloque de código>\n",
    "\n",
    "    break\n",
    "\n",
    "for <elemento> in <conjunto>:\n",
    "    \n",
    "    <Bloque de código\n",
    "    Bloque de código\n",
    "    Bloque de código>\n",
    "\n",
    "    break\n",
    "```\n",
    "\n",
    "Por lo general, el uso de la sentencia **BREAK** va acompañada de una condicional. Es decir, dada una condición se romperá (break) el bucle.\n",
    "\n",
    "Supongamos que en una lista, queremos encontrar el primer elemento que sea primo:"
   ]
  },
  {
   "cell_type": "code",
   "execution_count": null,
   "metadata": {},
   "outputs": [],
   "source": [
    "numbers = [15, 33, -2, 89, 42, 13, 7, 100]\n",
    "\n",
    "prime_number = -1\n",
    "\n",
    "for num in numbers:\n",
    "\n",
    "    if num > 1:\n",
    "\n",
    "        # ========== TEST DE PRIMALIDAD =============\n",
    "\n",
    "        is_prime = True\n",
    "\n",
    "        for i in range(2, num):\n",
    "            if num % i == 0:                     \n",
    "                is_prime = False\n",
    "\n",
    "        # ===========================================\n",
    "\n",
    "        if is_prime:\n",
    "            # Si encontramos un número primo, guardamos el valor en la variable 'prime_number'\n",
    "            # y finalizamos el bucle, pues solo queremos el primer número primo que encontremos\n",
    "            prime_number = num\n",
    "            break\n",
    "\n",
    "if prime_number == -1:\n",
    "    print('No se encontró ningún número primo')\n",
    "else:\n",
    "    print('El primer número primo es: ' + str(prime_number))\n"
   ]
  },
  {
   "cell_type": "markdown",
   "metadata": {},
   "source": [
    "La sentencia **BREAK** también puede ser utilizada en el bucle **WHILE**.\n",
    "\n",
    "\n",
    "### Sintaxis de la sentencia **CONTINUE**\n",
    "\n",
    "Fuerza a terminar la iteración actual, y pasa a la siguiente iteración:\n",
    "\n",
    "```python\n",
    "while <condicion>:\n",
    "\n",
    "    <Bloque de código\n",
    "    Bloque de código\n",
    "    Bloque de código>\n",
    "\n",
    "    continue\n",
    "\n",
    "for <elemento> in <conjunto>:\n",
    "    \n",
    "    <Bloque de código\n",
    "    Bloque de código\n",
    "    Bloque de código>\n",
    "\n",
    "    continue\n",
    "```\n",
    "\n",
    "Veamos un ejemplo, modificando el código anterior"
   ]
  },
  {
   "cell_type": "code",
   "execution_count": null,
   "metadata": {},
   "outputs": [],
   "source": [
    "numbers = [15, 33, -2, 89, 42, 13, 7, 100]\n",
    "\n",
    "prime_number = -1\n",
    "\n",
    "for num in numbers:\n",
    "\n",
    "    # Si el número es menor o igual que 1, no puede llegar a ser primo\n",
    "    # por tanto, con la ayuda de la sentencia 'continue' detenemos la iteración actual\n",
    "    # y pasamos al siguiente (evaluamos el siguiente número de la lista)\n",
    "    if num <= 1:\n",
    "        continue\n",
    "\n",
    "    # ========== TEST DE PRIMALIDAD =============\n",
    "\n",
    "    is_prime = True\n",
    "\n",
    "    for i in range(2, num):\n",
    "        if num % i == 0:                     \n",
    "            is_prime = False\n",
    "\n",
    "    # ===========================================\n",
    "\n",
    "    if is_prime:\n",
    "        prime_number = num\n",
    "        break\n",
    "\n",
    "if prime_number == -1:\n",
    "    print('No se encontró ningún número primo')\n",
    "else:\n",
    "    print('El primer número primo es: ' + str(prime_number))\n"
   ]
  },
  {
   "cell_type": "markdown",
   "metadata": {},
   "source": [
    "La sentencia `continue` nos ayudará a tener un código más limpio y legible cuando existan varias condicionales. Veamos el siguiente caso:\n",
    "\n",
    "```python\n",
    "\n",
    "for element in some_list:\n",
    "    if conditional1:\n",
    "        if conditional2:\n",
    "            if conditional3:\n",
    "                # Statement\n",
    "                # Statement\n",
    "                # Statement\n",
    "\n",
    "```\n",
    "\n",
    "```python\n",
    "\n",
    "for element in some_list:\n",
    "    if !conditional1:\n",
    "        continue\n",
    "    \n",
    "    if !conditional2:\n",
    "        continue\n",
    "\n",
    "    if !conditional3:\n",
    "        continue\n",
    "\n",
    "    # Statement\n",
    "    # Statement\n",
    "\n",
    "```\n",
    "\n",
    "Imaginemos que queramos insertar una condicional más, en el primer código es más complicado y el código se vuelve más complicado de leer por las múltiples identaciones, mientras que en el segundo código simplemente añadimos una condicional junto a un `continue`."
   ]
  }
 ],
 "metadata": {
  "kernelspec": {
   "display_name": "Python 3",
   "language": "python",
   "name": "python3"
  },
  "language_info": {
   "codemirror_mode": {
    "name": "ipython",
    "version": 3
   },
   "file_extension": ".py",
   "mimetype": "text/x-python",
   "name": "python",
   "nbconvert_exporter": "python",
   "pygments_lexer": "ipython3",
   "version": "3.11.6"
  }
 },
 "nbformat": 4,
 "nbformat_minor": 2
}
