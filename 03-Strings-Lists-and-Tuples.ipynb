{
 "cells": [
  {
   "cell_type": "markdown",
   "metadata": {},
   "source": [
    "# Strings, Listas y Tuplas\n",
    "\n",
    "## 1. Introducción a las estructuras de datos\n",
    "\n",
    "En Python, sabemos que podemos almacenar un dato en una variable. Pero que es lo que pasa si tenemos múltiples datos que queremos almacenar, para ellos podemos usar distintas **estructuras de datos** que nos proporciona Python. \n",
    "\n",
    "--- pilas colas estructuras lineales\n",
    "\n",
    "## 2. Definición y manipulación de strings\n",
    "\n",
    "En el primer módulo vimos que los *strings* es una cadena de caracteres donde podemos almacenar texto. En general, podemos almacenar cualquier tipo de caracter del código [ascii](https://elcodigoascii.com.ar):\n",
    "\n",
    "Veamos de qué formas se pueden utilizar los strings:"
   ]
  },
  {
   "cell_type": "code",
   "execution_count": null,
   "metadata": {},
   "outputs": [],
   "source": [
    "# Para indicar que la variable es del tipo string, ponemos el valor en comillas ('') o doble comillas (\"\")\n",
    "first_name = 'Mario'\n",
    "last_name = \"Rosales\"\n",
    "\n",
    "print(type(first_name))\n",
    "print(type(last_name))\n",
    "\n",
    "print(first_name)\n",
    "print(last_name)"
   ]
  },
  {
   "cell_type": "code",
   "execution_count": null,
   "metadata": {},
   "outputs": [],
   "source": [
    "# Suma de strings: concatenan los string\n",
    "\n",
    "full_name = first_name + ' ' + last_name\n",
    "print('Mi nombre es: ' + full_name)"
   ]
  },
  {
   "cell_type": "code",
   "execution_count": null,
   "metadata": {},
   "outputs": [],
   "source": [
    "# Podemos acceder a un caracter de la siguiente manera:\n",
    "\n",
    "print(first_name[0])    # Accede al primer caracter desde la izquierda\n",
    "print(first_name[1])    # Accede al segundo caracter desde la izquierda\n",
    "\n",
    "# NOTA: El primer caracter está en la posición 0, no en la posición 1"
   ]
  },
  {
   "cell_type": "code",
   "execution_count": null,
   "metadata": {},
   "outputs": [],
   "source": [
    "print(first_name[-1])   # Accede al caracter de última posición\n",
    "print(first_name[-2])   # Accede al caracter de penúltima posición"
   ]
  },
  {
   "cell_type": "markdown",
   "metadata": {},
   "source": [
    "Ahora veremos dos maneras de iterar sobre los caracteres de un string."
   ]
  },
  {
   "cell_type": "code",
   "execution_count": null,
   "metadata": {},
   "outputs": [],
   "source": [
    "first_name = 'Mario'"
   ]
  },
  {
   "cell_type": "code",
   "execution_count": null,
   "metadata": {},
   "outputs": [],
   "source": [
    "# len(first_name) : cantidad de caracteres que tiene la cadena\n",
    "\n",
    "for i in range(len(first_name)):\n",
    "    print(first_name[i])"
   ]
  },
  {
   "cell_type": "code",
   "execution_count": null,
   "metadata": {},
   "outputs": [],
   "source": [
    "# Los strings son objetos iterables\n",
    "\n",
    "for c in first_name:\n",
    "    print(c)"
   ]
  },
  {
   "cell_type": "markdown",
   "metadata": {},
   "source": [
    "## 3. Introducción a listas\n",
    "\n",
    "Una **lista** es una estructura de datos que nos va a permitir almacenar y organizar elementos de manera ordenada. Para declarar una lista, usaremos corchetes `[]`:"
   ]
  },
  {
   "cell_type": "code",
   "execution_count": null,
   "metadata": {},
   "outputs": [],
   "source": [
    "lst = [12, 15, 0, -3, 5]\n",
    "\n",
    "print(type(lst))\n",
    "print(lst)"
   ]
  },
  {
   "cell_type": "code",
   "execution_count": null,
   "metadata": {},
   "outputs": [],
   "source": [
    "# Podemos añadir un elemento al final de la lista\n",
    "\n",
    "lst.append(7)\n",
    "lst"
   ]
  },
  {
   "cell_type": "code",
   "execution_count": null,
   "metadata": {},
   "outputs": [],
   "source": [
    "# Además, podemos añadir un elemento con cualquier tipo de dato\n",
    "\n",
    "lst.append('hello')\n",
    "lst.append(True)\n",
    "lst.append(2.3)\n",
    "\n",
    "lst"
   ]
  },
  {
   "cell_type": "markdown",
   "metadata": {},
   "source": [
    "Podemos acceder a los elementos de la lista según la posición que se encuentra en la lista, similar a los strings:"
   ]
  },
  {
   "cell_type": "code",
   "execution_count": null,
   "metadata": {},
   "outputs": [],
   "source": [
    "number_list = [2, 3, 5, 7, 11, 13, 17, 19, 23, 29]"
   ]
  },
  {
   "cell_type": "code",
   "execution_count": null,
   "metadata": {},
   "outputs": [],
   "source": [
    "# Podemos acceder a sus elementos de la siguiente manera\n",
    "\n",
    "print(number_list[0]) # Primer elemento\n",
    "print(number_list[1]) # Segundo elemento\n",
    "print(number_list[4]) # Quinto elemento"
   ]
  },
  {
   "cell_type": "code",
   "execution_count": null,
   "metadata": {},
   "outputs": [],
   "source": [
    "# Índices negativos\n",
    "\n",
    "print(number_list[-1]) # Último elemento\n",
    "print(number_list[-2]) # Penúltimo elemento"
   ]
  },
  {
   "cell_type": "code",
   "execution_count": null,
   "metadata": {},
   "outputs": [],
   "source": [
    "# Modificar un elemento de la lista\n",
    "\n",
    "number_list[0] = 31\n",
    "number_list"
   ]
  },
  {
   "cell_type": "markdown",
   "metadata": {},
   "source": [
    "Las listas son objetos iterables, por lo que podemos iterar sobre ellas:"
   ]
  },
  {
   "cell_type": "code",
   "execution_count": null,
   "metadata": {},
   "outputs": [],
   "source": [
    "number_list = [2, 3, 5, 7, 11, 13, 17, 19, 23, 29]\n",
    "\n",
    "for number in number_list:\n",
    "    print(number)"
   ]
  },
  {
   "cell_type": "markdown",
   "metadata": {},
   "source": [
    "Existen diferentes maneras de eliminar un elemento de una lista. \n",
    "\n",
    "El método **REMOVE**:\n",
    "\n",
    "```python\n",
    "lst.remove(element)\n",
    "```\n",
    "\n",
    "Elimina la primera aparición de `element` en la lista."
   ]
  },
  {
   "cell_type": "code",
   "execution_count": null,
   "metadata": {},
   "outputs": [],
   "source": [
    "animal_list = ['monkey', 'parrot', 'cat', 'dog', 'mouse', 'cat', 'monkey', 'cat']\n",
    "animal_list"
   ]
  },
  {
   "cell_type": "code",
   "execution_count": null,
   "metadata": {},
   "outputs": [],
   "source": [
    "# Elimina 'parrot' de la lista\n",
    "animal_list.remove('parrot')\n",
    "print(animal_list)"
   ]
  },
  {
   "cell_type": "code",
   "execution_count": null,
   "metadata": {},
   "outputs": [],
   "source": [
    "# Elimina 'cat' de la lista. Como hay tres elementos 'cat' en la lista, eliminará el primero de ellos\n",
    "animal_list.remove('cat')\n",
    "print(animal_list)"
   ]
  },
  {
   "cell_type": "code",
   "execution_count": null,
   "metadata": {},
   "outputs": [],
   "source": [
    "animal_list.remove('mouse')\n",
    "print(animal_list)"
   ]
  },
  {
   "cell_type": "markdown",
   "metadata": {},
   "source": [
    "El método **POP**:\n",
    "\n",
    "```python\n",
    "lst.pop(index)\n",
    "```\n",
    "\n",
    "Elimina el elemento con índice `index`."
   ]
  },
  {
   "cell_type": "code",
   "execution_count": null,
   "metadata": {},
   "outputs": [],
   "source": [
    "animal_list = ['monkey', 'parrot', 'cat', 'dog', 'mouse', 'cat', 'monkey', 'cat']\n",
    "animal_list"
   ]
  },
  {
   "cell_type": "code",
   "execution_count": null,
   "metadata": {},
   "outputs": [],
   "source": [
    "# Elimina el elemento de índice 2\n",
    "animal_list.pop(2)\n",
    "print(animal_list)"
   ]
  },
  {
   "cell_type": "code",
   "execution_count": null,
   "metadata": {},
   "outputs": [],
   "source": [
    "# Elimina el elemento de índice 4\n",
    "animal_list.pop(4)\n",
    "print(animal_list)"
   ]
  },
  {
   "cell_type": "code",
   "execution_count": null,
   "metadata": {},
   "outputs": [],
   "source": [
    "# Elimina el elemento de índice -1 (o última posición)\n",
    "animal_list.pop(-1)\n",
    "print(animal_list)"
   ]
  },
  {
   "cell_type": "markdown",
   "metadata": {},
   "source": [
    "## 4. Slicing de strings y listas\n",
    "\n",
    "El *slicing* en Python, nos permite obtener un subconjunto de elementos de una cadena o una lista. El *slicing* funciona de la siguiente manera:\n",
    "\n",
    "```python\n",
    "string[start:end] # Obtenemos una subcadena desde la posición 'start' (inclusive) \n",
    "                  # hasta la posición 'end' (exclusive)\n",
    "\n",
    "string[start:]    # Obtenemos una subcadena desde la posición 'start' (inclusive)\n",
    "                  # hasta llegar al final de la cadena (inclusive)\n",
    "\n",
    "string[:end]      # Obtenemos una subcadena desde el inicio de la cadena (inclusive)\n",
    "                  # hasta la posición 'end' (exclusive)\n",
    "```\n",
    "\n",
    "Veamos unos ejemplos:"
   ]
  },
  {
   "cell_type": "code",
   "execution_count": null,
   "metadata": {},
   "outputs": [],
   "source": [
    "full_name = 'Mario Rosales'"
   ]
  },
  {
   "cell_type": "markdown",
   "metadata": {},
   "source": [
    "<center><img src=\"Images/slice1.jpg\" width=1000></center>"
   ]
  },
  {
   "cell_type": "code",
   "execution_count": null,
   "metadata": {},
   "outputs": [],
   "source": [
    "full_name[2:8]"
   ]
  },
  {
   "cell_type": "code",
   "execution_count": null,
   "metadata": {},
   "outputs": [],
   "source": [
    "full_name[4:11]"
   ]
  },
  {
   "cell_type": "code",
   "execution_count": null,
   "metadata": {},
   "outputs": [],
   "source": [
    "full_name[:9]"
   ]
  },
  {
   "cell_type": "code",
   "execution_count": null,
   "metadata": {},
   "outputs": [],
   "source": [
    "full_name[3:]"
   ]
  },
  {
   "cell_type": "code",
   "execution_count": null,
   "metadata": {},
   "outputs": [],
   "source": [
    "full_name[:]"
   ]
  },
  {
   "cell_type": "code",
   "execution_count": null,
   "metadata": {},
   "outputs": [],
   "source": [
    "# Los slicings obtenidos también son del tipo 'str'\n",
    "\n",
    "type(full_name[2:8])"
   ]
  },
  {
   "cell_type": "markdown",
   "metadata": {},
   "source": [
    "Podemos usar índices negativos:"
   ]
  },
  {
   "cell_type": "markdown",
   "metadata": {},
   "source": [
    "<center><img src='Images/slice2.jpg' width=1000></center>"
   ]
  },
  {
   "cell_type": "code",
   "execution_count": null,
   "metadata": {},
   "outputs": [],
   "source": [
    "full_name[-10:-5]"
   ]
  },
  {
   "cell_type": "code",
   "execution_count": null,
   "metadata": {},
   "outputs": [],
   "source": [
    "full_name[-6:-3]"
   ]
  },
  {
   "cell_type": "code",
   "execution_count": null,
   "metadata": {},
   "outputs": [],
   "source": [
    "full_name[:-2]"
   ]
  },
  {
   "cell_type": "code",
   "execution_count": null,
   "metadata": {},
   "outputs": [],
   "source": [
    "full_name[-7:]"
   ]
  },
  {
   "cell_type": "markdown",
   "metadata": {},
   "source": [
    "En el *slicing* definimos el inicio y final de la subcadena, pero también podemos definir un tercer parámetro:\n",
    "\n",
    "```python\n",
    "\n",
    "string[start : end : step]  # Obtenemos una subcadena desde la posición 'start' (inclusive)\n",
    "                            # hasta la posición 'end' (exclusive), pero solo las posiciones\n",
    "                            # cada 'step' pasos\n",
    "                            # Es decir, tomará las posiciones:\n",
    "                            # start, start + step, starte + 2 * step, start + 3 * step + ...\n",
    "\n",
    "string[start : : step]      # Iniciamos desde 'start' hasta el final de la cadena (inclusive)\n",
    "\n",
    "string[ : end : step]       # Iniciamos desde la posición 0 hasta la posición 'end' (exclusive)\n",
    "\n",
    "```"
   ]
  },
  {
   "cell_type": "markdown",
   "metadata": {},
   "source": [
    "<center><img src='Images/slice3.jpg' width=1000></center>"
   ]
  },
  {
   "cell_type": "code",
   "execution_count": null,
   "metadata": {},
   "outputs": [],
   "source": [
    "full_name[2:12:2]"
   ]
  },
  {
   "cell_type": "code",
   "execution_count": null,
   "metadata": {},
   "outputs": [],
   "source": [
    "full_name[-11:-1:3]"
   ]
  },
  {
   "cell_type": "code",
   "execution_count": null,
   "metadata": {},
   "outputs": [],
   "source": [
    "full_name[4::4]"
   ]
  },
  {
   "cell_type": "code",
   "execution_count": null,
   "metadata": {},
   "outputs": [],
   "source": [
    "full_name[:-5:5]"
   ]
  },
  {
   "cell_type": "markdown",
   "metadata": {},
   "source": [
    "El parámetro `step` también admite valores negativos; sin embargo, iniciaremos desde la posición 'end' (inclusive) y finalizaremos en la posición 'start':"
   ]
  },
  {
   "cell_type": "markdown",
   "metadata": {},
   "source": [
    "<center><img src='Images/slice4.jpg' width=1000></center>"
   ]
  },
  {
   "cell_type": "code",
   "execution_count": null,
   "metadata": {},
   "outputs": [],
   "source": [
    "full_name[9:2:-1]"
   ]
  },
  {
   "cell_type": "code",
   "execution_count": null,
   "metadata": {},
   "outputs": [],
   "source": [
    "full_name[-6:-12:-2]"
   ]
  },
  {
   "cell_type": "code",
   "execution_count": null,
   "metadata": {},
   "outputs": [],
   "source": [
    "full_name[:4:-3]"
   ]
  },
  {
   "cell_type": "code",
   "execution_count": null,
   "metadata": {},
   "outputs": [],
   "source": [
    "full_name[-3::-4]"
   ]
  },
  {
   "cell_type": "markdown",
   "metadata": {},
   "source": [
    "Todos los ejemplos que vimos, fueron con cadenas, pero de la misma manera, se pueden aplicar en listas:"
   ]
  },
  {
   "cell_type": "code",
   "execution_count": null,
   "metadata": {},
   "outputs": [],
   "source": [
    "number_list = [3, 10, 11, 20, -7, -1, 0, 91, 103, -17, -23]\n",
    "\n",
    "                                    # POSICIONES\n",
    "print(number_list[2:5])             # 2, 3, 4\n",
    "print(number_list[3:8:2])           # 3, 5, 7\n",
    "print(number_list[-6:])             # -6, -5, -4, ...\n",
    "print(number_list[7:2:-1])          # 7, 6, 5, 4, 3"
   ]
  },
  {
   "cell_type": "markdown",
   "metadata": {},
   "source": [
    "## 5. Listas anidadas\n",
    "\n",
    "Vimos que una lista puede tener elementos de cualquier tipo, ya sea `int`, `str`, `float`, `bool`; pero también puede tener como elemento otra lista. Es decir, podemos crear una *lista de listas*."
   ]
  },
  {
   "cell_type": "code",
   "execution_count": null,
   "metadata": {},
   "outputs": [],
   "source": [
    "# Lista de listas\n",
    "\n",
    "number_list = [[1, 2, 3], [4, 5, 6], [7, 8, 9]]\n"
   ]
  },
  {
   "cell_type": "code",
   "execution_count": null,
   "metadata": {},
   "outputs": [],
   "source": [
    "number_list[0]"
   ]
  },
  {
   "cell_type": "code",
   "execution_count": null,
   "metadata": {},
   "outputs": [],
   "source": [
    "number_list[1]"
   ]
  },
  {
   "cell_type": "code",
   "execution_count": null,
   "metadata": {},
   "outputs": [],
   "source": [
    "number_list[2]"
   ]
  },
  {
   "cell_type": "markdown",
   "metadata": {},
   "source": [
    "También, podemos acceder a los elementos de las listas, de la siguiente manera:"
   ]
  },
  {
   "cell_type": "code",
   "execution_count": null,
   "metadata": {},
   "outputs": [],
   "source": [
    "# Primer elemento de la primera lista\n",
    "\n",
    "number_list[0][0]"
   ]
  },
  {
   "cell_type": "code",
   "execution_count": null,
   "metadata": {},
   "outputs": [],
   "source": [
    "# Segundo elemento de la primera lista\n",
    "\n",
    "number_list[0][1]"
   ]
  },
  {
   "cell_type": "code",
   "execution_count": null,
   "metadata": {},
   "outputs": [],
   "source": [
    "# Tercer elemento de la segunda lista\n",
    "\n",
    "number_list[1][2]"
   ]
  },
  {
   "cell_type": "markdown",
   "metadata": {},
   "source": [
    "Podemos ver a una lista de listas como si se tratase de una matriz:\n",
    "\n",
    "<center><img src='Images/matriz.jpeg' width=500></center>"
   ]
  },
  {
   "cell_type": "code",
   "execution_count": null,
   "metadata": {},
   "outputs": [],
   "source": [
    "# Python nos permite escribir las listas de esta manera\n",
    "number_list = [[1, 2, 3, 4],\n",
    "               [5, 6, 7, 8],\n",
    "               [9, 10, 11, 12]]\n"
   ]
  },
  {
   "cell_type": "code",
   "execution_count": null,
   "metadata": {},
   "outputs": [],
   "source": [
    "number_list[1][2]"
   ]
  },
  {
   "cell_type": "code",
   "execution_count": null,
   "metadata": {},
   "outputs": [],
   "source": [
    "number_list[2][0]"
   ]
  },
  {
   "cell_type": "code",
   "execution_count": null,
   "metadata": {},
   "outputs": [],
   "source": [
    "number_list[2][2]"
   ]
  },
  {
   "cell_type": "markdown",
   "metadata": {},
   "source": [
    "## 6. Introducción a tuplas\n",
    "\n",
    "Las tuplas es un tipo de estructura de datos, muy similar a una lista:"
   ]
  },
  {
   "cell_type": "code",
   "execution_count": null,
   "metadata": {},
   "outputs": [],
   "source": [
    "my_tuple = (1, 2, 3, 4, 5)\n",
    "my_tuple"
   ]
  },
  {
   "cell_type": "code",
   "execution_count": null,
   "metadata": {},
   "outputs": [],
   "source": [
    "type(my_tuple)"
   ]
  },
  {
   "cell_type": "code",
   "execution_count": null,
   "metadata": {},
   "outputs": [],
   "source": [
    "# También podemos acceder a los elementos de la tupla, de la misma manera que las listas\n",
    "\n",
    "my_tuple[0]"
   ]
  },
  {
   "cell_type": "code",
   "execution_count": null,
   "metadata": {},
   "outputs": [],
   "source": [
    "my_tuple[1]"
   ]
  },
  {
   "cell_type": "markdown",
   "metadata": {},
   "source": [
    "Incluso, podemos tener tuplas de tuplas:"
   ]
  },
  {
   "cell_type": "code",
   "execution_count": null,
   "metadata": {},
   "outputs": [],
   "source": [
    "my_tuple = ((1, 2, 3), (4, 5, 6), (7, 8, 9))\n",
    "my_tuple[2][1]"
   ]
  },
  {
   "cell_type": "markdown",
   "metadata": {},
   "source": [
    "Podemos ver que la tupla es similar a una lista, pero no son iguales. La principal diferencia entre ambas es que las **listas** son **mutables** mientras que las **tuplas** son **inmutables**. Esto quiere decir que las *tuplas no pueden ser alteradas* (añadir, reemplazar, reasignar o eliminar elementos) a diferencia de las *listas que si pueden ser alteradas*."
   ]
  },
  {
   "cell_type": "code",
   "execution_count": null,
   "metadata": {},
   "outputs": [],
   "source": [
    "my_tuple = (1, 2, 3, 4)\n",
    "\n",
    "# Si intentamos modificar un elemento de la tupla, nos dará un error\n",
    "my_tuple[0] = 7"
   ]
  },
  {
   "cell_type": "markdown",
   "metadata": {},
   "source": [
    "### ¿Por qué usar una tupla en vez de una lista?\n",
    "\n",
    "En construcción de software, habrán situaciones donde queremos que algunos *datos no varíen en el flujo del programa* y garantizar su *inmutabilidad*, para este tipo de datos podemos usar las tuplas y asegurarnos que los datos no variarán durante la ejecución del programa, y si se intentan modificar, el programa nos dará error.\n",
    "\n",
    "### Desempaquetado de listas y tuplas\n",
    "\n",
    "Supongamos que tenemos la siguiente tupla, que contiene dos datos: el nombre de una persona, su apellido y su edad"
   ]
  },
  {
   "cell_type": "code",
   "execution_count": null,
   "metadata": {},
   "outputs": [],
   "source": [
    "info = ('Mario', 'Rosales', 30)"
   ]
  },
  {
   "cell_type": "markdown",
   "metadata": {},
   "source": [
    "Queremos guardar estos datos, en tres variables: `first_name`, `last_name` y `age`"
   ]
  },
  {
   "cell_type": "code",
   "execution_count": null,
   "metadata": {},
   "outputs": [],
   "source": [
    "first_name = info[0]\n",
    "last_name = info[1]\n",
    "age = info[2]"
   ]
  },
  {
   "cell_type": "code",
   "execution_count": null,
   "metadata": {},
   "outputs": [],
   "source": [
    "print(first_name)\n",
    "print(last_name)\n",
    "print(age)"
   ]
  },
  {
   "cell_type": "markdown",
   "metadata": {},
   "source": [
    "Existe otra manera de asignar datos de una tupla en variables, *desempaquetando la tupla*:"
   ]
  },
  {
   "cell_type": "code",
   "execution_count": null,
   "metadata": {},
   "outputs": [],
   "source": [
    "info = ('Mario', 'Rosales', 30)\n",
    "\n",
    "first_name, last_name, age = info"
   ]
  },
  {
   "cell_type": "code",
   "execution_count": null,
   "metadata": {},
   "outputs": [],
   "source": [
    "first_name"
   ]
  },
  {
   "cell_type": "code",
   "execution_count": null,
   "metadata": {},
   "outputs": [],
   "source": [
    "last_name"
   ]
  },
  {
   "cell_type": "code",
   "execution_count": null,
   "metadata": {},
   "outputs": [],
   "source": [
    "age"
   ]
  },
  {
   "cell_type": "markdown",
   "metadata": {},
   "source": [
    "Para poder desempaquetar una tupla, la cantidad de variables y de elementos de la tupla deben ser iguales, o nos dará un error:"
   ]
  },
  {
   "cell_type": "code",
   "execution_count": null,
   "metadata": {},
   "outputs": [],
   "source": [
    "info = ('Mario', 'Rosales', 30)\n",
    "\n",
    "first_name, last_name = info"
   ]
  },
  {
   "cell_type": "code",
   "execution_count": null,
   "metadata": {},
   "outputs": [],
   "source": [
    "info = ('Mario', 'Rosales', 30)\n",
    "\n",
    "first_name, last_name, age, height = info"
   ]
  },
  {
   "cell_type": "markdown",
   "metadata": {},
   "source": [
    "Imaginemos ahora que tenemos una lista de información de personas:"
   ]
  },
  {
   "cell_type": "code",
   "execution_count": null,
   "metadata": {},
   "outputs": [],
   "source": [
    "people_info = [('Mario', 30), ('Marco', 27), ('Rosa', 29)]\n",
    "\n",
    "for info in people_info:\n",
    "    \n",
    "    # info será una tupla, y la desempaquetamos\n",
    "    name, age = info \n",
    "\n",
    "    print('Hola soy ' + name + ' y tengo ' + str(age) + ' años')"
   ]
  },
  {
   "cell_type": "markdown",
   "metadata": {},
   "source": [
    "También podemos desempaquetar la tupla en el propio bucle:"
   ]
  },
  {
   "cell_type": "code",
   "execution_count": null,
   "metadata": {},
   "outputs": [],
   "source": [
    "people_info = [('Mario', 30), ('Marco', 27), ('Rosa', 29)]\n",
    "\n",
    "# Desempaquetamos directamente la tupla\n",
    "for name, age in people_info:\n",
    "    print('Hola soy ' + name + ' y tengo ' + str(age) + ' años')"
   ]
  }
 ],
 "metadata": {
  "kernelspec": {
   "display_name": "Python 3",
   "language": "python",
   "name": "python3"
  },
  "language_info": {
   "codemirror_mode": {
    "name": "ipython",
    "version": 3
   },
   "file_extension": ".py",
   "mimetype": "text/x-python",
   "name": "python",
   "nbconvert_exporter": "python",
   "pygments_lexer": "ipython3",
   "version": "3.11.6"
  }
 },
 "nbformat": 4,
 "nbformat_minor": 2
}
