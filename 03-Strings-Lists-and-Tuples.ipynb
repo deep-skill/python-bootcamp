{
 "cells": [
  {
   "cell_type": "markdown",
   "metadata": {},
   "source": [
    "# Strings, Listas y Tuplas\n",
    "\n",
    "## 1. Introducción a las estructuras de datos\n",
    "\n",
    "En Python, sabemos que podemos almacenar un dato en una variable. Pero que es lo que pasa si tenemos múltiples datos que queremos almacenar, para ellos podemos usar distintas **estructuras de datos** que nos proporciona Python. \n",
    "\n",
    "## 2. Definición y manipulación de strings\n",
    "\n",
    "En el primer módulo vimos que los *strings* es una cadena de caracteres donde podemos almacenar texto. En general, podemos almacenar cualquier tipo de caracter del código [ascii](https://elcodigoascii.com.ar):\n",
    "\n",
    "Veamos de qué formas se pueden utilizar los strings:"
   ]
  },
  {
   "cell_type": "code",
   "execution_count": 25,
   "metadata": {},
   "outputs": [
    {
     "name": "stdout",
     "output_type": "stream",
     "text": [
      "<class 'str'>\n",
      "<class 'str'>\n",
      "Mi nombre es: Linda Meneses\n",
      "L\n",
      "i\n",
      "a\n"
     ]
    }
   ],
   "source": [
    "# Para indicar que la variable es del tipo string, ponemos el valor en comillas ('') o doble comillas (\"\")\n",
    "first_name = 'Mario'\n",
    "last_name = \"Rosales\"\n",
    "\n",
    "print(type(first_name))\n",
    "print(type(last_name))\n",
    "\n",
    "# Suma de strings: concatenan los string\n",
    "\n",
    "full_name = first_name + ' ' + last_name\n",
    "\n",
    "print('Mi nombre es: ' + full_name)\n",
    "\n",
    "# Podemos acceder a un caracter de la siguiente manera:\n",
    "\n",
    "print(first_name[0])    # Accede al primer caracter desde la izquierda\n",
    "print(first_name[1])    # Accede al segundo caracter desde la izquierda\n",
    "\n",
    "print(first_name[-1])   # Accede al caracter de última posición\n",
    "print(first_name[-2])   # Accede al caracter de penúltima posición\n",
    "\n",
    "# NOTA: El primer caracter está en la posición 0, no en la posición 1"
   ]
  },
  {
   "cell_type": "markdown",
   "metadata": {},
   "source": [
    "Ahora veremos dos maneras de iterar sobre los caracteres de un string."
   ]
  },
  {
   "cell_type": "code",
   "execution_count": null,
   "metadata": {},
   "outputs": [],
   "source": [
    "first_name = 'Mario'\n",
    "length_first_name = len(first_name)      # len(first_name): nos retorna la longitud del string, es decir, la cantidad de caracteres que posee\n",
    "\n",
    "print('')\n",
    "print('Deletreo 1: ')\n",
    "\n",
    "for i in range(length_first_name):\n",
    "    print(first_name[i])                 # Imprime caracter por caracter. Desde la posición '0' hasta 'length-1'\n",
    "\n",
    "print('')\n",
    "print('Deletreo 2: ')\n",
    "\n",
    "# Los strings son objetos iterables:\n",
    "\n",
    "for c in first_name:\n",
    "    print(c)"
   ]
  },
  {
   "cell_type": "markdown",
   "metadata": {},
   "source": [
    "## 3. Introducción a listas\n",
    "\n",
    "Una **lista** es una estructura de datos que nos va a permitir almacenar y organizar elementos de manera ordenada. Podemos declarar una lista de la siguiente manera:"
   ]
  },
  {
   "cell_type": "code",
   "execution_count": 8,
   "metadata": {},
   "outputs": [
    {
     "name": "stdout",
     "output_type": "stream",
     "text": [
      "<class 'list'>\n",
      "[12, 15, 0, -3, 5]\n",
      "5\n",
      "\n",
      "[12, 15, 0, -3, 5, 7]\n",
      "6\n",
      "\n",
      "[12, 15, 0, -3, 5, 7, True, 'this is a string', 3.1415]\n",
      "9\n"
     ]
    }
   ],
   "source": [
    "# Una lista es declarado con corchetes ( [] )\n",
    "\n",
    "lst = [12, 15, 0, -3, 5]\n",
    "\n",
    "print(type(lst))\n",
    "print(lst)\n",
    "print(len(lst))                 # len(lst) obtenemos la cantidad de elementos de la lista\n",
    "\n",
    "print('')\n",
    "\n",
    "# Podemos añadir más elementos a la lista\n",
    "\n",
    "lst.append(7)\n",
    "\n",
    "print(lst)\n",
    "print(len(lst))\n",
    "\n",
    "print('')\n",
    "\n",
    "# Una lista puede tener como elementos de cualquier tipo\n",
    "\n",
    "lst.append(True)\n",
    "lst.append('this is a string')\n",
    "lst.append(3.1415)\n",
    "\n",
    "print(lst)\n",
    "print(len(lst))"
   ]
  },
  {
   "cell_type": "code",
   "execution_count": 28,
   "metadata": {},
   "outputs": [
    {
     "name": "stdout",
     "output_type": "stream",
     "text": [
      "2\n",
      "3\n",
      "11\n",
      "\n",
      "29\n",
      "23\n",
      "\n",
      "Elementos de la lista: \n",
      "2\n",
      "3\n",
      "5\n",
      "7\n",
      "11\n",
      "13\n",
      "17\n",
      "19\n",
      "23\n",
      "29\n"
     ]
    }
   ],
   "source": [
    "number_list = [2, 3, 5, 7, 11, 13, 17, 19, 23, 29]\n",
    "\n",
    "# Podemos acceder a sus elementos de la siguiente manera\n",
    "\n",
    "print(number_list[0]) # Primer elemento\n",
    "print(number_list[1]) # Segundo elemento\n",
    "print(number_list[4]) # Quinto elemento\n",
    "\n",
    "print('')\n",
    "\n",
    "# Índices negativos\n",
    "\n",
    "print(number_list[-1]) # Último elemento\n",
    "print(number_list[-2]) # Penúltimo elemento\n",
    "\n",
    "# Podemos imprimir todos sus elementos de la siguiente manera\n",
    "\n",
    "print('\\nElementos de la lista: ')\n",
    "\n",
    "for i in range(len(number_list)):\n",
    "    print(number_list[i])"
   ]
  },
  {
   "cell_type": "markdown",
   "metadata": {},
   "source": [
    "Las listas son objetos iterables, por lo que podemos iterar sobre ellas:"
   ]
  },
  {
   "cell_type": "code",
   "execution_count": 30,
   "metadata": {},
   "outputs": [
    {
     "name": "stdout",
     "output_type": "stream",
     "text": [
      "2\n",
      "3\n",
      "5\n",
      "7\n",
      "11\n",
      "13\n",
      "17\n",
      "19\n",
      "23\n",
      "29\n"
     ]
    }
   ],
   "source": [
    "number_list = [2, 3, 5, 7, 11, 13, 17, 19, 23, 29]\n",
    "\n",
    "for number in number_list:\n",
    "    print(number)"
   ]
  },
  {
   "cell_type": "markdown",
   "metadata": {},
   "source": [
    "Existen diferentes maneras de eliminar un elemento de una lista. \n",
    "\n",
    "El método **REMOVE**:\n",
    "\n",
    "```python\n",
    "lst.remove(element)\n",
    "```\n",
    "\n",
    "Elimina la primera aparición de `element` en la lista."
   ]
  },
  {
   "cell_type": "code",
   "execution_count": 12,
   "metadata": {},
   "outputs": [
    {
     "name": "stdout",
     "output_type": "stream",
     "text": [
      "['monkey', 'cat', 'dog', 'mouse', 'cat', 'monkey', 'cat']\n",
      "['monkey', 'dog', 'mouse', 'cat', 'monkey', 'cat']\n",
      "['monkey', 'dog', 'cat', 'monkey', 'cat']\n"
     ]
    }
   ],
   "source": [
    "animal_list = ['monkey', 'parrot', 'cat', 'dog', 'mouse', 'cat', 'monkey', 'cat']\n",
    "\n",
    "# Elimina 'parrot' de la lista\n",
    "animal_list.remove('parrot')\n",
    "print(animal_list)\n",
    "\n",
    "# Elimina 'cat' de la lista. Como hay tres elementos 'cat' en la lista, eliminará el primero de ellos\n",
    "animal_list.remove('cat')\n",
    "print(animal_list)\n",
    "\n",
    "animal_list.remove('mouse')\n",
    "print(animal_list)"
   ]
  },
  {
   "cell_type": "markdown",
   "metadata": {},
   "source": [
    "El método **POP**:\n",
    "\n",
    "```python\n",
    "lst.pop(index)\n",
    "```\n",
    "\n",
    "Elimina el elemento con índice `index`."
   ]
  },
  {
   "cell_type": "code",
   "execution_count": 29,
   "metadata": {},
   "outputs": [
    {
     "name": "stdout",
     "output_type": "stream",
     "text": [
      "['monkey', 'parrot', 'cat', 'dog', 'mouse', 'cat', 'monkey', 'cat']\n",
      "['monkey', 'parrot', 'dog', 'mouse', 'cat', 'monkey', 'cat']\n",
      "['monkey', 'parrot', 'dog', 'mouse', 'monkey', 'cat']\n",
      "['monkey', 'parrot', 'dog', 'mouse', 'monkey']\n"
     ]
    }
   ],
   "source": [
    "animal_list = ['monkey', 'parrot', 'cat', 'dog', 'mouse', 'cat', 'monkey', 'cat']\n",
    "\n",
    "print(animal_list)\n",
    "\n",
    "# Elimina el elemento de índice 2\n",
    "animal_list.pop(2)\n",
    "print(animal_list)\n",
    "\n",
    "# Elimina el elemento de índice 4\n",
    "animal_list.pop(4)\n",
    "print(animal_list)\n",
    "\n",
    "# Elimina el elemento de índice -1 (o última posición)\n",
    "animal_list.pop(-1)\n",
    "print(animal_list)"
   ]
  },
  {
   "cell_type": "markdown",
   "metadata": {},
   "source": [
    "## 4. Slicing de strings y listas\n",
    "\n",
    "El *slicing* en Python, nos permite obtener un subconjunto de elementos de una cadena o una lista. El *slicing* funciona de la siguiente manera:\n",
    "\n",
    "```python\n",
    "string[start:end] # Obtenemos una subcadena desde la posición 'start' (inclusive) \n",
    "                  # hasta la posición 'end' (exclusive)\n",
    "\n",
    "string[start:]    # Obtenemos una subcadena desde la posición 'start' (inclusive)\n",
    "                  # hasta llegar al final de la cadena (inclusive)\n",
    "\n",
    "string[:end]      # Obtenemos una subcadena desde el inicio de la cadena (inclusive)\n",
    "                  # hasta la posición 'end' (exclusive)\n",
    "```\n",
    "\n",
    "Veamos unos ejemplos:"
   ]
  },
  {
   "cell_type": "code",
   "execution_count": 2,
   "metadata": {},
   "outputs": [],
   "source": [
    "full_name = 'Mario Rosales'"
   ]
  },
  {
   "cell_type": "markdown",
   "metadata": {},
   "source": [
    "<center><img src=\"Images/slice1.jpg\" width=1000></center>"
   ]
  },
  {
   "cell_type": "code",
   "execution_count": null,
   "metadata": {},
   "outputs": [],
   "source": [
    "full_name[2:8]"
   ]
  },
  {
   "cell_type": "code",
   "execution_count": null,
   "metadata": {},
   "outputs": [],
   "source": [
    "full_name[4:11]"
   ]
  },
  {
   "cell_type": "code",
   "execution_count": null,
   "metadata": {},
   "outputs": [],
   "source": [
    "full_name[:9]"
   ]
  },
  {
   "cell_type": "code",
   "execution_count": null,
   "metadata": {},
   "outputs": [],
   "source": [
    "full_name[3:]"
   ]
  },
  {
   "cell_type": "code",
   "execution_count": null,
   "metadata": {},
   "outputs": [],
   "source": [
    "full_name[:]"
   ]
  },
  {
   "cell_type": "code",
   "execution_count": 3,
   "metadata": {},
   "outputs": [
    {
     "data": {
      "text/plain": [
       "str"
      ]
     },
     "execution_count": 3,
     "metadata": {},
     "output_type": "execute_result"
    }
   ],
   "source": [
    "# Los slicings obtenidos también son del tipo 'str'\n",
    "\n",
    "type(full_name[2:8])"
   ]
  },
  {
   "cell_type": "markdown",
   "metadata": {},
   "source": [
    "Podemos usar índices negativos:"
   ]
  },
  {
   "cell_type": "markdown",
   "metadata": {},
   "source": [
    "<center><img src='Images/slice2.jpg' width=1000></center>"
   ]
  },
  {
   "cell_type": "code",
   "execution_count": null,
   "metadata": {},
   "outputs": [],
   "source": [
    "full_name[-10:-5]"
   ]
  },
  {
   "cell_type": "code",
   "execution_count": null,
   "metadata": {},
   "outputs": [],
   "source": [
    "full_name[-6:-3]"
   ]
  },
  {
   "cell_type": "code",
   "execution_count": null,
   "metadata": {},
   "outputs": [],
   "source": [
    "full_name[:-2]"
   ]
  },
  {
   "cell_type": "code",
   "execution_count": null,
   "metadata": {},
   "outputs": [],
   "source": [
    "full_name[-7:]"
   ]
  },
  {
   "cell_type": "markdown",
   "metadata": {},
   "source": [
    "En el *slicing* definimos el inicio y final de la subcadena, pero también podemos definir un tercer parámetro:\n",
    "\n",
    "```python\n",
    "\n",
    "string[start : end : step]  # Obtenemos una subcadena desde la posición 'start' (inclusive)\n",
    "                            # hasta la posición 'end' (exclusive), pero solo las posiciones\n",
    "                            # cada 'step' pasos\n",
    "                            # Es decir, tomará las posiciones:\n",
    "                            # start, start + step, starte + 2 * step, start + 3 * step + ...\n",
    "\n",
    "string[start : : step]      # Iniciamos desde 'start' hasta el final de la cadena (inclusive)\n",
    "\n",
    "string[ : end : step]       # Iniciamos desde la posición 0 hasta la posición 'end' (exclusive)\n",
    "\n",
    "```"
   ]
  },
  {
   "cell_type": "markdown",
   "metadata": {},
   "source": [
    "<center><img src='Images/slice3.jpg' width=1000></center>"
   ]
  },
  {
   "cell_type": "code",
   "execution_count": null,
   "metadata": {},
   "outputs": [],
   "source": [
    "full_name[2:12:2]"
   ]
  },
  {
   "cell_type": "code",
   "execution_count": null,
   "metadata": {},
   "outputs": [],
   "source": [
    "full_name[-11:-1:3]"
   ]
  },
  {
   "cell_type": "code",
   "execution_count": null,
   "metadata": {},
   "outputs": [],
   "source": [
    "full_name[4::4]"
   ]
  },
  {
   "cell_type": "code",
   "execution_count": null,
   "metadata": {},
   "outputs": [],
   "source": [
    "full_name[:-5:5]"
   ]
  },
  {
   "cell_type": "markdown",
   "metadata": {},
   "source": [
    "El parámetro `step` también admite valores negativos; sin embargo, iniciaremos desde la posición 'end' (inclusive) y finalizaremos en la posición 'start':"
   ]
  },
  {
   "cell_type": "markdown",
   "metadata": {},
   "source": [
    "<center><img src='Images/slice4.jpg' width=1000></center>"
   ]
  },
  {
   "cell_type": "code",
   "execution_count": 23,
   "metadata": {},
   "outputs": [
    {
     "data": {
      "text/plain": [
       "'asoR oi'"
      ]
     },
     "execution_count": 23,
     "metadata": {},
     "output_type": "execute_result"
    }
   ],
   "source": [
    "full_name[9:2:-1]"
   ]
  },
  {
   "cell_type": "code",
   "execution_count": 22,
   "metadata": {},
   "outputs": [
    {
     "data": {
      "text/plain": [
       "'o i'"
      ]
     },
     "execution_count": 22,
     "metadata": {},
     "output_type": "execute_result"
    }
   ],
   "source": [
    "full_name[-6:-12:-2]"
   ]
  },
  {
   "cell_type": "code",
   "execution_count": 21,
   "metadata": {},
   "outputs": [
    {
     "data": {
      "text/plain": [
       "'saR'"
      ]
     },
     "execution_count": 21,
     "metadata": {},
     "output_type": "execute_result"
    }
   ],
   "source": [
    "full_name[:4:-3]"
   ]
  },
  {
   "cell_type": "code",
   "execution_count": 24,
   "metadata": {},
   "outputs": [
    {
     "data": {
      "text/plain": [
       "'lRr'"
      ]
     },
     "execution_count": 24,
     "metadata": {},
     "output_type": "execute_result"
    }
   ],
   "source": [
    "full_name[-3::-4]"
   ]
  },
  {
   "cell_type": "markdown",
   "metadata": {},
   "source": [
    "Todos los ejemplos que vimos, fueron con cadenas, pero de la misma manera, se pueden aplicar en listas:"
   ]
  },
  {
   "cell_type": "code",
   "execution_count": 7,
   "metadata": {},
   "outputs": [
    {
     "name": "stdout",
     "output_type": "stream",
     "text": [
      "[11, 20, -7]\n",
      "[20, -1, 91]\n",
      "[-1, 0, 91, 103, -17, -23]\n",
      "[91, 0, -1, -7, 20]\n"
     ]
    }
   ],
   "source": [
    "number_list = [3, 10, 11, 20, -7, -1, 0, 91, 103, -17, -23]\n",
    "\n",
    "                                    # POSICIONES\n",
    "print(number_list[2:5])             # 2, 3, 4\n",
    "print(number_list[3:8:2])           # 3, 5, 7\n",
    "print(number_list[-6:])             # -6, -5, -4, ...\n",
    "print(number_list[7:2:-1])          # 7, 6, 5, 4, 3"
   ]
  },
  {
   "cell_type": "markdown",
   "metadata": {},
   "source": [
    "## 5. Listas anidadas\n",
    "\n",
    "Vimos que una lista puede tener elementos de cualquier tipo, ya sea `int`, `str`, `float`, `bool`; pero también puede tener como elemento otra lista. Es decir, podemos crear una *lista de listas*."
   ]
  },
  {
   "cell_type": "code",
   "execution_count": 4,
   "metadata": {},
   "outputs": [],
   "source": [
    "# Lista de listas\n",
    "\n",
    "number_list = [[1, 2, 3], [4, 5, 6], [7, 8, 9]]\n"
   ]
  },
  {
   "cell_type": "code",
   "execution_count": null,
   "metadata": {},
   "outputs": [],
   "source": [
    "number_list[0]"
   ]
  },
  {
   "cell_type": "code",
   "execution_count": null,
   "metadata": {},
   "outputs": [],
   "source": [
    "number_list[1]"
   ]
  },
  {
   "cell_type": "code",
   "execution_count": null,
   "metadata": {},
   "outputs": [],
   "source": [
    "number_list[2]"
   ]
  },
  {
   "cell_type": "markdown",
   "metadata": {},
   "source": [
    "También, podemos acceder a los elementos de las listas, de la siguiente manera:"
   ]
  },
  {
   "cell_type": "code",
   "execution_count": 6,
   "metadata": {},
   "outputs": [
    {
     "data": {
      "text/plain": [
       "1"
      ]
     },
     "execution_count": 6,
     "metadata": {},
     "output_type": "execute_result"
    }
   ],
   "source": [
    "# Primer elemento de la primera lista\n",
    "\n",
    "number_list[0][0]"
   ]
  },
  {
   "cell_type": "code",
   "execution_count": 5,
   "metadata": {},
   "outputs": [
    {
     "data": {
      "text/plain": [
       "2"
      ]
     },
     "execution_count": 5,
     "metadata": {},
     "output_type": "execute_result"
    }
   ],
   "source": [
    "# Segundo elemento de la primera lista\n",
    "\n",
    "number_list[0][1]"
   ]
  },
  {
   "cell_type": "code",
   "execution_count": null,
   "metadata": {},
   "outputs": [],
   "source": [
    "# Tercer elemento de la segunda lista\n",
    "\n",
    "number_list[1][2]"
   ]
  },
  {
   "cell_type": "markdown",
   "metadata": {},
   "source": [
    "Podemos ver a una lista de listas como si se tratase de una matriz:\n",
    "\n",
    "<center><img src='Images/matriz.jpeg' width=500></center>"
   ]
  },
  {
   "cell_type": "code",
   "execution_count": 7,
   "metadata": {},
   "outputs": [],
   "source": [
    "# Python nos permite escribir las listas de esta manera\n",
    "number_list = [[1, 2, 3, 4],\n",
    "               [5, 6, 7, 8],\n",
    "               [9, 10, 11, 12]]\n"
   ]
  },
  {
   "cell_type": "code",
   "execution_count": 8,
   "metadata": {},
   "outputs": [
    {
     "data": {
      "text/plain": [
       "7"
      ]
     },
     "execution_count": 8,
     "metadata": {},
     "output_type": "execute_result"
    }
   ],
   "source": [
    "number_list[1][2]"
   ]
  },
  {
   "cell_type": "code",
   "execution_count": 9,
   "metadata": {},
   "outputs": [
    {
     "data": {
      "text/plain": [
       "9"
      ]
     },
     "execution_count": 9,
     "metadata": {},
     "output_type": "execute_result"
    }
   ],
   "source": [
    "number_list[2][0]"
   ]
  },
  {
   "cell_type": "code",
   "execution_count": 10,
   "metadata": {},
   "outputs": [
    {
     "data": {
      "text/plain": [
       "11"
      ]
     },
     "execution_count": 10,
     "metadata": {},
     "output_type": "execute_result"
    }
   ],
   "source": [
    "number_list[2][2]"
   ]
  }
 ],
 "metadata": {
  "kernelspec": {
   "display_name": "Python 3",
   "language": "python",
   "name": "python3"
  },
  "language_info": {
   "codemirror_mode": {
    "name": "ipython",
    "version": 3
   },
   "file_extension": ".py",
   "mimetype": "text/x-python",
   "name": "python",
   "nbconvert_exporter": "python",
   "pygments_lexer": "ipython3",
   "version": "3.11.6"
  }
 },
 "nbformat": 4,
 "nbformat_minor": 2
}
