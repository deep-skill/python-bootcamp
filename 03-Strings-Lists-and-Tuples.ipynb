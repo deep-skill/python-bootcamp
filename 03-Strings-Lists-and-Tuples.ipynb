{
 "cells": [
  {
   "cell_type": "markdown",
   "metadata": {},
   "source": [
    "# Strings, Listas y Tuplas\n",
    "\n",
    "## 1. Introducción a las estructuras de datos\n",
    "\n",
    "En Python, sabemos que podemos almacenar un dato en una variable. Pero que es lo que pasa si tenemos múltiples datos que queremos almacenar, para ellos podemos usar distintas **estructuras de datos** que nos proporciona Python. \n",
    "\n",
    "## 2. Definición y manipulación de strings\n",
    "\n",
    "En el primer módulo vimos que los *strings* es una cadena de caracteres donde podemos almacenar texto. En general, podemos almacenar cualquier tipo de caracter del código [ascii](https://elcodigoascii.com.ar):\n",
    "\n",
    "Veamos de qué formas se pueden utilizar los strings:"
   ]
  },
  {
   "cell_type": "code",
   "execution_count": 25,
   "metadata": {},
   "outputs": [
    {
     "name": "stdout",
     "output_type": "stream",
     "text": [
      "<class 'str'>\n",
      "<class 'str'>\n",
      "Mi nombre es: Linda Meneses\n",
      "L\n",
      "i\n",
      "a\n"
     ]
    }
   ],
   "source": [
    "# Para indicar que la variable es del tipo string, ponemos el valor en comillas ('') o doble comillas (\"\")\n",
    "first_name = 'Mario'\n",
    "last_name = \"Rosales\"\n",
    "\n",
    "print(type(first_name))\n",
    "print(type(last_name))\n",
    "\n",
    "# Suma de strings: concatenan los string\n",
    "\n",
    "full_name = first_name + ' ' + last_name\n",
    "\n",
    "print('Mi nombre es: ' + full_name)\n",
    "\n",
    "# Podemos acceder a un caracter de la siguiente manera:\n",
    "\n",
    "print(first_name[0])    # Accede al primer caracter desde la izquierda\n",
    "print(first_name[1])    # Accede al segundo caracter desde la izquierda\n",
    "\n",
    "print(first_name[-1])   # Accede al caracter de última posición\n",
    "print(first_name[-2])   # Accede al caracter de penúltima posición\n",
    "\n",
    "# NOTA: El primer caracter está en la posición 0, no en la posición 1"
   ]
  },
  {
   "cell_type": "markdown",
   "metadata": {},
   "source": [
    "Ahora veremos dos maneras de iterar sobre los caracteres de un string."
   ]
  },
  {
   "cell_type": "code",
   "execution_count": null,
   "metadata": {},
   "outputs": [],
   "source": [
    "first_name = 'Mario'\n",
    "length_first_name = len(first_name)      # len(first_name): nos retorna la longitud del string, es decir, la cantidad de caracteres que posee\n",
    "\n",
    "print('')\n",
    "print('Deletreo 1: ')\n",
    "\n",
    "for i in range(length_first_name):\n",
    "    print(first_name[i])                 # Imprime caracter por caracter. Desde la posición '0' hasta 'length-1'\n",
    "\n",
    "print('')\n",
    "print('Deletreo 2: ')\n",
    "\n",
    "# Los strings son objetos iterables:\n",
    "\n",
    "for c in first_name:\n",
    "    print(c)"
   ]
  },
  {
   "cell_type": "markdown",
   "metadata": {},
   "source": [
    "## 3. Introducción a listas\n",
    "\n",
    "Una **lista** es una estructura de datos que nos va a permitir almacenar y organizar elementos de manera ordenada. Podemos declarar una lista de la siguiente manera:"
   ]
  },
  {
   "cell_type": "code",
   "execution_count": 8,
   "metadata": {},
   "outputs": [
    {
     "name": "stdout",
     "output_type": "stream",
     "text": [
      "<class 'list'>\n",
      "[12, 15, 0, -3, 5]\n",
      "5\n",
      "\n",
      "[12, 15, 0, -3, 5, 7]\n",
      "6\n",
      "\n",
      "[12, 15, 0, -3, 5, 7, True, 'this is a string', 3.1415]\n",
      "9\n"
     ]
    }
   ],
   "source": [
    "# Una lista es declarado con corchetes ( [] )\n",
    "\n",
    "lst = [12, 15, 0, -3, 5]\n",
    "\n",
    "print(type(lst))\n",
    "print(lst)\n",
    "print(len(lst))                 # len(lst) obtenemos la cantidad de elementos de la lista\n",
    "\n",
    "print('')\n",
    "\n",
    "# Podemos añadir más elementos a la lista\n",
    "\n",
    "lst.append(7)\n",
    "\n",
    "print(lst)\n",
    "print(len(lst))\n",
    "\n",
    "print('')\n",
    "\n",
    "# Una lista puede tener como elementos de cualquier tipo\n",
    "\n",
    "lst.append(True)\n",
    "lst.append('this is a string')\n",
    "lst.append(3.1415)\n",
    "\n",
    "print(lst)\n",
    "print(len(lst))"
   ]
  },
  {
   "cell_type": "code",
   "execution_count": 28,
   "metadata": {},
   "outputs": [
    {
     "name": "stdout",
     "output_type": "stream",
     "text": [
      "2\n",
      "3\n",
      "11\n",
      "\n",
      "29\n",
      "23\n",
      "\n",
      "Elementos de la lista: \n",
      "2\n",
      "3\n",
      "5\n",
      "7\n",
      "11\n",
      "13\n",
      "17\n",
      "19\n",
      "23\n",
      "29\n"
     ]
    }
   ],
   "source": [
    "number_list = [2, 3, 5, 7, 11, 13, 17, 19, 23, 29]\n",
    "\n",
    "# Podemos acceder a sus elementos de la siguiente manera\n",
    "\n",
    "print(number_list[0]) # Primer elemento\n",
    "print(number_list[1]) # Segundo elemento\n",
    "print(number_list[4]) # Quinto elemento\n",
    "\n",
    "print('')\n",
    "\n",
    "# Índices negativos\n",
    "\n",
    "print(number_list[-1]) # Último elemento\n",
    "print(number_list[-2]) # Penúltimo elemento\n",
    "\n",
    "# Podemos imprimir todos sus elementos de la siguiente manera\n",
    "\n",
    "print('\\nElementos de la lista: ')\n",
    "\n",
    "for i in range(len(number_list)):\n",
    "    print(number_list[i])"
   ]
  },
  {
   "cell_type": "markdown",
   "metadata": {},
   "source": [
    "Las listas son objetos iterables, por lo que podemos iterar sobre ellas:"
   ]
  },
  {
   "cell_type": "code",
   "execution_count": 30,
   "metadata": {},
   "outputs": [
    {
     "name": "stdout",
     "output_type": "stream",
     "text": [
      "2\n",
      "3\n",
      "5\n",
      "7\n",
      "11\n",
      "13\n",
      "17\n",
      "19\n",
      "23\n",
      "29\n"
     ]
    }
   ],
   "source": [
    "number_list = [2, 3, 5, 7, 11, 13, 17, 19, 23, 29]\n",
    "\n",
    "for number in number_list:\n",
    "    print(number)"
   ]
  },
  {
   "cell_type": "markdown",
   "metadata": {},
   "source": [
    "Existen diferentes maneras de eliminar un elemento de una lista. \n",
    "\n",
    "El método **REMOVE**:\n",
    "\n",
    "```python\n",
    "lst.remove(element)\n",
    "```\n",
    "\n",
    "Elimina la primera aparición de `element` en la lista."
   ]
  },
  {
   "cell_type": "code",
   "execution_count": 12,
   "metadata": {},
   "outputs": [
    {
     "name": "stdout",
     "output_type": "stream",
     "text": [
      "['monkey', 'cat', 'dog', 'mouse', 'cat', 'monkey', 'cat']\n",
      "['monkey', 'dog', 'mouse', 'cat', 'monkey', 'cat']\n",
      "['monkey', 'dog', 'cat', 'monkey', 'cat']\n"
     ]
    }
   ],
   "source": [
    "animal_list = ['monkey', 'parrot', 'cat', 'dog', 'mouse', 'cat', 'monkey', 'cat']\n",
    "\n",
    "# Elimina 'parrot' de la lista\n",
    "animal_list.remove('parrot')\n",
    "print(animal_list)\n",
    "\n",
    "# Elimina 'cat' de la lista. Como hay tres elementos 'cat' en la lista, eliminará el primero de ellos\n",
    "animal_list.remove('cat')\n",
    "print(animal_list)\n",
    "\n",
    "animal_list.remove('mouse')\n",
    "print(animal_list)"
   ]
  },
  {
   "cell_type": "markdown",
   "metadata": {},
   "source": [
    "El método **POP**:\n",
    "\n",
    "```python\n",
    "lst.pop(index)\n",
    "```\n",
    "\n",
    "Elimina el elemento con índice `index`."
   ]
  },
  {
   "cell_type": "code",
   "execution_count": 29,
   "metadata": {},
   "outputs": [
    {
     "name": "stdout",
     "output_type": "stream",
     "text": [
      "['monkey', 'parrot', 'cat', 'dog', 'mouse', 'cat', 'monkey', 'cat']\n",
      "['monkey', 'parrot', 'dog', 'mouse', 'cat', 'monkey', 'cat']\n",
      "['monkey', 'parrot', 'dog', 'mouse', 'monkey', 'cat']\n",
      "['monkey', 'parrot', 'dog', 'mouse', 'monkey']\n"
     ]
    }
   ],
   "source": [
    "animal_list = ['monkey', 'parrot', 'cat', 'dog', 'mouse', 'cat', 'monkey', 'cat']\n",
    "\n",
    "print(animal_list)\n",
    "\n",
    "# Elimina el elemento de índice 2\n",
    "animal_list.pop(2)\n",
    "print(animal_list)\n",
    "\n",
    "# Elimina el elemento de índice 4\n",
    "animal_list.pop(4)\n",
    "print(animal_list)\n",
    "\n",
    "# Elimina el elemento de índice -1 (o última posición)\n",
    "animal_list.pop(-1)\n",
    "print(animal_list)"
   ]
  },
  {
   "cell_type": "markdown",
   "metadata": {},
   "source": [
    "## 4. Slicing de strings y listas\n",
    "\n",
    "El *slicing* en Python, nos permite obtener un subconjunto de elementos de una cadena o una lista. El *slicing* funciona de la siguiente manera:\n",
    "\n",
    "```python\n",
    "\n",
    "string[start:end] # Obtenemos una subcadena desde la posición 'start' (inclusive) \n",
    "                  # hasta la posición 'end' (exclusive)\n",
    "\n",
    "string[start:]    # Obtenemos una subcadena desde la posición 'start' (inclusive)\n",
    "                  # hasta llegar al final de la cadena (inclusive)\n",
    "\n",
    "string[:end]      # Obtenemos una subcadena desde el inicio de la cadena (inclusive)\n",
    "                  # hasta la posición 'end' (exclusive)\n",
    "\n",
    "```\n",
    "\n",
    "Supongamos que dado el nombre completo de una persona, queremos obtener su nombre y apellido:"
   ]
  },
  {
   "cell_type": "code",
   "execution_count": 76,
   "metadata": {},
   "outputs": [
    {
     "name": "stdout",
     "output_type": "stream",
     "text": [
      "rio\n",
      "osale\n",
      "\n",
      "o Rosales\n",
      "Mario Rosa\n",
      "Mario Rosales\n",
      "\n",
      "Mario\n",
      "Rosales\n",
      "\n",
      "sal\n",
      "io Ros\n",
      "Mario Ro\n",
      "ales\n"
     ]
    }
   ],
   "source": [
    "full_name = 'Mario Rosales'\n",
    "\n",
    "print(full_name[2:5])               # rio\n",
    "print(full_name[7:12])              # osale\n",
    "\n",
    "print('')\n",
    "\n",
    "print(full_name[4:])                # o Rosales\n",
    "print(full_name[:10])               # Mario Rosa\n",
    "print(full_name[:])                 # Mario Rosales\n",
    "\n",
    "print('')\n",
    "\n",
    "first_name = full_name[:5]          # Mario\n",
    "last_name = full_name[6:]           # Rosales\n",
    "\n",
    "print(first_name)\n",
    "print(last_name)\n",
    "\n",
    "print('')\n",
    "# También podemos usar índices negativos\n",
    "print(full_name[-5:-2])             # sal\n",
    "print(full_name[-10:-4])            # io Ros\n",
    "\n",
    "print(full_name[:-5])               # Mario Ro\n",
    "print(full_name[-4:])               # ales"
   ]
  },
  {
   "cell_type": "markdown",
   "metadata": {},
   "source": [
    "En el *slicing* definimos el inicio y final de la subcadena, pero también podemos definir un tercer parámetro:\n",
    "\n",
    "```python\n",
    "\n",
    "string[start:end:step]      # Obtenemos una subcadena desde la posición 'start' (inclusive)\n",
    "                            # hasta la posición 'end' (exclusive), pero solo las posiciones\n",
    "                            # cada 'step' pasos\n",
    "                            # Es decir, tomará las posiciones:\n",
    "                            # start, start + step, starte + 2 * step, start + 3 * step + ...\n",
    "\n",
    "```\n",
    "\n",
    "Podemos notar que `step=1` por defecto."
   ]
  },
  {
   "cell_type": "code",
   "execution_count": 73,
   "metadata": {},
   "outputs": [
    {
     "name": "stdout",
     "output_type": "stream",
     "text": [
      "roRs\n",
      "aool\n",
      "Mos\n",
      "i oae\n",
      "oR oi\n",
      "oiraM\n",
      "slsR\n",
      "selasoR oiraM\n"
     ]
    }
   ],
   "source": [
    "full_name = 'Mario Rosales'\n",
    "\n",
    "print(full_name[2:10:2])    # Inicio = 2, final = 10, step = 2\n",
    "                            # índices que tomará: 2, 4, 6, 8\n",
    "\n",
    "print(full_name[1:12:3])    # Inicio = 1, final = 12, step = 3\n",
    "                            # índices que tomará: 1, 4, 7, 10\n",
    "\n",
    "# Desde el inicio\n",
    "print(full_name[:10:4])     # Inicio = ?, final = 10, step = 4\n",
    "                            # índices que tomará: 0, 4, 8\n",
    "\n",
    "# Hasta el final\n",
    "print(full_name[3::2])      # Inicio = 3, final = ?, step = 2\n",
    "                            # índices que tomará: 3, 5, 7, 9, 11\n",
    "\n",
    "# El step puede ser negativo. En ese caso, la posición inicial tiene que ser mayor a la posición final\n",
    "print(full_name[7:2:-1])    # Inicio = 7, final = 2, step = -1\n",
    "                            # índices que tomará: 7, 6, 5, 4, 3\n",
    "\n",
    "# Cuando el 'step' es negativo y no especificamos una posición final, entonces la subcadena irá\n",
    "# hasta la posición inicial\n",
    "print(full_name[4::-1])     # Inicio = 4, final = ?, step = -1\n",
    "                            # índices que tomará: 4, 3, 2, 1, 0\n",
    "\n",
    "# De forma análoga, si el 'step' es negativo y no es especificado la posición inicial,\n",
    "# entonces la subcadena irá desde la posición inicial\n",
    "print(full_name[:5:-2])     # Inicio = ?, final = 5, step = -2\n",
    "                            # índices que tomará: 12, 10, 8, 6\n",
    "\n",
    "print(full_name[::-1])      # Inicio = ?, final = ?, step = -1\n",
    "                            # índices que tomará: 12, 11, 10, 9, ..., 0"
   ]
  },
  {
   "cell_type": "markdown",
   "metadata": {},
   "source": [
    "Como podemos observar, dependiendo del valor de `step` (sea negativo o positivo), cuando no especificamos la `start`, Python le asignará el valor de la posición inicial o final a conveniencia. De igual manera, sucede cuando no especificamos `end`. Además, con un `step` de valor negativo, obtenemos subcadenas **revertidas**."
   ]
  },
  {
   "cell_type": "markdown",
   "metadata": {},
   "source": [
    "## 5. Listas anidadas\n",
    "\n"
   ]
  }
 ],
 "metadata": {
  "kernelspec": {
   "display_name": "Python 3",
   "language": "python",
   "name": "python3"
  },
  "language_info": {
   "codemirror_mode": {
    "name": "ipython",
    "version": 3
   },
   "file_extension": ".py",
   "mimetype": "text/x-python",
   "name": "python",
   "nbconvert_exporter": "python",
   "pygments_lexer": "ipython3",
   "version": "3.11.6"
  }
 },
 "nbformat": 4,
 "nbformat_minor": 2
}
