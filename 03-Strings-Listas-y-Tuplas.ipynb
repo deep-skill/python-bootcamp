{
 "cells": [
  {
   "cell_type": "markdown",
   "metadata": {},
   "source": [
    "# Strings, Listas y Tuplas\n",
    "\n",
    "## 1. Introducción a las estructuras de datos\n",
    "\n",
    "En Python, sabemos que podemos almacenar un dato en una variable. Pero que es lo que pasa si tenemos múltiples datos que queremos almacenar, para ellos podemos usar distintas **estructuras de datos** que nos proporciona Python. \n",
    "\n",
    "## 2. Definición y manipulación de strings\n",
    "\n",
    "En el primer módulo vimos que los *strings* es una cadena de caracteres donde podemos almacenar texto. "
   ]
  }
 ],
 "metadata": {
  "kernelspec": {
   "display_name": "Python 3",
   "language": "python",
   "name": "python3"
  },
  "language_info": {
   "name": "python",
   "version": "3.11.6"
  }
 },
 "nbformat": 4,
 "nbformat_minor": 2
}
