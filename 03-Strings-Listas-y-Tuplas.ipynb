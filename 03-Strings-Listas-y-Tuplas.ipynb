{
 "cells": [
  {
   "cell_type": "markdown",
   "metadata": {},
   "source": [
    "# Strings, Listas y Tuplas\n",
    "\n",
    "## 1. Introducción a las estructuras de datos\n",
    "\n",
    "En Python, sabemos que podemos almacenar un dato en una variable. Pero que es lo que pasa si tenemos múltiples datos que queremos almacenar, para ellos podemos usar distintas **estructuras de datos** que nos proporciona Python. \n",
    "\n",
    "## 2. Definición y manipulación de strings\n",
    "\n",
    "En el primer módulo vimos que los *strings* es una cadena de caracteres donde podemos almacenar texto. En general, podemos almacenar cualquier tipo de caracter del código [ascii](https://elcodigoascii.com.ar):\n",
    "\n",
    "Veamos de qué formas se pueden utilizar los strings:"
   ]
  },
  {
   "cell_type": "code",
   "execution_count": null,
   "metadata": {},
   "outputs": [],
   "source": [
    "# Para indicar que la variable es del tipo string, ponemos el valor en comillas ('') o doble comillas (\"\")\n",
    "first_name = 'Linda'\n",
    "last_name = \"Meneses\"\n",
    "\n",
    "print(type(first_name))\n",
    "print(type(last_name))\n",
    "\n",
    "# Suma de strings: concatenan los string\n",
    "\n",
    "full_name = first_name + ' ' + last_name\n",
    "\n",
    "print('Mi nombre es: ' + full_name)\n",
    "\n",
    "# Podemos acceder a un caracter de la siguiente manera:\n",
    "\n",
    "print(first_name[0])    # Accede al primer caracter desde la izquierda\n",
    "print(first_name[1])    # Accede al segundo caracter desde la izquierda\n",
    "\n",
    "# NOTA: El primer caracter está en la posición 0, no en la posición 1"
   ]
  },
  {
   "cell_type": "code",
   "execution_count": 16,
   "metadata": {},
   "outputs": [
    {
     "name": "stdout",
     "output_type": "stream",
     "text": [
      "nda\n",
      "enese\n",
      "\n",
      "a Meneses\n",
      "Linda Mene\n",
      "\n",
      "Linda\n",
      "Meneses\n"
     ]
    }
   ],
   "source": [
    "# SUBCADENAS\n",
    "\n",
    "full_name = 'Linda Meneses'\n",
    "\n",
    "# string[start : end] -> Obtendremos un substring desde la posición 'start' (inclusive) hasta la posición 'end' (exclusive)\n",
    "\n",
    "\n",
    "print(full_name[2:5])\n",
    "print(full_name[7:12])\n",
    "\n",
    "print('')\n",
    "\n",
    "# Si no indicamos la posición 'end', obtendremos el substring desde 'start' hasta la última posición\n",
    "print(full_name[4:])\n",
    "\n",
    "# Si no indicamos la posición 'start', obtendremos el substring desde la primera posición hasta la posición 'end'\n",
    "print(full_name[:10])\n",
    "\n",
    "print('')\n",
    "\n",
    "first_name = full_name[:5]\n",
    "last_name = full_name[6:]\n",
    "\n",
    "print(first_name)\n",
    "print(last_name)"
   ]
  },
  {
   "cell_type": "markdown",
   "metadata": {},
   "source": [
    "Ahora veremos dos maneras de iterar sobre los caracteres de un string."
   ]
  },
  {
   "cell_type": "code",
   "execution_count": null,
   "metadata": {},
   "outputs": [],
   "source": [
    "first_name = 'Linda'\n",
    "length_first_name = len(first_name)      # len(first_name): nos retorna la longitud del string, es decir, la cantidad de caracteres que posee\n",
    "\n",
    "print('')\n",
    "print('Deletreo 1: ')\n",
    "\n",
    "for i in range(length_first_name):\n",
    "    print(first_name[i])                 # Imprime caracter por caracter. Desde la posición '0' hasta 'length-1'\n",
    "\n",
    "print('')\n",
    "print('Deletreo 2: ')\n",
    "\n",
    "# Los strings son objetos iterables:\n",
    "\n",
    "for c in first_name:\n",
    "    print(c)"
   ]
  },
  {
   "cell_type": "markdown",
   "metadata": {},
   "source": [
    "## 3. Introducción a listas\n",
    "\n"
   ]
  }
 ],
 "metadata": {
  "kernelspec": {
   "display_name": "Python 3",
   "language": "python",
   "name": "python3"
  },
  "language_info": {
   "codemirror_mode": {
    "name": "ipython",
    "version": 3
   },
   "file_extension": ".py",
   "mimetype": "text/x-python",
   "name": "python",
   "nbconvert_exporter": "python",
   "pygments_lexer": "ipython3",
   "version": "3.11.6"
  }
 },
 "nbformat": 4,
 "nbformat_minor": 2
}
