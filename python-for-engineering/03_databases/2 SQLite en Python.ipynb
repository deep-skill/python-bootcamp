{
 "cells": [
  {
   "cell_type": "markdown",
   "metadata": {},
   "source": [
    "# SQLite en Python\n",
    "\n",
    "**SQL (Structured Query Language)** es un lenguaje estándar utilizado para interactuar con bases de datos relacionales. Fue desarrollado en la década de 1970 por IBM, basado en el modelo relacional propuesto por Edgar F. Codd. Desde entonces, ha evolucionado para convertirse en el lenguaje estándar de para la gestión de datos en sistemas de bases de datos relacionales.\n",
    "\n",
    "SQL se utiliza para realizar diversas operaciones en base de datos, por ejemplo:\n",
    "\n",
    "- Consultas de datos\n",
    "- Inserción de datos\n",
    "- Actualización de datos\n",
    "- Eliminación de datos\n",
    "- Definición de esquema\n",
    "- Control de acceso\n",
    "\n",
    "Si bien es cierto SQL es el lenguaje que nos permite realizar operaciones sobre las bases de datos pero para poder interactuar con una base de datos necesitamos de un **Sistema de Gestión de Base de Datos**. El SGBD (o DBMS por sus siglas en inglés, Database Management System) es un software diseñado para gestionar y administrar bases de datos. SQL es el lenguaje estándar utilizado para interactuar con la mayoría de los sistemas de gestión de bases de datos relacionales.\n",
    "\n",
    "Sin un SGBD, sería extremadamente difícil o prácticamente imposible interactuar con bases de datos utilizando SQL. Los SGBD proporcionan un entorno controlado y seguro para el almacenamiento y la gestión de datos, así como las herramientas necesarias para realizar operaciones CRUD (Crear, Leer, Actualizar, Eliminar) y consultas SQL de manera eficiente y confiable. \n",
    "\n",
    "En el mercado, existen muchos ejemplos de SGBD, algunos ejemplos son:\n",
    "\n",
    "1. [MySQL](https://www.mysql.com)\n",
    "2. [PostgreSQL](https://www.postgresql.org)\n",
    "3. [SQLite](https://www.sqlite.org)\n",
    "4. [Oracle Database](https://www.oracle.com/database/)\n",
    "5. [SQL Server](https://www.microsoft.com/es-es/sql-server/sql-server-downloads)\n",
    "\n",
    "Para este curso, usaremos la SGBD SQLite.\n",
    "\n",
    "SQLite es un sistema de gestión de bases de datos relacional de código abierto, ligero, autónomo y sin servidor. A diferencia de los sistemas de gestión de bases de datos tradicionales como MySQL o PostgreSQL, SQLite no funciona como un servidor independiente; en cambio, la biblioteca SQLite se integra directamente en la aplicación que la utiliza, lo que significa que no requiere una configuración o administración de servidor separada.\n",
    "\n",
    "Podemos interactuar directamente con las bases de datos SQLite con su interfaz proporcionada. Existe otra alternativa la cual es conectarnos a una base de datos desde Python. Muchas SGBD cuentan con librerías en Python para poder conectarnos a sus bases de datos. Esto nos ofrece una gran ventaja, pues podemos automatizar procesas como la inserción, eliminación y actualización de datos en vez de hacerlo manualmente desde la interfaz de la SGBD. Por ello, usaremos la librería integrada `sqlite3` de Python para poder conectarnos a una base de datos SQLite."
   ]
  },
  {
   "cell_type": "code",
   "execution_count": 1,
   "metadata": {},
   "outputs": [],
   "source": [
    "import sqlite3"
   ]
  },
  {
   "cell_type": "code",
   "execution_count": null,
   "metadata": {},
   "outputs": [],
   "source": []
  }
 ],
 "metadata": {
  "kernelspec": {
   "display_name": ".env",
   "language": "python",
   "name": "python3"
  },
  "language_info": {
   "codemirror_mode": {
    "name": "ipython",
    "version": 3
   },
   "file_extension": ".py",
   "mimetype": "text/x-python",
   "name": "python",
   "nbconvert_exporter": "python",
   "pygments_lexer": "ipython3",
   "version": "3.11.7"
  }
 },
 "nbformat": 4,
 "nbformat_minor": 2
}
