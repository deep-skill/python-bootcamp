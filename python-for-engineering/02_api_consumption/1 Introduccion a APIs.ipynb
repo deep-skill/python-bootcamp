{
 "cells": [
  {
   "cell_type": "markdown",
   "metadata": {},
   "source": [
    "# Introducción a APIs (Application Programming Interface)\n",
    "\n",
    "Una API (\"Application Programming Interface\" que significa \"Interfaz de programación de aplicaciones\"), es un conjunto de reglas, protocolos y herramientas que permiten la comunicación entre diferentes software y aplicaciones. Podríamos decir que una API nos sirve como \"puente\" entre distintas aplicaciones que permite la comunicación entre ambas, compartiendo tanto datos como funcionalidades de manera segura y controlada.\n",
    "\n",
    "Supongamos que nuestra aplicación necesita llevar un GPS integrado, mapeando las distintas calles y lugares de alguna ciudad, país o incluso de todo el mundo, sería un trabajo extremadamente costoso y difícil crear algo así desde cero. Más bien, podemos usar la API de Google Maps u otro servicio similar que ya tienen todo ese apartado implementado, y nosotros llamaríamos a sus funcionalidades para integrarlo a nuestra aplicación.\n",
    "\n",
    "Las APIs propoporcionan una capa de abstracción que oculta la complejidad interna del sistema, permitiendo que podamos interactuar con él de manera más simple y eficiente. En otras palabras, en el caso de ejemplo de Google Maps, no tendremos que tener conocimiento de cómo está implementado el sistema, solo llamaremos a funcionalidades proporcionadas por la API.\n",
    "\n",
    "Las aplicaciones pueden contar con APIs públicas o privadas. Por lo general, para poder hacer consultas sobre APIs de aplicaciones muy conocidas como Google Maps API, Open AI API (podemos usar sus modelos para integrarlos a nuestra aplicación), etc tienen un costo por cierta cantidad de consultas. "
   ]
  },
  {
   "cell_type": "markdown",
   "metadata": {},
   "source": [
    "<img src=\"images/GoogleMapApi.jpg\" alt=\"Notas\" width=\"500\" center/>\n"
   ]
  },
  {
   "cell_type": "markdown",
   "metadata": {},
   "source": [
    "<img src=\"images/openaiapi.png\" alt=\"Notas\" width=\"500\" center/>\n"
   ]
  }
 ],
 "metadata": {
  "kernelspec": {
   "display_name": ".env",
   "language": "python",
   "name": "python3"
  },
  "language_info": {
   "codemirror_mode": {
    "name": "ipython",
    "version": 3
   },
   "file_extension": ".py",
   "mimetype": "text/x-python",
   "name": "python",
   "nbconvert_exporter": "python",
   "pygments_lexer": "ipython3",
   "version": "3.11.7"
  }
 },
 "nbformat": 4,
 "nbformat_minor": 2
}
