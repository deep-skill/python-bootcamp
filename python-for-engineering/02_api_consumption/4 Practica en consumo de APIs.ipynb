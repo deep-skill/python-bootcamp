{
 "cells": [
  {
   "cell_type": "markdown",
   "metadata": {},
   "source": [
    "# OpenWeatherMap API\n",
    "\n",
    "OpenWeatherMap API (https://openweathermap.org) es una API de servicio meteorológico que proporciona datos climáticos y meteorológicos en tiempo real y pronósticos para ubicaciones específicas en todo el mundo.\n",
    "\n",
    "Veamos la manera de hacer solicitudes en esta API:"
   ]
  },
  {
   "cell_type": "code",
   "execution_count": null,
   "metadata": {},
   "outputs": [],
   "source": [
    "import requests\n",
    "\n",
    "# Esta es la URL base donde ejecutaremos nuestra HTTP request, pero necesitamos pasarle varios parámetros para su ejecución\n",
    "openweather_url = 'http://api.openweathermap.org/data/2.5/weather'\n",
    "\n",
    "# API Key\n",
    "# Muchas APIs, necesitan de una clave de acceso para hacer solicitudes sobre ellas\n",
    "# Puedes generar tu propia clave creándota un usuario en la página de OpenWatherMap: https://openweathermap.org\n",
    "# Por lo general, demora un par de horas la activación de esta clave\n",
    "\n",
    "# api_key = 'tu-clave-api'\n",
    "api_key = 'cc78a568a665f8114e81464af69e4410'\n",
    "\n",
    "# Especificamos ciudad y codigo del pais:\n",
    "city_country = 'Lima,PE'\n",
    "\n",
    "# Guardamos los parametros en un diccionario\n",
    "# Cada API tiene sus propias campos de parámetros\n",
    "# En este caso:\n",
    "# appid : clave de la API generada\n",
    "# q : ciudad y pais\n",
    "parameters = {'appid' : api_key, 'q' : city_country}\n",
    "\n",
    "\n",
    "# Finalmente, hacemos una solicitud con el método get a la API\n",
    "response = requests.get(openweather_url, params=parameters)\n",
    "response\n"
   ]
  },
  {
   "cell_type": "markdown",
   "metadata": {},
   "source": [
    "Estado de la respuesta:"
   ]
  },
  {
   "cell_type": "code",
   "execution_count": null,
   "metadata": {},
   "outputs": [],
   "source": [
    "response.ok"
   ]
  },
  {
   "cell_type": "code",
   "execution_count": null,
   "metadata": {},
   "outputs": [],
   "source": [
    "response.json()"
   ]
  },
  {
   "cell_type": "code",
   "execution_count": null,
   "metadata": {},
   "outputs": [],
   "source": [
    "# Observando el resultado en formato JSON, podemos ver que la temperatura se encuentra en el campo 'main'\n",
    "# También obtenemos una breve descripción del clima en el campo 'weather'\n",
    "\n",
    "weather_results = response.json()\n",
    "\n",
    "print(weather_results['main']['temp'])\n",
    "print(weather_results['weather'][0]['description'])"
   ]
  },
  {
   "cell_type": "markdown",
   "metadata": {},
   "source": [
    "Podemos empaquetar toda la lógica en una función para su fácil reutilización:"
   ]
  },
  {
   "cell_type": "code",
   "execution_count": null,
   "metadata": {},
   "outputs": [],
   "source": [
    "def weather_report(city, country):\n",
    "    openweather_url = 'http://api.openweathermap.org/data/2.5/weather'\n",
    "    \n",
    "    # api_key = 'tu-clave-api'\n",
    "    api_key = 'cc78a568a665f8114e81464af69e4410'\n",
    "    city_country = city + ',' + country\n",
    "    \n",
    "    parameters = {'appid' : api_key, 'q' : city_country}\n",
    "\n",
    "    response = requests.get(openweather_url, params=parameters)\n",
    "\n",
    "    if response.ok:\n",
    "        weather_results = response.json()\n",
    "\n",
    "        print('Temperatura: ' + str(weather_results['main']['temp']) + ' Kelvin')\n",
    "        print('Descripción: ' + str(weather_results['weather'][0]['description']))\n",
    "    else:\n",
    "        print('Error al obtener los datos del clima')"
   ]
  },
  {
   "cell_type": "code",
   "execution_count": null,
   "metadata": {},
   "outputs": [],
   "source": [
    "weather_report('Lima', 'PE')"
   ]
  },
  {
   "cell_type": "code",
   "execution_count": null,
   "metadata": {},
   "outputs": [],
   "source": [
    "weather_report('Huancayo', 'PE')"
   ]
  },
  {
   "cell_type": "code",
   "execution_count": null,
   "metadata": {},
   "outputs": [],
   "source": [
    "weather_report('Trujillo', 'PE')"
   ]
  }
 ],
 "metadata": {
  "kernelspec": {
   "display_name": "Python 3 (ipykernel)",
   "language": "python",
   "name": "python3"
  },
  "language_info": {
   "codemirror_mode": {
    "name": "ipython",
    "version": 3
   },
   "file_extension": ".py",
   "mimetype": "text/x-python",
   "name": "python",
   "nbconvert_exporter": "python",
   "pygments_lexer": "ipython3",
   "version": "3.12.3"
  }
 },
 "nbformat": 4,
 "nbformat_minor": 4
}
