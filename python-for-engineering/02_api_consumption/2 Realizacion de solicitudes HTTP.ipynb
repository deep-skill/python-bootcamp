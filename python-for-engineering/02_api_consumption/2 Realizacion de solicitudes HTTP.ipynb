{
 "cells": [
  {
   "cell_type": "markdown",
   "metadata": {},
   "source": [
    "# Realización de solicitud HTTP con Python\n",
    "\n",
    "La comunicación con la API de una aplicación, sucede a través de *requests (solicitudes)* que le hacemos a la aplicación y se nos retorna una *respuesta*, ya sea una funcionalidad o data de la aplicación. En esta sección, aprenderemos a realizar *HTTP requests*.\n",
    "\n",
    "La librería `requests` de Python nos permitirá realizar consultas a la API de las aplicaciones. Veamos un ejemplo, realizaremos una consulta a la siguiente web: https://xkcd.com, que contiene cómics de distintos tópicos. Concretamente haremos una consulta sobre el siguiente cómic con temática de Python: https://xkcd.com/353/."
   ]
  },
  {
   "cell_type": "code",
   "execution_count": null,
   "metadata": {},
   "outputs": [],
   "source": [
    "pip install requests"
   ]
  },
  {
   "cell_type": "code",
   "execution_count": null,
   "metadata": {},
   "outputs": [],
   "source": [
    "import requests\n",
    "\n",
    "# Para hacer un request llamamos a la función get y como parámetro le pasamos la URL\n",
    "response = requests.get('https://xkcd.com/353/')\n",
    "\n",
    "response"
   ]
  },
  {
   "cell_type": "markdown",
   "metadata": {},
   "source": [
    "Observamos que `response` es un objeto de la clase `Response`, además tiene un número. Esta variable es la respuesta que nos retornó la API a la solicitud que le hicimos. El número de la respuesta es un código de su estado. Si el código es 200 entonces la *request* se ha realizado con éxito. Aquí tienes más información acerca de los códigos y sus significados: https://restfulapi.net/http-status-codes/."
   ]
  },
  {
   "cell_type": "markdown",
   "metadata": {},
   "source": [
    "Veamos todos los atributos que contiene el objeto `response`:"
   ]
  },
  {
   "cell_type": "code",
   "execution_count": null,
   "metadata": {},
   "outputs": [],
   "source": [
    "dir(response)"
   ]
  },
  {
   "cell_type": "code",
   "execution_count": null,
   "metadata": {},
   "outputs": [],
   "source": [
    "# Si imprimimos el atributo texto, obtendremos el código fuente (HTML) de la página que consultamos\n",
    "response.text"
   ]
  },
  {
   "cell_type": "markdown",
   "metadata": {},
   "source": [
    "Vemos que en esa misma página, abajo de la imagen del cómic, se nos proporciona el link de la imagen: https://imgs.xkcd.com/comics/python.png. Realizaremos una solicitud a esa URL para obtener su contenido (la imagen)."
   ]
  },
  {
   "cell_type": "code",
   "execution_count": null,
   "metadata": {},
   "outputs": [],
   "source": [
    "response = requests.get(\"https://imgs.xkcd.com/comics/python.png\")\n",
    "response"
   ]
  },
  {
   "cell_type": "markdown",
   "metadata": {},
   "source": [
    "Si el código del estado de la respuesta es 200, entonces la solicitud se realizó con éxito. Otra manera de saber si la solicitud se realizó con éxito, es accediendo a su atributo `ok`:"
   ]
  },
  {
   "cell_type": "code",
   "execution_count": null,
   "metadata": {},
   "outputs": [],
   "source": [
    "response.ok"
   ]
  },
  {
   "cell_type": "markdown",
   "metadata": {},
   "source": [
    "Ahora accederemos al contenido de la respuesta:"
   ]
  },
  {
   "cell_type": "code",
   "execution_count": null,
   "metadata": {},
   "outputs": [],
   "source": [
    "response.content"
   ]
  },
  {
   "cell_type": "markdown",
   "metadata": {},
   "source": [
    "lo que obtendremos son los bytes de la imagen. Para poder visualizarlo, escribiremos estos bytes dentro de un archivo PNG:"
   ]
  },
  {
   "cell_type": "code",
   "execution_count": null,
   "metadata": {},
   "outputs": [],
   "source": [
    "# El modo 'wb' indica que escribiremos Bytes en vez de texto\n",
    "\n",
    "with open('comic_python.png', 'wb') as comic_file:\n",
    "    comic_file.write(response.content)"
   ]
  },
  {
   "cell_type": "markdown",
   "metadata": {},
   "source": [
    "Y se generará una imagen PNG con el nombre `python_comic.png` en la misma carpeta de este jupyter notebook."
   ]
  }
 ],
 "metadata": {
  "kernelspec": {
   "display_name": "Python 3 (ipykernel)",
   "language": "python",
   "name": "python3"
  },
  "language_info": {
   "codemirror_mode": {
    "name": "ipython",
    "version": 3
   },
   "file_extension": ".py",
   "mimetype": "text/x-python",
   "name": "python",
   "nbconvert_exporter": "python",
   "pygments_lexer": "ipython3",
   "version": "3.12.3"
  }
 },
 "nbformat": 4,
 "nbformat_minor": 4
}
