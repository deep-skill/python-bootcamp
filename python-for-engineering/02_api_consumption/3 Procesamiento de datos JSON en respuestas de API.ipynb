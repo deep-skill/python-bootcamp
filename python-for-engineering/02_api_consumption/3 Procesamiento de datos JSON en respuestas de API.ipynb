{
 "cells": [
  {
   "cell_type": "markdown",
   "metadata": {},
   "source": [
    "# Procesamiento de datos JSON en respuestas de API"
   ]
  },
  {
   "cell_type": "markdown",
   "metadata": {},
   "source": [
    "## Parámetros de una petición\n",
    "\n",
    "Ahora, usaremos el API de la página https://httpbin.org para hacer *HTTP requests*. Esta página es un servicio de *HTTP requests & response*, es decir, podremos testear en la API de este servicio distintos tipos de solicitudes y ver los resultados que obtenemos.\n",
    "\n",
    "Ejecutaremos la siguiente petición:"
   ]
  },
  {
   "cell_type": "code",
   "execution_count": null,
   "metadata": {},
   "outputs": [],
   "source": [
    "import requests\n",
    "\n",
    "response = requests.get(\"https://httpbin.org/get\")\n",
    "response"
   ]
  },
  {
   "cell_type": "markdown",
   "metadata": {},
   "source": [
    "La URL puede contener distintos parámetros y estos van después de un signo de interrogación (`?`) y son divididos por un asperdam (`&`):"
   ]
  },
  {
   "cell_type": "code",
   "execution_count": null,
   "metadata": {},
   "outputs": [],
   "source": [
    "# En este caso contamos con tres parámetros: 'page', 'parameter1' y 'parameter2'\n",
    "\n",
    "response = requests.get(\"https://httpbin.org/get?page=7&parameter1=10&parameter2=15\")\n",
    "response"
   ]
  },
  {
   "cell_type": "markdown",
   "metadata": {},
   "source": [
    "Otra manera de pasar parámetros al request, es usando diccionarios de Python, de la siguiente manera:"
   ]
  },
  {
   "cell_type": "code",
   "execution_count": null,
   "metadata": {},
   "outputs": [],
   "source": [
    "parameters = {'page' : 7, 'parameter1' : 10, 'parameter2' : 15}\n",
    "response = requests.get(\"https://httpbin.org/get\", params=parameters)\n",
    "response"
   ]
  },
  {
   "cell_type": "markdown",
   "metadata": {},
   "source": [
    "Y si accedemos a `response.text` vemos que nos retorna un texto muy parecido a un diccionario en Python. El texto de la respuesta que se nos está proporcionando, es del tipo JSON. Este formato nos permite estructurar la información en relaciones de llaves y valores (por ello su estructura es muy similar a la de un diccionario de Python)."
   ]
  },
  {
   "cell_type": "code",
   "execution_count": null,
   "metadata": {},
   "outputs": [],
   "source": [
    "print(response.text)"
   ]
  },
  {
   "cell_type": "markdown",
   "metadata": {},
   "source": [
    "`response.text` es del tipo `str` en Python. "
   ]
  },
  {
   "cell_type": "code",
   "execution_count": null,
   "metadata": {},
   "outputs": [],
   "source": [
    "type(response.text)"
   ]
  },
  {
   "cell_type": "markdown",
   "metadata": {},
   "source": [
    "Para obtener un diccionario en Python a partir de este archivo JSON, llamamos al método `.json()`:"
   ]
  },
  {
   "cell_type": "code",
   "execution_count": null,
   "metadata": {},
   "outputs": [],
   "source": [
    "response_dict = response.json()\n",
    "response_dict"
   ]
  },
  {
   "cell_type": "code",
   "execution_count": null,
   "metadata": {},
   "outputs": [],
   "source": [
    "type(response_dict)"
   ]
  },
  {
   "cell_type": "code",
   "execution_count": null,
   "metadata": {},
   "outputs": [],
   "source": [
    "# Parámtros\n",
    "response_dict['args']"
   ]
  },
  {
   "cell_type": "markdown",
   "metadata": {},
   "source": [
    "Observamos que en la llave `args` aparecen los parámetros que le pasamos a la petición.\n",
    "\n",
    "También podemos obtener la URL de la petición con los parámetros incorporados en ella."
   ]
  },
  {
   "cell_type": "code",
   "execution_count": null,
   "metadata": {},
   "outputs": [],
   "source": [
    "response.url"
   ]
  },
  {
   "cell_type": "markdown",
   "metadata": {},
   "source": [
    "## Método POST\n",
    "\n",
    "Con el método `get` aprendimos a obtener o extraer información del servidor web. Ahora con el método `post` podemos envíar datos al servidor. En aplicaciones web nos serviría para enviar formularios o enviar datos a través de una solicitud **HTTP post**."
   ]
  },
  {
   "cell_type": "code",
   "execution_count": null,
   "metadata": {},
   "outputs": [],
   "source": [
    "parameters = {'email' : 'fake_email123@gmail.com', 'password' : 'pass123pass'}\n",
    "\n",
    "response = requests.post('https://httpbin.org/post', data=parameters)\n",
    "response"
   ]
  },
  {
   "cell_type": "code",
   "execution_count": null,
   "metadata": {},
   "outputs": [],
   "source": [
    "# Vemos los datos en la llave 'form'\n",
    "\n",
    "print(response.text)"
   ]
  },
  {
   "cell_type": "code",
   "execution_count": null,
   "metadata": {},
   "outputs": [],
   "source": [
    "response_dict = response.json()\n",
    "response_dict['form']"
   ]
  }
 ],
 "metadata": {
  "kernelspec": {
   "display_name": "Python 3 (ipykernel)",
   "language": "python",
   "name": "python3"
  },
  "language_info": {
   "codemirror_mode": {
    "name": "ipython",
    "version": 3
   },
   "file_extension": ".py",
   "mimetype": "text/x-python",
   "name": "python",
   "nbconvert_exporter": "python",
   "pygments_lexer": "ipython3",
   "version": "3.12.3"
  }
 },
 "nbformat": 4,
 "nbformat_minor": 4
}
