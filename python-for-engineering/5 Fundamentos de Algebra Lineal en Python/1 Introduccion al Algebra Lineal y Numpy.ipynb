{
 "cells": [
  {
   "cell_type": "markdown",
   "metadata": {},
   "source": [
    "# Introducción al Álgebra Lineal\n",
    "\n",
    "El álgebra lineal es una rama de las matemáticas que se enfoca en el estudio de vectores, espacios vectoriales, transformaciones lineales y matrices, así como en las propiedades que surgen de estas estructuras. El álgebra lineal tiene aplicaciones en diversas áreas como las matemáticas aplicadas, física, ingeniería, economía, informática, etc. \n",
    "\n",
    "Muchos conceptos de programación están intrínsicamente ligados al álgebra lineal. Por ejemplo, comúnmente los datos se representan en vectores y matrices. En algunas ramas de las ciencias de la computación como *procesamiento de imágenes* y *aprendizaje automático* es esencial tener conocimiento de álgebra lineal, pues toda la teoría matemática de ambos campos está fundada sobre esta rama de las matemáticas.\n",
    "\n",
    "En esta capítulo de curso, aprenderemos a llevar muchos conceptos del álgebra lineal a la programación (en Python específicamente)."
   ]
  },
  {
   "cell_type": "markdown",
   "metadata": {},
   "source": [
    "Una matriz general está definida como:\n",
    "\n",
    "$$A = \n",
    "\\begin{bmatrix}\n",
    "a_{11} & a_{12} & \\cdots & a_{1m} \\\\\n",
    "a_{21} & a_{22} & \\cdots & a_{2m} \\\\\n",
    "\\vdots & \\vdots & \\ddots & \\vdots \\\\\n",
    "a_{n1} & a_{n2} & \\cdots & a_{nm} \n",
    "\\end{bmatrix}\n",
    "\\in \\mathbb{R}^{n \\times m}$$"
   ]
  },
  {
   "cell_type": "markdown",
   "metadata": {},
   "source": [
    "En Python no existe algún tipo de dato que represente a una matriz. Sin embargo, podemos crear una lista de listas como una matriz.\n",
    "\n",
    "Representaremos las siguientes matrices en Python:\n",
    "\n",
    "$$A = \n",
    "\\begin{bmatrix}\n",
    "3 & 5 & 2 & 7 \\\\\n",
    "1 & 9 & 4 & 10 \\\\\n",
    "6 & 11 & 8 & 12 \n",
    "\\end{bmatrix}$$\n",
    "\n",
    "$$B = \n",
    "\\begin{bmatrix}\n",
    "4 & 10 \\\\\n",
    "1 & 3 \\\\\n",
    "5 & 11 \\\\\n",
    "7 & 8  \n",
    "\\end{bmatrix}$$"
   ]
  },
  {
   "cell_type": "code",
   "execution_count": 10,
   "metadata": {},
   "outputs": [
    {
     "data": {
      "text/plain": [
       "[[3, 5, 2, 7], [1, 9, 4, 10], [6, 11, 8, 12]]"
      ]
     },
     "execution_count": 10,
     "metadata": {},
     "output_type": "execute_result"
    }
   ],
   "source": [
    "A = [[3, 5, 2, 7], \n",
    "     [1, 9, 4, 10],\n",
    "     [6, 11, 8, 12]]\n",
    "\n",
    "A"
   ]
  },
  {
   "cell_type": "code",
   "execution_count": 11,
   "metadata": {},
   "outputs": [
    {
     "data": {
      "text/plain": [
       "[[4, 10], [1, 3], [5, 11], [7, 8]]"
      ]
     },
     "execution_count": 11,
     "metadata": {},
     "output_type": "execute_result"
    }
   ],
   "source": [
    "B = [[4, 10],\n",
    "     [1, 3],\n",
    "     [5, 11],\n",
    "     [7, 8]]\n",
    "\n",
    "B"
   ]
  },
  {
   "cell_type": "markdown",
   "metadata": {},
   "source": [
    "La multiplicación de una matriz $A \\in \\mathbb{R}^{n\\times k}$ con otra matriz $B \\in \\mathbb{R}^{k\\times m}$ da como resultado una matriz $C \\in \\mathbb{R}^{n\\times m}$ donde sus entradas están definidas por:\n",
    "\n",
    "$$\n",
    "C_{ij} = \\sum_{t=1}^{k} A_{it} \\cdot B_{tj}\n",
    "$$"
   ]
  },
  {
   "cell_type": "markdown",
   "metadata": {},
   "source": [
    "Podemos implementar la multiplación de matrices en una función de Python:"
   ]
  },
  {
   "cell_type": "code",
   "execution_count": 18,
   "metadata": {},
   "outputs": [],
   "source": [
    "def matrix_multiplication(A, B):\n",
    "    n = len(A)\n",
    "    k = len(A[0])\n",
    "    m = len(B[0])\n",
    "\n",
    "    C = [[0 for _ in range(m)] for _ in range(n)]\n",
    "\n",
    "    for i in range(n):\n",
    "        for j in range(m):\n",
    "            for t in range(k):\n",
    "                C[i][j] += A[i][t] * B[t][j]\n",
    "\n",
    "    return C"
   ]
  },
  {
   "cell_type": "code",
   "execution_count": 20,
   "metadata": {},
   "outputs": [
    {
     "data": {
      "text/plain": [
       "[[76, 123], [103, 161], [159, 277]]"
      ]
     },
     "execution_count": 20,
     "metadata": {},
     "output_type": "execute_result"
    }
   ],
   "source": [
    "C = matrix_multiplication(A, B)\n",
    "C"
   ]
  },
  {
   "cell_type": "markdown",
   "metadata": {},
   "source": [
    "Y así podríamos empezar a implementar cada concepto del álgebra lineal en Python. Sin embargo, ya existe una librería muy poderosa que tiene implementada muchos conceptos de álgebra lineal. Además, todos estos algoritmos son muy sencillos de usar y eficientes."
   ]
  },
  {
   "cell_type": "markdown",
   "metadata": {},
   "source": [
    "NumPy es una librería de Python utilizada principalmente para realizar operaciones numéricas en matrices y arreglos multidimensionales de manera eficiente y rápida. Es una de las bibliotecas más populares y ampliamente utilizadas en el ecosistema de Python para computación científica y análisis de datos. Además, NumPy se utiliza comúnmente en conjunto con otras liberías de Python para análisis de datos y computación científica, como SciPy, Pandas y Matplotlib. "
   ]
  },
  {
   "cell_type": "code",
   "execution_count": 21,
   "metadata": {},
   "outputs": [],
   "source": [
    "import numpy as np\n",
    "\n",
    "# Declaración de dos matrices A y B\n",
    "\n",
    "A = np.array([[3, 5, 2, 7], \n",
    "              [1, 9, 4, 10],\n",
    "              [6, 11, 8, 12]])\n",
    "\n",
    "B = np.array([[4, 10],\n",
    "              [1, 3],\n",
    "              [5, 11],\n",
    "              [7, 8]])"
   ]
  },
  {
   "cell_type": "code",
   "execution_count": 22,
   "metadata": {},
   "outputs": [
    {
     "data": {
      "text/plain": [
       "array([[ 3,  5,  2,  7],\n",
       "       [ 1,  9,  4, 10],\n",
       "       [ 6, 11,  8, 12]])"
      ]
     },
     "execution_count": 22,
     "metadata": {},
     "output_type": "execute_result"
    }
   ],
   "source": [
    "A"
   ]
  },
  {
   "cell_type": "code",
   "execution_count": 23,
   "metadata": {},
   "outputs": [
    {
     "data": {
      "text/plain": [
       "array([[ 4, 10],\n",
       "       [ 1,  3],\n",
       "       [ 5, 11],\n",
       "       [ 7,  8]])"
      ]
     },
     "execution_count": 23,
     "metadata": {},
     "output_type": "execute_result"
    }
   ],
   "source": [
    "B"
   ]
  },
  {
   "cell_type": "markdown",
   "metadata": {},
   "source": [
    "La multiplicación de matrices se puede realizar simplemente con el operador `@`:"
   ]
  },
  {
   "cell_type": "code",
   "execution_count": 24,
   "metadata": {},
   "outputs": [
    {
     "data": {
      "text/plain": [
       "array([[ 76, 123],\n",
       "       [103, 161],\n",
       "       [159, 277]])"
      ]
     },
     "execution_count": 24,
     "metadata": {},
     "output_type": "execute_result"
    }
   ],
   "source": [
    "C = A @ B\n",
    "C"
   ]
  },
  {
   "cell_type": "markdown",
   "metadata": {},
   "source": [
    "Y no solo la multiplicación de matrices, sino que muchas más funciones relacionadas al álgebra lineal están ya implementadas en la librería NumPy. "
   ]
  }
 ],
 "metadata": {
  "kernelspec": {
   "display_name": ".env",
   "language": "python",
   "name": "python3"
  },
  "language_info": {
   "codemirror_mode": {
    "name": "ipython",
    "version": 3
   },
   "file_extension": ".py",
   "mimetype": "text/x-python",
   "name": "python",
   "nbconvert_exporter": "python",
   "pygments_lexer": "ipython3",
   "version": "3.11.7"
  }
 },
 "nbformat": 4,
 "nbformat_minor": 2
}
