{
 "cells": [
  {
   "cell_type": "markdown",
   "metadata": {},
   "source": [
    "# Módulo 'linalg' de NumPy\n",
    "\n",
    "El módulo `numpy.linalg` provee varias funciones ya implementadas de álgebra lineal como: \n",
    "1. Producto punto y cruz de vectores\n",
    "2. Suma, resta y multiplicación de vectores\n",
    "3. Autovales de matrices\n",
    "4. Solución de sistemas de ecuaciones lineales\n",
    "\n",
    "Puedes encontrar una referencia completa de este módulo en la siguiente página: https://numpy.org/doc/stable/reference/routines.linalg.html."
   ]
  },
  {
   "cell_type": "markdown",
   "metadata": {},
   "source": [
    "## Operaciones básicas de matrices\n",
    "\n",
    "Ya vimos en la introducción de este capítulo, las operaciones de matrices con NumPy son muy sencillas de aplicar y además eficientes. En esta sección, veremos algunas operaciones que podemos hacer con matrices en NumPy."
   ]
  },
  {
   "cell_type": "markdown",
   "metadata": {},
   "source": [
    "### Suma y resta de matrices\n",
    "\n",
    "La suma de dos matrices $A$ y $B$ nos da como resultado una matriz $C$, tal que\n",
    "\n",
    "$$\n",
    "C_{ij} = A_{ij} + B_{ij}\n",
    "$$\n",
    "\n",
    "Y la resta de dos matrices $A$ y $B$:\n",
    "\n",
    "$$\n",
    "D_{ij} = A_{ij} - B_{ij}\n",
    "$$"
   ]
  },
  {
   "cell_type": "markdown",
   "metadata": {},
   "source": [
    "Implementación sin NumPy:"
   ]
  },
  {
   "cell_type": "code",
   "execution_count": 3,
   "metadata": {},
   "outputs": [],
   "source": [
    "A = [[1, 2, 3, 4],\n",
    "     [5, 6, 7, 8],\n",
    "     [9, 10, 11, 12]]\n",
    "\n",
    "B = [[-1, 10, 5, 4],\n",
    "     [3, -12, 1, -2],\n",
    "     [7, 9, 2, -5]]\n",
    "\n",
    "n = 3\n",
    "m = 4"
   ]
  },
  {
   "cell_type": "code",
   "execution_count": 6,
   "metadata": {},
   "outputs": [
    {
     "data": {
      "text/plain": [
       "[[0, 12, 8, 8], [8, -6, 8, 6], [16, 19, 13, 7]]"
      ]
     },
     "execution_count": 6,
     "metadata": {},
     "output_type": "execute_result"
    }
   ],
   "source": [
    "# Suma de matrices\n",
    "\n",
    "C = [[0 for _ in range(m)] for _ in range(n)]\n",
    "\n",
    "for i in range(n):\n",
    "    for j in range(m):\n",
    "        C[i][j] = A[i][j] + B[i][j]\n",
    "\n",
    "C"
   ]
  },
  {
   "cell_type": "code",
   "execution_count": 5,
   "metadata": {},
   "outputs": [
    {
     "data": {
      "text/plain": [
       "[[2, -8, -2, 0], [2, 18, 6, 10], [2, 1, 9, 17]]"
      ]
     },
     "execution_count": 5,
     "metadata": {},
     "output_type": "execute_result"
    }
   ],
   "source": [
    "# Resta de matrices\n",
    "\n",
    "D = [[0 for _ in range(m)] for _ in range(n)]\n",
    "\n",
    "for i in range(n):\n",
    "    for j in range(m):\n",
    "        D[i][j] = A[i][j] - B[i][j]\n",
    "\n",
    "D"
   ]
  },
  {
   "cell_type": "markdown",
   "metadata": {},
   "source": [
    "Implementación con NumPy"
   ]
  },
  {
   "cell_type": "code",
   "execution_count": 7,
   "metadata": {},
   "outputs": [],
   "source": [
    "import numpy as np\n",
    "\n",
    "# Convertimos A a un np.ndarray\n",
    "A = np.array(A)\n",
    "\n",
    "# Lo mismo para B\n",
    "B = np.array(B)\n",
    "\n"
   ]
  },
  {
   "cell_type": "code",
   "execution_count": 8,
   "metadata": {},
   "outputs": [
    {
     "name": "stdout",
     "output_type": "stream",
     "text": [
      "[[ 0 12  8  8]\n",
      " [ 8 -6  8  6]\n",
      " [16 19 13  7]]\n"
     ]
    }
   ],
   "source": [
    "# Simplemente la suma de dos matrices, la obtenemos con el operador '+'\n",
    "C = A + B\n",
    "\n",
    "print(C)"
   ]
  },
  {
   "cell_type": "code",
   "execution_count": 9,
   "metadata": {},
   "outputs": [
    {
     "name": "stdout",
     "output_type": "stream",
     "text": [
      "[[ 2 -8 -2  0]\n",
      " [ 2 18  6 10]\n",
      " [ 2  1  9 17]]\n"
     ]
    }
   ],
   "source": [
    "# Y para la resta, es similar, usaremos el operador '-'\n",
    "\n",
    "D = A - B\n",
    "\n",
    "print(D)"
   ]
  },
  {
   "cell_type": "markdown",
   "metadata": {},
   "source": [
    "### Multiplicación de matrices\n",
    "\n",
    "En la introducción del capítulo, ya vimos el caso de la multiplicación de matrices.\n",
    "\n",
    "La multiplicación de una matriz $A \\in \\mathbb{R}^{n\\times k}$ con otra matriz $B \\in \\mathbb{R}^{k\\times m}$ da como resultado una matriz $C \\in \\mathbb{R}^{n\\times m}$ donde sus entradas están definidas por:\n",
    "\n",
    "$$\n",
    "C_{ij} = \\sum_{t=1}^{k} A_{it} \\cdot B_{tj}\n",
    "$$"
   ]
  },
  {
   "cell_type": "markdown",
   "metadata": {},
   "source": [
    "Implementación sin NumPy:"
   ]
  },
  {
   "cell_type": "code",
   "execution_count": 11,
   "metadata": {},
   "outputs": [],
   "source": [
    "A = [[3, 5, 2, 7], \n",
    "     [1, 9, 4, 10],\n",
    "     [6, 11, 8, 12]]\n",
    "\n",
    "B = [[4, 10],\n",
    "     [1, 3],\n",
    "     [5, 11],\n",
    "     [7, 8]]"
   ]
  },
  {
   "cell_type": "code",
   "execution_count": 12,
   "metadata": {},
   "outputs": [
    {
     "name": "stdout",
     "output_type": "stream",
     "text": [
      "[[76, 123], [103, 161], [159, 277]]\n"
     ]
    }
   ],
   "source": [
    "def matrix_multiplication(A, B):\n",
    "    n = len(A)\n",
    "    k = len(A[0])\n",
    "    m = len(B[0])\n",
    "\n",
    "    C = [[0 for _ in range(m)] for _ in range(n)]\n",
    "\n",
    "    for i in range(n):\n",
    "        for j in range(m):\n",
    "            for t in range(k):\n",
    "                C[i][j] += A[i][t] * B[t][j]\n",
    "\n",
    "    return C\n",
    "\n",
    "C = matrix_multiplication(A, B)\n",
    "print(C)"
   ]
  },
  {
   "cell_type": "markdown",
   "metadata": {},
   "source": [
    "Implementación con NumPy:"
   ]
  },
  {
   "cell_type": "code",
   "execution_count": 15,
   "metadata": {},
   "outputs": [
    {
     "data": {
      "text/plain": [
       "array([[ 76, 123],\n",
       "       [103, 161],\n",
       "       [159, 277]])"
      ]
     },
     "execution_count": 15,
     "metadata": {},
     "output_type": "execute_result"
    }
   ],
   "source": [
    "# Convertimos las matrices a tipo np.ndarray\n",
    "\n",
    "A = np.array(A)\n",
    "B = np.array(B)\n",
    "\n",
    "C = A @ B\n",
    "C"
   ]
  },
  {
   "cell_type": "markdown",
   "metadata": {},
   "source": [
    "Algo importante a resaltar de la multiplicación de matrices de NumPy, a parte de su simplicidad, es su eficiencia. Y cuando hablamos de **eficiencia**, nos referimos a que el tiempo de ejecución y los recursos necesarios están optimizados para ser los mínimos posibles. \n",
    "\n",
    "Comparemos el tiempo de ejecución entre ambos métodos. Para esto, multiplicaremos matrices de $5000 \\times 5000$ de dimensión:"
   ]
  },
  {
   "cell_type": "code",
   "execution_count": 30,
   "metadata": {},
   "outputs": [],
   "source": [
    "import random\n",
    "\n",
    "n = 500\n",
    "\n",
    "# Creamos dos matrices de n x n. Sus elementos son valores aleatorios entre 0 y 1\n",
    "\n",
    "A = [[random.uniform(0, 1) for _ in range(n)] for _ in range(n)]\n",
    "B = [[random.uniform(0, 1) for _ in range(n)] for _ in range(n)]"
   ]
  },
  {
   "cell_type": "code",
   "execution_count": 31,
   "metadata": {},
   "outputs": [
    {
     "name": "stdout",
     "output_type": "stream",
     "text": [
      "CPU times: user 7.3 s, sys: 5.76 ms, total: 7.3 s\n",
      "Wall time: 7.32 s\n"
     ]
    }
   ],
   "source": [
    "%%time\n",
    "\n",
    "C = matrix_multiplication(A, B)"
   ]
  },
  {
   "cell_type": "code",
   "execution_count": 32,
   "metadata": {},
   "outputs": [],
   "source": [
    "A = np.array(A)\n",
    "B = np.array(B)"
   ]
  },
  {
   "cell_type": "code",
   "execution_count": 33,
   "metadata": {},
   "outputs": [
    {
     "name": "stdout",
     "output_type": "stream",
     "text": [
      "CPU times: user 35.4 ms, sys: 23.9 ms, total: 59.3 ms\n",
      "Wall time: 8.3 ms\n"
     ]
    }
   ],
   "source": [
    "%%time\n",
    "\n",
    "C = A @ B"
   ]
  },
  {
   "cell_type": "markdown",
   "metadata": {},
   "source": [
    "Comparando ambos tiempos de ejecución, podemos notar que la multiplicación con NumPy es considerablemente más rápida. "
   ]
  }
 ],
 "metadata": {
  "kernelspec": {
   "display_name": ".env",
   "language": "python",
   "name": "python3"
  },
  "language_info": {
   "codemirror_mode": {
    "name": "ipython",
    "version": 3
   },
   "file_extension": ".py",
   "mimetype": "text/x-python",
   "name": "python",
   "nbconvert_exporter": "python",
   "pygments_lexer": "ipython3",
   "version": "3.11.7"
  }
 },
 "nbformat": 4,
 "nbformat_minor": 2
}
