{
 "cells": [
  {
   "cell_type": "markdown",
   "metadata": {},
   "source": [
    "# Escritura de archivos"
   ]
  },
  {
   "cell_type": "markdown",
   "metadata": {},
   "source": [
    "Para leer archivos usando el método `open()`, vimos que usamos el modo `r`. Ahora, también podemos escribir en archivos y podemos usar dos modos: `w` (write) y `a` (append)."
   ]
  },
  {
   "cell_type": "markdown",
   "metadata": {},
   "source": [
    "## Modo `w`\n",
    "\n",
    "El modo `w` abre el archivo solo para escritura. El texto que se encuentra dentro del archivo se modifica y se sobreescribe. El **stream** se encuentra al inicio del archivo. Se crea el archivo, si no existe en la dirección indicada."
   ]
  },
  {
   "cell_type": "code",
   "execution_count": 44,
   "metadata": {},
   "outputs": [],
   "source": [
    "output_file = open('output.txt', 'w')"
   ]
  },
  {
   "cell_type": "markdown",
   "metadata": {},
   "source": [
    "Para escribir en un archivo, usamos el método `write()`:"
   ]
  },
  {
   "cell_type": "code",
   "execution_count": 45,
   "metadata": {},
   "outputs": [
    {
     "data": {
      "text/plain": [
       "17"
      ]
     },
     "execution_count": 45,
     "metadata": {},
     "output_type": "execute_result"
    }
   ],
   "source": [
    "output_file.write('¡Hola a todos!aea')"
   ]
  },
  {
   "cell_type": "markdown",
   "metadata": {},
   "source": [
    "Puedes abrir el archivo, para comprobar que se escribió el mensaje.\n",
    "\n",
    "Si escribimos otro mensaje, se escribirá al costado del anterior:"
   ]
  },
  {
   "cell_type": "code",
   "execution_count": 46,
   "metadata": {},
   "outputs": [
    {
     "data": {
      "text/plain": [
       "12"
      ]
     },
     "execution_count": 46,
     "metadata": {},
     "output_type": "execute_result"
    }
   ],
   "source": [
    "output_file.write('¿Cómo están?')"
   ]
  },
  {
   "cell_type": "markdown",
   "metadata": {},
   "source": [
    "Si queremos escribir en una nueva línea, debemos usar el caracter `'\\n'`"
   ]
  },
  {
   "cell_type": "code",
   "execution_count": 47,
   "metadata": {},
   "outputs": [
    {
     "data": {
      "text/plain": [
       "45"
      ]
     },
     "execution_count": 47,
     "metadata": {},
     "output_type": "execute_result"
    }
   ],
   "source": [
    "output_file.write('\\n') # => nueva linea\n",
    "output_file.write('Este mensaje se encuentra en una nueva linea\\n')\n",
    "output_file.write('Este mensaje se encuentra en una nueva linea\\n')"
   ]
  },
  {
   "cell_type": "markdown",
   "metadata": {},
   "source": [
    "También existe el método `writelines()`, que nos permite escribir varias cadenas a la vez."
   ]
  },
  {
   "cell_type": "code",
   "execution_count": 48,
   "metadata": {},
   "outputs": [],
   "source": [
    "lines = ['Linea1\\n', 'Linea2\\n', 'Linea3\\n'] # => Al final de cada texto, añadir el caracter '\\n', para que cada mensaje\n",
    "                                              # se encuentra en una nueva línea\n",
    "\n",
    "output_file.writelines(lines)"
   ]
  },
  {
   "cell_type": "markdown",
   "metadata": {},
   "source": [
    "Una vez finalizado la escritura del archivo, cerrarlo con `close()`:"
   ]
  },
  {
   "cell_type": "code",
   "execution_count": null,
   "metadata": {},
   "outputs": [],
   "source": [
    "output_file.close()"
   ]
  },
  {
   "cell_type": "markdown",
   "metadata": {},
   "source": [
    "## Modo `a`\n",
    "\n",
    "El modo `a` es muy similar al modo `w`, con la diferencia de que el **stream** se encuentra al final del archivo.\n",
    "\n",
    "Vamos a abrir el anterior archivo en modo `a`:"
   ]
  },
  {
   "cell_type": "code",
   "execution_count": 3,
   "metadata": {},
   "outputs": [],
   "source": [
    "output_file = open('output.txt', 'a')"
   ]
  },
  {
   "cell_type": "markdown",
   "metadata": {},
   "source": [
    "Los métodos para escribir son los mismos: `write()` y `writelines()`"
   ]
  },
  {
   "cell_type": "code",
   "execution_count": 6,
   "metadata": {},
   "outputs": [],
   "source": [
    "output_file.write('Este mensaje se añade al final del archivo\\n')\n",
    "output_file.writelines(['Linea4\\n', 'Linea5\\n', 'Linea6\\n'])\n",
    "\n",
    "output_file.close()"
   ]
  },
  {
   "cell_type": "markdown",
   "metadata": {},
   "source": [
    "Si abrimos un archivo en modo `w` que ya contenía texto, cuando escribimos todo el texto del archivo se eliminará, pues el **stream** se encuentra al inicio. A diferencia del modo `a` que se añadirá texto al final del archivo."
   ]
  }
 ],
 "metadata": {
  "kernelspec": {
   "display_name": "Python 3",
   "language": "python",
   "name": "python3"
  },
  "language_info": {
   "codemirror_mode": {
    "name": "ipython",
    "version": 3
   },
   "file_extension": ".py",
   "mimetype": "text/x-python",
   "name": "python",
   "nbconvert_exporter": "python",
   "pygments_lexer": "ipython3",
   "version": "3.9.6"
  }
 },
 "nbformat": 4,
 "nbformat_minor": 2
}
