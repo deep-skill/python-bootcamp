{
 "cells": [
  {
   "cell_type": "markdown",
   "metadata": {},
   "source": [
    "Link de referencia: [aqui](https://phoenixnap.com/kb/file-handling-in-python)"
   ]
  },
  {
   "cell_type": "markdown",
   "metadata": {},
   "source": [
    "## Modo W"
   ]
  },
  {
   "cell_type": "code",
   "execution_count": null,
   "metadata": {},
   "outputs": [],
   "source": [
    "# Si el archivo no existe, lo crea\n",
    "# Si el archivo ya existe, elimina todo el texto\n",
    "\n",
    "with open('output.txt', 'w') as output_file:\n",
    "    # Escribimos dentro del archivo\n",
    "    output_file.write('¡Hola mundo!')\n",
    "\n",
    "    output_file.write('Bienvenidos al curso de Python para ingenieria.')"
   ]
  },
  {
   "cell_type": "code",
   "execution_count": null,
   "metadata": {},
   "outputs": [],
   "source": [
    "with open('output.txt', 'w') as output_file:\n",
    "    output_file.write('¡Hola nuevamente!')\n",
    "    \n",
    "    # Salto de linea\n",
    "    output_file.write('\\n')\n",
    "    output_file.write('Esperamos que aprendas mucho en este curso!')"
   ]
  },
  {
   "cell_type": "code",
   "execution_count": null,
   "metadata": {},
   "outputs": [],
   "source": [
    "with open('output.txt', 'w') as output_file:\n",
    "    lines = ['Esta es la linea 1', 'Esta es la linea 2', 'Esta es la linea 3']\n",
    "    output_file.writelines(lines)"
   ]
  },
  {
   "cell_type": "code",
   "execution_count": null,
   "metadata": {},
   "outputs": [],
   "source": [
    "with open('output.txt', 'w') as output_file:\n",
    "    lines = ['Esta es la linea 1\\n', 'Esta es la linea 2\\n', 'Esta es la linea 3\\n']\n",
    "    output_file.writelines(lines)"
   ]
  },
  {
   "cell_type": "markdown",
   "metadata": {},
   "source": [
    "## Modo A"
   ]
  },
  {
   "cell_type": "code",
   "execution_count": null,
   "metadata": {},
   "outputs": [],
   "source": [
    "# Si el archivo no existe, lo crea\n",
    "# Si el archivo existe, si escribimos texto, lo añadirá al final del archivo\n",
    "\n",
    "with open('output.txt', 'w') as output_file:\n",
    "    output_file.write('Escribamos texto sobre este archivo\\n')\n",
    "    output_file.write('Esta es la segunda linea del archivo\\n')"
   ]
  },
  {
   "cell_type": "code",
   "execution_count": null,
   "metadata": {},
   "outputs": [],
   "source": [
    "with open('output.txt', 'a') as output_file:\n",
    "    output_file.write('Estoy añadiendo texto al final de este archivo\\n')\n",
    "    output_file.write('Sigo añadiendo más texto en este archivo\\n')"
   ]
  },
  {
   "cell_type": "code",
   "execution_count": null,
   "metadata": {},
   "outputs": [],
   "source": [
    "with open('output.txt', 'a') as output_file:\n",
    "    lines = ['Linea 1\\n', 'Linea 2\\n', 'Linea 3\\n']\n",
    "    output_file.writelines(lines)"
   ]
  },
  {
   "cell_type": "markdown",
   "metadata": {},
   "source": [
    "## Modo r+"
   ]
  },
  {
   "cell_type": "code",
   "execution_count": null,
   "metadata": {},
   "outputs": [],
   "source": [
    "# Podemos escribir y leer con el modo r+\n",
    "# Nos dará un error si el archivo no existe\n",
    "\n",
    "with open('archivo.txt', 'r+') as read_file:\n",
    "    line = read_file.readline()\n",
    "    print(line)\n",
    "\n",
    "    line = read_file.readline()\n",
    "    print(line)\n",
    "\n",
    "    read_file.write('Añadiendo texto al archivo\\n')\n",
    "    read_file.write('Añadamos otra linea más al archivo\\n')"
   ]
  },
  {
   "cell_type": "code",
   "execution_count": 20,
   "metadata": {},
   "outputs": [
    {
     "name": "stdout",
     "output_type": "stream",
     "text": [
      "['Esta es la linea 1\\n', 'Esta es la linea 2\\n', 'Esta es la linea 3\\n', 'Esta es la linea 4\\n', 'Esta es la linea 5Añadiendo texto al archivo\\n', 'Añadamos otra linea más al archivo\\n']\n"
     ]
    }
   ],
   "source": [
    "with open('archivo.txt', 'r+') as read_file:\n",
    "    lines = read_file.readlines()\n",
    "    print(lines)"
   ]
  },
  {
   "cell_type": "code",
   "execution_count": null,
   "metadata": {},
   "outputs": [],
   "source": [
    "with open('este_archivo_no_existe.txt', 'r+') as read_file:\n",
    "    pass"
   ]
  }
 ],
 "metadata": {
  "kernelspec": {
   "display_name": ".env",
   "language": "python",
   "name": "python3"
  },
  "language_info": {
   "codemirror_mode": {
    "name": "ipython",
    "version": 3
   },
   "file_extension": ".py",
   "mimetype": "text/x-python",
   "name": "python",
   "nbconvert_exporter": "python",
   "pygments_lexer": "ipython3",
   "version": "3.11.7"
  }
 },
 "nbformat": 4,
 "nbformat_minor": 2
}
