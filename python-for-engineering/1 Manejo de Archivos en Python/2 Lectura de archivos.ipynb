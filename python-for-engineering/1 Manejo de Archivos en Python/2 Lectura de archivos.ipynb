{
 "cells": [
  {
   "cell_type": "markdown",
   "metadata": {},
   "source": [
    "# Lectura de archivos\n",
    "\n",
    "Queremos leer los datos que se encuentran en el archivo `notas.txt`, que contiene 1000 reportes de notas de estudiantes de alguna universidad (los datos están generados artificialmente). Usaremos la función `open()` de Python para poder abrir el archivo:"
   ]
  },
  {
   "cell_type": "code",
   "execution_count": null,
   "metadata": {},
   "outputs": [],
   "source": [
    "grades_file = open('notas.txt', 'r')"
   ]
  },
  {
   "cell_type": "markdown",
   "metadata": {},
   "source": [
    "Dentro de la función `open()` tendremos dos parámetros principales. Primero, debemos indicar la dirección del archivo. En este caso, como el archivo se encuentra en la misma carpeta, solo especificaremos el nombre del archivo. El segundo parámetro, se refiere al **modo** del archivo. En este caso, para indicar que el modo es de lectura, pondremos `'r'` (read) como parámetro."
   ]
  },
  {
   "cell_type": "code",
   "execution_count": null,
   "metadata": {},
   "outputs": [],
   "source": [
    "type(grades_file)"
   ]
  },
  {
   "cell_type": "code",
   "execution_count": null,
   "metadata": {},
   "outputs": [],
   "source": [
    "grades_file = open('notas.txt', 'r')\n",
    "\n",
    "\n",
    "# Podemos iterar sobre las lineas de 'grades_file'\n",
    "for line in grades_file:\n",
    "    print(line)\n",
    "\n",
    "# Cerramos el archivo\n",
    "grades_file.close()"
   ]
  },
  {
   "cell_type": "code",
   "execution_count": null,
   "metadata": {},
   "outputs": [],
   "source": [
    "with open('notas.txt', 'r') as grades_file:\n",
    "    for line in grades_file:\n",
    "        print(line)"
   ]
  },
  {
   "cell_type": "markdown",
   "metadata": {},
   "source": [
    "## Stream (controlador) en el manejo de archivos"
   ]
  },
  {
   "cell_type": "markdown",
   "metadata": {},
   "source": [
    "Cuando abrimos un archivo en modo, existe un concepto llamado **stream** o **controlador**, que podemos considerar que es un cursor o puntero dentro del archivo. Inicialmente el **stream** se encuentra al inicio del archivo. A medida que vayamos leyendo el archivo, el **stream** también va cambiando de posición.\n",
    "\n",
    "Veamos un ejemplo del comportamiento del **stream**:"
   ]
  },
  {
   "cell_type": "code",
   "execution_count": null,
   "metadata": {},
   "outputs": [],
   "source": [
    "with open('notas.txt', 'r') as grades_file:\n",
    "\n",
    "    grades_file = open('notas.txt', 'r')\n",
    "\n",
    "    line = grades_file.readline() # Este método lee una línea del archivo\n",
    "\n",
    "    print(line)"
   ]
  },
  {
   "cell_type": "markdown",
   "metadata": {},
   "source": [
    "Podemos ver que el resultado obtenido es la primera línea del archivo `notas.txt`. Ahora el **stream** estará ubicado en la segunda línea, por lo que si ejecutamos nuevamente `readline()`, obtendremos como resultado la segunda línea del archivo:"
   ]
  },
  {
   "cell_type": "code",
   "execution_count": null,
   "metadata": {},
   "outputs": [],
   "source": [
    "with open('notas.txt', 'r') as grades_file:\n",
    "\n",
    "    grades_file = open('notas.txt', 'r')\n",
    "\n",
    "    line = grades_file.readline() # Este método lee una línea del archivo\n",
    "\n",
    "    # Primera linea del archivo\n",
    "    print(line)\n",
    "\n",
    "    line = grades_file.readline() # Este método lee una línea del archivo\n",
    "\n",
    "    # Segunda línea del archivo\n",
    "    line"
   ]
  },
  {
   "cell_type": "markdown",
   "metadata": {},
   "source": [
    "Si queremos que el **stream** vuelva al inicio del archivo, podemos nuevamente abrir el archivo con la función `open()` o usar el método `seek()`:"
   ]
  },
  {
   "cell_type": "code",
   "execution_count": null,
   "metadata": {},
   "outputs": [],
   "source": [
    "# Posiciona al stream en el inicio del archivo\n",
    "grades_file.seek(0)\n",
    "\n",
    "line = grades_file.readline() \n",
    "line"
   ]
  },
  {
   "cell_type": "markdown",
   "metadata": {},
   "source": [
    "## Método read()"
   ]
  },
  {
   "cell_type": "markdown",
   "metadata": {},
   "source": [
    "Los archivos cuentan con otro método llamado `read()`:"
   ]
  },
  {
   "cell_type": "code",
   "execution_count": null,
   "metadata": {},
   "outputs": [],
   "source": [
    "grades_file = open('notas.txt', 'r')\n",
    "\n",
    "# Lee todo el contenido de un archivo y lo almacena en una cadena\n",
    "\n",
    "text = grades_file.read()\n",
    "text"
   ]
  },
  {
   "cell_type": "markdown",
   "metadata": {},
   "source": [
    "Dentro de la cadena `text`, encontramos un caracter `\\n` que nos indica que ahí existe un salto de línea. Es decir, ese caracter es un separador entre dos líneas. Podemos usar el método `splitlines()` para separar `text` en líneas:"
   ]
  },
  {
   "cell_type": "code",
   "execution_count": null,
   "metadata": {},
   "outputs": [],
   "source": [
    "# Separa 'text' en todas sus líneas\n",
    "grades = text.splitlines()\n",
    "grades[:10]"
   ]
  },
  {
   "cell_type": "code",
   "execution_count": null,
   "metadata": {},
   "outputs": [],
   "source": [
    "# Se encuentran 1000 reportes de los alumnos\n",
    "\n",
    "len(grades)"
   ]
  },
  {
   "cell_type": "markdown",
   "metadata": {},
   "source": [
    "Vemos que cada línea consiste de una cadena que contiene 4 números (los datos de los alumnos) separados por un espacio (`' '`). Cada línea podemos separarlo en los números que contiene, usando el método `split()`:"
   ]
  },
  {
   "cell_type": "code",
   "execution_count": null,
   "metadata": {},
   "outputs": [],
   "source": [
    "# El método split separa una cadena dado un separador que nosotros indiquemos\n",
    "# El resultado es una lista\n",
    "\n",
    "message = 'Este texto esta separado por espacios'\n",
    "splitted_message = message.split(' ') # => Indicamos que el separador es el espacio (' ')\n",
    "splitted_message"
   ]
  },
  {
   "cell_type": "code",
   "execution_count": null,
   "metadata": {},
   "outputs": [],
   "source": [
    "message = 'Este,texto,esta,separado,por,comas'\n",
    "splitted_message = message.split(',') # => Indicamos que el separador es la coma (',')\n",
    "splitted_message"
   ]
  },
  {
   "cell_type": "code",
   "execution_count": null,
   "metadata": {},
   "outputs": [],
   "source": [
    "# Ahora usaremos el metodo split para separar cada línea de la lista 'grades'\n",
    "\n",
    "for i, line in enumerate(grades):\n",
    "    line = line.split(' ') # separamos por espacio\n",
    "    grades[i] = tuple(line) # Reemplazamos la linea por ahora una tupla de los números obtenidos\n",
    "\n",
    "grades[:10]\n",
    "\n",
    "grades_file.close()"
   ]
  },
  {
   "cell_type": "markdown",
   "metadata": {},
   "source": [
    "El código resumido sería:"
   ]
  },
  {
   "cell_type": "code",
   "execution_count": null,
   "metadata": {},
   "outputs": [],
   "source": [
    "grades_file = open('notas.txt', 'r')\n",
    "\n",
    "grades = grades_file.read().splitlines()\n",
    "\n",
    "for i, line in enumerate(grades):\n",
    "    line = line.split(' ')\n",
    "    grades[i] = tuple(line)\n",
    "\n",
    "grades[:10]\n",
    "\n",
    "grades_file.close()"
   ]
  },
  {
   "cell_type": "markdown",
   "metadata": {},
   "source": [
    "## Método readlines()"
   ]
  },
  {
   "cell_type": "markdown",
   "metadata": {},
   "source": [
    "El método `readlines()`, como su nombre sugieres, leerá todas las líneas del texto y los guardará en una lista, pero con un detalle:"
   ]
  },
  {
   "cell_type": "code",
   "execution_count": null,
   "metadata": {},
   "outputs": [],
   "source": [
    "grades_file = open('notas.txt', 'r')\n",
    "\n",
    "lines = grades_file.readlines()\n",
    "lines[:10]"
   ]
  },
  {
   "cell_type": "markdown",
   "metadata": {},
   "source": [
    "Si bien es cierto que ya separa al archivo por líneas, al final de cada una de ella se encontrará el caractar `'\\n'`, que por lo general no nos interesa en nuestros datos y tendremos que eliminarlo de cada línea."
   ]
  },
  {
   "cell_type": "code",
   "execution_count": null,
   "metadata": {},
   "outputs": [],
   "source": [
    "grades = []\n",
    "\n",
    "for i, line in enumerate(lines):\n",
    "\n",
    "    # Verificamos si el último caracter de la linea es '\\n'\n",
    "    # Si es el caso, eliminamos el ultimo caracter\n",
    "    # Hacemos esta comprobación, pues la último línea puede no contener el caracter '\\n'\n",
    "    if line[-1] == '\\n':\n",
    "        line = line[:-1]\n",
    "\n",
    "    grades.append(line)\n",
    "\n",
    "grades[:10]"
   ]
  },
  {
   "cell_type": "markdown",
   "metadata": {},
   "source": [
    "Ahora también podemos usar `split()` en cada línea para dividirla y obtener el mismo resultado que se mostró anteriormente."
   ]
  }
 ],
 "metadata": {
  "kernelspec": {
   "display_name": "Python 3 (ipykernel)",
   "language": "python",
   "name": "python3"
  },
  "language_info": {
   "codemirror_mode": {
    "name": "ipython",
    "version": 3
   },
   "file_extension": ".py",
   "mimetype": "text/x-python",
   "name": "python",
   "nbconvert_exporter": "python",
   "pygments_lexer": "ipython3",
   "version": "3.11.7"
  }
 },
 "nbformat": 4,
 "nbformat_minor": 2
}
