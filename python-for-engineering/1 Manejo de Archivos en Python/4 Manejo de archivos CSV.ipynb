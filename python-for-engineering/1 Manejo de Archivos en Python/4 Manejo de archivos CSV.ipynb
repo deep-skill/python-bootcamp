{
 "cells": [
  {
   "cell_type": "markdown",
   "metadata": {},
   "source": [
    "# Manejo de archivos CSV\n",
    "\n",
    "Los archivos CSV (\"Comma Separated Values\", que significa \"Valores separados por comas\") es un formato de archivo utilizado para almacenar datos tabulares (organizado por columnas) en forma te texto plano. En un archivo CSV, cada línea representa una fila de datos y los valores de cada fila están separados por comas (por lo general, el delimitador es una coma pero es posible usar otros delimitadores como punto y coma o tabulación).\n",
    "\n",
    "Es un tipo de archivo fácil de manejar, tanto para lectura como escritura, por lo que su uso es muy común. Existen muchas librerías científicas y de ingeniería en Python que retornan sus resultados en este formato.\n",
    "\n",
    "Dentro de esta carpeta, tenemos un archivo csv llamado `data.csv`:"
   ]
  },
  {
   "cell_type": "markdown",
   "metadata": {},
   "source": [
    "<img src=\"images/data.jpg\" alt=\"Notas\" width=\"700\"/>"
   ]
  },
  {
   "cell_type": "markdown",
   "metadata": {},
   "source": [
    "La primera línea, indica el nombre de cada columna. Las siguientes líneas son los datos."
   ]
  },
  {
   "cell_type": "markdown",
   "metadata": {},
   "source": [
    "## Lectura de archivos CSV\n",
    "\n",
    "Para leer un archivo CSV, primro abriremos el archivo con el método `open()` y luego usaremos la librería `csv` para su lectura y escritura."
   ]
  },
  {
   "cell_type": "code",
   "execution_count": 1,
   "metadata": {},
   "outputs": [],
   "source": [
    "# Importamos la librería csv\n",
    "import csv"
   ]
  },
  {
   "cell_type": "code",
   "execution_count": 2,
   "metadata": {},
   "outputs": [
    {
     "name": "stdout",
     "output_type": "stream",
     "text": [
      "['Nombre', 'Apellido', 'Edad', 'Nota1', 'Nota2']\n",
      "['Albert', 'Einstein', '22', '19', '20']\n",
      "['Nikola', 'Testa', '20', '17', '20']\n",
      "['Ada', 'Lovelace', '23', '20', '18']\n",
      "['Alan', 'Turing', '19', '18', '19']\n"
     ]
    }
   ],
   "source": [
    "with open('data.csv', 'r', newline='') as csv_file: # Abrimos el archivo CSV con el nombre csv_file\n",
    "    # Usaremos el método 'reader' de la librería csv para la lectura del archivo\n",
    "    # Pasamos como parámetro el archivo\n",
    "    # Definimos el delimitador (para este caso, una coma)\n",
    "    csv_reader = csv.reader(csv_file, delimiter=',', quotechar='|')\n",
    "\n",
    "    # csv_reader es un objeto iterable donde cada elemento es una fila\n",
    "    for row in csv_reader:\n",
    "        print(row)"
   ]
  },
  {
   "cell_type": "markdown",
   "metadata": {},
   "source": [
    "Observamos que cada fila está guardada en una lista.\n",
    "\n",
    "En nuestro archivo, sabemos que la primera fila es el nombre de cada columna. La librería csv nos permite leer de una manerá más cómoda para estos casos usando la clase `DictReader()`:"
   ]
  },
  {
   "cell_type": "code",
   "execution_count": 3,
   "metadata": {},
   "outputs": [
    {
     "name": "stdout",
     "output_type": "stream",
     "text": [
      "{'Nombre': 'Albert', 'Apellido': 'Einstein', 'Edad': '22', 'Nota1': '19', 'Nota2': '20'}\n",
      "{'Nombre': 'Nikola', 'Apellido': 'Testa', 'Edad': '20', 'Nota1': '17', 'Nota2': '20'}\n",
      "{'Nombre': 'Ada', 'Apellido': 'Lovelace', 'Edad': '23', 'Nota1': '20', 'Nota2': '18'}\n",
      "{'Nombre': 'Alan', 'Apellido': 'Turing', 'Edad': '19', 'Nota1': '18', 'Nota2': '19'}\n"
     ]
    }
   ],
   "source": [
    "with open('data.csv', 'r', newline='') as csv_file:\n",
    "    csv_reader = csv.DictReader(csv_file)\n",
    "\n",
    "    for row in csv_reader:\n",
    "        print(row)"
   ]
  },
  {
   "cell_type": "markdown",
   "metadata": {},
   "source": [
    "Ahora, cada fila está guardada en un diccionario, donde las llaves son los nombres de las columnas con sus valores correspondientes."
   ]
  },
  {
   "cell_type": "markdown",
   "metadata": {},
   "source": [
    "## Escritura de archivos\n",
    "\n",
    "Ahora usaremos el método `writer` de la librería `csv` para escribir sobre un archivo CSV."
   ]
  },
  {
   "cell_type": "code",
   "execution_count": 5,
   "metadata": {},
   "outputs": [],
   "source": [
    "with open('output.csv', 'w', newline='') as csv_file:\n",
    "    csv_writer = csv.writer(csv_file, delimiter=',')\n",
    "\n",
    "    csv_writer.writerow(['Español', 'Inglés'])\n",
    "    csv_writer.writerow(['Manzana', 'Apple'])\n",
    "    csv_writer.writerow(['Naranja', 'Orange'])\n",
    "    csv_writer.writerow(['Plátano', 'Banana'])"
   ]
  },
  {
   "cell_type": "markdown",
   "metadata": {},
   "source": [
    "Para escribir una nueva fila dentro del archivo CSV, usamos el método `writerow()` y le pasamos como parámetro una lista.\n",
    "\n",
    "El resultado obtenido es:"
   ]
  },
  {
   "cell_type": "markdown",
   "metadata": {},
   "source": [
    "<img src=\"images/outputcsv.jpg\" alt=\"Notas\" width=\"700\"/>"
   ]
  },
  {
   "cell_type": "markdown",
   "metadata": {},
   "source": [
    "De manera similar a `DictReader()` tenemos otra clase llamada `DictWriter()` que nos permitirá escribir filas en forma de diccionarios dentro de un archivo CSV.\n",
    "\n",
    "Imaginemos que queremos dar un reporte de promedio de notas de los estudiantes que se encuentran en el archivo `data.csv`. Primero guardamos los datos en una lista:"
   ]
  },
  {
   "cell_type": "code",
   "execution_count": 7,
   "metadata": {},
   "outputs": [
    {
     "data": {
      "text/plain": [
       "[{'Nombre': 'Albert',\n",
       "  'Apellido': 'Einstein',\n",
       "  'Edad': '22',\n",
       "  'Nota1': '19',\n",
       "  'Nota2': '20'},\n",
       " {'Nombre': 'Nikola',\n",
       "  'Apellido': 'Testa',\n",
       "  'Edad': '20',\n",
       "  'Nota1': '17',\n",
       "  'Nota2': '20'},\n",
       " {'Nombre': 'Ada',\n",
       "  'Apellido': 'Lovelace',\n",
       "  'Edad': '23',\n",
       "  'Nota1': '20',\n",
       "  'Nota2': '18'},\n",
       " {'Nombre': 'Alan',\n",
       "  'Apellido': 'Turing',\n",
       "  'Edad': '19',\n",
       "  'Nota1': '18',\n",
       "  'Nota2': '19'}]"
      ]
     },
     "execution_count": 7,
     "metadata": {},
     "output_type": "execute_result"
    }
   ],
   "source": [
    "students = []\n",
    "\n",
    "with open('data.csv', 'r', newline='') as csv_file:\n",
    "    # Guardaremos los datos en forma de diccionario\n",
    "    csv_reader = csv.DictReader(csv_file)\n",
    "\n",
    "    for row in csv_reader:\n",
    "        students.append(row)\n",
    "\n",
    "students"
   ]
  },
  {
   "cell_type": "markdown",
   "metadata": {},
   "source": [
    "Ahora tenemos una lista de diccionarios. Añadiremos una llave a cada diccionario, llamado `Promedio`:"
   ]
  },
  {
   "cell_type": "code",
   "execution_count": 13,
   "metadata": {},
   "outputs": [
    {
     "data": {
      "text/plain": [
       "[{'Nombre': 'Albert', 'Apellido': 'Einstein', 'Edad': '22', 'Promedio': 19.5},\n",
       " {'Nombre': 'Nikola', 'Apellido': 'Testa', 'Edad': '20', 'Promedio': 18.5},\n",
       " {'Nombre': 'Ada', 'Apellido': 'Lovelace', 'Edad': '23', 'Promedio': 19.0},\n",
       " {'Nombre': 'Alan', 'Apellido': 'Turing', 'Edad': '19', 'Promedio': 18.5}]"
      ]
     },
     "execution_count": 13,
     "metadata": {},
     "output_type": "execute_result"
    }
   ],
   "source": [
    "for student in students:\n",
    "    # Obtenemos el promedio de notas del estudiante\n",
    "    grade_average = (int(student['Nota1']) + int(student['Nota2'])) / 2\n",
    "\n",
    "    # Lo añadimos al diccionario\n",
    "    student['Promedio'] = grade_average\n",
    "\n",
    "    # Eliminamos Nota1 y Nota2 del diccionario\n",
    "    student.pop('Nota1')\n",
    "    student.pop('Nota2')\n",
    "\n",
    "students"
   ]
  },
  {
   "cell_type": "markdown",
   "metadata": {},
   "source": [
    "Ahora escribiremos los resultados en un archivo `resultados.csv` usando la clase `DictWriter()`:"
   ]
  },
  {
   "cell_type": "code",
   "execution_count": 14,
   "metadata": {},
   "outputs": [],
   "source": [
    "with open('resultados.csv', 'w', newline='') as csv_file:\n",
    "    # Especificamos el nombre de las columnas que contendrá nuestro archivo CSV\n",
    "    fieldnames = ['Nombre', 'Apellido', 'Edad', 'Promedio']\n",
    "\n",
    "    csv_writer = csv.DictWriter(csv_file, fieldnames=fieldnames)\n",
    "\n",
    "    # Primero escribimos el nombre de las columnas\n",
    "    csv_writer.writeheader()\n",
    "\n",
    "    for student in students:\n",
    "        # usamos writerow y le pasamos como parámetro a student (es un diccionario de Python)\n",
    "        csv_writer.writerow(student)"
   ]
  },
  {
   "cell_type": "markdown",
   "metadata": {},
   "source": [
    "Nuestro archivo `resultados.csv` quedaría de la siguiente manera:"
   ]
  },
  {
   "cell_type": "markdown",
   "metadata": {},
   "source": [
    "<img src=\"images/resultadoscsv.jpg\" alt=\"Notas\" width=\"700\"/>"
   ]
  }
 ],
 "metadata": {
  "kernelspec": {
   "display_name": "Python 3",
   "language": "python",
   "name": "python3"
  },
  "language_info": {
   "codemirror_mode": {
    "name": "ipython",
    "version": 3
   },
   "file_extension": ".py",
   "mimetype": "text/x-python",
   "name": "python",
   "nbconvert_exporter": "python",
   "pygments_lexer": "ipython3",
   "version": "3.9.6"
  }
 },
 "nbformat": 4,
 "nbformat_minor": 2
}
