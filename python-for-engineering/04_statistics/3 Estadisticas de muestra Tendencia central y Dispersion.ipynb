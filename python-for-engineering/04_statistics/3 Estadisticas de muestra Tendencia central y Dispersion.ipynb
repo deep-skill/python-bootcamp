{
 "cells": [
  {
   "cell_type": "markdown",
   "metadata": {},
   "source": [
    "# Estadísticas de muestra: Tendencia central y dispersión\n",
    "\n",
    "Cuando obtenemos o coleccionamos un conjunto de datos, se introduce el concepto de que estos datos provienen de una **población** (*population* en inglés). Hay situaciones donde esta población es finita. Por ejemplo, si seleccionamos a 100 estudiantes aleatoriamente y medimos sus notas, esto sería una **muestra** con $n=100$. Ahora, si seleccionamos otra muestra, tendremos distintos conjuntos de datos. Pero estos conjuntos fueron obtenidos de la misma población. En una población finita, medir a todos los miembros es algo posible. Para muchos ejemplos de conjuntos de datos en ingeniería y ciencia, la población es infinita."
   ]
  },
  {
   "cell_type": "markdown",
   "metadata": {},
   "source": [
    "## Tendencia central\n",
    "\n",
    "En la caracterización de un conjunto de datos, un primer concepto es la **tendencia central**. La medida más común de este es la *media aritmética*de una muestra $\\{ x_i, i = 1, \\cdots\\ , n\\}$,\n",
    "\n",
    "$$\n",
    "\\bar{x} = \\frac{\\sum_{i=1}^n x_i}{n}\n",
    "$$\n",
    "\n",
    "También es llamado *media de la muestra*.\n",
    "\n",
    "<img src=\"Images/Media_muestra.jpg\" alt=\"Notas\" width=\"600\" center/>\n",
    "\n",
    "La *media* corresponde a la tendencia central de la población total, y el símbolo usado es la letra Griega 'mu' ($\\mu$). \n",
    "\n",
    "Si nos fijamos en los *diagramas de puntos*, en cada conjunto de datos existe un dato que está significantemente alejado del resto de las medidas. Estos valores comunmente son llamados **outliers**. En muchas ocasiones, los investigadores eliminan estos datos, lo cual es una muy mala práctica. Solo deben ser eliminados si estos datos se obtuvieron por un error de medida. En otro caso, debemos mantenerlos pues pueden contener información valiosa para su análisis. \n",
    "\n",
    "Cuando existen los *outliers*, especialmente en conjuntos de datos pequeños, estos pueden modificar de forma extraordinaria la *media* de la muestra. Por ello, podemos optar por usar otra medida de tendencia central: la **mediana** ($\\tilde{x}$). Para calcular la mediana de una muestra simplemente ordenamos el conjunto de datos y seleccionamos el dato del centro. Si la cantidad de elementos es par, seleccionamos los dos del medio y damos como resultado la media de ambas. \n",
    "\n",
    "Otros ejemplos de medida de tendencia central son la **moda** (el valor con mayor frecuencia) y el **m-estimador**.\n",
    "\n",
    "Es importante conocer como calcular la *media* y la *mediana* en Python. Simplemente usamos la librería NumPy que nos proporcionará funciones ya implementadas:"
   ]
  },
  {
   "cell_type": "code",
   "execution_count": 2,
   "metadata": {},
   "outputs": [],
   "source": [
    "import numpy as np\n",
    "\n",
    "x = np.array([11.4,10.5,9.3,14.6,8.4,7.9,7.3,9.7,8.6,8.7])"
   ]
  },
  {
   "cell_type": "code",
   "execution_count": 3,
   "metadata": {},
   "outputs": [
    {
     "data": {
      "text/plain": [
       "9.639999999999999"
      ]
     },
     "execution_count": 3,
     "metadata": {},
     "output_type": "execute_result"
    }
   ],
   "source": [
    "# Media de la muestra\n",
    "\n",
    "x_mean = np.mean(x)\n",
    "x_mean"
   ]
  },
  {
   "cell_type": "code",
   "execution_count": 4,
   "metadata": {},
   "outputs": [
    {
     "data": {
      "text/plain": [
       "9.0"
      ]
     },
     "execution_count": 4,
     "metadata": {},
     "output_type": "execute_result"
    }
   ],
   "source": [
    "# Mediana de la muestra\n",
    "\n",
    "x_median = np.median(x)\n",
    "x_median"
   ]
  },
  {
   "cell_type": "markdown",
   "metadata": {},
   "source": [
    "## Dispersión\n",
    "\n",
    "La siguiente cantidad de interés para una muestra de datos y su población es una medida de dispersión. La medida de dispersión más sencilla de calcular es el *rango*, el cual es la diferencia entre el mayor y menos valor. Esta medida no es particularmente buena porque es muy sensible a valores extremos e ignora los datos intermedios. \n",
    "\n",
    "Asi como el promedio de la muestra es un estimador del verdadero valor central o media de la población, comúnmenete usaremos una medida similar para la dispersión. Este es la **desviación estándar muestral** (o su cuadrado, la **desviación muestral**) como un estimador de la desviación estándar poblacional (o su cuadrado, la varianza poblacional).\n",
    "\n",
    "La fórmula para calcular la desviación estándar muestral es\n",
    "\n",
    "$$\n",
    "s = \\sqrt{\\frac{\\sum^{n}_{i=1}(x_i-\\bar{x})^2}{n-1}}\n",
    "$$\n",
    "\n",
    "Es decir, es la suma de cuadrados de la diferencia de cada dato individual con el promedio muestral, dividido por $n-1$, y sacándole la raíz cuadrada. Sin la raíz cuadrada, obtenemos lo que es llamado desviación muestral ($s^2$). \n",
    "\n",
    "Una pregunta frecuente es por qué usar como divisor a $n-1$ y no simplemente a $n$. Esto debido a que inicialmente el número de **grados de libertad** del conjunto de datos es $n$. Cuando calculamos el promedio muestral perdemos un grado de libertad (ya que con $n-1$ puntos y el promedio muestral, podemos calcular el $n$-ésimo punto), así obteniendo $n-1$ grados de libertad.\n",
    "\n",
    "En el siguiente gráfica, tenemos los cálculos de las desviaciones estándar de dos conjuntos de datos. Notamos que ambos valores son muy distintos y empezamos a notar inconvenientes con la desviación estándar. Es díficil tener una estimación buena para conjuntos de datos pequeños y los **outliers** tienen una influenza muy fuerte en la estimación.\n",
    "\n",
    "<img src=\"Images/varianza.jpg\" alt=\"Notas\" width=\"600\" center/>\n",
    "\n",
    "Por ello, de una manera similar a la mediana muestral, existe un estimador denominada **desviación mediana absoluta**, o MAD (por sus siglas en inglés). Para calcular el MAD de una muestra, se siguen los siguientes pasos:\n",
    "\n",
    "1. Encuentra la mediana de los datos\n",
    "2. Calcule las diferencias o desviaciones absolutas de cada dato con la mediana\n",
    "3. Encuentra la mediana de estos valores absolutos\n",
    "4. Divide el resultado por 0.6745\n",
    "\n",
    "<img src=\"Images/mad.jpg\" alt=\"Notas\" width=\"600\" center/>\n",
    "\n",
    "Ahora veamos como calcular estos valores con Python:"
   ]
  },
  {
   "cell_type": "code",
   "execution_count": 7,
   "metadata": {},
   "outputs": [],
   "source": [
    "x = np.array([10.1,11.5,9.6,9.6,10.4,9.4,10.2,9.9,9.1,9.8])"
   ]
  },
  {
   "cell_type": "code",
   "execution_count": 8,
   "metadata": {},
   "outputs": [
    {
     "data": {
      "text/plain": [
       "0.6653319973266479"
      ]
     },
     "execution_count": 8,
     "metadata": {},
     "output_type": "execute_result"
    }
   ],
   "source": [
    "# El valor ddof = 1, permite que el denominador sea n-1.\n",
    "# Su valor por defecto es ddof = 0, y el denominador serán n\n",
    "\n",
    "s = np.std(x,ddof=1)\n",
    "s"
   ]
  },
  {
   "cell_type": "code",
   "execution_count": 9,
   "metadata": {},
   "outputs": [
    {
     "data": {
      "text/plain": [
       "0.44477390659747934"
      ]
     },
     "execution_count": 9,
     "metadata": {},
     "output_type": "execute_result"
    }
   ],
   "source": [
    "def MAD(x):\n",
    "    x_median = np.median(x)\n",
    "    x_dev = abs(x - x_median)\n",
    "    x_dev_median = np.median(x_dev)\n",
    "\n",
    "    return x_dev_median / 0.6745\n",
    "\n",
    "MADx = MAD(x)\n",
    "MADx"
   ]
  }
 ],
 "metadata": {
  "kernelspec": {
   "display_name": ".env",
   "language": "python",
   "name": "python3"
  },
  "language_info": {
   "codemirror_mode": {
    "name": "ipython",
    "version": 3
   },
   "file_extension": ".py",
   "mimetype": "text/x-python",
   "name": "python",
   "nbconvert_exporter": "python",
   "pygments_lexer": "ipython3",
   "version": "3.11.7"
  }
 },
 "nbformat": 4,
 "nbformat_minor": 2
}
