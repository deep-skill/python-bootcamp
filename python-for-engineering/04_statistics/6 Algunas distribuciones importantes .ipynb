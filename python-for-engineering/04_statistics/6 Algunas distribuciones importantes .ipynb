{
 "cells": [
  {
   "cell_type": "markdown",
   "metadata": {},
   "source": [
    "# Distribuciones importantes a tener en cuenta\n",
    "\n",
    "En esta sección, vamos a presentar tres distribuciones porque son muy usuales de encontrar en referencias o uso.\n",
    "\n",
    "## Distribución uniforme\n",
    "\n",
    "La *distribución uniforme* ilustrada es de la siguiente forma\n",
    "\n",
    "<img src=\"Images/uniforme.jpg\" alt=\"Notas\" width=\"600\" center/>\n",
    "\n",
    "Evaluando las ecuaciones, obtenemos lo siguiente\n",
    "\n",
    "$$\n",
    "P[\\alpha \\le x \\le \\beta] = \\frac{\\beta-\\alpha}{b-a}  \\;\\;\\; \\mu = \\frac{b+a}{2} \\;\\;\\; \\sigma = \\frac{b-a}{2\\sqrt{3}}\n",
    "$$\n",
    "\n",
    "En la práctica no es usual encontrarnos con una distribución uniforme. Con variables discretas, nos la podemos encontrar en lanzamiento de monedas o dados. Cada resultado es igualmente probable. \n",
    "\n",
    "En los datos obtenidos a partir de mediciones de fenómenos físicos y químicos, suele haber una tendencia central que es más probable que los valores estén alejados de la media. Sin embargo, si el rango es razonablemente definido, pero no hay evidencia que respalde una distribución particular, a veces se utiliza la distribución uniforme para reflejar nuestra falta de conocimiento."
   ]
  },
  {
   "cell_type": "markdown",
   "metadata": {},
   "source": [
    "## Distribución normal\n",
    "\n",
    "Las más común y frecuentemente encontrada distribución es la *distribución normal* (también llamada *distribución Gausiana*). Su función de densidad es\n",
    "\n",
    "$$\n",
    "f(x) = \\frac{1}{\\sigma\\sqrt{2\\pi}}e^{-\\frac{1}{2}(\\frac{x-\\mu}{\\sigma})^2}\n",
    "$$\n",
    "\n",
    "Como implican los símbolos, la media de esta distribución es $\\mu$ y su desviación estándar es $\\sigma$. \n",
    "\n",
    "La ilustración de esta distribución para $\\mu=100$ y $\\sigma=10$ es la siguiente\n",
    "\n",
    "<img src=\"Images/normal.jpg\" alt=\"Notas\" width=\"600\" center/>\n",
    "\n",
    "Existe una versión simplificada de la distribución normal llamada *distribución normal estándar* donde $\\mu=0$ y $\\sigma=1$. Típicamente, el nombre de la variable aleatoria usaca con esta distribución es $z$, y la relación con $x$ en la distribución normal es\n",
    "\n",
    "$$\n",
    "z = \\frac{x-\\mu}{\\sigma}\n",
    "$$"
   ]
  },
  {
   "cell_type": "markdown",
   "metadata": {},
   "source": [
    "## Distribución Weibull\n",
    "\n",
    "Cuando empezamos a observar histogramas de conjuntos de datos, encontraremos que muchos de ellos son adecuador para modelar siguiendo la distribución normal. Sin embargo, hay una característica que observamos que es contrario a esta distribución. Y es la falta de simetría, o asimetría. Existen muchas distribuciones que permiten modelar la asimetría. Una que es comúnmente usada en la industria manufacturera para modelar la confiabilidad del producto es la distribución Weibull. Su función densidad es\n",
    "\n",
    "$$\n",
    "f(x) = \\frac{\\alpha}{\\beta^\\alpha}x^{\\alpha-1}e^{-(x/\\beta)^\\alpha}\\;\\;\\; x \\ge 0\n",
    "$$"
   ]
  },
  {
   "cell_type": "markdown",
   "metadata": {},
   "source": [
    "donde $\\alpha$: parámetro de escala $> 0$, y $\\beta$: parámetro de forma $> 0$.\n",
    "\n",
    "<img src=\"Images/weibull.jpg\" alt=\"Notas\" width=\"600\" center/>"
   ]
  },
  {
   "cell_type": "markdown",
   "metadata": {},
   "source": [
    "## Python y distribuciones\n",
    "\n",
    "El submódulo `stats` de SciPy provee funciones para calcular probabilidades para distintas distribuciones. Vamos a calcular la densidad normal (función de densidad de la distribución normal). Para calcular la densidad normal usamos la función `norm.pdf`. Esta función calcula la densidad normal, dado un punto. Para calcular el área entre los valores $a$ y $b$, usaremos la función `norm.cdf`. Esta función calcula el área desde el extremo izquierdo hasta el primer argumento. También se le conoce como *probabilidad acumulada* (*cumulative probability* en inglés)."
   ]
  },
  {
   "cell_type": "code",
   "execution_count": 3,
   "metadata": {},
   "outputs": [],
   "source": [
    "from scipy import stats\n",
    "\n",
    "# Valores mu y sigma de la distribución normal\n",
    "\n",
    "mu = 100\n",
    "sigma = 10"
   ]
  },
  {
   "cell_type": "code",
   "execution_count": 6,
   "metadata": {},
   "outputs": [
    {
     "data": {
      "text/plain": [
       "1.3383022576488537e-05"
      ]
     },
     "execution_count": 6,
     "metadata": {},
     "output_type": "execute_result"
    }
   ],
   "source": [
    "# Evaluamos la función de densidad en el punto x\n",
    "\n",
    "x = 60\n",
    "\n",
    "f = stats.norm.pdf(x, mu, sigma)\n",
    "f"
   ]
  },
  {
   "cell_type": "code",
   "execution_count": 7,
   "metadata": {},
   "outputs": [
    {
     "data": {
      "text/plain": [
       "0.022750131948179195"
      ]
     },
     "execution_count": 7,
     "metadata": {},
     "output_type": "execute_result"
    }
   ],
   "source": [
    "# El area entre el extremo izquierdo y r\n",
    "\n",
    "r = 80\n",
    "\n",
    "cpr = stats.norm.cdf(r, mu, sigma)\n",
    "cpr"
   ]
  },
  {
   "cell_type": "code",
   "execution_count": 10,
   "metadata": {},
   "outputs": [
    {
     "data": {
      "text/plain": [
       "2.8665157187919333e-07"
      ]
     },
     "execution_count": 10,
     "metadata": {},
     "output_type": "execute_result"
    }
   ],
   "source": [
    "l = 50\n",
    "\n",
    "cpl = stats.norm.cdf(l, mu, sigma)\n",
    "cpl"
   ]
  },
  {
   "cell_type": "code",
   "execution_count": 11,
   "metadata": {},
   "outputs": [
    {
     "data": {
      "text/plain": [
       "0.022749845296607316"
      ]
     },
     "execution_count": 11,
     "metadata": {},
     "output_type": "execute_result"
    }
   ],
   "source": [
    "# Probabilidad acumulada entre [l, r]\n",
    "\n",
    "cp_range = cpr - cpl\n",
    "cp_range"
   ]
  }
 ],
 "metadata": {
  "kernelspec": {
   "display_name": ".env",
   "language": "python",
   "name": "python3"
  },
  "language_info": {
   "codemirror_mode": {
    "name": "ipython",
    "version": 3
   },
   "file_extension": ".py",
   "mimetype": "text/x-python",
   "name": "python",
   "nbconvert_exporter": "python",
   "pygments_lexer": "ipython3",
   "version": "3.11.7"
  }
 },
 "nbformat": 4,
 "nbformat_minor": 2
}
