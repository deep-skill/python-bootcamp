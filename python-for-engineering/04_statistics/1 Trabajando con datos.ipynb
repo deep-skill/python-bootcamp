{
 "cells": [
  {
   "cell_type": "markdown",
   "metadata": {},
   "source": [
    "# Trabajando con datos\n",
    "\n",
    "Los descubrimientos y elecciones de científicos e ingenieros se fundamentan en información adquirida mediante experimentos y observaciones. Los experimentos son planificados y ejecutados, mientras que las observaciones se realizan sobre fenómenos, mayormente en la naturaleza, laboratorios o procesos existentes. Todos estos métodos generan datos, y el campo de la estadística aplicada se encarga de extraer conclusiones a partir de estos datos.\n",
    "\n",
    "Uno de los problemas frecuentes en el tratamiento e interpretación de datos es la incorrecta aplicación de la estadística. Existen innumerables ejemplos de expertos e investigadores que llegan a conclusiones erróneas, a veces con consecuencias desastrosas, debido a la aplicación inapropiada de métodos estadísticos. Un aspecto asociado a esto es la disponibilidad de paquetes de software estadístico que generan una avalancha de resultados difíciles de comprender para los ingenieros o científicos, a menos que tengan un sólido conocimiento en estadística aplicada.\n",
    "\n",
    "Nuestra intención aquí es introducir conceptos y prácticas sólidas en el manejo de datos. Con ello, buscamos motivarte a profundizar en este tema vital. Al mismo tiempo, te advertimos sobre el riesgo de utilizar resultados estadísticos que no comprendas completamente para sacar conclusiones, una trampa común en la que caen los investigadores.\n",
    "\n",
    "Este capítulo comienza con los pasos habituales para caracterizar un conjunto de datos. Esto incluye identificar el tipo de datos y las restricciones presentes. Aprenderás a obtener estadísticas muestrales que facilitan su descripción. Dado que los datos contienen errores aleatorios, entender su naturaleza y cómo estos se relacionan con el concepto de población de la cual se extraen los datos resulta esencial. También se introducirá el proceso de simulación de números aleatorios extraídos de diversas poblaciones.\n",
    "\n",
    "Con esta base, continuaremos con dos temas fundamentales en estadística aplicada. El primero, conocido como prueba de hipótesis, se refiere a realizar afirmaciones basadas en un conjunto de datos y evaluar la incertidumbre de dichas afirmaciones y decisiones que podrían tomarse. El segundo introduce el importante campo de la regresión, consistente en ajustar modelos a los datos. Los modelos matemáticos pueden emplearse de varias maneras para aumentar la comprensión de los fenómenos y realizar predicciones."
   ]
  },
  {
   "cell_type": "code",
   "execution_count": null,
   "metadata": {},
   "outputs": [],
   "source": []
  }
 ],
 "metadata": {
  "language_info": {
   "name": "python"
  }
 },
 "nbformat": 4,
 "nbformat_minor": 2
}
