{
 "cells": [
  {
   "cell_type": "markdown",
   "metadata": {},
   "source": [
    "# Uso de diagramas de caja para diagnosticar valores atípicos\n",
    "\n",
    "Los diagramas de caja son efectivas en juzgar si valores o resultados extremos deben ser clasificados como atípicos o no. También son útiles para compara conjuntos de datos distintos.\n",
    "\n",
    "Los pasos necesarios para construir un diagrama de caja:\n",
    "\n",
    "1. Encontrar la mediana del conjunto de datos\n",
    "2. Calcular el percentil 25 y 75 del conjunto de datos\n",
    "3. Dibujar una caja con una apropiada escala vertical para los datos con estos dos límites\n",
    "4. Calcular el rango intercuartílico (iqr) como la diferencia de estos dos percentiles\n",
    "5. Dibujar líneas, llamados *bigotes*, encima y debajo del cuadro que extienden una longitud máxima de 1.5 iqr, pero solo hasta el punto más grande (o más pequeño) que aún esté dentro de 1.5 iqr\n",
    "6. Identifique cualquier dato más allá de los bigotes como valores atípicos representándolos como puntos\n",
    "\n",
    "La implementación en Python sería de la siguiente manera:"
   ]
  },
  {
   "cell_type": "code",
   "execution_count": 2,
   "metadata": {},
   "outputs": [],
   "source": [
    "import numpy as np\n",
    "\n",
    "# Implementación del percentil\n",
    "def pctile(x,pct):\n",
    "    y = np.sort(x)\n",
    "    n = len(y)\n",
    "    mp = pct/100*(n-1)\n",
    "    mp1 = int(mp)\n",
    "    xp = (mp-mp1)*y[mp1]+(1-(mp-mp1))*y[mp1+1]\n",
    "    return xp\n",
    "\n",
    "x = np.array([11.4,10.5,9.3,14.6,8.4,7.9,7.3,9.7,8.6,8.7])\n",
    "n = len(x)\n",
    "\n",
    "x_median = np.median(x)\n",
    "\n",
    "x25 = pctile(x, 25.)\n",
    "x75 = pctile(x, 75.)\n",
    "\n",
    "iqr = x75 - x25\n",
    "\n",
    "xwhiskhimax = x75 + 1.5 * iqr\n",
    "xwhisklomin = x25 - 1.5 * iqr\n",
    "\n",
    "x_sorted = np.sort(x)\n",
    "\n",
    "for i in range(n):\n",
    "    if x_sorted[i] > xwhisklomin:\n",
    "        xwhisklo = x_sorted[i]\n",
    "        break\n",
    "\n",
    "for i in reversed(range(n)):\n",
    "    if x_sorted[i] < xwhiskhimax:\n",
    "        xwhiskhi = x_sorted[i]\n",
    "        break"
   ]
  },
  {
   "cell_type": "code",
   "execution_count": 3,
   "metadata": {},
   "outputs": [
    {
     "name": "stdout",
     "output_type": "stream",
     "text": [
      "Mediana: 9.0\n",
      "Percentil 25: 8.549999999999999\n",
      "Percentil 75: 9.899999999999999\n",
      "iqr: 1.3499999999999996\n",
      "Bigote bajo: 7.3\n",
      "Bigote alto: 11.4\n"
     ]
    }
   ],
   "source": [
    "# Resultados\n",
    "\n",
    "print('Mediana: ' + str(x_median))\n",
    "print('Percentil 25: ' + str(x25))\n",
    "print('Percentil 75: ' + str(x75))\n",
    "print('iqr: ' + str(iqr))\n",
    "print('Bigote bajo: ' + str(xwhisklo))\n",
    "print('Bigote alto: ' + str(xwhiskhi))"
   ]
  },
  {
   "cell_type": "markdown",
   "metadata": {},
   "source": [
    "Ahora estos datos podríamos meterlo a un graficador para obtener el resultado visual. Sin embargo, podemos usar la librería `matplotlib` (profundizaremos más en esta librería en capítulos siguientes) para obtener el diagrama de caja de un conjunto de datos de manera sencilla:"
   ]
  },
  {
   "cell_type": "code",
   "execution_count": 8,
   "metadata": {},
   "outputs": [
    {
     "data": {
      "text/plain": [
       "{'whiskers': [<matplotlib.lines.Line2D at 0x119450650>,\n",
       "  <matplotlib.lines.Line2D at 0x1194667d0>],\n",
       " 'caps': [<matplotlib.lines.Line2D at 0x119467350>,\n",
       "  <matplotlib.lines.Line2D at 0x119467ed0>],\n",
       " 'boxes': [<matplotlib.lines.Line2D at 0x1193a7ed0>],\n",
       " 'medians': [<matplotlib.lines.Line2D at 0x1194709d0>],\n",
       " 'fliers': [<matplotlib.lines.Line2D at 0x119471550>],\n",
       " 'means': []}"
      ]
     },
     "execution_count": 8,
     "metadata": {},
     "output_type": "execute_result"
    },
    {
     "data": {
      "image/png": "[encoded data removed]",
      "text/plain": [
       "<Figure size 640x480 with 1 Axes>"
      ]
     },
     "metadata": {},
     "output_type": "display_data"
    }
   ],
   "source": [
    "import matplotlib.pyplot as plt\n",
    "plt.boxplot(x)"
   ]
  },
  {
   "cell_type": "markdown",
   "metadata": {},
   "source": [
    "Observamos que hay un punto (el 14.6) muy separado del diagrama de caja. A este valor lo consideraremos como un *valor atípico*."
   ]
  }
 ],
 "metadata": {
  "kernelspec": {
   "display_name": ".env",
   "language": "python",
   "name": "python3"
  },
  "language_info": {
   "codemirror_mode": {
    "name": "ipython",
    "version": 3
   },
   "file_extension": ".py",
   "mimetype": "text/x-python",
   "name": "python",
   "nbconvert_exporter": "python",
   "pygments_lexer": "ipython3",
   "version": "3.11.7"
  }
 },
 "nbformat": 4,
 "nbformat_minor": 2
}
