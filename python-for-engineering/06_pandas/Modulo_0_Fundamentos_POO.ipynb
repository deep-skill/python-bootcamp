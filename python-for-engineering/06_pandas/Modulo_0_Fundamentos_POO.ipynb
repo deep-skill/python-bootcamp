{
 "cells": [
  {
   "cell_type": "markdown",
   "metadata": {},
   "source": [
    "# Módulo 0: Fundamentos de POO aplicados a Pandas\n",
    "\n",
    "## 🎯 Objetivos de Aprendizaje\n",
    "\n",
    "En este módulo aprenderás:\n",
    "- Comprender Pandas como una biblioteca orientada a objetos\n",
    "- Identificar las clases principales de Pandas\n",
    "- Entender la jerarquía de herencia en Pandas\n",
    "- Reconocer atributos y métodos en objetos de Pandas\n",
    "- Explorar la composición de objetos en Pandas\n",
    "\n",
    "---\n",
    "\n",
    "## 📚 Introducción\n",
    "\n",
    "**Pandas** no es solo una herramienta para análisis de datos; es un excelente ejemplo de diseño de software orientado a objetos. Cada estructura de datos en Pandas (Series, DataFrame, Index) es una **clase** con:\n",
    "\n",
    "- **Atributos**: propiedades que describen el objeto\n",
    "- **Métodos**: funcionalidades que el objeto puede ejecutar\n",
    "- **Herencia**: relaciones entre clases\n",
    "- **Encapsulamiento**: control de acceso a datos internos\n"
   ]
  },
  {
   "cell_type": "code",
   "execution_count": 2,
   "metadata": {},
   "outputs": [
    {
     "name": "stdout",
     "output_type": "stream",
     "text": [
      "Pandas versión: 2.3.3\n"
     ]
    }
   ],
   "source": [
    "# Importar bibliotecas necesarias\n",
    "import pandas as pd\n",
    "import numpy as np\n",
    "\n",
    "# Importar funciones auxiliares del módulo\n",
    "from modulo_0_fundamentos_poo import (\n",
    "    explorar_objeto, \n",
    "    mostrar_atributos_publicos,\n",
    "    mostrar_metodos_especiales\n",
    ")\n",
    "\n",
    "print(f\"Pandas versión: {pd.__version__}\")\n"
   ]
  },
  {
   "cell_type": "markdown",
   "metadata": {},
   "source": [
    "## 1. Todo en Pandas es un Objeto\n",
    "\n",
    "En Python, **todo es un objeto**. Cuando creamos una Serie o un DataFrame, estamos **instanciando** una clase.\n"
   ]
  },
  {
   "cell_type": "code",
   "execution_count": 4,
   "metadata": {},
   "outputs": [
    {
     "name": "stdout",
     "output_type": "stream",
     "text": [
      "Tipo: <class 'pandas.core.series.Series'>\n",
      "Clase: Series\n",
      "Es una instancia de Series: True\n",
      "\n",
      "Contenido:\n",
      "0    10\n",
      "1    20\n",
      "2    30\n",
      "3    40\n",
      "4    50\n",
      "Name: ventas, dtype: int64\n"
     ]
    }
   ],
   "source": [
    "# Crear una Series - esto es INSTANCIAR la clase Series\n",
    "mi_serie = pd.Series([10, 20, 30, 40, 50], name='ventas')\n",
    "\n",
    "# Verificar que es un objeto de la clase Series\n",
    "print(f\"Tipo: {type(mi_serie)}\")\n",
    "print(f\"Clase: {mi_serie.__class__.__name__}\")\n",
    "print(f\"Es una instancia de Series: {isinstance(mi_serie, pd.Series)}\")\n",
    "\n",
    "print(\"\\nContenido:\")\n",
    "print(mi_serie)\n"
   ]
  },
  {
   "cell_type": "markdown",
   "metadata": {},
   "source": [
    "## 2. Explorando la Jerarquía de Herencia\n",
    "\n",
    "En POO, las clases pueden **heredar** de otras clases. Pandas usa herencia para compartir funcionalidad entre sus estructuras de datos.\n"
   ]
  },
  {
   "cell_type": "code",
   "execution_count": 5,
   "metadata": {},
   "outputs": [
    {
     "name": "stdout",
     "output_type": "stream",
     "text": [
      "Jerarquía de herencia de Series:\n",
      "--------------------------------------------------\n",
      "0. <class 'pandas.core.series.Series'>\n",
      "1. <class 'pandas.core.base.IndexOpsMixin'>\n",
      "2. <class 'pandas.core.arraylike.OpsMixin'>\n",
      "3. <class 'pandas.core.generic.NDFrame'>\n",
      "4. <class 'pandas.core.base.PandasObject'>\n",
      "5. <class 'pandas.core.accessor.DirNamesMixin'>\n",
      "6. <class 'pandas.core.indexing.IndexingMixin'>\n",
      "7. <class 'object'>\n"
     ]
    }
   ],
   "source": [
    "# Explorar la jerarquía de herencia (MRO - Method Resolution Order)\n",
    "print(\"Jerarquía de herencia de Series:\")\n",
    "print(\"-\" * 50)\n",
    "for i, clase in enumerate(pd.Series.__mro__):\n",
    "    print(f\"{i}. {clase}\")\n"
   ]
  },
  {
   "cell_type": "markdown",
   "metadata": {},
   "source": [
    "### 💡 Concepto Clave: NDFrame\n",
    "\n",
    "**NDFrame** es la clase base de la que heredan tanto `Series` como `DataFrame`. Proporciona métodos compartidos como:\n",
    "- `head()`, `tail()`\n",
    "- `describe()`\n",
    "- `sum()`, `mean()`, `std()`\n",
    "- `copy()`\n",
    "- `info()`\n",
    "\n",
    "Esto es un ejemplo de **herencia** y **reutilización de código**.\n"
   ]
  },
  {
   "cell_type": "code",
   "execution_count": 7,
   "metadata": {},
   "outputs": [
    {
     "name": "stdout",
     "output_type": "stream",
     "text": [
      "Series hereda de NDFrame: True\n",
      "DataFrame hereda de NDFrame: True\n",
      "DataFrame hereda de Series: False\n",
      "\n",
      "Métodos compartidos (heredados de NDFrame):\n",
      "mi_serie.head(): <class 'pandas.core.series.Series'>\n",
      "mi_df.head(): <class 'pandas.core.frame.DataFrame'>\n"
     ]
    }
   ],
   "source": [
    "# Verificar herencia de NDFrame\n",
    "print(f\"Series hereda de NDFrame: {isinstance(mi_serie, pd.core.generic.NDFrame)}\")\n",
    "\n",
    "# Crear un DataFrame\n",
    "mi_df = pd.DataFrame({'A': [1, 2, 3], 'B': [4, 5, 6]})\n",
    "print(f\"DataFrame hereda de NDFrame: {isinstance(mi_df, pd.core.generic.NDFrame)}\")\n",
    "print(f\"DataFrame hereda de Series: {isinstance(mi_df, pd.Series)}\")\n",
    "\n",
    "# Ambos comparten métodos de NDFrame\n",
    "print(\"\\nMétodos compartidos (heredados de NDFrame):\")\n",
    "print(\"mi_serie.head():\", type(mi_serie.head()))\n",
    "print(\"mi_df.head():\", type(mi_df.head()))\n"
   ]
  },
  {
   "cell_type": "markdown",
   "metadata": {},
   "source": [
    "## 3. Atributos de Objetos\n",
    "\n",
    "Los **atributos** son propiedades que describen el estado de un objeto. En Pandas, cada estructura tiene atributos específicos.\n"
   ]
  },
  {
   "cell_type": "code",
   "execution_count": 8,
   "metadata": {},
   "outputs": [
    {
     "name": "stdout",
     "output_type": "stream",
     "text": [
      "Atributos importantes de Series:\n",
      "--------------------------------------------------\n",
      "values: [10 20 30 40 50]\n",
      "index: RangeIndex(start=0, stop=5, step=1)\n",
      "dtype: int64\n",
      "name: ventas\n",
      "shape: (5,)\n",
      "size: 5\n",
      "ndim: 1\n"
     ]
    }
   ],
   "source": [
    "# Atributos de una Series\n",
    "print(\"Atributos importantes de Series:\")\n",
    "print(\"-\" * 50)\n",
    "print(f\"values: {mi_serie.values}\")  # Array de valores\n",
    "print(f\"index: {mi_serie.index}\")    # Índice\n",
    "print(f\"dtype: {mi_serie.dtype}\")    # Tipo de datos\n",
    "print(f\"name: {mi_serie.name}\")      # Nombre de la serie\n",
    "print(f\"shape: {mi_serie.shape}\")    # Forma (dimensiones)\n",
    "print(f\"size: {mi_serie.size}\")      # Número de elementos\n",
    "print(f\"ndim: {mi_serie.ndim}\")      # Número de dimensiones\n"
   ]
  },
  {
   "cell_type": "code",
   "execution_count": 9,
   "metadata": {},
   "outputs": [
    {
     "name": "stdout",
     "output_type": "stream",
     "text": [
      "\n",
      "Atributos importantes de DataFrame:\n",
      "--------------------------------------------------\n",
      "values:\n",
      "[[1 4]\n",
      " [2 5]\n",
      " [3 6]]\n",
      "\n",
      "index: RangeIndex(start=0, stop=3, step=1)\n",
      "columns: Index(['A', 'B'], dtype='object')\n",
      "dtypes:\n",
      "A    int64\n",
      "B    int64\n",
      "dtype: object\n",
      "\n",
      "shape: (3, 2)\n",
      "size: 6\n",
      "ndim: 2\n"
     ]
    }
   ],
   "source": [
    "# Atributos de un DataFrame\n",
    "print(\"\\nAtributos importantes de DataFrame:\")\n",
    "print(\"-\" * 50)\n",
    "print(f\"values:\\n{mi_df.values}\")      # Array 2D de valores\n",
    "print(f\"\\nindex: {mi_df.index}\")       # Índice de filas\n",
    "print(f\"columns: {mi_df.columns}\")     # Nombres de columnas\n",
    "print(f\"dtypes:\\n{mi_df.dtypes}\")      # Tipos de cada columna\n",
    "print(f\"\\nshape: {mi_df.shape}\")       # (filas, columnas)\n",
    "print(f\"size: {mi_df.size}\")           # Total de elementos\n",
    "print(f\"ndim: {mi_df.ndim}\")           # Número de dimensiones\n"
   ]
  },
  {
   "cell_type": "markdown",
   "metadata": {},
   "source": [
    "## 4. Métodos de Objetos\n",
    "\n",
    "Los **métodos** son funciones que pertenecen a un objeto y pueden realizar operaciones sobre él.\n"
   ]
  },
  {
   "cell_type": "code",
   "execution_count": 10,
   "metadata": {},
   "outputs": [
    {
     "name": "stdout",
     "output_type": "stream",
     "text": [
      "Ejemplos de métodos de Series:\n",
      "--------------------------------------------------\n",
      "Suma: 150\n",
      "Media: 30.0\n",
      "Máximo: 50\n",
      "Mínimo: 10\n",
      "\n",
      "Multiplicar por 2:\n",
      "0     20\n",
      "1     40\n",
      "2     60\n",
      "3     80\n",
      "4    100\n",
      "Name: ventas, dtype: int64\n",
      "\n",
      "Descripción estadística:\n",
      "count     5.000000\n",
      "mean     30.000000\n",
      "std      15.811388\n",
      "min      10.000000\n",
      "25%      20.000000\n",
      "50%      30.000000\n",
      "75%      40.000000\n",
      "max      50.000000\n",
      "Name: ventas, dtype: float64\n"
     ]
    }
   ],
   "source": [
    "# Métodos de Series\n",
    "print(\"Ejemplos de métodos de Series:\")\n",
    "print(\"-\" * 50)\n",
    "\n",
    "# Métodos estadísticos\n",
    "print(f\"Suma: {mi_serie.sum()}\")\n",
    "print(f\"Media: {mi_serie.mean()}\")\n",
    "print(f\"Máximo: {mi_serie.max()}\")\n",
    "print(f\"Mínimo: {mi_serie.min()}\")\n",
    "\n",
    "# Métodos de transformación\n",
    "print(f\"\\nMultiplicar por 2:\\n{mi_serie.mul(2)}\")\n",
    "\n",
    "# Métodos de información\n",
    "print(f\"\\nDescripción estadística:\\n{mi_serie.describe()}\")\n"
   ]
  },
  {
   "cell_type": "markdown",
   "metadata": {},
   "source": [
    "### 💡 Concepto Clave: Métodos de Instancia\n",
    "\n",
    "Los métodos que hemos usado (`sum()`, `mean()`, `describe()`) son **métodos de instancia**: operan sobre una instancia específica del objeto.\n",
    "\n",
    "```python\n",
    "mi_serie.sum()  # suma los valores de ESTA instancia de Serie\n",
    "```\n"
   ]
  },
  {
   "cell_type": "markdown",
   "metadata": {},
   "source": [
    "## 5. Composición: DataFrame como colección de Series\n",
    "\n",
    "Un concepto importante de POO es la **composición**: un objeto que contiene otros objetos.\n",
    "\n",
    "En Pandas:\n",
    "- Un **DataFrame** está compuesto por múltiples **Series**\n",
    "- Cada columna de un DataFrame es una Serie independiente\n"
   ]
  },
  {
   "cell_type": "code",
   "execution_count": 11,
   "metadata": {},
   "outputs": [
    {
     "name": "stdout",
     "output_type": "stream",
     "text": [
      "DataFrame completo:\n",
      "   nombre  edad  salario\n",
      "0     Ana    25    30000\n",
      "1    Luis    30    45000\n",
      "2   María    28    38000\n",
      "3  Carlos    35    52000\n",
      "\n",
      "Tipo del DataFrame: <class 'pandas.core.frame.DataFrame'>\n"
     ]
    }
   ],
   "source": [
    "# Crear un DataFrame\n",
    "df = pd.DataFrame({\n",
    "    'nombre': ['Ana', 'Luis', 'María', 'Carlos'],\n",
    "    'edad': [25, 30, 28, 35],\n",
    "    'salario': [30000, 45000, 38000, 52000]\n",
    "})\n",
    "\n",
    "print(\"DataFrame completo:\")\n",
    "print(df)\n",
    "print(f\"\\nTipo del DataFrame: {type(df)}\")\n"
   ]
  },
  {
   "cell_type": "code",
   "execution_count": 12,
   "metadata": {},
   "outputs": [
    {
     "name": "stdout",
     "output_type": "stream",
     "text": [
      "Columna 'edad':\n",
      "0    25\n",
      "1    30\n",
      "2    28\n",
      "3    35\n",
      "Name: edad, dtype: int64\n",
      "\n",
      "Tipo de la columna: <class 'pandas.core.series.Series'>\n",
      "Es una Series: True\n",
      "\n",
      "Media de edad: 29.5\n",
      "Nombre de la serie: edad\n"
     ]
    }
   ],
   "source": [
    "# Acceder a una columna - esto retorna una Series\n",
    "columna_edad = df['edad']\n",
    "\n",
    "print(\"Columna 'edad':\")\n",
    "print(columna_edad)\n",
    "print(f\"\\nTipo de la columna: {type(columna_edad)}\")\n",
    "print(f\"Es una Series: {isinstance(columna_edad, pd.Series)}\")\n",
    "\n",
    "# La columna tiene todos los atributos y métodos de Series\n",
    "print(f\"\\nMedia de edad: {columna_edad.mean()}\")\n",
    "print(f\"Nombre de la serie: {columna_edad.name}\")\n"
   ]
  },
  {
   "cell_type": "code",
   "execution_count": 13,
   "metadata": {},
   "outputs": [
    {
     "name": "stdout",
     "output_type": "stream",
     "text": [
      "\n",
      "Iterando por columnas del DataFrame:\n",
      "--------------------------------------------------\n",
      "nombre:\n",
      "  Tipo: Series\n",
      "  dtype: object\n",
      "  shape: (4,)\n",
      "edad:\n",
      "  Tipo: Series\n",
      "  dtype: int64\n",
      "  shape: (4,)\n",
      "salario:\n",
      "  Tipo: Series\n",
      "  dtype: int64\n",
      "  shape: (4,)\n"
     ]
    }
   ],
   "source": [
    "# Iterar por las columnas (cada una es una Serie)\n",
    "print(\"\\nIterando por columnas del DataFrame:\")\n",
    "print(\"-\" * 50)\n",
    "for nombre_columna in df.columns:\n",
    "    columna = df[nombre_columna]\n",
    "    print(f\"{nombre_columna}:\")\n",
    "    print(f\"  Tipo: {type(columna).__name__}\")\n",
    "    print(f\"  dtype: {columna.dtype}\")\n",
    "    print(f\"  shape: {columna.shape}\")\n"
   ]
  },
  {
   "cell_type": "markdown",
   "metadata": {},
   "source": [
    "## 6. Explorando con dir() y help()\n",
    "\n",
    "Python proporciona funciones útiles para explorar objetos:\n"
   ]
  },
  {
   "cell_type": "code",
   "execution_count": 14,
   "metadata": {},
   "outputs": [
    {
     "name": "stdout",
     "output_type": "stream",
     "text": [
      "Total de atributos y métodos: 421\n",
      "\n",
      "Primeros 10: ['T', '_AXIS_LEN', '_AXIS_ORDERS', '_AXIS_TO_AXIS_NUMBER', '_HANDLED_TYPES', '__abs__', '__add__', '__and__', '__annotations__', '__array__']\n",
      "\n",
      "Métodos públicos: 205\n",
      "Algunos ejemplos: ['T', 'abs', 'add', 'add_prefix', 'add_suffix', 'agg', 'aggregate', 'align', 'all', 'any', 'apply', 'argmax', 'argmin', 'argsort', 'array']\n"
     ]
    }
   ],
   "source": [
    "# dir() lista todos los atributos y métodos\n",
    "atributos = dir(mi_serie)\n",
    "print(f\"Total de atributos y métodos: {len(atributos)}\")\n",
    "print(f\"\\nPrimeros 10: {atributos[:10]}\")\n",
    "\n",
    "# Filtrar solo métodos públicos (sin _)\n",
    "publicos = [attr for attr in atributos if not attr.startswith('_')]\n",
    "print(f\"\\nMétodos públicos: {len(publicos)}\")\n",
    "print(f\"Algunos ejemplos: {publicos[:15]}\")\n"
   ]
  },
  {
   "cell_type": "code",
   "execution_count": 15,
   "metadata": {},
   "outputs": [
    {
     "name": "stdout",
     "output_type": "stream",
     "text": [
      "Firma del método sum():\n",
      "(axis: 'Axis | None' = None, skipna: 'bool' = True, numeric_only: 'bool' = False, min_count: 'int' = 0, **kwargs)\n"
     ]
    }
   ],
   "source": [
    "# help() muestra la documentación (comentar para no saturar la salida)\n",
    "# Descomentar para ver la documentación completa\n",
    "# help(mi_serie.sum)\n",
    "\n",
    "# Alternativa: ver solo la firma del método\n",
    "import inspect\n",
    "print(\"Firma del método sum():\")\n",
    "print(inspect.signature(mi_serie.sum))\n"
   ]
  },
  {
   "cell_type": "markdown",
   "metadata": {},
   "source": [
    "## 📚 Resumen del Módulo 0\n",
    "\n",
    "### Conceptos clave aprendidos:\n",
    "\n",
    "1. **Pandas es POO**: Cada estructura (Series, DataFrame, Index) es una clase\n",
    "2. **Herencia**: Series y DataFrame heredan de `NDFrame`\n",
    "3. **Atributos**: Propiedades que describen el estado (`values`, `index`, `dtype`, etc.)\n",
    "4. **Métodos**: Funciones que operan sobre el objeto (`sum()`, `mean()`, etc.)\n",
    "5. **Composición**: DataFrame está compuesto por Series\n",
    "6. **Exploración**: Usar `type()`, `isinstance()`, `dir()`, `help()` para entender objetos\n",
    "\n",
    "### Tabla de correspondencia POO ↔ Pandas:\n",
    "\n",
    "| Concepto POO | En Pandas |\n",
    "|--------------|-----------|\n",
    "| Clase | `pd.Series`, `pd.DataFrame`, `pd.Index` |\n",
    "| Instancia | `mi_serie = pd.Series([1,2,3])` |\n",
    "| Atributo | `mi_serie.values`, `mi_serie.dtype` |\n",
    "| Método | `mi_serie.sum()`, `mi_serie.mean()` |\n",
    "| Herencia | `Series` y `DataFrame` heredan de `NDFrame` |\n",
    "| Composición | `DataFrame` contiene múltiples `Series` |\n",
    "\n",
    "---\n",
    "\n",
    "**Próximo módulo**: Profundizaremos en la clase **Series** como objeto fundamental de Pandas.\n"
   ]
  }
 ],
 "metadata": {
  "kernelspec": {
   "display_name": "Python 3 (ipykernel)",
   "language": "python",
   "name": "python3"
  },
  "language_info": {
   "codemirror_mode": {
    "name": "ipython",
    "version": 3
   },
   "file_extension": ".py",
   "mimetype": "text/x-python",
   "name": "python",
   "nbconvert_exporter": "python",
   "pygments_lexer": "ipython3",
   "version": "3.13.7"
  }
 },
 "nbformat": 4,
 "nbformat_minor": 4
}
