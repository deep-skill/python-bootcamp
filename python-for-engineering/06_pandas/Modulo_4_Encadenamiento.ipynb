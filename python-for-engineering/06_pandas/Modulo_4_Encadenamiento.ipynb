{
  "cells": [
    {
      "cell_type": "markdown",
      "metadata": {},
      "source": [
        "# Módulo 4: Métodos y Encadenamiento (Method Chaining)\n",
        "\n",
        "## 🎯 Objetivos de Aprendizaje\n",
        "\n",
        "- Comprender el patrón Fluent Interface\n",
        "- Dominar el encadenamiento de métodos (method chaining)\n",
        "- Entender copy() vs referencias\n",
        "- Usar pipe(), assign(), query()\n",
        "- Aplicar conceptos de POO: retorno de self, programación fluida\n"
      ]
    },
    {
      "cell_type": "code",
      "execution_count": null,
      "metadata": {},
      "outputs": [],
      "source": [
        "import pandas as pd\n",
        "import numpy as np\n",
        "\n",
        "# Ejecutar todo el módulo\n",
        "%run modulo_4_encadenamiento.py\n"
      ]
    }
  ],
  "metadata": {
    "language_info": {
      "name": "python"
    }
  },
  "nbformat": 4,
  "nbformat_minor": 2
}
