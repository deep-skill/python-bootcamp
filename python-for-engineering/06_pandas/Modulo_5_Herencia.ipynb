{
  "cells": [
    {
      "cell_type": "markdown",
      "metadata": {},
      "source": [
        "# Módulo 5: Herencia y Polimorfismo en Pandas\n",
        "\n",
        "## 🎯 Objetivos de Aprendizaje\n",
        "\n",
        "- Comprender la jerarquía de clases (NDFrame)\n",
        "- Identificar métodos compartidos por herencia\n",
        "- Entender polimorfismo en Pandas\n",
        "- Aplicar duck typing\n",
        "- Crear subclases personalizadas de Series/DataFrame\n"
      ]
    },
    {
      "cell_type": "code",
      "execution_count": null,
      "metadata": {},
      "outputs": [],
      "source": [
        "import pandas as pd\n",
        "import numpy as np\n",
        "\n",
        "# Ejecutar todo el módulo\n",
        "%run modulo_5_herencia.py\n"
      ]
    }
  ],
  "metadata": {
    "language_info": {
      "name": "python"
    }
  },
  "nbformat": 4,
  "nbformat_minor": 2
}
