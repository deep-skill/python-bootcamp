{
  "cells": [
    {
      "cell_type": "markdown",
      "metadata": {},
      "source": [
        "# Módulo 1: Series - El Objeto Fundamental\n",
        "\n",
        "## 🎯 Objetivos de Aprendizaje\n",
        "\n",
        "En este módulo aprenderás:\n",
        "- Anatomía completa de la clase Series\n",
        "- Atributos de instancia y de clase\n",
        "- Constructores y formas de instanciar Series\n",
        "- Propiedades (properties) mutables e inmutables\n",
        "- Métodos de acceso a datos\n",
        "- Encapsulamiento en Series\n",
        "\n",
        "---\n",
        "\n",
        "## 📚 Introducción\n",
        "\n",
        "**Series** es la estructura de datos fundamental en Pandas. Es un array unidimensional etiquetado capaz de contener cualquier tipo de datos.\n",
        "\n",
        "Desde la perspectiva de POO:\n",
        "- `Series` es una **clase**\n",
        "- Cada serie que creamos es una **instancia** de esa clase\n",
        "- Tiene **atributos** (datos) y **métodos** (comportamiento)\n",
        "- Hereda de `NDFrame` y otras clases base\n"
      ]
    },
    {
      "cell_type": "code",
      "execution_count": 4,
      "metadata": {},
      "outputs": [
        {
          "ename": "ModuleNotFoundError",
          "evalue": "No module named 'pandas'",
          "output_type": "error",
          "traceback": [
            "\u001b[31m---------------------------------------------------------------------------\u001b[39m",
            "\u001b[31mModuleNotFoundError\u001b[39m                       Traceback (most recent call last)",
            "\u001b[36mCell\u001b[39m\u001b[36m \u001b[39m\u001b[32mIn[4]\u001b[39m\u001b[32m, line 2\u001b[39m\n\u001b[32m      1\u001b[39m \u001b[38;5;66;03m# Importar bibliotecas y funciones auxiliares\u001b[39;00m\n\u001b[32m----> \u001b[39m\u001b[32m2\u001b[39m \u001b[38;5;28;01mimport\u001b[39;00m\u001b[38;5;250m \u001b[39m\u001b[34;01mpandas\u001b[39;00m\u001b[38;5;250m \u001b[39m\u001b[38;5;28;01mas\u001b[39;00m\u001b[38;5;250m \u001b[39m\u001b[34;01mpd\u001b[39;00m\n\u001b[32m      3\u001b[39m \u001b[38;5;28;01mimport\u001b[39;00m\u001b[38;5;250m \u001b[39m\u001b[34;01mnumpy\u001b[39;00m\u001b[38;5;250m \u001b[39m\u001b[38;5;28;01mas\u001b[39;00m\u001b[38;5;250m \u001b[39m\u001b[34;01mnp\u001b[39;00m\n\u001b[32m      4\u001b[39m \u001b[38;5;28;01mfrom\u001b[39;00m\u001b[38;5;250m \u001b[39m\u001b[34;01mmodulo_1_series\u001b[39;00m\u001b[38;5;250m \u001b[39m\u001b[38;5;28;01mimport\u001b[39;00m AnalizadorSeries\n",
            "\u001b[31mModuleNotFoundError\u001b[39m: No module named 'pandas'"
          ]
        }
      ],
      "source": [
        "# Importar bibliotecas y funciones auxiliares\n",
        "import pandas as pd\n",
        "import numpy as np\n",
        "from modulo_1_series import AnalizadorSeries\n",
        "\n",
        "print(f\"Pandas versión: {pd.__version__}\")\n"
      ]
    },
    {
      "cell_type": "markdown",
      "metadata": {},
      "source": [
        "## 1. Anatomía Completa de Series\n",
        "\n",
        "Usa el archivo .py para explorar Series en detalle con todas las funciones auxiliares creadas.\n"
      ]
    },
    {
      "cell_type": "code",
      "execution_count": null,
      "metadata": {},
      "outputs": [],
      "source": [
        "# Ejecutar el análisis completo desde el archivo .py\n",
        "%run modulo_1_series.py\n"
      ]
    }
  ],
  "metadata": {
    "kernelspec": {
      "display_name": ".env",
      "language": "python",
      "name": "python3"
    },
    "language_info": {
      "codemirror_mode": {
        "name": "ipython",
        "version": 3
      },
      "file_extension": ".py",
      "mimetype": "text/x-python",
      "name": "python",
      "nbconvert_exporter": "python",
      "pygments_lexer": "ipython3",
      "version": "3.13.7"
    }
  },
  "nbformat": 4,
  "nbformat_minor": 2
}
