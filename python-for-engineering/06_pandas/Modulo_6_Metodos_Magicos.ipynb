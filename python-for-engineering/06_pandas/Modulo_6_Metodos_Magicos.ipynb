{
  "cells": [
    {
      "cell_type": "markdown",
      "metadata": {},
      "source": [
        "# Módulo 6: Atributos Especiales y Métodos Mágicos\n",
        "\n",
        "## 🎯 Objetivos de Aprendizaje\n",
        "\n",
        "- Comprender los métodos mágicos (dunder methods)\n",
        "- Dominar __getitem__, __setitem__, __len__\n",
        "- Entender operadores sobrecargados (+, -, *, /, ==, >, <)\n",
        "- Explorar __repr__, __str__, __iter__\n",
        "- Aplicar conceptos de POO: sobrecarga de operadores\n"
      ]
    },
    {
      "cell_type": "code",
      "execution_count": null,
      "metadata": {},
      "outputs": [],
      "source": [
        "import pandas as pd\n",
        "import numpy as np\n",
        "\n",
        "# Ejecutar todo el módulo\n",
        "%run modulo_6_metodos_magicos.py\n"
      ]
    }
  ],
  "metadata": {
    "language_info": {
      "name": "python"
    }
  },
  "nbformat": 4,
  "nbformat_minor": 2
}
