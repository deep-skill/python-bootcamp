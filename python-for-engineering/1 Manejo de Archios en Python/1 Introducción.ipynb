{
 "cells": [
  {
   "cell_type": "markdown",
   "metadata": {},
   "source": [
    "# Introducción al manejo de archivos en Python\n",
    "\n",
    "Python es una poderosa herramiento que nos puede ayudar a realizar distintos tipos de tareas, como automatización, cálculos ciéntificos, aprendizaje automático, análisis de datos y más. \n",
    "\n",
    "Imaginemos que queremos hacer un análisis sobre las notas de los alumnos de alguna universidad con respecto a algunos parámetros como la cantidad de sus horas de sueño, la cantidad de horas diarias dedicadas a estudiar, porcentaje de asistencias a clases. Para este análisis, entonces, vamos a recoger datos de los alumnos mediante entrevistas o formularios. Posteriormente, estos datos se encontrarán almacenados en algún archivo, y el tipo de este archivo puede ser TXT, CSV, Excel, JSON, o algun otro tipo más. Dentro de esta carpeta, encontraremos un archivo llamado `notas.txt`, donde encontraremos el reporte de 1000 alumnos (son datos generados artificialmente). Los primeros diez reportes son:"
   ]
  },
  {
   "cell_type": "markdown",
   "metadata": {},
   "source": [
    "<img src=\"images/Notas.jpg\" alt=\"Notas\" width=\"800\"/>\n"
   ]
  },
  {
   "cell_type": "markdown",
   "metadata": {},
   "source": [
    "Cada reporte consiste en la cantidad de horas de sueño, cantidad de horas de estudio diarias, porcentaje de asistencia a clases, nota obtenida.\n",
    "\n",
    "Para que Python pueda realizar cálculos sobre este conjuntos de datos, necesitamos *cargar* los datos a Python y almacenarlos en alguna estructura de datos. Podríamos intentar añadir cada reporte manualmente en una lista:"
   ]
  },
  {
   "cell_type": "code",
   "execution_count": null,
   "metadata": {},
   "outputs": [],
   "source": [
    "grades = []\n",
    "\n",
    "grades.append((5, 8, 51, 14))\n",
    "grades.append((8, 5, 99, 18))\n",
    "grades.append((5, 10, 67, 14))\n",
    "# 997 líneas más\n",
    "# ...\n",
    "# ..."
   ]
  },
  {
   "cell_type": "markdown",
   "metadata": {},
   "source": [
    "Añadir manualmente los 1000 reportes es ineficiente y nos tardaríamos mucho. Por suerte, Python cuenta con librerías y métodos que nos va a permitir leer datos de distintos tipos de archivos como los ya mencionados. \n",
    "\n",
    "Ejecutemos el siguiente código, que lee el archivo `notas.txt` y carga los 1000 reportes en una lista:"
   ]
  },
  {
   "cell_type": "code",
   "execution_count": null,
   "metadata": {},
   "outputs": [],
   "source": [
    "grades = []\n",
    "\n",
    "grades_txt = open('notas.txt', 'r')\n",
    "\n",
    "grades = grades_txt.read().splitlines()\n",
    "\n",
    "for i, grade in enumerate(grades):\n",
    "    grade = grade.split(' ')\n",
    "    grades[i] = tuple(grade)\n",
    "\n",
    "grades"
   ]
  },
  {
   "cell_type": "code",
   "execution_count": null,
   "metadata": {},
   "outputs": [],
   "source": [
    "# La lista 'grades' contiene los 1000 reportes de los alumnos\n",
    "\n",
    "len(grades)"
   ]
  },
  {
   "cell_type": "markdown",
   "metadata": {},
   "source": [
    "Ahora que tenemos cargados los datos, podemos empezar a realizar análisis sobre estos datos. Y además, Python también nos permite guardar los resultados obtenidos en algún archivo, por ejemplo `results.txt`. \n",
    "\n",
    "Es importante saber leer y escribir en distintos tipos de archivo con Python, y es lo que aprenderemos en este primer capítulo del curso."
   ]
  }
 ],
 "metadata": {
  "kernelspec": {
   "display_name": "Python 3",
   "language": "python",
   "name": "python3"
  },
  "language_info": {
   "codemirror_mode": {
    "name": "ipython",
    "version": 3
   },
   "file_extension": ".py",
   "mimetype": "text/x-python",
   "name": "python",
   "nbconvert_exporter": "python",
   "pygments_lexer": "ipython3",
   "version": "3.9.6"
  }
 },
 "nbformat": 4,
 "nbformat_minor": 2
}
