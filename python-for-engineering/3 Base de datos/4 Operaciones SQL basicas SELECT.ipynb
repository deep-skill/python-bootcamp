{
 "cells": [
  {
   "cell_type": "markdown",
   "metadata": {},
   "source": [
    "# Consultas SQL basicas SELECT"
   ]
  },
  {
   "cell_type": "markdown",
   "metadata": {},
   "source": [
    "En esta sección, aprenderemos como extraer datos de nuestra base de datos.\n",
    "\n",
    "Primero, vamos a cargar una base de datos que descargaremos de la plataforma Kaggle. Kaggle es una plataforma en línea que provee recursos relacionados con ciencia de datos, aprendizaje automático y análisis de datos. En Kaggle, podremos encontrar muchos *datasets* (conjunto de datos) educacionales. Nosotros descargaremos un *dataset* y lo cargaremos en una base de datos en SQLite 3 para hacer consultas sobre ella. \n",
    "\n",
    "Usaremos la siguiente base de datos, que recopila las canciones más populares del mundo en Spotify: https://www.kaggle.com/datasets/arnavvvvv/spotify-music.\n",
    "\n",
    "Necesitarás crear una cuenta para descargar el archivo (el archivo será de tipo CSV).\n",
    "\n",
    "Exploremos el archivo CSV con Pandas:"
   ]
  },
  {
   "cell_type": "code",
   "execution_count": null,
   "metadata": {},
   "outputs": [],
   "source": [
    "import pandas as pd\n",
    "\n",
    "spotify_df = pd.read_csv('Popular_Spotify_Songs.csv', encoding='latin1')\n",
    "spotify_df.head()"
   ]
  },
  {
   "cell_type": "markdown",
   "metadata": {},
   "source": [
    "Tenemos 953 canciones en total:"
   ]
  },
  {
   "cell_type": "code",
   "execution_count": null,
   "metadata": {},
   "outputs": [],
   "source": [
    "spotify_df.shape"
   ]
  },
  {
   "cell_type": "code",
   "execution_count": null,
   "metadata": {},
   "outputs": [],
   "source": [
    "spotify_df.columns"
   ]
  },
  {
   "cell_type": "markdown",
   "metadata": {},
   "source": [
    "# Conexión a la base de datos"
   ]
  },
  {
   "cell_type": "markdown",
   "metadata": {},
   "source": [
    "Vamos a cargar los datos del archivo CSV a un base de datos. Para poder realizar consultas sobre una base de datos, antes debemos crear una conexión a la base de datos. Vamos a crear una base de datos con nombre \"spotifydb\" y conectarnos a ella:"
   ]
  },
  {
   "cell_type": "code",
   "execution_count": null,
   "metadata": {},
   "outputs": [],
   "source": [
    "# La librería sqlite3 nos permitirá conectarnos a bases de datos SQLite\n",
    "\n",
    "import sqlite3\n",
    "\n",
    "# Creamos una conexión a 'spotifydb'. Si no existe la base de datos, crea la base de datos\n",
    "conn = sqlite3.connect('spotifydb')\n",
    "\n",
    "# Nos ayudará a ejecutar acciones, operaciones y consultas sobre la base de datos\n",
    "cursor = conn.cursor()"
   ]
  },
  {
   "cell_type": "markdown",
   "metadata": {},
   "source": [
    "Nos podemos fijar que se ha creado un archivo con nombre 'spotifydb' en la carpeta. Ahi se guardarán todos los datos de la base de datos."
   ]
  },
  {
   "cell_type": "markdown",
   "metadata": {},
   "source": [
    "# Creación de una tabla en la base de datos\n",
    "\n",
    "Las bases de datos relacionales están organizadas en forma de tablas. Cada tabla está compuesta por filas y columnas.\n",
    "\n",
    "1. Las columnas (también llamadas campos) representa un atributo específico de la entidad que la tabla describe. Por ejemplo, en una tabla de canciones de Spotify, las columnas pueden ser el nombre de la canción, el artista, año de lanzamiento, etc.\n",
    "2. Las filas (también llamadas registros) representa una instancia única de la entidad que una tabla describe. Por ejemplo, una tabla de canciones de Spotify, cada fila representará a una canción distinta con cada columna que contiene información de esa canción.\n",
    "\n",
    "Vamos a crear una tabla para cargar los datos del archivo CSV. Solo vamos a tener en cuenta algunas columnas (o campos) para esta sección. \n",
    "\n",
    "Sintaxis para la creación de una tabla (si no existe la tabla en la base de datos):\n",
    "\n",
    "```SQL\n",
    "\n",
    "CREATE TABLE table_name(\n",
    "    column1_name column1_type,\n",
    "    column2_name column2_type,\n",
    "    column3_name column3_type\n",
    ")\n",
    "\n",
    "```\n",
    "\n",
    "Al igual que en Python, en SQLite existen distintos tipos de datos para las columnas. Algunas pueden contener número enteros (INTEGER), números reales (REAL), texto (TEXT), etc. Aquí tienes una referencia más detallada sobre los tipos de datos en SQLite: https://www.sqlite.org/datatype3.html."
   ]
  },
  {
   "cell_type": "markdown",
   "metadata": {},
   "source": [
    "Primero vamos a filtrar solamente las siguientes columnas:\n",
    "\n",
    "- Track name (Nombre de la canción)\n",
    "- Artist(s) name (Nombre del artista)\n",
    "- Released year (Año de lanzamiento)\n",
    "- Released month (Mes de lanzamiento)\n",
    "- Released day (Día de lanzamiento)\n",
    "- In Spotify Playlists (Cantidad de playlists donde se encuentra la canción)\n",
    "- Streams (Cantidad de reproducciones de la canción en Spotify)"
   ]
  },
  {
   "cell_type": "code",
   "execution_count": null,
   "metadata": {},
   "outputs": [],
   "source": [
    "# Primero filtramos las columnas que usaremos \n",
    "spotify_df = pd.read_csv('Popular_Spotify_Songs.csv')\n",
    "\n",
    "columns = ['track_name', 'artist(s)_name', 'released_year', 'released_month', 'released_day', 'in_spotify_playlists', 'streams']\n",
    "spotify_df = spotify_df[columns]"
   ]
  },
  {
   "cell_type": "code",
   "execution_count": null,
   "metadata": {},
   "outputs": [],
   "source": [
    "spotify_df.head()"
   ]
  },
  {
   "cell_type": "markdown",
   "metadata": {},
   "source": [
    "Ahora vamos a crear una nueva columna llamada `released_date` donde juntaremos el año, mes y día de lanzamiento en un único campo:"
   ]
  },
  {
   "cell_type": "code",
   "execution_count": null,
   "metadata": {},
   "outputs": [],
   "source": [
    "spotify_df['released_date'] = spotify_df['released_year'].astype('str') + '-' + spotify_df['released_month'].astype('str') + '-' + spotify_df['released_day'].astype('str')\n",
    "spotify_df.drop(columns=['released_year', 'released_month', 'released_day'], inplace=True)\n",
    "spotify_df"
   ]
  },
  {
   "cell_type": "markdown",
   "metadata": {},
   "source": [
    "Además, cambiaremos el nombre de la columna `artist(s)_name` por `artist_name` ya que SQLite no acepta caracteres espaciales (como paréntesis, corchetes) en el nombre de sus columnas."
   ]
  },
  {
   "cell_type": "code",
   "execution_count": null,
   "metadata": {},
   "outputs": [],
   "source": [
    "spotify_df.rename(columns={'artist(s)_name' : 'artist_name'}, inplace=True)\n",
    "spotify_df"
   ]
  },
  {
   "cell_type": "markdown",
   "metadata": {},
   "source": [
    "Nos quedamos con 5 columnas en nuestro dataframe que insertaremos en la base de datos.\n",
    "\n",
    "Creamos una tabla en la base de datos con estos 5 campos con sus respectivos tipos de datos:"
   ]
  },
  {
   "cell_type": "code",
   "execution_count": null,
   "metadata": {},
   "outputs": [],
   "source": [
    "# Ejecutamos la query con el método 'execute' de cursor. La query es una cadena.\n",
    "# Si la tabla ya existe en la base de datos, nos generará un error\n",
    "\n",
    "cursor.execute('''CREATE TABLE spotify_songs_table (\n",
    "                    track_name TEXT,\n",
    "                    artist_name TEXT,\n",
    "                    in_spotify_playlists INTEGER,\n",
    "                    streams INTEGER,\n",
    "                    released_date DATE\n",
    "              )''')\n"
   ]
  },
  {
   "cell_type": "markdown",
   "metadata": {},
   "source": [
    "Ya tenemos creada una tabla en nuestra base de datos, pero esta tabla se encuentra vacía. Podemos insertar registros a una tabla de manera sencilla con pandas, pero el nombre de las columnas de la tabla con las columnas del DataFrame deben ser **iguales**:"
   ]
  },
  {
   "cell_type": "code",
   "execution_count": null,
   "metadata": {},
   "outputs": [],
   "source": [
    "# Parámetros:\n",
    "# - Nombre de la tabla: spotify_songs_table\n",
    "# - Conexióna a la base da datos: conn\n",
    "# - if_exists = 'append': Si la tabla ya existe, insertamos los datos en esa tabla\n",
    "# - index = False : El índice del DataFrame no se inserta a la base de datos\n",
    "\n",
    "spotify_df.to_sql('spotify_songs_table', conn, if_exists='append', index=False)"
   ]
  },
  {
   "cell_type": "markdown",
   "metadata": {},
   "source": [
    "Con esto, nuestra tabla tiene 953 registros."
   ]
  },
  {
   "cell_type": "markdown",
   "metadata": {},
   "source": [
    "Cerramos la conexión a la base de datos:"
   ]
  },
  {
   "cell_type": "code",
   "execution_count": null,
   "metadata": {},
   "outputs": [],
   "source": [
    "conn.close()"
   ]
  },
  {
   "cell_type": "markdown",
   "metadata": {},
   "source": [
    "# Instrucción SELECT\n",
    "\n",
    "Nuestra base de datos ya se encuentra cargada con los registros del archivo CSV que descargamos de la plataforma Kaggle. \n",
    "\n",
    "Ahora veamos como extraer registros de la base de datos. Primero nos conectamos a la base de datos:"
   ]
  },
  {
   "cell_type": "code",
   "execution_count": null,
   "metadata": {},
   "outputs": [],
   "source": [
    "conn = sqlite3.connect('spotifydb')\n",
    "cursor = conn.cursor()"
   ]
  },
  {
   "cell_type": "markdown",
   "metadata": {},
   "source": [
    "La intrucción `SELECT` nos ayudará a extraer **todos** los registros de una tabla. La sintaxis de la instrucción es:\n",
    "\n",
    "```SQL\n",
    "\n",
    "SELECT *\n",
    "FROM table_name\n",
    "\n",
    "```"
   ]
  },
  {
   "cell_type": "code",
   "execution_count": null,
   "metadata": {},
   "outputs": [],
   "source": [
    "cursor.execute('''SELECT *\n",
    "                  FROM spotify_songs_table''')"
   ]
  },
  {
   "cell_type": "markdown",
   "metadata": {},
   "source": [
    "Ya ejecutamos la instrucción `SELECT`, ahora recuperaremos los registros con el método `fetchall()`:"
   ]
  },
  {
   "cell_type": "code",
   "execution_count": null,
   "metadata": {},
   "outputs": [],
   "source": [
    "rows = cursor.fetchall()\n",
    "rows"
   ]
  },
  {
   "cell_type": "markdown",
   "metadata": {},
   "source": [
    "Obtenemos una lista de tuplas, donde cada tupla representa un registro. "
   ]
  },
  {
   "cell_type": "markdown",
   "metadata": {},
   "source": [
    "## Sentencia WHILE\n",
    "\n",
    "Ahora imaginemos que solo queremos obtener los registros de un artista en concreto. Para ello usaremos la sentencia `WHILE` que nos permite poner condicionales dentro de una instrucción `SELECT`:\n",
    "\n",
    "```SQL\n",
    "\n",
    "SELECT *\n",
    "FROM table_name\n",
    "WHERE condition\n",
    "\n",
    "```"
   ]
  },
  {
   "cell_type": "markdown",
   "metadata": {},
   "source": [
    "Extraigamos todos los registros de el artiste *Drake*:"
   ]
  },
  {
   "cell_type": "code",
   "execution_count": null,
   "metadata": {},
   "outputs": [],
   "source": [
    "# Selecciona todos los registros donde su campo 'artist_name' sea igual a 'Drake'\n",
    "# Drake va entre comillas, pues al igual que en Python, para indicar\n",
    "# que un objeto se trata de una cadena, va entre comillas\n",
    "\n",
    "cursor.execute('''SELECT * \n",
    "                  FROM spotify_songs_table\n",
    "                  WHERE artist_name = 'Drake'\n",
    "            ''')\n",
    "\n",
    "rows = cursor.fetchall()\n",
    "rows"
   ]
  },
  {
   "cell_type": "markdown",
   "metadata": {},
   "source": [
    "Hay algunas canciones dentro de la tabla que tienen múltiples artistas. Por ejemplo, la siguiente canción:"
   ]
  },
  {
   "cell_type": "code",
   "execution_count": null,
   "metadata": {},
   "outputs": [],
   "source": [
    "cursor.execute('''SELECT * \n",
    "                  FROM spotify_songs_table\n",
    "                  WHERE track_name = 'Privileged Rappers'\n",
    "            ''')\n",
    "\n",
    "rows = cursor.fetchall()\n",
    "rows"
   ]
  },
  {
   "cell_type": "markdown",
   "metadata": {},
   "source": [
    "Si queremos obtener todas las canciones donde *Drake* tuvo participación, en vez de que la condición sea `artist_name = 'Drake'`, pondremos `artist_name LIKE '%Drake%'`. "
   ]
  },
  {
   "cell_type": "code",
   "execution_count": null,
   "metadata": {},
   "outputs": [],
   "source": [
    "cursor.execute('''SELECT * \n",
    "                  FROM spotify_songs_table\n",
    "                  WHERE artist_name LIKE '%Drake%'\n",
    "            ''')\n",
    "\n",
    "rows = cursor.fetchall()\n",
    "rows"
   ]
  },
  {
   "cell_type": "markdown",
   "metadata": {},
   "source": [
    "La condición `columna LIKE '%cadena%'` es verdadera si `cadena` está contenido en `columna` del registro. A diferencia de `columna = cadena`, donde `cadena` tiene que ser igual a `columna`. Por ello, la condición `artist_name LIKE '%Drake%'` toma todos los registros donde **Drake** está contenido en la columan `artist_name`."
   ]
  },
  {
   "cell_type": "markdown",
   "metadata": {},
   "source": [
    "También podemos hacer condicionales sobre comparaciones de números:"
   ]
  },
  {
   "cell_type": "code",
   "execution_count": null,
   "metadata": {},
   "outputs": [],
   "source": [
    "# Todas las canciones con al menos 500000000 reproducciones en spotify\n",
    "\n",
    "cursor.execute('''SELECT * \n",
    "                  FROM spotify_songs_table\n",
    "                  WHERE streams >= 500000000\n",
    "            ''')\n",
    "\n",
    "rows = cursor.fetchall()\n",
    "rows"
   ]
  },
  {
   "cell_type": "markdown",
   "metadata": {},
   "source": [
    "También podemos comparar fechas:"
   ]
  },
  {
   "cell_type": "code",
   "execution_count": null,
   "metadata": {},
   "outputs": [],
   "source": [
    "# Todas las canciones que tuvieron una fecha de lanzamiento mayor o igual al 1 de Enero de 2023\n",
    "\n",
    "cursor.execute('''SELECT * \n",
    "                  FROM spotify_songs_table\n",
    "                  WHERE released_date >= '2023-01-01'\n",
    "            ''')\n",
    "\n",
    "rows = cursor.fetchall()\n",
    "rows"
   ]
  },
  {
   "cell_type": "markdown",
   "metadata": {},
   "source": [
    "Podemos combinar varias condicionales con AND y OR:"
   ]
  },
  {
   "cell_type": "code",
   "execution_count": null,
   "metadata": {},
   "outputs": [],
   "source": [
    "# Todas las canciones con al menos 500000000 reproducciones en spotify y donde Drake tuvo participación\n",
    "\n",
    "cursor.execute('''SELECT * \n",
    "                  FROM spotify_songs_table\n",
    "                  WHERE artist_name LIKE '%Drake%' AND\n",
    "                        streams >= 500000000\n",
    "            ''')\n",
    "\n",
    "rows = cursor.fetchall()\n",
    "rows"
   ]
  },
  {
   "cell_type": "code",
   "execution_count": null,
   "metadata": {},
   "outputs": [],
   "source": [
    "# Todas las canciones donde el artista es 'Drake' o 'Miley Cyrus'\n",
    "\n",
    "cursor.execute('''SELECT * \n",
    "                  FROM spotify_songs_table\n",
    "                  WHERE artist_name = 'Drake' OR\n",
    "                        artist_name = 'Miley Cyrus'\n",
    "            ''')\n",
    "\n",
    "rows = cursor.fetchall()\n",
    "rows"
   ]
  },
  {
   "cell_type": "markdown",
   "metadata": {},
   "source": [
    "## Seleccionando columnas\n",
    "\n",
    "Hasta ahora, hemos extraído los valores de todas las columnas de cada registro. Pero tenemos la opción de escoger solo algunas columnas. En vez de poner `*` al lado de `SELECT`, especificamos el nombre de las columnas que queremos extraer.\n",
    "\n",
    "``` SQL\n",
    "\n",
    "SELECT column1, column2, column3\n",
    "FROM table_name\n",
    "WHERE condition\n",
    "\n",
    "```"
   ]
  },
  {
   "cell_type": "code",
   "execution_count": null,
   "metadata": {},
   "outputs": [],
   "source": [
    "# Solo extraeremos el nombre de la canción y la fecha de lanzamiento de cada registro\n",
    "\n",
    "result = cursor.execute('''SELECT track_name, released_date\n",
    "                              FROM spotify_songs_table\n",
    "                              WHERE artist_name LIKE '%Drake%'\n",
    "                        ''')\n",
    "\n",
    "rows = cursor.fetchall()\n",
    "rows"
   ]
  },
  {
   "cell_type": "markdown",
   "metadata": {},
   "source": [
    "La librería Pandas ofrece una función (`read_sql_query`) que permite ejecutar una `query` de SQLite y guardar los registros obtenidos en un DataFrame."
   ]
  },
  {
   "cell_type": "code",
   "execution_count": null,
   "metadata": {},
   "outputs": [],
   "source": [
    "query = '''SELECT *\n",
    "            FROM spotify_songs_table\n",
    "            WHERE artist_name LIKE '%Drake%'\n",
    "        '''\n",
    "\n",
    "result_df = pd.read_sql_query(query, conn)\n",
    "result_df"
   ]
  },
  {
   "cell_type": "code",
   "execution_count": null,
   "metadata": {},
   "outputs": [],
   "source": [
    "query = '''SELECT track_name, released_date\n",
    "            FROM spotify_songs_table\n",
    "            WHERE artist_name LIKE '%Drake%'\n",
    "        '''\n",
    "\n",
    "result_df = pd.read_sql_query(query, conn)\n",
    "result_df"
   ]
  },
  {
   "cell_type": "markdown",
   "metadata": {},
   "source": [
    "Dentro de la instrucción `SELECT` podemos cambiar el nombre de las columnas con la sentencia `AS` (esto no cambia el nombre de las columnas en la tabla, solo el resultado presentará otros nombres de columnas)."
   ]
  },
  {
   "cell_type": "code",
   "execution_count": null,
   "metadata": {},
   "outputs": [],
   "source": [
    "# Cambiamos el nombre de la columna 'track_name' por 'Nombre de la canción' y 'released_date' por 'Fecha de lanzamiento'\n",
    "\n",
    "query = '''SELECT track_name AS 'Nombre de la canción',\n",
    "                  artist_name AS 'Artista',\n",
    "                  released_date AS 'Fecha de lanzamiento'\n",
    "            FROM spotify_songs_table\n",
    "            WHERE artist_name LIKE '%Drake%'\n",
    "        '''\n",
    "\n",
    "result_df = pd.read_sql_query(query, conn)\n",
    "result_df"
   ]
  },
  {
   "cell_type": "markdown",
   "metadata": {},
   "source": [
    "## Ordenando los registros con ORDER BY\n",
    "\n",
    "Los registros obtenidos de una `query` en SQLite podemos ordenarlas con `ORDER BY`:"
   ]
  },
  {
   "cell_type": "code",
   "execution_count": null,
   "metadata": {},
   "outputs": [],
   "source": [
    "# Ordenando por 'streams'\n",
    "\n",
    "query = '''SELECT *\n",
    "            FROM spotify_songs_table\n",
    "            WHERE artist_name LIKE '%Drake%'\n",
    "            ORDER BY streams\n",
    "            '''\n",
    "\n",
    "result_df = pd.read_sql_query(query, conn)\n",
    "result_df"
   ]
  },
  {
   "cell_type": "markdown",
   "metadata": {},
   "source": [
    "También podemos ordenar de forma descendente si ponemos la sentencia `DESC` a la derecha de la nombre la columna:"
   ]
  },
  {
   "cell_type": "code",
   "execution_count": null,
   "metadata": {},
   "outputs": [],
   "source": [
    "# Ordenando por 'released_date' de forma descendente\n",
    "\n",
    "query = '''SELECT *\n",
    "            FROM spotify_songs_table\n",
    "            WHERE artist_name LIKE '%Drake%'\n",
    "            ORDER BY released_date DESC\n",
    "            '''\n",
    "\n",
    "result_df = pd.read_sql_query(query, conn)\n",
    "result_df"
   ]
  },
  {
   "cell_type": "markdown",
   "metadata": {},
   "source": [
    "Podemos ordenar en base de dos columnas (se ordenará de izquierda a derecha):"
   ]
  },
  {
   "cell_type": "code",
   "execution_count": null,
   "metadata": {},
   "outputs": [],
   "source": [
    "# Primero ordena por 'released_date' y luego por 'streams'\n",
    "# Esto quiere decir que primero ordenará todos los registros por 'released_date', y si dos registros tienen igual 'released_date' entonces se ordenará por 'streams'\n",
    "\n",
    "query = '''SELECT *\n",
    "            FROM spotify_songs_table\n",
    "            WHERE artist_name LIKE '%Drake%'\n",
    "            ORDER BY released_date, streams\n",
    "            '''\n",
    "\n",
    "result_df = pd.read_sql_query(query, conn)\n",
    "result_df"
   ]
  }
 ],
 "metadata": {
  "kernelspec": {
   "display_name": ".env",
   "language": "python",
   "name": "python3"
  },
  "language_info": {
   "codemirror_mode": {
    "name": "ipython",
    "version": 3
   },
   "file_extension": ".py",
   "mimetype": "text/x-python",
   "name": "python",
   "nbconvert_exporter": "python",
   "pygments_lexer": "ipython3",
   "version": "3.11.7"
  }
 },
 "nbformat": 4,
 "nbformat_minor": 2
}
