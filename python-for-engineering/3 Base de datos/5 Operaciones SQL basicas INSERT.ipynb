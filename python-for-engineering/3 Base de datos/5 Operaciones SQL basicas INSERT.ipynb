{
 "cells": [
  {
   "cell_type": "markdown",
   "metadata": {},
   "source": [
    "# Consultas SQL basicas INSERT\n",
    "\n",
    "En esta sección continuaremos con consultas básicas de SQL, veremos las instrucciones *INSERT*, *UPDATE* y *DELETE*.\n",
    "\n",
    "## Instrucción INSERT\n",
    "\n",
    "La instrucción *INSERT* nos va a permitir insertar registros a una tabla de nuestra base de datos. La sintaxis de la instrucción es:\n",
    "\n",
    "``` SQL\n",
    "\n",
    "INSERT \n",
    "\n",
    "```"
   ]
  },
  {
   "cell_type": "code",
   "execution_count": null,
   "metadata": {},
   "outputs": [],
   "source": []
  },
  {
   "cell_type": "code",
   "execution_count": null,
   "metadata": {},
   "outputs": [],
   "source": []
  }
 ],
 "metadata": {
  "language_info": {
   "name": "python"
  }
 },
 "nbformat": 4,
 "nbformat_minor": 2
}
