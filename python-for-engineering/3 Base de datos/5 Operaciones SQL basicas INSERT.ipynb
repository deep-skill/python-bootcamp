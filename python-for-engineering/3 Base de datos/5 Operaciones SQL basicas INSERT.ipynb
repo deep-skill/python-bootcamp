{
 "cells": [
  {
   "cell_type": "markdown",
   "metadata": {},
   "source": [
    "# Consultas SQL basicas INSERT\n",
    "\n",
    "En esta sección continuaremos con consultas básicas de SQL, veremos las instrucciones **INSERT**, **UPDATE** y **DELETE**.\n",
    "\n",
    "## Instrucción INSERT\n",
    "\n",
    "La instrucción **INSERT** nos va a permitir insertar registros a una tabla de nuestra base de datos. La sintaxis de la instrucción **INSERT** es:\n",
    "\n",
    "``` SQL\n",
    "\n",
    "INSERT INTO table_name VALUES(column1_value, column2_value, column3_value)\n",
    "\n",
    "```\n",
    "\n",
    "Para esta sección vamos a crear una nueva base de datos con una tabla llamado `employees` (empleados) que contará con las siguientes tres columnas:\n",
    "\n",
    "1. Nombre\n",
    "2. Apellido\n",
    "3. Edad\n",
    "4. Salario"
   ]
  },
  {
   "cell_type": "code",
   "execution_count": 1,
   "metadata": {},
   "outputs": [],
   "source": [
    "# Nos conectamos a la base de datos. En caso no exista, creará una nueva base de datos\n",
    "\n",
    "import sqlite3\n",
    "\n",
    "conn = sqlite3.connect('employee.db')\n",
    "cursor = conn.cursor()"
   ]
  },
  {
   "cell_type": "code",
   "execution_count": 2,
   "metadata": {},
   "outputs": [
    {
     "data": {
      "text/plain": [
       "<sqlite3.Cursor at 0x107f51740>"
      ]
     },
     "execution_count": 2,
     "metadata": {},
     "output_type": "execute_result"
    }
   ],
   "source": [
    "# Creamos la tabla employees\n",
    "\n",
    "cursor.execute('''CREATE TABLE employees(\n",
    "                    first_name TEXT,\n",
    "                    last_name TEXT,\n",
    "                    age INTEGER,\n",
    "                    salary INTEGER\n",
    "                )''')"
   ]
  },
  {
   "cell_type": "markdown",
   "metadata": {},
   "source": [
    "Inicialmente nuestra tabla está vacía:"
   ]
  },
  {
   "cell_type": "code",
   "execution_count": 3,
   "metadata": {},
   "outputs": [
    {
     "data": {
      "text/plain": [
       "[]"
      ]
     },
     "execution_count": 3,
     "metadata": {},
     "output_type": "execute_result"
    }
   ],
   "source": [
    "cursor.execute('SELECT * FROM employees')\n",
    "\n",
    "rows = cursor.fetchall()\n",
    "\n",
    "# Obtenemos una lista vacía, sin registros\n",
    "rows"
   ]
  },
  {
   "cell_type": "markdown",
   "metadata": {},
   "source": [
    "Ahora insertaremos un registro con la instrucción **INSERT**:"
   ]
  },
  {
   "cell_type": "code",
   "execution_count": 9,
   "metadata": {},
   "outputs": [],
   "source": [
    "cursor.execute(\"INSERT INTO employees VALUES ('Jhon', 'Campos', 24, 6000)\")\n",
    "\n",
    "# Es importante poner conn.commit() luego de cursor.execute(), sino no se insertará el registro en la tabla\n",
    "conn.commit()"
   ]
  },
  {
   "cell_type": "markdown",
   "metadata": {},
   "source": [
    "Nuevamente ejecutamos un **SELECT** en nuestra tabla y verificamos que el registro se ha insertado en la tabla:"
   ]
  },
  {
   "cell_type": "code",
   "execution_count": 10,
   "metadata": {},
   "outputs": [
    {
     "data": {
      "text/plain": [
       "[('Jhon', 'Campos', 24, 6000)]"
      ]
     },
     "execution_count": 10,
     "metadata": {},
     "output_type": "execute_result"
    }
   ],
   "source": [
    "cursor.execute('SELECT * FROM employees')\n",
    "\n",
    "rows = cursor.fetchall()\n",
    "rows"
   ]
  },
  {
   "cell_type": "markdown",
   "metadata": {},
   "source": [
    "Y podemos seguir insertando más valores a nuestra base de datos:"
   ]
  },
  {
   "cell_type": "code",
   "execution_count": 11,
   "metadata": {},
   "outputs": [],
   "source": [
    "cursor.execute(\"INSERT INTO employees VALUES ('Maria', 'Cruz', 22, 7000)\")\n",
    "conn.commit()"
   ]
  },
  {
   "cell_type": "code",
   "execution_count": 12,
   "metadata": {},
   "outputs": [],
   "source": [
    "cursor.execute(\"INSERT INTO employees VALUES ('Cielo', 'Ruiz', 27, 8000)\")\n",
    "conn.commit()"
   ]
  },
  {
   "cell_type": "code",
   "execution_count": 14,
   "metadata": {},
   "outputs": [
    {
     "data": {
      "text/plain": [
       "[('Jhon', 'Campos', 24, 6000),\n",
       " ('Maria', 'Cruz', 22, 7000),\n",
       " ('Cielo', 'Ruiz', 27, 8000)]"
      ]
     },
     "execution_count": 14,
     "metadata": {},
     "output_type": "execute_result"
    }
   ],
   "source": [
    "cursor.execute('SELECT * FROM employees')\n",
    "\n",
    "rows = cursor.fetchall()\n",
    "rows"
   ]
  },
  {
   "cell_type": "markdown",
   "metadata": {},
   "source": [
    "Cuando conectamos una base de datos a Python, nos interesa insertar variablesde nuestro programa a las bases de datos. Imaginemos que contamos con una clase *Employee*."
   ]
  },
  {
   "cell_type": "code",
   "execution_count": 15,
   "metadata": {},
   "outputs": [],
   "source": [
    "class Employee():\n",
    "    def __init__(self, first_name, last_name, age, salary):\n",
    "        self.first_name = first_name\n",
    "        self.last_name = last_name\n",
    "        self.age = age\n",
    "        self.salary = salary"
   ]
  },
  {
   "cell_type": "code",
   "execution_count": 27,
   "metadata": {},
   "outputs": [],
   "source": [
    "emp1 = Employee('Raul', 'Canales', 30, 100000)\n",
    "emp2 = Employee('Jorge', 'Rodriguez', 20, 3800)\n",
    "emp3 = Employee('Mateo', 'Puente', 26, 5000)"
   ]
  },
  {
   "cell_type": "markdown",
   "metadata": {},
   "source": [
    "Queremos insertar estos datos de empleados a nuestra tabla `employees` de nuestra base de datos:"
   ]
  },
  {
   "cell_type": "code",
   "execution_count": 17,
   "metadata": {},
   "outputs": [
    {
     "name": "stdout",
     "output_type": "stream",
     "text": [
      "Raul\n",
      "Canales\n",
      "30\n",
      "100000\n"
     ]
    }
   ],
   "source": [
    "print(emp1.first_name)\n",
    "print(emp1.last_name)\n",
    "print(emp1.age)\n",
    "print(emp1.salary)"
   ]
  },
  {
   "cell_type": "markdown",
   "metadata": {},
   "source": [
    "Primero usaremos el método `format()` de las cadenas:"
   ]
  },
  {
   "cell_type": "code",
   "execution_count": 21,
   "metadata": {},
   "outputs": [],
   "source": [
    "query = \"INSERT INTO employees VALUES ('{}', '{}', {}, {})\".format(emp1.first_name, emp1.last_name, emp1.age, emp1.salary)"
   ]
  },
  {
   "cell_type": "markdown",
   "metadata": {},
   "source": [
    "En la cadena observamos que hay 4 `{}` y dentro de los parámetros de `format()` indicamos 4 variables (los atributos del objeto `emp1`). Cada `{}` será reemplazado por una variable, en orden de izquierda a derecha (nótese que algunos `{}` se encuentra entre comillas, para así indicar que se tratan de texto). El resultado que obtendremos será:"
   ]
  },
  {
   "cell_type": "code",
   "execution_count": 22,
   "metadata": {},
   "outputs": [
    {
     "data": {
      "text/plain": [
       "\"INSERT INTO employees VALUES ('Raul', 'Canales', 30, 100000)\""
      ]
     },
     "execution_count": 22,
     "metadata": {},
     "output_type": "execute_result"
    }
   ],
   "source": [
    "query"
   ]
  },
  {
   "cell_type": "markdown",
   "metadata": {},
   "source": [
    "Y vemos que `query` cumple con la sintaxis de la instrucción **SELECT**. Por lo que simplemente ejecutamos la `query`:"
   ]
  },
  {
   "cell_type": "code",
   "execution_count": 23,
   "metadata": {},
   "outputs": [],
   "source": [
    "cursor.execute(query)\n",
    "conn.commit()"
   ]
  },
  {
   "cell_type": "markdown",
   "metadata": {},
   "source": [
    "Verificamos si se ha añadido a la tabla:"
   ]
  },
  {
   "cell_type": "code",
   "execution_count": 24,
   "metadata": {},
   "outputs": [
    {
     "data": {
      "text/plain": [
       "[('Jhon', 'Campos', 24, 6000),\n",
       " ('Maria', 'Cruz', 22, 7000),\n",
       " ('Cielo', 'Ruiz', 27, 8000),\n",
       " ('Raul', 'Canales', 30, 100000)]"
      ]
     },
     "execution_count": 24,
     "metadata": {},
     "output_type": "execute_result"
    }
   ],
   "source": [
    "cursor.execute('SELECT * FROM employees')\n",
    "\n",
    "rows = cursor.fetchall()\n",
    "rows"
   ]
  },
  {
   "cell_type": "markdown",
   "metadata": {},
   "source": [
    "Veamos otra manera de insertar registros es usando el propio método `execute()`:"
   ]
  },
  {
   "cell_type": "code",
   "execution_count": 25,
   "metadata": {},
   "outputs": [],
   "source": [
    "cursor.execute('INSERT INTO employees VALUES (?, ?, ?, ?)', (emp2.first_name, emp2.last_name, emp2.age, emp2.salary))\n",
    "conn.commit()"
   ]
  },
  {
   "cell_type": "markdown",
   "metadata": {},
   "source": [
    "De manera similar a lo que vimos anteriormente, cada signo de interrogación (`?`) será reemplazado por una variable (aquí no tenemos que poner comillas si una variable se trata de una cadena, eso lo hará automáticamente el método `execute`).\n",
    "\n",
    "Y por último, veamos una tercera forma de insertar registro con ayuda de diccionarios:"
   ]
  },
  {
   "cell_type": "code",
   "execution_count": 28,
   "metadata": {},
   "outputs": [],
   "source": [
    "cursor.execute('INSERT INTO employees VALUES (:first, :last, :age, :salary)', {'first' : emp3.first_name, 'last' : emp3.last_name, 'age' : emp3.age, 'salary' : emp3.salary})\n",
    "conn.commit()"
   ]
  },
  {
   "cell_type": "markdown",
   "metadata": {},
   "source": [
    "Cada `:key` que se encuentra en la cadena, será reemplazado por el valor de `key` en el diccionario.\n",
    "\n",
    "Nuevamente, verificamos que los registros se insertaron a la tabla."
   ]
  },
  {
   "cell_type": "code",
   "execution_count": 29,
   "metadata": {},
   "outputs": [
    {
     "data": {
      "text/plain": [
       "[('Jhon', 'Campos', 24, 6000),\n",
       " ('Maria', 'Cruz', 22, 7000),\n",
       " ('Cielo', 'Ruiz', 27, 8000),\n",
       " ('Raul', 'Canales', 30, 100000),\n",
       " ('Jorge', 'Rodriguez', 20, 3800),\n",
       " ('Mateo', 'Puente', 26, 5000)]"
      ]
     },
     "execution_count": 29,
     "metadata": {},
     "output_type": "execute_result"
    }
   ],
   "source": [
    "cursor.execute('SELECT * FROM employees')\n",
    "\n",
    "rows = cursor.fetchall()\n",
    "rows"
   ]
  },
  {
   "cell_type": "markdown",
   "metadata": {},
   "source": [
    "Para automatizar y agilizar este proceso, podemos empaquetar la query de insertar un empleado en la tabla en una función:"
   ]
  },
  {
   "cell_type": "code",
   "execution_count": 30,
   "metadata": {},
   "outputs": [],
   "source": [
    "def insert_emp(emp):\n",
    "    cursor.execute('INSERT INTO employees VALUES (:first, :last, :age, :salary)', {'first' : emp.first_name, 'last' : emp.last_name, 'age' : emp.age, 'salary' : emp.salary})\n",
    "    conn.commit()"
   ]
  },
  {
   "cell_type": "code",
   "execution_count": 31,
   "metadata": {},
   "outputs": [],
   "source": [
    "emp4 = Employee('Lucia', 'Cuadrado', 28, 6000)\n",
    "insert_emp(emp4)"
   ]
  },
  {
   "cell_type": "code",
   "execution_count": 32,
   "metadata": {},
   "outputs": [
    {
     "data": {
      "text/plain": [
       "[('Jhon', 'Campos', 24, 6000),\n",
       " ('Maria', 'Cruz', 22, 7000),\n",
       " ('Cielo', 'Ruiz', 27, 8000),\n",
       " ('Raul', 'Canales', 30, 100000),\n",
       " ('Jorge', 'Rodriguez', 20, 3800),\n",
       " ('Mateo', 'Puente', 26, 5000),\n",
       " ('Lucia', 'Cuadrado', 28, 6000)]"
      ]
     },
     "execution_count": 32,
     "metadata": {},
     "output_type": "execute_result"
    }
   ],
   "source": [
    "cursor.execute('SELECT * FROM employees')\n",
    "\n",
    "rows = cursor.fetchall()\n",
    "rows"
   ]
  }
 ],
 "metadata": {
  "kernelspec": {
   "display_name": ".env",
   "language": "python",
   "name": "python3"
  },
  "language_info": {
   "codemirror_mode": {
    "name": "ipython",
    "version": 3
   },
   "file_extension": ".py",
   "mimetype": "text/x-python",
   "name": "python",
   "nbconvert_exporter": "python",
   "pygments_lexer": "ipython3",
   "version": "3.11.7"
  }
 },
 "nbformat": 4,
 "nbformat_minor": 2
}
