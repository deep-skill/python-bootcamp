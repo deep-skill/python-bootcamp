{
 "cells": [
  {
   "cell_type": "markdown",
   "metadata": {},
   "source": [
    "# Introducción a Pandas y DataFrames\n",
    "\n",
    "Pandas es una biblioteca que nos será muy útil para trabajar con archivos con diferentes formatos y analizar datos en diferentes formatos. Maneja los datos de forma tabular donde cada fila representa una instancia de dato y cada columna un campo o característica de dato. \n",
    "\n",
    "## Dataframes\n",
    "\n",
    "La biblioteca Pandas está construida sobre un tipo de datos llamado DataFrame que se utiliza para almacenar todo tipo de datos mientras se trabaja en con Pandas.\n",
    "\n",
    "Vamos a cargar datos de un archivo CSV a un DataFrame:"
   ]
  },
  {
   "cell_type": "code",
   "execution_count": null,
   "metadata": {},
   "outputs": [],
   "source": [
    "pip install pandas"
   ]
  },
  {
   "cell_type": "code",
   "execution_count": null,
   "metadata": {},
   "outputs": [],
   "source": [
    "# Importamos la librería pandas, es usual ponerle el alias 'pd'\n",
    "import pandas as pd"
   ]
  },
  {
   "cell_type": "markdown",
   "metadata": {},
   "source": [
    "Cargamos los datos desde el archivo CSV con la función `read_csv`. Esto nos retornará un DataFrame con los datos que se encuentren dentro del archivo. También existen funciones para cargar datos desde otro tipo de formatos como **JSON**, **HTML**, **Excel**, etc."
   ]
  },
  {
   "cell_type": "code",
   "execution_count": null,
   "metadata": {},
   "outputs": [],
   "source": [
    "grades_df = pd.read_csv('df_example.csv')\n",
    "print(type(grades_df))\n",
    "grades_df"
   ]
  },
  {
   "cell_type": "code",
   "execution_count": null,
   "metadata": {},
   "outputs": [],
   "source": [
    "grades_df.shape"
   ]
  },
  {
   "cell_type": "code",
   "execution_count": null,
   "metadata": {},
   "outputs": [],
   "source": [
    "# Nos muestra los 5 primeros datos\n",
    "\n",
    "grades_df.head()"
   ]
  },
  {
   "cell_type": "code",
   "execution_count": null,
   "metadata": {},
   "outputs": [],
   "source": [
    "# Nos muestra los 5 últimos datos\n",
    "\n",
    "grades_df.tail()"
   ]
  },
  {
   "cell_type": "code",
   "execution_count": null,
   "metadata": {},
   "outputs": [],
   "source": [
    "# Nos muestra los tipos de datos de cada columna\n",
    "\n",
    "grades_df.dtypes"
   ]
  },
  {
   "cell_type": "markdown",
   "metadata": {
    "jupyter": {
     "source_hidden": true
    }
   },
   "source": [
    "Vemos que cada fila tiene un índice desde el 0 hasta el 19. Podemos hacer que una columna se convierta el índice de cada fila:"
   ]
  },
  {
   "cell_type": "code",
   "execution_count": null,
   "metadata": {},
   "outputs": [],
   "source": [
    "# Usamos el método 'set_index' y le pasamos como parámetro el nombre de la columna\n",
    "\n",
    "grades_df = pd.read_csv('df_example.csv')\n",
    "\n",
    "grades_df.set_index(\"Nombre\", inplace=True)\n",
    "grades_df.head()"
   ]
  },
  {
   "cell_type": "markdown",
   "metadata": {},
   "source": [
    "Ahora cada fila está etiquetada por su Nombre. "
   ]
  },
  {
   "cell_type": "markdown",
   "metadata": {},
   "source": [
    "## Accediendo elementos de un DataFrame\n",
    "\n",
    "Podemos acceder a los elementos de un DataFrame por columnas o por filas.\n",
    "\n",
    "### Acceder por columnas\n",
    "\n",
    "Para acceder por columnas, podemos usar `grades_df[nombre de la columna]`, el cual retorna una secuencia de valores. Para acceder a un valor específico de esa secuencia, podemos acceder por el índice de la fila"
   ]
  },
  {
   "cell_type": "code",
   "execution_count": null,
   "metadata": {},
   "outputs": [],
   "source": [
    "grades_df = pd.read_csv('df_example.csv')\n",
    "#print(type(grades_df[\"Nota\"]))\n",
    "grades_df[\"Nota\"]"
   ]
  },
  {
   "cell_type": "code",
   "execution_count": null,
   "metadata": {},
   "outputs": [],
   "source": [
    "# Accediendo a un valor específico por su índice\n",
    "\n",
    "grades_df['Nota'][5]"
   ]
  },
  {
   "cell_type": "markdown",
   "metadata": {},
   "source": [
    "En el caso de que el índice no sea numérico:"
   ]
  },
  {
   "cell_type": "code",
   "execution_count": null,
   "metadata": {},
   "outputs": [],
   "source": [
    "grades_df = pd.read_csv('df_example.csv')\n",
    "\n",
    "grades_df.set_index(\"Nombre\", inplace=True)\n",
    "grades_df['Nota']"
   ]
  },
  {
   "cell_type": "code",
   "execution_count": null,
   "metadata": {},
   "outputs": [],
   "source": [
    "grades_df['Nota']['Juan']"
   ]
  },
  {
   "cell_type": "markdown",
   "metadata": {},
   "source": [
    "### Acceder por filas\n",
    "\n",
    "Para acceder por filas, contamos con dos maneras: `.iloc[]` (índices numéricos) y `.loc[]` (índices con el nombre de la fila)."
   ]
  },
  {
   "cell_type": "code",
   "execution_count": null,
   "metadata": {},
   "outputs": [],
   "source": [
    "grades_df.head()"
   ]
  },
  {
   "cell_type": "code",
   "execution_count": null,
   "metadata": {},
   "outputs": [],
   "source": [
    "# Fila 0 \n",
    "\n",
    "grades_df.iloc[0]"
   ]
  },
  {
   "cell_type": "code",
   "execution_count": null,
   "metadata": {},
   "outputs": [],
   "source": [
    "# Fila 3\n",
    "\n",
    "grades_df.iloc[3]"
   ]
  },
  {
   "cell_type": "code",
   "execution_count": null,
   "metadata": {},
   "outputs": [],
   "source": [
    "# Fila 3 Columna 0\n",
    "\n",
    "grades_df.iloc[3, 0]"
   ]
  },
  {
   "cell_type": "code",
   "execution_count": null,
   "metadata": {},
   "outputs": [],
   "source": [
    "# Fila 3 Columna 1\n",
    "\n",
    "grades_df.iloc[3, 1]"
   ]
  },
  {
   "cell_type": "code",
   "execution_count": null,
   "metadata": {},
   "outputs": [],
   "source": [
    "# Fila Laura\n",
    "\n",
    "grades_df.loc['Laura']"
   ]
  },
  {
   "cell_type": "code",
   "execution_count": null,
   "metadata": {},
   "outputs": [],
   "source": [
    "# Fila Juan\n",
    "\n",
    "grades_df.loc['Juan']"
   ]
  },
  {
   "cell_type": "code",
   "execution_count": null,
   "metadata": {},
   "outputs": [],
   "source": [
    "# Fila Juan Columna Nota\n",
    "\n",
    "grades_df.loc['Juan', 'Nota']"
   ]
  },
  {
   "cell_type": "code",
   "execution_count": null,
   "metadata": {},
   "outputs": [],
   "source": [
    "# Fila Juan Columna Edad\n",
    "\n",
    "grades_df.loc['Juan', 'Edad']"
   ]
  }
 ],
 "metadata": {
  "kernelspec": {
   "display_name": "Python 3 (ipykernel)",
   "language": "python",
   "name": "python3"
  },
  "language_info": {
   "codemirror_mode": {
    "name": "ipython",
    "version": 3
   },
   "file_extension": ".py",
   "mimetype": "text/x-python",
   "name": "python",
   "nbconvert_exporter": "python",
   "pygments_lexer": "ipython3",
   "version": "3.12.3"
  }
 },
 "nbformat": 4,
 "nbformat_minor": 4
}
