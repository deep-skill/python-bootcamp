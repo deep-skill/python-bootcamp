{
 "cells": [
  {
   "cell_type": "markdown",
   "metadata": {},
   "source": [
    "# Regresión lineal con SciPy\n",
    "\n",
    "La librería científica SciPy cuenta con una implementación de la regresión lineal en la función `scipy.stats.linregress(x, y)` el cual es usado para ajustar una línea sobre un conjunto de puntos $(x_i, y_i)$. En esta sección veremos un ejemplo de uso de esta función."
   ]
  },
  {
   "cell_type": "code",
   "execution_count": null,
   "metadata": {},
   "outputs": [],
   "source": []
  }
 ],
 "metadata": {
  "language_info": {
   "name": "python"
  }
 },
 "nbformat": 4,
 "nbformat_minor": 2
}
