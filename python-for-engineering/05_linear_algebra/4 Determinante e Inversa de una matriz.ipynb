{
 "cells": [
  {
   "cell_type": "markdown",
   "metadata": {},
   "source": [
    "# Determinante de una matriz\n",
    "\n",
    "Calcular la determinante de una matriz es importante en varios contextos matemáticos y aplicaciones prácticas. Por ejemplo:\n",
    "\n",
    "1. *Resolución de sistemas de ecuaciones lineales:* La determinante de una matriz es cero si y solo si la matriz es singular, lo que significa que no tiene inversa. Por lo tanto, al calcular la determinante de una matriz, podemos determinar si un sistema de ecuaciones lineales tiene una solución única, ninguna solución o infinitas soluciones.\n",
    "\n",
    "2. *Cálculo de la inversa de una matriz:* La inversa de una matriz se puede calcular usando la determinante de una matriz.\n",
    "\n",
    "3. *Optimización y álgebra lineal numérica:* En algoritmos de optimización y álgebra lineal numérica, la determinante de una matriz puede ser un indicador importante de la estabilidad numérica de los cálculos. Por ejemplo, en el cálculo de autovalores y autovectores, la determinante de la matriz es un factor relevante.\n",
    "\n",
    "Para calcular la determinante de una matriz cuadrada (recordar que solo las matrices cuadradas tienen determinante), existen muchos métodos. Aquí puedes ver una [referencia](https://math.libretexts.org/Courses/Community_College_of_Denver/MAT_2562_Differential_Equations_with_Linear_Algebra/12%3A_Matrices_and_Determinants/12.08%3A_Basic_Techniques_of_Determinants).\n",
    "\n",
    "Implementar un algoritmo para el cálculo de la determinante es muy complicada y probablemente no sea eficiente. Por suerte, NumPy cuenta con una implementación del cálculo de la determinante de una matriz:"
   ]
  },
  {
   "cell_type": "code",
   "execution_count": 3,
   "metadata": {},
   "outputs": [
    {
     "name": "stdout",
     "output_type": "stream",
     "text": [
      "[[ 1  5 -3  2 11]\n",
      " [ 2 10  0 -1  5]\n",
      " [ 4 -4  7  1  0]\n",
      " [11  5  3  2 -7]\n",
      " [10  9  1  0  2]]\n"
     ]
    }
   ],
   "source": [
    "import numpy as np\n",
    "\n",
    "A = np.array([[1, 5, -3, 2, 11],\n",
    "             [2, 10, 0, -1, 5],\n",
    "             [4, -4, 7, 1, 0],\n",
    "             [11, 5, 3, 2, -7],\n",
    "             [10, 9, 1, 0, 2]])\n",
    "\n",
    "print(A)"
   ]
  },
  {
   "cell_type": "code",
   "execution_count": 5,
   "metadata": {},
   "outputs": [
    {
     "data": {
      "text/plain": [
       "-17238.000000000025"
      ]
     },
     "execution_count": 5,
     "metadata": {},
     "output_type": "execute_result"
    }
   ],
   "source": [
    "# Simplemente llamamos a la función np.linalg.det\n",
    "\n",
    "A_det = np.linalg.det(A)\n",
    "A_det"
   ]
  },
  {
   "cell_type": "markdown",
   "metadata": {},
   "source": [
    "# Inversa de una matriz\n",
    "\n",
    "Dada una matriz cuadrada $A$ no singular (su determinante es distinto a 0), decimos que la matriz $B$ es la **inversa** de $A$ si y solo si\n",
    "\n",
    "$$\n",
    "AB = BA = I\n",
    "$$\n",
    "\n",
    "donde $I$ es la matriz identidad. ([Referencia](https://math.libretexts.org/Courses/Community_College_of_Denver/MAT_2562_Differential_Equations_with_Linear_Algebra/12%3A_Matrices_and_Determinants/12.08%3A_Basic_Techniques_of_Determinants)).\n",
    "\n",
    "NumPy también tiene implementado el algoritmo para el cálculo de la inversa de una matriz:\n",
    "\n"
   ]
  },
  {
   "cell_type": "code",
   "execution_count": 10,
   "metadata": {},
   "outputs": [],
   "source": [
    "A = np.array([[1, 5, -3, 2],\n",
    "             [2, 10, 0, -1],\n",
    "             [4, -4, 7, 1],\n",
    "             [11, 5, 3, 2]])"
   ]
  },
  {
   "cell_type": "code",
   "execution_count": 11,
   "metadata": {},
   "outputs": [
    {
     "data": {
      "text/plain": [
       "array([[-0.12975207, -0.06446281, -0.12396694,  0.15950413],\n",
       "       [ 0.07190083,  0.10578512,  0.04958678, -0.04380165],\n",
       "       [ 0.04958678,  0.10743802,  0.20661157, -0.09917355],\n",
       "       [ 0.45950413, -0.07107438,  0.24793388, -0.11900826]])"
      ]
     },
     "execution_count": 11,
     "metadata": {},
     "output_type": "execute_result"
    }
   ],
   "source": [
    "A_inv = np.linalg.inv(A)\n",
    "A_inv"
   ]
  },
  {
   "cell_type": "markdown",
   "metadata": {},
   "source": [
    "Ahora comprobaremos si la multiplicación entre $A$ y $A_{\\text{inv}}$ nos resulta la matriz identidad\n",
    "\n",
    "$$I_4 = \n",
    "\\begin{bmatrix}\n",
    "1 & 0 & 0 & 0 \\\\\n",
    "0 & 1 & 0 & 0 \\\\\n",
    "0 & 0 & 1 & 0 \\\\\n",
    "0 & 0 & 0 & 1\n",
    "\\end{bmatrix}\n",
    "$$"
   ]
  },
  {
   "cell_type": "code",
   "execution_count": 12,
   "metadata": {},
   "outputs": [
    {
     "name": "stdout",
     "output_type": "stream",
     "text": [
      "[[ 1.00000000e+00 -1.38777878e-16 -5.55111512e-17  0.00000000e+00]\n",
      " [ 5.55111512e-17  1.00000000e+00 -2.77555756e-17  0.00000000e+00]\n",
      " [-5.55111512e-17  4.16333634e-17  1.00000000e+00 -4.16333634e-17]\n",
      " [ 3.33066907e-16  2.77555756e-17  0.00000000e+00  1.00000000e+00]]\n"
     ]
    }
   ],
   "source": [
    "print(A @ A_inv)"
   ]
  },
  {
   "cell_type": "markdown",
   "metadata": {},
   "source": [
    "Observamos que el resultado obtenido no es estrictamente igual a la matriz identidad. Podemos notar que la diagonal son efectivamente unos. Los demás números deberían ser igual a cero. Si nos fijamos en estos números, sus valores son prácticamente cero (`e-17` = $10^{-17}$). No llegan a ser cero exactamente debido a la precisión de NumPy. "
   ]
  },
  {
   "cell_type": "markdown",
   "metadata": {},
   "source": [
    "Obtenemos un resultado similar si multiplicamos de la siguiente manera:"
   ]
  },
  {
   "cell_type": "code",
   "execution_count": 13,
   "metadata": {},
   "outputs": [
    {
     "name": "stdout",
     "output_type": "stream",
     "text": [
      "[[ 1.00000000e+00  2.49800181e-16  2.77555756e-17  5.55111512e-17]\n",
      " [-6.93889390e-17  1.00000000e+00 -6.93889390e-17  1.38777878e-17]\n",
      " [ 4.16333634e-17 -2.63677968e-16  1.00000000e+00 -2.77555756e-17]\n",
      " [-3.05311332e-16 -1.38777878e-16 -1.94289029e-16  1.00000000e+00]]\n"
     ]
    }
   ],
   "source": [
    "print(A_inv @ A)"
   ]
  }
 ],
 "metadata": {
  "kernelspec": {
   "display_name": ".env",
   "language": "python",
   "name": "python3"
  },
  "language_info": {
   "codemirror_mode": {
    "name": "ipython",
    "version": 3
   },
   "file_extension": ".py",
   "mimetype": "text/x-python",
   "name": "python",
   "nbconvert_exporter": "python",
   "pygments_lexer": "ipython3",
   "version": "3.11.7"
  }
 },
 "nbformat": 4,
 "nbformat_minor": 2
}
