{
 "cells": [
  {
   "cell_type": "markdown",
   "metadata": {},
   "source": [
    "# Vectores y Matrices\n",
    "\n",
    "## Vectores\n",
    "\n",
    "La clase `numpy.ndarray` es la clase principal en NumPy que representa arreglos multidimensionales homogéneos. Esta clase es la base sobre la cual se construyen muchas de las funcionalidades de la biblioteca NumPy. Para crear un objeto `numpy.ndarray` usaremos la función `numpy.array`:"
   ]
  },
  {
   "cell_type": "code",
   "execution_count": null,
   "metadata": {},
   "outputs": [],
   "source": [
    "# Es comun usar np como alias\n",
    "import numpy as np\n",
    "\n",
    "# Le pasamos como parámetro una lista de números\n",
    "A = np.array([3, 5, 2, 8, 0, 1, 13])"
   ]
  },
  {
   "cell_type": "code",
   "execution_count": null,
   "metadata": {},
   "outputs": [],
   "source": [
    "# El tipo de A es numpy.ndarray\n",
    "\n",
    "type(A)"
   ]
  },
  {
   "cell_type": "code",
   "execution_count": null,
   "metadata": {},
   "outputs": [],
   "source": [
    "print(A)"
   ]
  },
  {
   "cell_type": "markdown",
   "metadata": {},
   "source": [
    "Podemos consultar la dimensionalidad del arreglo con el atributo `shape`:"
   ]
  },
  {
   "cell_type": "code",
   "execution_count": null,
   "metadata": {},
   "outputs": [],
   "source": [
    "A.shape"
   ]
  },
  {
   "cell_type": "markdown",
   "metadata": {},
   "source": [
    "Vemos que el resultado obtenido es una tupla, donde solo hay un número y se encuentra vacío la segunda posición en la tupla. Esto da a entender que se trata de un vector, es decir, solo tiene una dimensión.\n",
    "\n",
    "NumPy también tiene sus propios tipos de datos. Aquí puedes encontrar una referencia con todos los tipos: https://interactivechaos.com/es/manual/tutorial-de-numpy/tipos-de-datos.\n",
    "\n",
    "Podemos consultar el tipo de dato de sus elementos con el parámetro `dtype`:"
   ]
  },
  {
   "cell_type": "code",
   "execution_count": null,
   "metadata": {},
   "outputs": [],
   "source": [
    "A.dtype"
   ]
  },
  {
   "cell_type": "markdown",
   "metadata": {},
   "source": [
    "Podemos obtener un subconjunto del vector, funciona de manera similar al *slicing* de cadenas para obtener subcadenas:\n",
    "\n",
    "```python\n",
    "\n",
    "A[start : end] # Toma todos los elementos desde el índice 'start' (inclusive) hasta el índice 'end' (exclusive)\n",
    "\n",
    "```"
   ]
  },
  {
   "cell_type": "code",
   "execution_count": null,
   "metadata": {},
   "outputs": [],
   "source": [
    "print(A[0 : 4])"
   ]
  },
  {
   "cell_type": "code",
   "execution_count": null,
   "metadata": {},
   "outputs": [],
   "source": [
    "print(A[3 : 6])"
   ]
  },
  {
   "cell_type": "code",
   "execution_count": null,
   "metadata": {},
   "outputs": [],
   "source": [
    "print(A[2 : ])"
   ]
  },
  {
   "cell_type": "code",
   "execution_count": null,
   "metadata": {},
   "outputs": [],
   "source": [
    "print(A[ : 5])"
   ]
  },
  {
   "cell_type": "code",
   "execution_count": null,
   "metadata": {},
   "outputs": [],
   "source": [
    "print(A[:])"
   ]
  },
  {
   "cell_type": "markdown",
   "metadata": {},
   "source": [
    "## Matrices\n",
    "\n",
    "Ahora declararemos un arreglo bidimensional, es decir una matriz. Para ello, en vez de pasar una lista como parámetro a `np.array`, le pasaremos una lista de listas."
   ]
  },
  {
   "cell_type": "code",
   "execution_count": null,
   "metadata": {},
   "outputs": [],
   "source": [
    "M = np.array([[1, 7, 3, -4],\n",
    "              [0, -2, 3, 5],\n",
    "              [10, 5, 2, 3],\n",
    "              [-2, -1, 5, 11]])"
   ]
  },
  {
   "cell_type": "code",
   "execution_count": null,
   "metadata": {},
   "outputs": [],
   "source": [
    "type(M)"
   ]
  },
  {
   "cell_type": "code",
   "execution_count": null,
   "metadata": {},
   "outputs": [],
   "source": [
    "print(M)"
   ]
  },
  {
   "cell_type": "code",
   "execution_count": null,
   "metadata": {},
   "outputs": [],
   "source": [
    "M.shape"
   ]
  },
  {
   "cell_type": "markdown",
   "metadata": {},
   "source": [
    "De igual manera que en un vector, podemos obtener una submatriz a partir de de una matriz:\n",
    "\n",
    "```python\n",
    "\n",
    "M[row_start : row_end, column_start, column_end] # Toma todos las filas desde el índice 'row_start' (inclusive) hasta el índice 'row_end' (exclusive). Lo mismo sucede con los índice column_start y column_end para las columnas\n",
    "\n",
    "```"
   ]
  },
  {
   "cell_type": "code",
   "execution_count": null,
   "metadata": {},
   "outputs": [],
   "source": [
    "# 1 : 3 => para las filas\n",
    "# 2 : 4 => para las columnas\n",
    "\n",
    "M[1 : 3, 2 : 4]"
   ]
  },
  {
   "cell_type": "code",
   "execution_count": null,
   "metadata": {},
   "outputs": [],
   "source": [
    "# 1 : 3 => para las filas\n",
    "# : => para las columnas (toma todas las columnas)\n",
    "\n",
    "M[1 : 3, :]"
   ]
  },
  {
   "cell_type": "code",
   "execution_count": null,
   "metadata": {},
   "outputs": [],
   "source": [
    "# : => para las filas (toma todas las filas)\n",
    "# 2 : 4 => para las columnas\n",
    "\n",
    "M[:, 2 : 4]"
   ]
  }
 ],
 "metadata": {
  "kernelspec": {
   "display_name": ".env",
   "language": "python",
   "name": "python3"
  },
  "language_info": {
   "codemirror_mode": {
    "name": "ipython",
    "version": 3
   },
   "file_extension": ".py",
   "mimetype": "text/x-python",
   "name": "python",
   "nbconvert_exporter": "python",
   "pygments_lexer": "ipython3",
   "version": "3.11.7"
  }
 },
 "nbformat": 4,
 "nbformat_minor": 2
}
