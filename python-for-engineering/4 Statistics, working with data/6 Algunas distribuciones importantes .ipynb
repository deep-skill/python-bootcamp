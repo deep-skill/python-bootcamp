{
 "cells": [
  {
   "cell_type": "markdown",
   "metadata": {},
   "source": [
    "# Distribuciones importantes a tener en cuenta\n",
    "\n",
    "En esta sección, vamos a presentar tres distribuciones porque son muy usuales de encontrar en referencias o uso.\n",
    "\n",
    "## Distribución uniforme\n",
    "\n",
    "La *distribución uniforme* ilustrada es de la siguiente forma\n",
    "\n"
   ]
  },
  {
   "cell_type": "code",
   "execution_count": null,
   "metadata": {},
   "outputs": [],
   "source": []
  }
 ],
 "metadata": {
  "language_info": {
   "name": "python"
  }
 },
 "nbformat": 4,
 "nbformat_minor": 2
}
