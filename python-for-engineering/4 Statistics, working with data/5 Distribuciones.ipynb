{
 "cells": [
  {
   "cell_type": "markdown",
   "metadata": {},
   "source": [
    "# Distribuciones\n",
    "\n",
    "Hemos visto hasta ahora la relación entre la muestra de datos y su población. En realidad, no sabemos la verdadera naturaleza de la población. Nuestro conjunto de datos solo representa unas observaciones muestradas de la población. De nuestros datos, nos gustaría caracterizar la población entero, pero solo contamos con una visión parcial de esta. \n",
    "\n",
    "En esta sección discutiremos cómo describir toda la población. En la mayoría de casos, la población es infinita. Esto sucede cuando el contenido son números reales. El descriptor fundamental de una población es su **distribución**.\n",
    "\n",
    "Ahora veremos gráficos de histograma de un conjunto de datos de 40 mediciones de anillos de pistón. \n",
    "\n",
    "<img src=\"Images/frecuencia.jpg\" alt=\"Notas\" width=\"600\" center/>\n",
    "\n",
    "En vez de tener a la *frecuencia* en el histograma, podemos calcular su **frecuencia relativa**:\n",
    "\n",
    "<img src=\"Images/frecuencia_relativa.jpg\" alt=\"Notas\" width=\"600\" center/>\n",
    "\n",
    "La suma de alturas del histograma de *frecuencias* es 40, mientras que la suma de alturas de *frecuencias relativas* es 1. Con esto, podríamos estimar que la probabilidad que la medición de un valor esté en un intervalo es la altura de su barra. Ahora imaginemos que incrementamos el tamaño de la muestra hasta que sea muy grande y reducimos la anchura del intervalo hasta que sea un valor muy pequeño. Si graficamos este nuevo histograma, podríamos obtener algo similar al siguiente gráfico:\n",
    "\n",
    "<img src=\"Images/densidad.jpg\" alt=\"Notas\" width=\"600\" center/>\n",
    "\n",
    "Si calculamos el área que se obtiene bajo la curva es uno, al igual que nuestro histograma de frencuencias relativas. Esta curva es denominada **función de densidad**, $f(x)$. Si queremos determinar la probabilidad de obtener una medida en un intervalor finito $[a, b]$, corresponde al área debajo de la curva en ese intervalo, es decir\n",
    "\n",
    "$$\n",
    "P[a \\le x \\le b] = \\int_{a}^b f(x)dx\n",
    "$$"
   ]
  },
  {
   "cell_type": "markdown",
   "metadata": {},
   "source": [
    "Dada la distribución para una población, queremos introducir las definiciones de la media y varianza poblacional. Las fórmulas para estas son\n",
    "\n",
    "$$\n",
    "\\mu = \\int_{-\\infty}^{\\infty}xf(x)dx\n",
    "$$\n",
    "\n",
    "$$\n",
    "\\sigma^2 = \\int_{-\\infty}^{\\infty}(x-\\mu)^2f(x)dx\n",
    "$$"
   ]
  }
 ],
 "metadata": {
  "language_info": {
   "name": "python"
  }
 },
 "nbformat": 4,
 "nbformat_minor": 2
}
