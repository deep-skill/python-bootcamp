{
 "cells": [
  {
   "cell_type": "markdown",
   "metadata": {},
   "source": [
    "# Caracterizando conjuntos de datos\n",
    "\n",
    "Los datos vienen de distintas maneras. Una primera distinción, puede ser si los datos son categóricos o no. También distinguimos los resultados de los procesos. Definimos parámetros para clasificar los resultados como excelentes, buenos, promedio o no aceptable. Una vez que las escalas de medición están establecidas, no hay valores entre categorías. En este capítulo del curso, nos centraremos en datos los cuales sus mediciones son cantidades continuas y tienen valores numéricos."
   ]
  }
 ],
 "metadata": {
  "language_info": {
   "name": "python"
  }
 },
 "nbformat": 4,
 "nbformat_minor": 2
}
