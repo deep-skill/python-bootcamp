{
 "cells": [
  {
   "cell_type": "markdown",
   "metadata": {},
   "source": [
    "# Estructuras de Control\n",
    "\n",
    "Las estructuras de control en programación son herramientas fundamentales que permiten modificar el flujo de ejecución de un programa. Por ejemplo, queremos crear programas para resolver las siguientes situaciones:\n",
    "\n",
    "1. **Determinar si un año es bisiesto o no:** Un año es bisiesto `si` es múltiplo de 4, con la excepción, de que `si` el año es múltiplo de 100, entonces debe ser múltiplo de 400 para ser bisiesto. \n",
    "\n",
    "2. **Calcular el coeficiente binomial:** Sabemos que \n",
    "    $${n \\choose k} = \\frac{n!}{k!(n-k)!}$$\n",
    "    \n",
    "3. **Lectura de números primos:** Le pedimos al usuario que digite un número. `Mientras` que el número digitado sea *primo*, le pediremos al usuario que siga insertando números. En otro caso, `rompemos` el bucle.\n",
    "\n",
    "Para poder resolver los anteriores problemas, necesitaremos aprender estructuras condicionales."
   ]
  },
  {
   "cell_type": "markdown",
   "metadata": {},
   "source": [
    "## 1. Condicionales: IF, ELSE, ELIF\n",
    "\n",
    "### Sintaxis de la sentencia **IF**:\n",
    "\n",
    "`Si` la `<condición>` se cumple, entonces se ejecutará el `<bloque de código>`\n",
    "\n",
    "```python\n",
    "\n",
    "    if <condición>:\n",
    "\n",
    "        <Bloque de código\n",
    "        Bloque de código\n",
    "        Bloque de código>\n",
    "\n",
    "```"
   ]
  },
  {
   "cell_type": "markdown",
   "metadata": {},
   "source": [
    "Veamos el siguiente ejemplo (ejecuta la siguiente celda, y pruebe con distintos valores):"
   ]
  },
  {
   "cell_type": "code",
   "execution_count": null,
   "metadata": {},
   "outputs": [],
   "source": [
    "salario = float(input('Inserte su salario, en soles, para calcular su bono correspondiente: '))\n",
    "bono = 0\n",
    "\n",
    "if salario >= 2500:\n",
    "    bono = 0.15 * salario\n",
    "\n",
    "print('El bono que le corresponde es: S/. ' + str(bono))"
   ]
  },
  {
   "cell_type": "markdown",
   "metadata": {},
   "source": [
    "Inicialmente el bono tiene un valor de 0. `Si` el salario es mayor o igual a 2500 soles, entonces el bono será el 15% del salario. En otro caso, el bono se mantendrá en 0.\n",
    "\n",
    "De esta manera podemos controlar la ejecución del código, y hacer que algunos **bloques de código se ejecutan solo si se cumple alguna condición** que nosotros deseemos.\n",
    "\n",
    "\n",
    "### Bloques de código\n",
    "\n",
    "Como ya mencionamos, la sentencia `if` nos ayuda a ejecutar un bloque de código bajo una condición. Entonces, ¿cómo haremos para diferenciar este bloque de código de otros? Para esto, usaremos la identación o espaciado (puedes usar el TAB del teclado para identar) de la siguiente manera:"
   ]
  },
  {
   "cell_type": "code",
   "execution_count": null,
   "metadata": {},
   "outputs": [],
   "source": [
    "# NOTA:\n",
    "# El operador '=' es de asignación\n",
    "# El operador '==' compara la igualdad de dos expresiones\n",
    "\n",
    "numero = 10 # Asignación (asignamos 10 a la variable 'numero')\n",
    "\n",
    "if numero == 10: # Comparación (comparamos si la variable 'numero' es igual a 10)\n",
    "    print('Este es un bloque de codigo que se ejecutará solo si la condicion se cumple.')\n",
    "    print('El bloque de código puede tener cuantas líneas de código queramos.')\n",
    "    print('La única condición es que al inicio de cada línea, se encuentren identadas o espaciadas con respecto a la condicional')\n",
    "\n",
    "    numero *= 2\n",
    "\n",
    "print('Esta linea ya no se encuentra identada, por lo que no pertenece al bloque de código de la condicional y no dependerá de esta')\n",
    "\n",
    "print('Valor del numero: ' + str(numero))\n",
    "\n",
    "# Intenta cambiar el valor de número y ejecuta nuevamente esta celda"
   ]
  },
  {
   "cell_type": "markdown",
   "metadata": {},
   "source": [
    "### Sintaxis de la sentencia **ELSE**\n",
    "\n",
    "`Si` la `<condición>` se cumple, entonces se ejecutará el `<bloque de código 1>`. `Sino`, se ejecutará el `<bloque de código 2>`.\n",
    "\n",
    "```python\n",
    "if <condición>:\n",
    "    \n",
    "    <Bloque de código1\n",
    "    Bloque de código1\n",
    "    Bloque de código1>\n",
    "\n",
    "else:\n",
    "    \n",
    "    <Bloque de código2\n",
    "    Bloque de código2\n",
    "    Bloque de código2>\n",
    "```\n",
    "\n",
    "Para el ejemplo del cálculo del bono, supongamos que se requiere una modificación. `Si` el monto es mayor o igual a 2500 soles, el bono será el 15% del salario; `en otro caso`, solo el 5% del salario."
   ]
  },
  {
   "cell_type": "code",
   "execution_count": null,
   "metadata": {},
   "outputs": [],
   "source": [
    "salario = float(input('Inserte su salario, en soles, para calcular su bono correspondiente: '))\n",
    "bono = 0\n",
    "\n",
    "if salario >= 1000:\n",
    "    bono = 0.15 * salario # Se ejecuta si cumple la condicion\n",
    "else:\n",
    "    bono = 0.05 * salario # Se ejecuta si NO se cumple la condicion\n",
    "\n",
    "print('El bono que le corresponde es: S/. ' + str(bono))"
   ]
  },
  {
   "cell_type": "markdown",
   "metadata": {},
   "source": [
    "### Sintaxis de la sentencia **ELIF**\n",
    "\n",
    "`Si` la `<condición1>` se cumple, entonces se ejecutará el `<bloque de código 1>`. `Sino, si` la `<condición2>` se cumple, entonces se ejecutará el `<bloque de código 2>`. `Sino`, se ejecutará el `<bloque de código 3>`.\n",
    "\n",
    "```python\n",
    "if <condición1>:\n",
    "    \n",
    "    <Bloque de código1\n",
    "    Bloque de código1\n",
    "    Bloque de código1>\n",
    "\n",
    "elif <condición2>:\n",
    "\n",
    "    <Bloque de código2\n",
    "    Bloque de código2\n",
    "    Bloque de código2>\n",
    "\n",
    "else:\n",
    "    \n",
    "    <Bloque de código3\n",
    "    Bloque de código3\n",
    "    Bloque de código3>\n",
    "```\n",
    "\n",
    "Si la condición 1 cumple, entonces se ejecuta el bloque 1. Si no se cumple, ahora comprobará la condición 2, en el caso de cumplir, se ejecutará el bloque 2. Si no se cumple, el bloque 3 será ejecutado. \n",
    "\n",
    "Python nos permite poner cuantos `elif` queramos:\n",
    "\n",
    "```python\n",
    "if condicion1:\n",
    "    # Bloque 1\n",
    "elif condicion2:\n",
    "    # Bloque 2\n",
    "elif condicion3:\n",
    "    # Bloque 3\n",
    "elif condicion4:\n",
    "    # Bloque 4\n",
    "else:\n",
    "    # Bloque 5\n",
    "```\n",
    "\n",
    "Añadamos un par de condiciones al cálculo del bono:"
   ]
  },
  {
   "cell_type": "code",
   "execution_count": null,
   "metadata": {},
   "outputs": [],
   "source": [
    "salario = float(input('Inserte su salario, en soles, para calcular su bono correspondiente: '))\n",
    "bono = 0\n",
    "\n",
    "if salario >= 2500:\n",
    "    bono = 0.15 * salario # Se ejecuta si cumple la condicion\n",
    "elif salario >= 2000:\n",
    "    bono = 0.12 * salario\n",
    "elif salario >= 1500:\n",
    "    bono = 0.10 * salario\n",
    "else:\n",
    "    bono = 0.05 * salario # Se ejecuta si NO se cumple la condicion\n",
    "\n",
    "print('El bono que le corresponde es: S/. ' + str(bono))"
   ]
  },
  {
   "cell_type": "markdown",
   "metadata": {},
   "source": [
    "### Sentencias **IF** anidadas\n",
    "\n",
    "En el bloque de código de una sentencia **IF**, podemos también tener condicionales. Es decir, tendremos sentencias **IF** dentro de sentencias **IF**, los cuales son denominados *sentencias anidadas*.\n",
    "\n",
    "Supongamos que queremos determinar si un año es bisiesto o no. Un año es bisiesto `si` es múltiplo de 4, con la excepción, de que `si` el año es múltiplo de 100, entonces debe ser múltiplo de 400 para ser bisiesto. \n",
    "\n",
    "El código quedaría de la siguiente manera (prueba ejecutando la celda con distintos años):"
   ]
  },
  {
   "cell_type": "code",
   "execution_count": null,
   "metadata": {},
   "outputs": [],
   "source": [
    "year = 2023\n",
    "\n",
    "if year % 4 == 0:\n",
    "    if year % 100 == 0:\n",
    "        if year % 400 == 0:\n",
    "            print('Es bisiesto')\n",
    "        else:\n",
    "            print('No es bisiesto')\n",
    "    else:\n",
    "        print('Es bisiesto')\n",
    "else:\n",
    "    print('No es bisiesto')"
   ]
  },
  {
   "cell_type": "markdown",
   "metadata": {},
   "source": [
    "Un mismo problema, puede conllevar a distintas soluciones. Otra solución para determinar si el año es bisiesto o no, es de la siguiente manera:"
   ]
  },
  {
   "cell_type": "code",
   "execution_count": null,
   "metadata": {},
   "outputs": [],
   "source": [
    "year = 2023\n",
    "\n",
    "if year % 400 == 0:\n",
    "    print('Es bisiesto')\n",
    "elif year % 100 == 0:\n",
    "    print('No es bisiesto')\n",
    "elif year % 4 == 0:\n",
    "    print('Es bisiesto')\n",
    "else:\n",
    "    print('No es bisiesto')"
   ]
  },
  {
   "cell_type": "markdown",
   "metadata": {},
   "source": [
    "### Operaciones AND, OR y NOT\n",
    "\n",
    "Cuando nos hemos referimos a una `<condición>` es en realidad un dato del tipo **booleano** que puede ser **True** (verdadero) o **False** (false)."
   ]
  },
  {
   "cell_type": "code",
   "execution_count": null,
   "metadata": {},
   "outputs": [],
   "source": [
    "10 >= 7 # True\n",
    "4 == 4 # True\n",
    "3 < 3 # False\n",
    "-2 > -1 # False"
   ]
  },
  {
   "cell_type": "markdown",
   "metadata": {},
   "source": [
    "Sobre estos booleanos, existen operaciones para formar condicionales más complejas. Las tres principales son `and`, `or` y `not`:"
   ]
  },
  {
   "cell_type": "markdown",
   "metadata": {},
   "source": [
    "1. AND: Si queremos que el resultado sea **True**, los dos booleanos a operar también tienen que ser **True**\n",
    "    \n",
    "                                  Resultado\n",
    "    ```python\n",
    "    True and True               # True\n",
    "    True and False              # False\n",
    "    False and True              # False\n",
    "    False and False             # False\n",
    "    ```\n",
    "\n",
    "2. OR: Si queremos que el resultado sea **False**, los dos booleanos a operar también tienen que ser **False**\n",
    "    \n",
    "                                  Resultado\n",
    "    ```python\n",
    "    True or True                # True\n",
    "    True or False               # True\n",
    "    False or True               # True\n",
    "    False or False              # False\n",
    "    ```\n",
    "3. NOT: Negación\n",
    "\n",
    "                                  Resultado\n",
    "    ```python\n",
    "    not True                    # False\n",
    "    not False                   # True\n"
   ]
  },
  {
   "cell_type": "markdown",
   "metadata": {},
   "source": [
    "Con estas tres operaciones podemos crear condicionales aún más complejas:\n",
    "\n",
    "1. Si tu edad se encuentra entre 18 y 60 años, tienes permitido ingresar, en otro caso, no.\n",
    "    ```python\n",
    "    if edad >= 18 and edad <= 60:\n",
    "        print('Tienes permitido ingresar')\n",
    "    else:\n",
    "        print('No tienes permitidos ingresar')\n",
    "    ```"
   ]
  },
  {
   "cell_type": "code",
   "execution_count": null,
   "metadata": {},
   "outputs": [],
   "source": []
  }
 ],
 "metadata": {
  "kernelspec": {
   "display_name": "Python 3",
   "language": "python",
   "name": "python3"
  },
  "language_info": {
   "codemirror_mode": {
    "name": "ipython",
    "version": 3
   },
   "file_extension": ".py",
   "mimetype": "text/x-python",
   "name": "python",
   "nbconvert_exporter": "python",
   "pygments_lexer": "ipython3",
   "version": "3.11.6"
  }
 },
 "nbformat": 4,
 "nbformat_minor": 2
}
