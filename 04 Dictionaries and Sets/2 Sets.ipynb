{
 "cells": [
  {
   "cell_type": "markdown",
   "metadata": {},
   "source": [
    "## 2. Sets\n",
    "\n",
    "El **conjunto** (set) es otra estructura de datos de Python. Se declara también con llaves `{}`, de la siguiente manera:\n",
    "\n",
    "```python\n",
    "\n",
    "set = {element1, element2, element3, element4}\n",
    "\n",
    "```\n",
    "\n",
    "La particularidad de esta estructura de datos, es que sus elementos cumplirán dos propiedades:\n",
    "\n",
    "1. Se encuentran ordenados de menor o mayor\n",
    "2. No existen duplicados\n"
   ]
  },
  {
   "cell_type": "code",
   "execution_count": null,
   "metadata": {},
   "outputs": [],
   "source": [
    "# Los elementos están en cualquier orden y existen elementos duplicados\n",
    "\n",
    "s = {4, 0, 15, 0, 10, 10, 10, 7, 5, 0, 3, 9, 7}\n",
    "\n",
    "# Una vez declarado el conjunto, los ordenará y eliminará duplicados\n",
    "\n",
    "s"
   ]
  },
  {
   "cell_type": "markdown",
   "metadata": {},
   "source": [
    "También, podemos añadir elementos al conjunto, y se seguirán cumpliendo las dos propiedades mencionadas:"
   ]
  },
  {
   "cell_type": "code",
   "execution_count": null,
   "metadata": {},
   "outputs": [],
   "source": [
    "# Añadimos '6' al conjunto\n",
    "s.add(6)\n",
    "\n",
    "# Vemos que sus elementos siguen ordenados\n",
    "s"
   ]
  },
  {
   "cell_type": "markdown",
   "metadata": {},
   "source": [
    "Si añadimos un elemento duplicado, será ignorado:"
   ]
  },
  {
   "cell_type": "code",
   "execution_count": null,
   "metadata": {},
   "outputs": [],
   "source": [
    "s.add(7)\n",
    "s"
   ]
  },
  {
   "cell_type": "markdown",
   "metadata": {},
   "source": [
    "Existen dos maneras de eliminar un elemento de un conjunto, usando el método `.remove()` y `.discard()`. La diferencia entre ambos, es que si el elemento a eliminar no existe, el método `.remove()` generará un error, mientras que el método `.discard()` ignorará la acción."
   ]
  },
  {
   "cell_type": "code",
   "execution_count": null,
   "metadata": {},
   "outputs": [],
   "source": [
    "s.remove(10)\n",
    "s"
   ]
  },
  {
   "cell_type": "code",
   "execution_count": null,
   "metadata": {},
   "outputs": [],
   "source": [
    "s.discard(4)\n",
    "s"
   ]
  },
  {
   "cell_type": "code",
   "execution_count": null,
   "metadata": {},
   "outputs": [],
   "source": [
    "# 11 no existe en el conjunto\n",
    "# .remove() generará un error\n",
    "s.remove(11)\n",
    "s"
   ]
  },
  {
   "cell_type": "code",
   "execution_count": null,
   "metadata": {},
   "outputs": [],
   "source": [
    "# 11 no existe en el conjunto\n",
    "# .discard() simplemente ignora la acción, y seguirá con la ejecución\n",
    "s.discard(11)\n",
    "s"
   ]
  },
  {
   "cell_type": "markdown",
   "metadata": {},
   "source": [
    "No podemos acceder a los elementos por índice en los conjuntos como si se pueden hacer en las listas, nos generará un error:"
   ]
  },
  {
   "cell_type": "code",
   "execution_count": null,
   "metadata": {},
   "outputs": [],
   "source": [
    "s[0]"
   ]
  },
  {
   "cell_type": "markdown",
   "metadata": {},
   "source": [
    "Pero, los conjuntos son objetos iterables, de esa manera podemos acceder a sus elementos:"
   ]
  },
  {
   "cell_type": "code",
   "execution_count": null,
   "metadata": {},
   "outputs": [],
   "source": [
    "for element in s:\n",
    "    print(element)"
   ]
  },
  {
   "cell_type": "markdown",
   "metadata": {},
   "source": [
    "Si queremos acceder a sus elementos por índice, podemos **convertir el conjunto en una lista**:"
   ]
  },
  {
   "cell_type": "code",
   "execution_count": null,
   "metadata": {},
   "outputs": [],
   "source": [
    "my_list = list(s)\n",
    "my_list"
   ]
  },
  {
   "cell_type": "code",
   "execution_count": null,
   "metadata": {},
   "outputs": [],
   "source": [
    "my_list[0]"
   ]
  },
  {
   "cell_type": "code",
   "execution_count": null,
   "metadata": {},
   "outputs": [],
   "source": [
    "my_list[3]"
   ]
  },
  {
   "cell_type": "markdown",
   "metadata": {},
   "source": [
    "Los conjuntos serán útiles, cuando requiramos una estructura que *ordene elementos* o queramos *eliminar elementos duplicados*. Por ejemplo, si tenemos una lista y queremos eliminar sus duplicados, podemos convertirlo en un conjunto y luego en una lista: "
   ]
  },
  {
   "cell_type": "code",
   "execution_count": null,
   "metadata": {},
   "outputs": [],
   "source": [
    "name_list = ['Mario', 'Denis', 'Marco', 'Marco', 'Rosa', 'Denis', 'Julio', 'Denis', 'Vanesa']\n",
    "\n",
    "name_list = list(set(name_list))\n",
    "\n",
    "# Nota que los elementos no se encuentran ordenados\n",
    "# al convertir de 'set' a 'list' obtendremos cualquier orden\n",
    "name_list"
   ]
  },
  {
   "cell_type": "code",
   "execution_count": null,
   "metadata": {},
   "outputs": [],
   "source": [
    "# Podemos ordenar la lista\n",
    "name_list = sorted(name_list)\n",
    "print(name_list)"
   ]
  }
 ],
 "metadata": {
  "kernelspec": {
   "display_name": "Python 3",
   "language": "python",
   "name": "python3"
  },
  "language_info": {
   "codemirror_mode": {
    "name": "ipython",
    "version": 3
   },
   "file_extension": ".py",
   "mimetype": "text/x-python",
   "name": "python",
   "nbconvert_exporter": "python",
   "pygments_lexer": "ipython3",
   "version": "3.11.6"
  }
 },
 "nbformat": 4,
 "nbformat_minor": 2
}
