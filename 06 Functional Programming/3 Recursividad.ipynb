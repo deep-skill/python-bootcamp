{
 "cells": [
  {
   "cell_type": "markdown",
   "metadata": {},
   "source": [
    "## 3. Recursividad\n",
    "\n",
    "La recursividad es un cocepto importante en la programación funcional y se refiere a la capacidad de una función de poder llamarse a sí misma.\n",
    "\n",
    "Veamos un ejemplo de recursividad en la función factorial:\n",
    "\n",
    "$$\n",
    "\n",
    "\\text{factorial}(0) = 1 \\\\\n",
    "\n",
    "\\text{factorial}(n) = 1 \\times 2 \\times 3 \\times \\cdots \\times n\\\\\n",
    "\\text{factorial}(n) = \\text{factorial}(n-1) \\times n\n",
    "\n",
    "$$\n",
    "\n",
    "La función `factorial` se puede expresar en términos de si misma. Esta es una función matemática recursiva y podemos implementarla en Python:"
   ]
  },
  {
   "cell_type": "code",
   "execution_count": null,
   "metadata": {},
   "outputs": [],
   "source": [
    "def factorial(n):\n",
    "    # Caso base\n",
    "    if n == 0:\n",
    "        return 1\n",
    "    \n",
    "    # Paso recursivo\n",
    "    return n * factorial(n-1)\n"
   ]
  },
  {
   "cell_type": "code",
   "execution_count": null,
   "metadata": {},
   "outputs": [],
   "source": [
    "factorial(5)"
   ]
  },
  {
   "cell_type": "code",
   "execution_count": null,
   "metadata": {},
   "outputs": [],
   "source": [
    "factorial(10)"
   ]
  },
  {
   "cell_type": "markdown",
   "metadata": {},
   "source": [
    "Es importante que una función recursiva tenga un *caso base*. Por ejemplo, en el factorial, el caso base es cuando `n=0`. Si la función no tuviese esa condicional, se ejecutaría infinitamente y llevándonos a un error, ya que Python tiene un límite máximo de llamados recursivos."
   ]
  },
  {
   "cell_type": "code",
   "execution_count": null,
   "metadata": {},
   "outputs": [],
   "source": [
    "def factorial2(n):\n",
    "    return n * factorial2(n-1)"
   ]
  },
  {
   "cell_type": "code",
   "execution_count": null,
   "metadata": {},
   "outputs": [],
   "source": [
    "factorial2(5)"
   ]
  },
  {
   "cell_type": "markdown",
   "metadata": {},
   "source": [
    "La secuencia fibonnaci también es una función recursiva:\n",
    "$$\n",
    "\n",
    "fibo(n) = \\begin{cases}\n",
    "\n",
    "    0 & n = 0 \\\\\n",
    "    1 & n = 1 \\\\\n",
    "    fibo(n-1) + fibo(n-2) & \\text{en otro caso}\n",
    "\n",
    "\\end{cases}\n",
    "\n",
    "$$\n",
    "\n",
    "Y la implementación en Python, sería:"
   ]
  },
  {
   "cell_type": "code",
   "execution_count": null,
   "metadata": {},
   "outputs": [],
   "source": [
    "def fibo(n):\n",
    "\n",
    "    # Ahora contamos con dos casos bases necesarios\n",
    "    if n == 0:\n",
    "        return 0\n",
    "    if n == 1:\n",
    "        return 1\n",
    "    \n",
    "    # Paso recursivo\n",
    "    return fibo(n-1) + fibo(n-2)"
   ]
  },
  {
   "cell_type": "code",
   "execution_count": null,
   "metadata": {},
   "outputs": [],
   "source": [
    "n = 20\n",
    "\n",
    "for i in range(n):\n",
    "    print(fibo(i))"
   ]
  },
  {
   "cell_type": "markdown",
   "metadata": {},
   "source": [
    "Las funciones recursivas nos pueden ayudar a resolver ciertos problemas de una manera más elegante y simple. En Python, las funciones recursivas no son tan eficientes como en otros lenguajes de programación. Por lo que será importante evaluar si la recursividad es la mejor solución para un problema en particular."
   ]
  }
 ],
 "metadata": {
  "language_info": {
   "name": "python"
  }
 },
 "nbformat": 4,
 "nbformat_minor": 2
}
