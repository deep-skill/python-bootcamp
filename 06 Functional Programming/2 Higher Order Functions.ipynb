{
 "cells": [
  {
   "cell_type": "markdown",
   "metadata": {},
   "source": [
    "## 2. Funciones de orden superior principales de Python\n",
    "\n",
    "Una **función de orden superior** es aquella que toma a alguna función como uno de sus parámetros y/o que retorne una función. Esto significa que las funciones son tratadas como cualquier otro tipo de objeto, y pueden ser manipuladas de la misma manera que otros tipos de datos."
   ]
  },
  {
   "cell_type": "code",
   "execution_count": null,
   "metadata": {},
   "outputs": [],
   "source": [
    "from math import pi\n",
    "\n",
    "area_circle = lambda radius : (radius ** 2) * pi\n",
    "area_circle(2)"
   ]
  },
  {
   "cell_type": "code",
   "execution_count": null,
   "metadata": {},
   "outputs": [],
   "source": [
    "area_equilateral_triangle = lambda side : (3 ** 0.5) / 4 * (side ** 2)\n",
    "area_equilateral_triangle(3)"
   ]
  },
  {
   "cell_type": "code",
   "execution_count": null,
   "metadata": {},
   "outputs": [],
   "source": [
    "def get_area(value, area_function):\n",
    "    return area_function(value)"
   ]
  },
  {
   "cell_type": "code",
   "execution_count": null,
   "metadata": {},
   "outputs": [],
   "source": [
    "get_area(4, area_circle)"
   ]
  },
  {
   "cell_type": "code",
   "execution_count": null,
   "metadata": {},
   "outputs": [],
   "source": [
    "get_area(4, area_equilateral_triangle)"
   ]
  },
  {
   "cell_type": "code",
   "execution_count": null,
   "metadata": {},
   "outputs": [],
   "source": [
    "def get_area_function(shape):\n",
    "    if shape == 'circle':\n",
    "        return area_circle\n",
    "    if shape == 'triangle':\n",
    "        return area_equilateral_triangle"
   ]
  },
  {
   "cell_type": "code",
   "execution_count": null,
   "metadata": {},
   "outputs": [],
   "source": [
    "function_area = get_area_function('circle')\n",
    "function_area(4)"
   ]
  },
  {
   "cell_type": "code",
   "execution_count": null,
   "metadata": {},
   "outputs": [],
   "source": [
    "function_area = get_area_function('triangle')\n",
    "function_area(4)"
   ]
  },
  {
   "cell_type": "markdown",
   "metadata": {},
   "source": [
    "### Filter\n",
    "\n",
    "Es una función de orden superior que filtra los elementos de un iterable según una función de prueba. Retorna los elementos filtrados.\n",
    "\n",
    "```python\n",
    "filter(function, iterable)\n",
    "```"
   ]
  },
  {
   "cell_type": "code",
   "execution_count": null,
   "metadata": {},
   "outputs": [],
   "source": [
    "# Filtrar los números pares de una lista\n",
    "\n",
    "number_list = [2, 5, 7, 20, 22, 41, 64, 75]\n",
    "is_even = lambda x : x % 2 == 0       # Función lambda que retorna True si 'x' es par\n",
    "\n",
    "even_list = filter(is_even, number_list)\n",
    "\n",
    "print(type(even_list))                 # Es del tipo 'filter'\n",
    "\n",
    "even_list = list(even_list)            # Lo convertimos a lista\n",
    "print(even_list)                       # Obtenemos la lista de con solo números pares de 'number_list'"
   ]
  },
  {
   "cell_type": "code",
   "execution_count": null,
   "metadata": {},
   "outputs": [],
   "source": [
    "# Filtrar todos los números primos\n",
    "\n",
    "def is_prime(n):\n",
    "    if n <= 1:\n",
    "        return False\n",
    "    \n",
    "    for i in range(2, n):\n",
    "        if n % i == 0:\n",
    "            return False\n",
    "        \n",
    "    return True\n",
    "\n",
    "number_list = [2, 5, 7, 20, 97, 41, 64, 75]\n",
    "prime_list = list(filter(is_prime, number_list))\n",
    "prime_list"
   ]
  },
  {
   "cell_type": "code",
   "execution_count": null,
   "metadata": {},
   "outputs": [],
   "source": [
    "# Filtrar los nombres con longitud igual a 5\n",
    "\n",
    "name_list = ['Mario', 'Stephanie', 'Linda', 'Rocio', 'Jhon', 'Kevin']\n",
    "filtered_name_list = list(filter(lambda name : len(name) == 5, name_list))\n",
    "filtered_name_list"
   ]
  },
  {
   "cell_type": "code",
   "execution_count": null,
   "metadata": {},
   "outputs": [],
   "source": [
    "# Dado los radios de unos círculos, filtrar aquellos que su área sea menor a 300.0\n",
    "\n",
    "radius_list = [2, 10, 4, 1, 19, 8, 14]\n",
    "filtered_radius_list = list(filter(lambda radius : area_circle(radius) < 300.0, radius_list))\n",
    "filtered_radius_list"
   ]
  },
  {
   "cell_type": "markdown",
   "metadata": {},
   "source": [
    "### Map\n",
    "\n",
    "Es una función de orden superior que aplica una función a todos los elementos de un iterable y retorna un nuevo iterable con los resultados:\n",
    "\n",
    "```python\n",
    "\n",
    "map(function, iterable)\n",
    "\n",
    "```"
   ]
  },
  {
   "cell_type": "code",
   "execution_count": null,
   "metadata": {},
   "outputs": [],
   "source": [
    "number_list = [5, 10, 23, 4, 5]\n",
    "square_list = list(map(lambda x : x ** 2, number_list))\n",
    "square_list"
   ]
  },
  {
   "cell_type": "code",
   "execution_count": null,
   "metadata": {},
   "outputs": [],
   "source": [
    "import math\n",
    "\n",
    "number_list = [5, 10, 23, 4, 5]\n",
    "\n",
    "# math.factorial es una función, y puede ser usada como parámetro en 'map'\n",
    "factorial_list = list(map(math.factorial, number_list))\n",
    "factorial_list"
   ]
  },
  {
   "cell_type": "code",
   "execution_count": null,
   "metadata": {},
   "outputs": [],
   "source": [
    "name_list = ['Mario', 'Stephanie', 'Linda', 'Rocio', 'Jhon', 'Kevin']\n",
    "len_list = list(map(len, name_list))\n",
    "len_list"
   ]
  },
  {
   "cell_type": "markdown",
   "metadata": {},
   "source": [
    "### Reduce\n",
    "\n",
    "Es una función de orden superior que se encuentra en el módulo `functools` y se utiliza para aplicar repetidamente una función binaria (funciones con dos parámetros) de un iterable, de manera acumulativa. \n",
    "\n",
    "La función binaria, primero se aplica a los dos primeros elementos. El resultado, ahora es aplicado la función junto al siguiente término de la lista. Y así sucesivamente. `reduce()` retornará el resultado luego de aplicar la función binaria a todos los elementos del iterable.\n",
    "\n",
    "```python\n",
    "\n",
    "from functools import reduce\n",
    "reduce(function, iterable, [initializer])\n",
    "\n",
    "```\n",
    "\n",
    "El tercer parámetro `initializer` es opcional, y es un valor inicial que se utiliza como primer argumento en la primera llamada a la función."
   ]
  },
  {
   "cell_type": "code",
   "execution_count": null,
   "metadata": {},
   "outputs": [],
   "source": [
    "from functools import reduce"
   ]
  },
  {
   "cell_type": "code",
   "execution_count": null,
   "metadata": {},
   "outputs": [],
   "source": [
    "number_list = [2, 5, 75, 20, 22, 41, 64, 7]\n",
    "total_sum = reduce(lambda a, b : a + b, number_list)\n",
    "total_sum"
   ]
  },
  {
   "cell_type": "code",
   "execution_count": null,
   "metadata": {},
   "outputs": [],
   "source": [
    "number_list = [2, 5, 75, 20, 22, 41, 64, 7]\n",
    "total_sum = reduce(max, number_list)\n",
    "total_sum"
   ]
  }
 ],
 "metadata": {
  "language_info": {
   "name": "python"
  }
 },
 "nbformat": 4,
 "nbformat_minor": 2
}
