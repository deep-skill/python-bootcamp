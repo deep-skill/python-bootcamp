{
 "cells": [
  {
   "cell_type": "markdown",
   "metadata": {},
   "source": [
    "# Atributos\n",
    "\n",
    "Ya vimos que una clase da la *estructura* de sus instancias. La clase contiene **atributos** que son variables que comparten todas sus instancias; sin embargo, existen dos tipos de instancias según su *alcance*:\n",
    "\n",
    "- **Atributos de instancia**: Este atributo pertenece a un y solo un objeto. Se define dentro del constructor `__init__`.\n",
    "- **Atributos de clase**: Este atributo pertenece a la clase. Es compartida a todas las instancias de la clase. Se define fuera del constructor `__init__`.\n",
    "\n",
    "Veamos una clase de un concepto matemático abstracto:"
   ]
  },
  {
   "cell_type": "code",
   "execution_count": null,
   "metadata": {},
   "outputs": [],
   "source": [
    "class Circle:\n",
    "    # Atributo de clase\n",
    "    # PI  es definido en la clase, pero fuera del constructor\n",
    "    pi_value = 3.14159265\n",
    "\n",
    "    def __init__(self, radius):\n",
    "        # Atributo de instancia\n",
    "        # self.radius es definido dentro del constructor\n",
    "        self.radius = radius\n",
    "\n",
    "    def get_area(self):\n",
    "        return self.radius ** 2 * self.pi_value"
   ]
  },
  {
   "cell_type": "code",
   "execution_count": null,
   "metadata": {},
   "outputs": [],
   "source": [
    "circle1 = Circle(4)\n",
    "circle2 = Circle(7)"
   ]
  },
  {
   "cell_type": "markdown",
   "metadata": {},
   "source": [
    "Los atributos de clase tendrán el mismo valor en todas sus instancias. Podemos aprovechar los atributos de clase para valores constantes. Por ejemplo, el valor de pi será el mismo para todos los círculos, independiente a su radio."
   ]
  },
  {
   "cell_type": "code",
   "execution_count": null,
   "metadata": {},
   "outputs": [],
   "source": [
    "circle1.pi_value"
   ]
  },
  {
   "cell_type": "code",
   "execution_count": null,
   "metadata": {},
   "outputs": [],
   "source": [
    "circle2.pi_value"
   ]
  },
  {
   "cell_type": "markdown",
   "metadata": {},
   "source": [
    "Los atributos de instancia pueden ser distintos entre dos objetos. Todos los círculos no tienen el mismo radio."
   ]
  },
  {
   "cell_type": "code",
   "execution_count": null,
   "metadata": {},
   "outputs": [],
   "source": [
    "circle1.radius"
   ]
  },
  {
   "cell_type": "code",
   "execution_count": null,
   "metadata": {},
   "outputs": [],
   "source": [
    "circle1.get_area()"
   ]
  },
  {
   "cell_type": "code",
   "execution_count": null,
   "metadata": {},
   "outputs": [],
   "source": [
    "circle2.radius"
   ]
  },
  {
   "cell_type": "code",
   "execution_count": null,
   "metadata": {},
   "outputs": [],
   "source": [
    "circle2.get_area()"
   ]
  },
  {
   "cell_type": "markdown",
   "metadata": {},
   "source": [
    "## Namespace \n",
    "\n",
    "Un *namespace* en Python es la relación entre un objeto y nombres. Digamos que se tratase como un diccionario de Python, donde la llave es el objeto y el valor su valor. Diferentes *namespaces* pueden tener una misma propiedad, pero son independientes.\n",
    "\n",
    "Usaremos el método `__dict__` que contienen las clases y objetos para observar los *namespaces* de estos:"
   ]
  },
  {
   "cell_type": "code",
   "execution_count": null,
   "metadata": {},
   "outputs": [],
   "source": [
    "Circle.__dict__"
   ]
  },
  {
   "cell_type": "code",
   "execution_count": null,
   "metadata": {},
   "outputs": [],
   "source": [
    "circle1.__dict__"
   ]
  },
  {
   "cell_type": "code",
   "execution_count": null,
   "metadata": {},
   "outputs": [],
   "source": [
    "circle2.__dict__"
   ]
  },
  {
   "cell_type": "markdown",
   "metadata": {},
   "source": [
    "Vemos que los atributos de clase aparecen solo en el *namespace* de la clase. Y los atributos de instancia al los *namespace* de los objetos.\n",
    "\n",
    "Podemos mutar los atributos de clase a atributos de instancia, si lo modificamos en alguna de sus instancias:"
   ]
  },
  {
   "cell_type": "code",
   "execution_count": null,
   "metadata": {},
   "outputs": [],
   "source": [
    "circle1.pi_value = 2.71828\n",
    "circle1.__dict__"
   ]
  },
  {
   "cell_type": "markdown",
   "metadata": {},
   "source": [
    "Vemos que `pi_value` ahora se encuentra en el namespace del objeto `circle1`. Esto no hace que el namespace `Circle` no tenga tal atributo, sino que se mantiene en ambos:"
   ]
  },
  {
   "cell_type": "code",
   "execution_count": null,
   "metadata": {},
   "outputs": [],
   "source": [
    "Circle.__dict__"
   ]
  },
  {
   "cell_type": "code",
   "execution_count": null,
   "metadata": {},
   "outputs": [],
   "source": [
    "# circle2 mantiene su namespace\n",
    "\n",
    "circle2.__dict__"
   ]
  },
  {
   "cell_type": "markdown",
   "metadata": {},
   "source": [
    "Cuando queramos acceder al atributo de un objeto, primero se buscará en el namespace del objeto. Si no se encuentra, se buscará en el namespace de la clase."
   ]
  },
  {
   "cell_type": "code",
   "execution_count": null,
   "metadata": {},
   "outputs": [],
   "source": [
    "circle1.pi_value"
   ]
  },
  {
   "cell_type": "code",
   "execution_count": null,
   "metadata": {},
   "outputs": [],
   "source": [
    "# En el método 'get_area' accedemos a la variable 'pi_value'\n",
    "# De igual manera, primero accederá al namespace de la instancia si existe\n",
    "\n",
    "circle1.get_area()"
   ]
  },
  {
   "cell_type": "code",
   "execution_count": null,
   "metadata": {},
   "outputs": [],
   "source": [
    "circle2.pi_value"
   ]
  },
  {
   "cell_type": "markdown",
   "metadata": {},
   "source": [
    "**NOTA:** Si los atributos de clase son objetos mutables, entonces si los modificamos en alguna de sus instancias, no se convertirán a atributos de instancia."
   ]
  },
  {
   "cell_type": "code",
   "execution_count": null,
   "metadata": {},
   "outputs": [],
   "source": [
    "class Fibonacci_sequence:\n",
    "    number_list = [0, 1, 1, 2, 3, 5, 8]\n",
    "\n",
    "    def __init__(self, name):\n",
    "        self.name = name"
   ]
  },
  {
   "cell_type": "code",
   "execution_count": null,
   "metadata": {},
   "outputs": [],
   "source": [
    "fibo1 = Fibonacci_sequence('Leonardo')\n",
    "fibo2 = Fibonacci_sequence('Fibonacci')"
   ]
  },
  {
   "cell_type": "code",
   "execution_count": null,
   "metadata": {},
   "outputs": [],
   "source": [
    "Fibonacci_sequence.__dict__"
   ]
  },
  {
   "cell_type": "code",
   "execution_count": null,
   "metadata": {},
   "outputs": [],
   "source": [
    "fibo1.__dict__"
   ]
  },
  {
   "cell_type": "code",
   "execution_count": null,
   "metadata": {},
   "outputs": [],
   "source": [
    "fibo2.__dict__"
   ]
  },
  {
   "cell_type": "code",
   "execution_count": null,
   "metadata": {},
   "outputs": [],
   "source": [
    "# Modificamos el atributo de clase\n",
    "\n",
    "fibo1.number_list.append(13)"
   ]
  },
  {
   "cell_type": "code",
   "execution_count": null,
   "metadata": {},
   "outputs": [],
   "source": [
    "# Se ha modificado en el namespace de la clase, ya que se trata de un objeto mutable\n",
    "\n",
    "Fibonacci_sequence.__dict__"
   ]
  },
  {
   "cell_type": "code",
   "execution_count": null,
   "metadata": {},
   "outputs": [],
   "source": [
    "# number_list no se convirtió en un atributo de instancia\n",
    "\n",
    "fibo1.__dict__"
   ]
  },
  {
   "cell_type": "markdown",
   "metadata": {},
   "source": [
    "Pero si se asigna una nueva lista a ese atributo, ahora obtendremos el mismo comportamiento que en los objetos inmutables:"
   ]
  },
  {
   "cell_type": "code",
   "execution_count": null,
   "metadata": {},
   "outputs": [],
   "source": [
    "fibo1.number_list = [13, 21, 34, 55]"
   ]
  },
  {
   "cell_type": "code",
   "execution_count": null,
   "metadata": {},
   "outputs": [],
   "source": [
    "Fibonacci_sequence.__dict__"
   ]
  },
  {
   "cell_type": "code",
   "execution_count": null,
   "metadata": {},
   "outputs": [],
   "source": [
    "fibo1.__dict__"
   ]
  },
  {
   "cell_type": "code",
   "execution_count": null,
   "metadata": {},
   "outputs": [],
   "source": [
    "fibo2.__dict__"
   ]
  },
  {
   "cell_type": "code",
   "execution_count": null,
   "metadata": {},
   "outputs": [],
   "source": [
    "fibo1.number_list"
   ]
  },
  {
   "cell_type": "code",
   "execution_count": null,
   "metadata": {},
   "outputs": [],
   "source": [
    "fibo2.number_list"
   ]
  }
 ],
 "metadata": {
  "kernelspec": {
   "display_name": "Python 3",
   "language": "python",
   "name": "python3"
  },
  "language_info": {
   "codemirror_mode": {
    "name": "ipython",
    "version": 3
   },
   "file_extension": ".py",
   "mimetype": "text/x-python",
   "name": "python",
   "nbconvert_exporter": "python",
   "pygments_lexer": "ipython3",
   "version": "3.11.6"
  }
 },
 "nbformat": 4,
 "nbformat_minor": 2
}
