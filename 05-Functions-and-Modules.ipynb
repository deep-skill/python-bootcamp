{
 "cells": [
  {
   "cell_type": "markdown",
   "metadata": {},
   "source": [
    "# Funciones y Módulos\n",
    "\n",
    "## 1. ¿Qué son las funciones?\n",
    "\n",
    "Las funciones son bloques de código que tienen una importante característica: *reutilizable*. Una vez declarada una función, podemos utilizarla en donde el programa lo necesite. \n",
    "\n",
    "### Sintaxis de una función\n",
    "\n",
    "```python\n",
    "def function_name(paremeter1, parameter2, parameter3):\n",
    "    <Bloque de código\n",
    "    Bloque de código\n",
    "    Bloque de código>\n",
    "```\n",
    "\n",
    "Las funciones tienen parámetros para poder trabajar sobre ellas. Veamos un ejemplo:"
   ]
  },
  {
   "cell_type": "code",
   "execution_count": null,
   "metadata": {},
   "outputs": [],
   "source": [
    "# La siguiente función calcula el factorial de un número\n",
    "# Tiene como parámetro: 'n'\n",
    "\n",
    "def print_factorial(n):\n",
    "    fn = 1\n",
    "    i = 1\n",
    "\n",
    "    while i <= n:\n",
    "        fn = fn * i\n",
    "        i += 1\n",
    "\n",
    "    print('El factorial de ' + str(n) + ' es ' + str(fn))"
   ]
  },
  {
   "cell_type": "markdown",
   "metadata": {},
   "source": [
    "Podemos observar, que la función calcula el factorial de la variable `n`. Ahora podemos llamar a nuestra función, y darle un valor a `n`:"
   ]
  },
  {
   "cell_type": "code",
   "execution_count": null,
   "metadata": {},
   "outputs": [],
   "source": [
    "# n = 5\n",
    "\n",
    "print_factorial(5)"
   ]
  },
  {
   "cell_type": "code",
   "execution_count": null,
   "metadata": {},
   "outputs": [],
   "source": [
    "# n = 10\n",
    "\n",
    "print_factorial(10)"
   ]
  },
  {
   "cell_type": "code",
   "execution_count": null,
   "metadata": {},
   "outputs": [],
   "source": [
    "# n = 20\n",
    "\n",
    "print_factorial(20)"
   ]
  },
  {
   "cell_type": "markdown",
   "metadata": {},
   "source": [
    "Vemos que los parámetros asumen los valores que insertamos a la hora de llamar a nuestra función. Veamos una función con varios parámetros:"
   ]
  },
  {
   "cell_type": "code",
   "execution_count": null,
   "metadata": {},
   "outputs": [],
   "source": [
    "def say_hello(name, career, university):\n",
    "    print('Hola soy ' + name + ' y estudio ' + career + ' en la ' + university)"
   ]
  },
  {
   "cell_type": "code",
   "execution_count": null,
   "metadata": {},
   "outputs": [],
   "source": [
    "say_hello('Emanuel', 'Ciencia de la Computación', 'UNI')"
   ]
  },
  {
   "cell_type": "code",
   "execution_count": null,
   "metadata": {},
   "outputs": [],
   "source": [
    "say_hello('Emanuel', 'UNI', 'Ciencia de la Computación')"
   ]
  },
  {
   "cell_type": "code",
   "execution_count": null,
   "metadata": {},
   "outputs": [],
   "source": [
    "say_hello('UNI', 'Ciencia de la Computación', 'Emanuel')"
   ]
  },
  {
   "cell_type": "markdown",
   "metadata": {},
   "source": [
    "Si existen varios parámetros, se asignarán los valores según el orden de los mismos.\n",
    "\n",
    "La función `print_factorial` calcula el factorial de un número, e imprime el resultado. Pero, ¿y si queremos calcular el factorial de ese número y asignarlo a una variable? Para ello usaremos la sentencia `return`:\n"
   ]
  },
  {
   "cell_type": "code",
   "execution_count": null,
   "metadata": {},
   "outputs": [],
   "source": [
    "def factorial(n):\n",
    "    fn = 1\n",
    "    i = 1\n",
    "\n",
    "    while i <= n:\n",
    "        fn = fn * i\n",
    "        i += 1\n",
    "\n",
    "    return fn        # Retornamos el valor del factorial"
   ]
  },
  {
   "cell_type": "code",
   "execution_count": null,
   "metadata": {},
   "outputs": [],
   "source": [
    "fn = factorial(5)\n",
    "fn"
   ]
  },
  {
   "cell_type": "code",
   "execution_count": null,
   "metadata": {},
   "outputs": [],
   "source": [
    "fn = factorial(10)\n",
    "fn"
   ]
  },
  {
   "cell_type": "code",
   "execution_count": null,
   "metadata": {},
   "outputs": [],
   "source": [
    "fn = factorial(20)\n",
    "fn"
   ]
  },
  {
   "cell_type": "markdown",
   "metadata": {},
   "source": [
    "Una función puede retornar cualquier tipo de dato, ya sean enteros, flotantes, strings, listas, tuplas, etc.\n",
    "\n",
    "En el segundo módulo del curso, el código para el cálculo del coeficiente binomial es el siguiente:"
   ]
  },
  {
   "cell_type": "code",
   "execution_count": null,
   "metadata": {},
   "outputs": [],
   "source": [
    "n = 10\n",
    "k = 3\n",
    "\n",
    "fn = 1               # Factorial de n\n",
    "i = 1\n",
    "\n",
    "while i <= n:\n",
    "    fn = fn * i\n",
    "    i += 1\n",
    "\n",
    "fk = 1               # Factorial de k\n",
    "i = 1\n",
    "\n",
    "while i <= k:\n",
    "    fk = fk * i\n",
    "    i += 1\n",
    "\n",
    "d = n-k\n",
    "\n",
    "fd = 1               # Factorial de n-k\n",
    "i = 1\n",
    "\n",
    "while i <= d:\n",
    "    fd = fd * i\n",
    "    i += 1\n",
    "\n",
    "coeficiente_binomial = fn // (fk * fd)\n",
    "print(coeficiente_binomial)"
   ]
  },
  {
   "cell_type": "markdown",
   "metadata": {},
   "source": [
    "Ahora podemos reemplazar el código para el cálculo del factorial con nuestra función:"
   ]
  },
  {
   "cell_type": "code",
   "execution_count": null,
   "metadata": {},
   "outputs": [],
   "source": [
    "n = 10\n",
    "k = 3\n",
    "\n",
    "d = n-k\n",
    "\n",
    "fn = factorial(n)\n",
    "fk = factorial(k)\n",
    "fd = factorial(d)\n",
    "\n",
    "binomial_coefficient = fn // (fk * fd)\n",
    "print(binomial_coefficient)"
   ]
  },
  {
   "cell_type": "markdown",
   "metadata": {},
   "source": [
    "El código con respecto al planteado en el módulo 2 es mucho más comprensible. En el primero, existen bloques de código repetitivos (el cálculo del factorial), lo cual es una mala práctica de progamación. Imaginemos que nos confundimos en alguna parte de ese bloque, tendríamos que hacer el mismo cambio para todos los bloques de código existentes en el programa, y esto puede llevar a más errores. Mientras si tenemos funciones, podemos cambiar el algoritmo dentro de la función, y el cambio se aplicará para todos a la vez.\n",
    "\n",
    "Es importante saber que la ejecución de una función termina cuando retorna un valor:"
   ]
  },
  {
   "cell_type": "code",
   "execution_count": null,
   "metadata": {},
   "outputs": [],
   "source": [
    "# Función para determinar si un número es primo o no\n",
    "\n",
    "def is_prime(n):\n",
    "    if n <= 1:\n",
    "        # Si n <= 1, entonces la función retorna False y termina la ejecución\n",
    "        return False\n",
    "\n",
    "    for i in range(2, n):\n",
    "        if n % i == 0:\n",
    "            # Si encontramos un divisor de n, entonces sabemos que n no es primo, \n",
    "            # por lo tanto retornamos False y termina la ejecución\n",
    "            return False\n",
    "        \n",
    "    # Si el flujo de ejecución llega a este punto, significa que no se encontró ningún divisor\n",
    "    # entonces n es primo\n",
    "    return True"
   ]
  },
  {
   "cell_type": "code",
   "execution_count": null,
   "metadata": {},
   "outputs": [],
   "source": [
    "is_prime(15)"
   ]
  },
  {
   "cell_type": "code",
   "execution_count": null,
   "metadata": {},
   "outputs": [],
   "source": [
    "is_prime(37)"
   ]
  },
  {
   "cell_type": "markdown",
   "metadata": {},
   "source": [
    "## 2. Importación de Módulos\n",
    "\n",
    "En Python, existen funciones ya implementadas a nuestra dispocisión. Por ejemplo, `print()` es una de ellas. Aquí algunos otros ejemplos:"
   ]
  },
  {
   "cell_type": "code",
   "execution_count": null,
   "metadata": {},
   "outputs": [],
   "source": [
    "# Retorna el valor absoluto de un número\n",
    "abs(-100)"
   ]
  },
  {
   "cell_type": "code",
   "execution_count": null,
   "metadata": {},
   "outputs": [],
   "source": [
    "# Retorna la exponenciación\n",
    "pow(5, 3)"
   ]
  },
  {
   "cell_type": "code",
   "execution_count": null,
   "metadata": {},
   "outputs": [],
   "source": [
    "# Retorna la longitud de una lista, tupla, diccionario, set\n",
    "lst = [1, 2, 3, 4, 5]\n",
    "len(lst)"
   ]
  },
  {
   "cell_type": "markdown",
   "metadata": {},
   "source": [
    "Un módulo es conjunto de definiciones y declaraciones de Python. Existen módulos con funciones ya implementadas y que podemos usar. Para usar funciones de un módulo, debemos *importar el módulo*, de la siguiente manera:"
   ]
  },
  {
   "cell_type": "code",
   "execution_count": null,
   "metadata": {},
   "outputs": [],
   "source": [
    "# El módulo 'math' contiene definiciones referidas a matemática\n",
    "\n",
    "import math"
   ]
  },
  {
   "cell_type": "markdown",
   "metadata": {},
   "source": [
    "Para llamar a algunas de sus definiciones (ya sean funciones o variables), la sintaxis es la siguiente:\n",
    "\n",
    "```python\n",
    "\n",
    "modulo_name.variable\n",
    "modulo_name.function()\n",
    "\n",
    "```"
   ]
  },
  {
   "cell_type": "code",
   "execution_count": null,
   "metadata": {},
   "outputs": [],
   "source": [
    "# La librería 'math' tiene el valor de pi en la variable 'pi'\n",
    "\n",
    "math.pi"
   ]
  },
  {
   "cell_type": "code",
   "execution_count": null,
   "metadata": {},
   "outputs": [],
   "source": [
    "# También tiene funciones trigonométricas implementadas \n",
    "\n",
    "angle = math.pi / 2\n",
    "\n",
    "# Seno de un ángulo\n",
    "math.sin(angle)"
   ]
  },
  {
   "cell_type": "code",
   "execution_count": null,
   "metadata": {},
   "outputs": [],
   "source": [
    "# Factorial de un número\n",
    "\n",
    "math.factorial(10)"
   ]
  },
  {
   "cell_type": "markdown",
   "metadata": {},
   "source": [
    "También podemos importar solo funciones o variables específicas, y evitar poner el `math.`:"
   ]
  },
  {
   "cell_type": "code",
   "execution_count": null,
   "metadata": {},
   "outputs": [],
   "source": [
    "from math import cos\n",
    "\n",
    "angle = 0\n",
    "\n",
    "# Ya no es necesario poner `math.` para llamar a la función\n",
    "cos(angle)"
   ]
  },
  {
   "cell_type": "code",
   "execution_count": null,
   "metadata": {},
   "outputs": [],
   "source": [
    "from math import log10\n",
    "\n",
    "# Logaritmo en base 10\n",
    "log10(10000)"
   ]
  },
  {
   "cell_type": "markdown",
   "metadata": {},
   "source": [
    "Incluso, podemos importar todas las declaraciones y definiciones del módulo:"
   ]
  },
  {
   "cell_type": "code",
   "execution_count": null,
   "metadata": {},
   "outputs": [],
   "source": [
    "from math import *"
   ]
  },
  {
   "cell_type": "code",
   "execution_count": null,
   "metadata": {},
   "outputs": [],
   "source": [
    "# Función arco seno\n",
    "\n",
    "asin(0.7)"
   ]
  },
  {
   "cell_type": "code",
   "execution_count": null,
   "metadata": {},
   "outputs": [],
   "source": [
    "# Función Máximo común divisor de dos números\n",
    "\n",
    "gcd(21, 91)"
   ]
  },
  {
   "cell_type": "markdown",
   "metadata": {},
   "source": [
    "Supongamos que dos módulos distintos tienen una función con el mismo nombre y las importamos:"
   ]
  },
  {
   "cell_type": "markdown",
   "metadata": {},
   "source": [
    "```python\n",
    "\n",
    "# Supongamos que ambas tienen una función con el mismo nombre\n",
    "\n",
    "from module1 import function       # module1.function()\n",
    "from module2 import function       # module2.function()\n",
    "\n",
    "# Como module2 se importó después de module1, si llamamos a function(), se llamará a \n",
    "# module2.function()\n",
    "\n",
    "function()\n",
    "\n",
    "```"
   ]
  },
  {
   "cell_type": "markdown",
   "metadata": {},
   "source": [
    "Si queremos importar ambas funciones en nuestro código y queremos diferenciarles, podemos hacer lo siguiente:\n",
    "\n",
    "\n",
    "#### Importamos ambos módulos\n",
    "\n",
    "```python\n",
    "\n",
    "# Importamos ambos módulos\n",
    "\n",
    "import module1\n",
    "import module2\n",
    "\n",
    "# Diferenciamos por el nombre del módulo\n",
    "module1.function()\n",
    "module2.function()\n",
    "\n",
    "```\n",
    "Así, diferenciamos las funciones según de qué módulo estamos llamando.\n",
    "\n",
    "\n",
    "#### Cambiamos el nombre de la función a importar\n",
    "\n",
    "```python\n",
    "\n",
    "from module1 import function as function1\n",
    "from module2 import function as function2\n",
    "\n",
    "function1() # module1.function()\n",
    "function2() # module2.function()\n",
    "\n",
    "```\n",
    "\n",
    "Podemos sobreescribir el nombre de cada función con ayuda de `as` y así diferenciar ambas funciones."
   ]
  },
  {
   "cell_type": "markdown",
   "metadata": {},
   "source": [
    "**NOTA:** Tener cuidado cuando importemos todas las definiciones y declaraciones de varios módulos, pues pueden tener elementos con el mismo nombre y confundirnos al usarlos."
   ]
  }
 ],
 "metadata": {
  "kernelspec": {
   "display_name": "Python 3",
   "language": "python",
   "name": "python3"
  },
  "language_info": {
   "codemirror_mode": {
    "name": "ipython",
    "version": 3
   },
   "file_extension": ".py",
   "mimetype": "text/x-python",
   "name": "python",
   "nbconvert_exporter": "python",
   "pygments_lexer": "ipython3",
   "version": "3.11.6"
  }
 },
 "nbformat": 4,
 "nbformat_minor": 2
}
