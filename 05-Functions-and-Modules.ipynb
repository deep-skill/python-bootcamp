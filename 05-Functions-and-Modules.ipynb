{
 "cells": [
  {
   "cell_type": "markdown",
   "metadata": {},
   "source": [
    "# Funciones y Módulos\n",
    "\n",
    "## 1. ¿Qué son las funciones?\n",
    "\n",
    "Cuando estamos construyendo software, se puede dar el caso que hay ciertos *bloques de código que se repiten constantemente*. Por ejemplo, en el segundo módulo, el código para encontrar el coeficiente binomial, es el siguiente:"
   ]
  },
  {
   "cell_type": "code",
   "execution_count": null,
   "metadata": {},
   "outputs": [],
   "source": [
    "n = 10\n",
    "k = 3\n",
    "\n",
    "fn = 1               # Factorial de n\n",
    "i = 1\n",
    "\n",
    "while i <= n:\n",
    "    fn = fn * i\n",
    "    i += 1\n",
    "\n",
    "fk = 1               # Factorial de k\n",
    "i = 1\n",
    "\n",
    "while i <= k:\n",
    "    fk = fk * i\n",
    "    i += 1\n",
    "\n",
    "d = n-k\n",
    "\n",
    "fd = 1               # Factorial de n-k\n",
    "i = 1\n",
    "\n",
    "while i <= d:\n",
    "    fd = fd * i\n",
    "    i += 1\n",
    "\n",
    "binomial_coefficient = fn // (fk * fd)\n",
    "print(binomial_coefficient)"
   ]
  },
  {
   "cell_type": "markdown",
   "metadata": {},
   "source": [
    "Los bloques de código para calcular el factorial, tanto de $n$, $k$ y $(n-k)$ son muy parecidas. \n",
    "\n",
    "Tener *código duplicado no es una buena práctica de programación*. Solo imaginemos que el algoritmo para calcular el factorial sea incorrecto, entonces tendremos que cambiar el algoritmo uno por uno. Y si nuestro código tendría cientos y cientos de líneas, manualmente tendríamos que buscar todas las líneas donde usamos el algoritmo del factorial. Esto genera que la construcción del software se ralentize y exista mayor riesgo de fallo. Para evitar esto, podemos usar funciones (explicaré a más detalle sobre funciones más adelante, por ahora veamos como cambia el código):"
   ]
  },
  {
   "cell_type": "code",
   "execution_count": 1,
   "metadata": {},
   "outputs": [
    {
     "name": "stdout",
     "output_type": "stream",
     "text": [
      "120\n"
     ]
    }
   ],
   "source": [
    "# Función para calcular el factorial de un número\n",
    "\n",
    "def factorial(n):\n",
    "    fn = 1               \n",
    "    i = 1\n",
    "\n",
    "    while i <= n:\n",
    "        fn = fn * i\n",
    "        i += 1\n",
    "\n",
    "    return fn\n",
    "\n",
    "n = 10\n",
    "k = 3\n",
    "\n",
    "d = n-k\n",
    "\n",
    "fn = factorial(n)\n",
    "fk = factorial(k)\n",
    "fd = factorial(d)\n",
    "\n",
    "binomial_coefficient = fn // (fk * fd)\n",
    "print(binomial_coefficient)"
   ]
  },
  {
   "cell_type": "markdown",
   "metadata": {},
   "source": [
    "De esta manera, si notamos que el algoritmo para el cálculo del factorial es incorrecto, solo hacemos la modificación dentro de la función y así la corrección se aplicará en todos los casos de uso."
   ]
  }
 ],
 "metadata": {
  "kernelspec": {
   "display_name": "Python 3",
   "language": "python",
   "name": "python3"
  },
  "language_info": {
   "codemirror_mode": {
    "name": "ipython",
    "version": 3
   },
   "file_extension": ".py",
   "mimetype": "text/x-python",
   "name": "python",
   "nbconvert_exporter": "python",
   "pygments_lexer": "ipython3",
   "version": "3.11.6"
  }
 },
 "nbformat": 4,
 "nbformat_minor": 2
}
