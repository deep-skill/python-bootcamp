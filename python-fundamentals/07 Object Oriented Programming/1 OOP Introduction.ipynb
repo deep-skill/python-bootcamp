{
 "cells": [
  {
   "cell_type": "markdown",
   "metadata": {},
   "source": [
    "# Introducción a la Programación Orientada a Objetos\n",
    "\n",
    "Ya conocemos varios aspectos del pensamiento computacional. Aprendimos estructuras de control que nos permiten controlar el flujo de ejecución. También ya conocemos las más importantes y fundamentales estructuras de datos que podemos encontrar en Python. Y por último, las funciones. La computación, hasta ahora, podemos verla como una constante manipulación y transformación de datos. Dado **ciertos datos de entrada** obtenemos **ciertos datos de salida** bajo **ciertas instrucciones que le damos a la computadora** que nosotros especificamos. Sin embargo; cuando vemos el mundo real, no vemos datos de entrada y de salida, sino, vemos **objetos** materiales, cada uno con sus propias carácterísticas y acciones. Modelar el mundo real en programación no es tarea sencilla con los conocimientos actuales que tenemos, para ello necesitaremos el paradigma: Programación Orientada a Objetos (Object Oriented Programming OOP).\n",
    "\n",
    "Antes del paradigma OOP, los programas solían organizarse principalmente de manera procedural, es decir, dividiendo el código en funciones o procedimientos que manipulaban datos. A medida que los programas se volvieron más grandes y complejos, se observaba que el enfoque tenía limitaciones en términos de *mantenimiento*, *reutilización de código* y *escalabilidad*. La OOP se originó con el objetivo de abordar estas limitaciones y proporcionar un enfoque más efectivo para el diseño y desarrollo de software."
   ]
  },
  {
   "cell_type": "markdown",
   "metadata": {},
   "source": [
    "## Clases y Objetos\n",
    "\n",
    "Una **clase** en OOP es una *plantilla* para crear *objetos*. Es un concepto fundamental que encapsula *atributos* (datos) y *comportamientos* (métodos) que son comunes en todos los *objetos* de un cierto tipo. Es decir, define la estructura y comportamiento de objetos.\n",
    "\n",
    "Una persona tiene los siguientes atributos:\n",
    "\n",
    "1. Nombre\n",
    "2. Apellido\n",
    "3. Edad\n",
    "3. Lugar de nacimiento\n",
    "\n",
    "Entre dos personas, pueden variar de nombre, apellido, edad o lugar de nacimiento, pero todas las personas tenemos estos atributos.\n",
    "\n",
    "Crearemos una clase `Person` con estos atributos:"
   ]
  },
  {
   "cell_type": "code",
   "execution_count": 2,
   "metadata": {},
   "outputs": [],
   "source": [
    "# Se frecuenta definir el nombre de la clase con la primera letra en mayúscula\n",
    "# Sus instancias, como veremos adelante, en minúscula\n",
    "\n",
    "class Person:\n",
    "    # Atributos de la clase\n",
    "    first_name = None\n",
    "    last_name = None\n",
    "    age = None\n",
    "    birthplace = None"
   ]
  },
  {
   "cell_type": "markdown",
   "metadata": {},
   "source": [
    "La clase `Person` hace referencia al concepto *persona*; sin embargo, no a una persona en particular, pues la clase indica que una persona tiene un nombre, pero no cuál es su nombre. Cuando ya definamos el nombre de una persona, ya no se tratará de una clase, sino de una *instancia* de esa clase y será un *objeto*. La clase nos ayudará a crear objetos que comparten atributos y comportamiento.\n",
    "\n",
    "Para por crear *objetos* y definir sus atributos a partir de una clase, necesitaremos que la clase tenga un **constructor**:"
   ]
  },
  {
   "cell_type": "code",
   "execution_count": 3,
   "metadata": {},
   "outputs": [],
   "source": [
    "class Person:\n",
    "    # Este es un método. Como podemos ver la sintaxis es similar a la de una función\n",
    "    # Este método en particular '__init__', es un constructor\n",
    "    # Tenemos un parámetro 'self' que referencia a una instancia de la clase\n",
    "    # Nos ayudará, por ejemplo, a diferenciar atributos que pertenecen a la clase o parámetros de los métodos\n",
    "\n",
    "    # self.first_name => Atributo de la instancia\n",
    "    # first_name => Parámetro del constructor\n",
    "\n",
    "    # Vemos que asignamos cada variable que son parámetros del constructor, a los atributos de la clase\n",
    "    def __init__(self, first_name, last_name, age, birthplace):\n",
    "        self.first_name = first_name\n",
    "        self.last_name = last_name\n",
    "        self.age = age\n",
    "        self.birthplace = birthplace"
   ]
  },
  {
   "cell_type": "markdown",
   "metadata": {},
   "source": [
    "Ahora que la clase tiene constructor, crearemos un *objeto*:"
   ]
  },
  {
   "cell_type": "code",
   "execution_count": 4,
   "metadata": {},
   "outputs": [],
   "source": [
    "# El constructor que definimos en la clase tiene 5 parámetros (contando a self)\n",
    "# Cuando queramos crear una instancia, descartaremos a 'self' y solo pondremos los 4 parámetros\n",
    "\n",
    "person1 = Person('Fernando', 'Solano', 25, 'Lima')"
   ]
  },
  {
   "cell_type": "code",
   "execution_count": 5,
   "metadata": {},
   "outputs": [
    {
     "data": {
      "text/plain": [
       "__main__.Person"
      ]
     },
     "execution_count": 5,
     "metadata": {},
     "output_type": "execute_result"
    }
   ],
   "source": [
    "# person1 es del tipo 'Person'\n",
    "\n",
    "type(person1)"
   ]
  },
  {
   "cell_type": "markdown",
   "metadata": {},
   "source": [
    "Podemos acceder a los atributos del objeto de la siguiente manera:"
   ]
  },
  {
   "cell_type": "code",
   "execution_count": 6,
   "metadata": {},
   "outputs": [
    {
     "data": {
      "text/plain": [
       "'Fernando'"
      ]
     },
     "execution_count": 6,
     "metadata": {},
     "output_type": "execute_result"
    }
   ],
   "source": [
    "person1.first_name"
   ]
  },
  {
   "cell_type": "code",
   "execution_count": 7,
   "metadata": {},
   "outputs": [
    {
     "data": {
      "text/plain": [
       "'Solano'"
      ]
     },
     "execution_count": 7,
     "metadata": {},
     "output_type": "execute_result"
    }
   ],
   "source": [
    "person1.last_name"
   ]
  },
  {
   "cell_type": "code",
   "execution_count": 8,
   "metadata": {},
   "outputs": [
    {
     "data": {
      "text/plain": [
       "25"
      ]
     },
     "execution_count": 8,
     "metadata": {},
     "output_type": "execute_result"
    }
   ],
   "source": [
    "person1.age"
   ]
  },
  {
   "cell_type": "code",
   "execution_count": 9,
   "metadata": {},
   "outputs": [
    {
     "data": {
      "text/plain": [
       "'Lima'"
      ]
     },
     "execution_count": 9,
     "metadata": {},
     "output_type": "execute_result"
    }
   ],
   "source": [
    "person1.birthplace"
   ]
  },
  {
   "cell_type": "markdown",
   "metadata": {},
   "source": [
    "Definamos un método de la clase `Person` que permita a los objetos *saludar*:"
   ]
  },
  {
   "cell_type": "code",
   "execution_count": 28,
   "metadata": {},
   "outputs": [],
   "source": [
    "class Person:\n",
    "\n",
    "    # CONSTRUCTOR\n",
    "    def __init__(self, first_name, last_name, age, birthplace):\n",
    "        self.first_name = first_name\n",
    "        self.last_name = last_name\n",
    "        self.age = age\n",
    "        self.birthplace = birthplace\n",
    "        self.__document = 459021\n",
    "\n",
    "    # Método saludar\n",
    "    # Todo método debe llevar el parámetro 'self'\n",
    "    # Después, veremos ejemplos de métodos sin este parámetro\n",
    "    # Por ahora, ya que queremos acceder a los atributos de la clase, tendremos en cuenta a 'self'\n",
    "    def greet(self):\n",
    "        print('¡Hola! Soy ' + self.first_name + ' ' + self.last_name + ', tengo ' + str(self.age) + ' años y nací en ' + self.birthplace)\n"
   ]
  },
  {
   "cell_type": "code",
   "execution_count": 30,
   "metadata": {},
   "outputs": [],
   "source": [
    "person = Person('Miguel Angel', 'Solano', 25, 'Madrid')"
   ]
  },
  {
   "cell_type": "code",
   "execution_count": 33,
   "metadata": {},
   "outputs": [
    {
     "data": {
      "text/plain": [
       "459021"
      ]
     },
     "execution_count": 33,
     "metadata": {},
     "output_type": "execute_result"
    }
   ],
   "source": [
    "person._Person__document"
   ]
  },
  {
   "cell_type": "code",
   "execution_count": 31,
   "metadata": {},
   "outputs": [
    {
     "data": {
      "text/plain": [
       "{'first_name': 'Miguel Angel',\n",
       " 'last_name': 'Solano',\n",
       " 'age': 25,\n",
       " 'birthplace': 'Madrid',\n",
       " '_Person__document': 459021}"
      ]
     },
     "execution_count": 31,
     "metadata": {},
     "output_type": "execute_result"
    }
   ],
   "source": [
    "person.__dict__"
   ]
  },
  {
   "cell_type": "code",
   "execution_count": 11,
   "metadata": {},
   "outputs": [
    {
     "name": "stdout",
     "output_type": "stream",
     "text": [
      "¡Hola! Soy Fernando Solano, tengo 25 años y nací en Lima\n"
     ]
    }
   ],
   "source": [
    "person1 = Person('Fernando', 'Solano', 25, 'Lima')\n",
    "person1.greet()"
   ]
  },
  {
   "cell_type": "code",
   "execution_count": 12,
   "metadata": {},
   "outputs": [
    {
     "name": "stdout",
     "output_type": "stream",
     "text": [
      "¡Hola! Soy Julia Ruiz, tengo 28 años y nací en Cajamarca\n"
     ]
    }
   ],
   "source": [
    "person2 = Person('Julia', 'Ruiz', 28, 'Cajamarca')\n",
    "person2.greet()"
   ]
  },
  {
   "cell_type": "markdown",
   "metadata": {},
   "source": [
    "También podemos asignar nuevos valores a objetos ya creados:"
   ]
  },
  {
   "cell_type": "code",
   "execution_count": 21,
   "metadata": {},
   "outputs": [
    {
     "name": "stdout",
     "output_type": "stream",
     "text": [
      "¡Hola! Soy Fernando Solano, tengo 30 años y nací en Lima\n"
     ]
    }
   ],
   "source": [
    "person1.age = 30\n",
    "person1.greet()"
   ]
  },
  {
   "cell_type": "code",
   "execution_count": 22,
   "metadata": {},
   "outputs": [
    {
     "name": "stdout",
     "output_type": "stream",
     "text": [
      "¡Hola! Soy Linda Ruiz, tengo 28 años y nací en Cajamarca\n"
     ]
    }
   ],
   "source": [
    "person2.first_name = 'Linda'\n",
    "person2.greet()"
   ]
  }
 ],
 "metadata": {
  "kernelspec": {
   "display_name": "Python 3 (ipykernel)",
   "language": "python",
   "name": "python3"
  },
  "language_info": {
   "codemirror_mode": {
    "name": "ipython",
    "version": 3
   },
   "file_extension": ".py",
   "mimetype": "text/x-python",
   "name": "python",
   "nbconvert_exporter": "python",
   "pygments_lexer": "ipython3",
   "version": "3.11.7"
  }
 },
 "nbformat": 4,
 "nbformat_minor": 4
}
