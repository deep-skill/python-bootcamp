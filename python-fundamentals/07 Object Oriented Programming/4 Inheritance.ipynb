{
 "cells": [
  {
   "cell_type": "markdown",
   "metadata": {},
   "source": [
    "# Herencia\n",
    "\n",
    "La herencia es un concepto de la programación orientada a objetos, que nos permite crear nuevas clases a partir de otras ya existentes, *heredando* sus métodos y atributos. \n",
    "\n",
    "Tenemos la clase `Pet` que contiene dos atributos y dos métodos: "
   ]
  },
  {
   "cell_type": "code",
   "execution_count": 2,
   "metadata": {},
   "outputs": [],
   "source": [
    "class Pet:\n",
    "    def __init__(self, name, age):\n",
    "        self.name = name\n",
    "        self.age = age\n",
    "\n",
    "    def info(self):\n",
    "        print('Soy ' + self.name + ' y tengo ' + str(self.age) + ' años')\n",
    "\n",
    "    def eat(self, food):\n",
    "        print('A ' + self.name + ' le gusta comer ' + food)\n"
   ]
  },
  {
   "cell_type": "markdown",
   "metadata": {},
   "source": [
    "Ahora crearemos una clase heredando de `Pet`:"
   ]
  },
  {
   "cell_type": "code",
   "execution_count": null,
   "metadata": {},
   "outputs": [],
   "source": [
    "# Para heredar de la clase Pet\n",
    "\n",
    "class Dog(Pet):\n",
    "    def bark(self):\n",
    "        print(self.name + ' empezó a ladrar')\n"
   ]
  },
  {
   "cell_type": "markdown",
   "metadata": {},
   "source": [
    "Creamos una instancia de `Dog`:"
   ]
  },
  {
   "cell_type": "code",
   "execution_count": null,
   "metadata": {},
   "outputs": [],
   "source": [
    "my_dog = Dog('Bobby', 3)"
   ]
  },
  {
   "cell_type": "markdown",
   "metadata": {},
   "source": [
    "La clase `Dog` **heredó** los atributos y métodos de la clase `Pet`:"
   ]
  },
  {
   "cell_type": "code",
   "execution_count": null,
   "metadata": {},
   "outputs": [],
   "source": [
    "my_dog.info()"
   ]
  },
  {
   "cell_type": "code",
   "execution_count": null,
   "metadata": {},
   "outputs": [],
   "source": [
    "my_dog.eat('croquetas')"
   ]
  },
  {
   "cell_type": "markdown",
   "metadata": {},
   "source": [
    "La clase `Dog` tiene un método nuevo llamado `bark`:"
   ]
  },
  {
   "cell_type": "code",
   "execution_count": null,
   "metadata": {},
   "outputs": [],
   "source": [
    "my_dog.bark()"
   ]
  },
  {
   "cell_type": "markdown",
   "metadata": {},
   "source": [
    "# super()"
   ]
  },
  {
   "cell_type": "markdown",
   "metadata": {},
   "source": [
    "Creamos otra clase que hereda de `Pet`:"
   ]
  },
  {
   "cell_type": "code",
   "execution_count": 3,
   "metadata": {},
   "outputs": [],
   "source": [
    "class Cat(Pet):\n",
    "    # Podemos escribir un nuevo constructor para Cat\n",
    "    def __init__(self, name, age, color):\n",
    "        self.name = name\n",
    "        self.age = age\n",
    "        self.color = color\n",
    "\n",
    "    # Podemos definir nuevamente el método 'info' para Cat\n",
    "    def info(self):\n",
    "        print('Soy ' + self.name + ' y tengo ' + str(self.age) + ' años')\n",
    "        print('Yo, un gato')\n",
    "        "
   ]
  },
  {
   "cell_type": "markdown",
   "metadata": {},
   "source": [
    "Podemos ver que el constructor de `Cat` es distinto al constructor de la clase `Pet`. Lo mismo sucede con el método `info()`."
   ]
  },
  {
   "cell_type": "code",
   "execution_count": 4,
   "metadata": {},
   "outputs": [],
   "source": [
    "my_cat = Cat('Garfield', 2, 'orange')"
   ]
  },
  {
   "cell_type": "code",
   "execution_count": 5,
   "metadata": {},
   "outputs": [
    {
     "name": "stdout",
     "output_type": "stream",
     "text": [
      "Soy Garfield y tengo 2 años\n",
      "Yo, un gato\n"
     ]
    }
   ],
   "source": [
    "my_cat.info()"
   ]
  },
  {
   "cell_type": "code",
   "execution_count": 6,
   "metadata": {},
   "outputs": [
    {
     "name": "stdout",
     "output_type": "stream",
     "text": [
      "A Garfield le gusta comer lasagna\n"
     ]
    }
   ],
   "source": [
    "# Sigue heredando el método 'eat()'\n",
    "\n",
    "my_cat.eat('lasagna')"
   ]
  },
  {
   "cell_type": "markdown",
   "metadata": {},
   "source": [
    "Vemos que el constructor de `Pet` es similar al constructor de `Cat`. Lo mismo sucede en el método `info()`. Estamos teniendo duplicación de código. Para solucionarlo, podemos usar a `super()`, el cual nos ayuda a acceder a métodos y atributos de la clase de la cual se heredó:"
   ]
  },
  {
   "cell_type": "code",
   "execution_count": 7,
   "metadata": {},
   "outputs": [],
   "source": [
    "# La clase de la cual estamos heredando es Pet\n",
    "\n",
    "class Cat(Pet):\n",
    "    def __init__(self, name, age, color):\n",
    "        # Accedemos al constructor de Pet\n",
    "        super().__init__(name, age)\n",
    "        self.color = color\n",
    "\n",
    "    def info(self):\n",
    "        # Accedemos al método info() de Pet\n",
    "        super().info()\n",
    "        print('Yo, un gato')\n",
    "\n",
    "    def eat(self, n, food):\n",
    "        for i in range(n):\n",
    "            super().eat(food)"
   ]
  },
  {
   "cell_type": "code",
   "execution_count": 8,
   "metadata": {},
   "outputs": [],
   "source": [
    "my_cat = Cat('Garfield', 2, 'orange')"
   ]
  },
  {
   "cell_type": "code",
   "execution_count": 9,
   "metadata": {},
   "outputs": [
    {
     "name": "stdout",
     "output_type": "stream",
     "text": [
      "Soy Garfield y tengo 2 años\n",
      "Yo, un gato\n"
     ]
    }
   ],
   "source": [
    "my_cat.info()"
   ]
  },
  {
   "cell_type": "code",
   "execution_count": 10,
   "metadata": {},
   "outputs": [
    {
     "name": "stdout",
     "output_type": "stream",
     "text": [
      "A Garfield le gusta comer lasagna\n",
      "A Garfield le gusta comer lasagna\n",
      "A Garfield le gusta comer lasagna\n",
      "A Garfield le gusta comer lasagna\n"
     ]
    }
   ],
   "source": [
    "# Sigue heredando el método 'eat()'\n",
    "\n",
    "my_cat.eat(4, 'lasagna')"
   ]
  },
  {
   "cell_type": "markdown",
   "metadata": {},
   "source": [
    "Con ayuda de `super()` podemos acceder a los métodos y atributos de la clase padre (clase de la cual se heredó)."
   ]
  },
  {
   "cell_type": "markdown",
   "metadata": {},
   "source": [
    "## Herencia Múltiple\n",
    "\n",
    "Podemos crear una clase a partir de dos clases ya existentes. Esta nueva clase heredará todos los atributos y métodos de ambas clases."
   ]
  },
  {
   "cell_type": "code",
   "execution_count": 11,
   "metadata": {},
   "outputs": [
    {
     "name": "stdout",
     "output_type": "stream",
     "text": [
      "Color: Rojo\n",
      "Calculando el área de la Rectángulo\n"
     ]
    }
   ],
   "source": [
    "class Figura:\n",
    "    def __init__(self, nombre):\n",
    "        self.nombre = nombre\n",
    "\n",
    "    def obtener_area(self):\n",
    "        pass\n",
    "\n",
    "class Color:\n",
    "    def __init__(self, color):\n",
    "        self.color = color\n",
    "\n",
    "    def mostrar_color(self):\n",
    "        print(f\"Color: {self.color}\")\n",
    "\n",
    "class FiguraColoreada(Figura, Color):\n",
    "    def __init__(self, nombre, color):\n",
    "        # Para poder diferenciar el constructor de ambas clases, ya no usamos super(), y especificamos la clase y su método\n",
    "        Figura.__init__(self, nombre)\n",
    "        Color.__init__(self, color)\n",
    "\n",
    "    def obtener_area(self):\n",
    "        print(f\"Calculando el área de la {self.nombre}\")\n",
    "\n",
    "rectangulo_rojo = FiguraColoreada(\"Rectángulo\", \"Rojo\")\n",
    "\n",
    "rectangulo_rojo.mostrar_color()\n",
    "rectangulo_rojo.obtener_area()\n"
   ]
  },
  {
   "cell_type": "markdown",
   "metadata": {},
   "source": [
    "Veamos los siguientes escenarios de herencia múltiple, donde dos clases contienen un método con el mismo nombre. Ambas super clases siguientes tienen el método `say_hello()`."
   ]
  },
  {
   "cell_type": "code",
   "execution_count": 12,
   "metadata": {},
   "outputs": [],
   "source": [
    "class SuperClass1:\n",
    "    def say_hello(self):\n",
    "        print('Hola de la super clase 1')\n",
    "\n",
    "class SuperClass2:\n",
    "    def say_hello(self):\n",
    "        print('Hola de la super clase 2')"
   ]
  },
  {
   "cell_type": "markdown",
   "metadata": {},
   "source": [
    "Si llamamos al método `say_hello`, se ejecutará el método según el orden que pusimos en la herencia múltiple:"
   ]
  },
  {
   "cell_type": "code",
   "execution_count": 13,
   "metadata": {},
   "outputs": [
    {
     "name": "stdout",
     "output_type": "stream",
     "text": [
      "Hola de la super clase 1\n"
     ]
    }
   ],
   "source": [
    "class ChildClass1(SuperClass1, SuperClass2):\n",
    "    pass\n",
    "\n",
    "child_class = ChildClass1()\n",
    "child_class.say_hello()"
   ]
  },
  {
   "cell_type": "code",
   "execution_count": 14,
   "metadata": {},
   "outputs": [
    {
     "name": "stdout",
     "output_type": "stream",
     "text": [
      "Hola de la super clase 2\n"
     ]
    }
   ],
   "source": [
    "class ChildClass2(SuperClass2, SuperClass1):\n",
    "    pass\n",
    "\n",
    "child_class = ChildClass2()\n",
    "child_class.say_hello()"
   ]
  }
 ],
 "metadata": {
  "kernelspec": {
   "display_name": "Python 3 (ipykernel)",
   "language": "python",
   "name": "python3"
  },
  "language_info": {
   "codemirror_mode": {
    "name": "ipython",
    "version": 3
   },
   "file_extension": ".py",
   "mimetype": "text/x-python",
   "name": "python",
   "nbconvert_exporter": "python",
   "pygments_lexer": "ipython3",
   "version": "3.11.7"
  }
 },
 "nbformat": 4,
 "nbformat_minor": 4
}
