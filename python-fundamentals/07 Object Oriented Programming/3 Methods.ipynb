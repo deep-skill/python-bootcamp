{
 "cells": [
  {
   "cell_type": "markdown",
   "metadata": {},
   "source": [
    "# Métodos\n",
    "\n",
    "Los métodos definen el **comportamiento** de una clase. De igual manera que los atributos, existen distintos tipos de métodos\n",
    "\n",
    "## 1. Métodos de instancia\n",
    "\n",
    "Es un método que contiene el parámetro `self`. Este parámetro referencia a una instancia de la clase cuando el método es llamado. Podemos acceder a los atributos y otros métodos del mismo objeto con ayuda de `self` (recordar que el acceso a los atributos de una instancia, dependerá si se encuentra en el namespace de la instancia o la clase)."
   ]
  },
  {
   "cell_type": "code",
   "execution_count": 2,
   "metadata": {},
   "outputs": [],
   "source": [
    "class Coordinates:\n",
    "    def __init__(self, x, y):\n",
    "        self.x = x\n",
    "        self.y = y\n",
    "\n",
    "\n",
    "    # Mueve las coordenadas actuales según los parámetros dados\n",
    "    def move(self, dx, dy):\n",
    "        self.x += dx\n",
    "        self.y += dy\n",
    "\n",
    "    # Muestro la posición actual\n",
    "    def show_position(self):\n",
    "        print('Posición actual: [X = ' + str(self.x) + ', Y = ' + str(self.y) + ']')\n",
    "\n",
    "    # Emito una alerta de peligro\n",
    "    def warning(self):\n",
    "        print('¡Estoy en zona peligrosa!')\n",
    "\n",
    "        # Podemos acceder a métodos de la clase\n",
    "        self.show_position()\n",
    "\n",
    "    # Emito una alerta de tesoro\n",
    "    def treasure(self):\n",
    "        print('¡Encontré un tesoro!')\n",
    "        self.show_position()\n"
   ]
  },
  {
   "cell_type": "code",
   "execution_count": 3,
   "metadata": {},
   "outputs": [
    {
     "name": "stdout",
     "output_type": "stream",
     "text": [
      "Posición actual: [X = 3, Y = 5]\n"
     ]
    }
   ],
   "source": [
    "coordinates = Coordinates(3, 5)\n",
    "coordinates.show_position()"
   ]
  },
  {
   "cell_type": "code",
   "execution_count": 4,
   "metadata": {},
   "outputs": [
    {
     "name": "stdout",
     "output_type": "stream",
     "text": [
      "¡Encontré un tesoro!\n",
      "Posición actual: [X = 7, Y = -5]\n"
     ]
    }
   ],
   "source": [
    "coordinates.move(4, -10)\n",
    "coordinates.treasure()"
   ]
  },
  {
   "cell_type": "code",
   "execution_count": 5,
   "metadata": {},
   "outputs": [
    {
     "name": "stdout",
     "output_type": "stream",
     "text": [
      "¡Estoy en zona peligrosa!\n",
      "Posición actual: [X = -13, Y = 10]\n"
     ]
    }
   ],
   "source": [
    "coordinates.move(-20, 15)\n",
    "coordinates.warning()"
   ]
  },
  {
   "cell_type": "markdown",
   "metadata": {},
   "source": [
    "**NOTA:** El parámetro `self` tiene ese nombre por convensión, no es obligatorio que lo lleve. Podemos escoger cualquier otro, mientras siga siendo el primer parámetro del método."
   ]
  },
  {
   "cell_type": "code",
   "execution_count": 6,
   "metadata": {},
   "outputs": [],
   "source": [
    "class Person:\n",
    "    def __init__(self, name, age):\n",
    "        self.name = name\n",
    "        self.age = age\n",
    "    \n",
    "    # 'no_self' apunta a la instancia dentro de este método\n",
    "    def greet(no_self):\n",
    "        print('Hola, soy ' + str(no_self.name) + ' y tengo ' + str(no_self.age) + ' años.')\n",
    "\n",
    "    # 'qwerty' apunta a la instancia dentro de este método\n",
    "    def set_age(qwerty, new_age):\n",
    "        qwerty.age = new_age"
   ]
  },
  {
   "cell_type": "code",
   "execution_count": 7,
   "metadata": {},
   "outputs": [
    {
     "name": "stdout",
     "output_type": "stream",
     "text": [
      "Hola, soy Marco y tengo 40 años.\n"
     ]
    }
   ],
   "source": [
    "person = Person('Marco', 40)\n",
    "person.greet()"
   ]
  },
  {
   "cell_type": "code",
   "execution_count": 8,
   "metadata": {},
   "outputs": [
    {
     "name": "stdout",
     "output_type": "stream",
     "text": [
      "Hola, soy Marco y tengo 55 años.\n"
     ]
    }
   ],
   "source": [
    "person.set_age(55)\n",
    "person.greet()"
   ]
  },
  {
   "cell_type": "markdown",
   "metadata": {},
   "source": [
    "## 2. Métodos de clase\n",
    "\n",
    "Los métodos de clase toman como parámetro a `cls` (al igual que `self`, podemos cambiar de nombre a este parámetro) que referencia a la clase (no a una instancia de esta) cuando el método es llamado. No podemos modificar atributos de la instancia, pero podemos acceder y modificar a atributos de clase."
   ]
  },
  {
   "cell_type": "code",
   "execution_count": 9,
   "metadata": {},
   "outputs": [],
   "source": [
    "class Circle:\n",
    "    pi_value = 3.14159265\n",
    "\n",
    "    def __init__(self, radius):\n",
    "        self.radius = radius\n",
    "\n",
    "    def get_area(self):\n",
    "        return self.radius ** 2 * self.pi_value\n",
    "    \n",
    "    # A esto se le conoce como decorador, que indica que la siguiente función\n",
    "    # debe ser tratada como un método de clase\n",
    "    @classmethod\n",
    "    def change_pi_value(cls, pi_value):\n",
    "        cls.pi_value = pi_value\n",
    "\n",
    "    # También podemos retornar objetos de esta misma clase\n",
    "    # 'cls' referencia a 'Circle'\n",
    "    @classmethod\n",
    "    def get_a_big_circle(cls):\n",
    "        return cls(10000) # => return Circle(10000)\n",
    "                          # Retorna una instancia de 'Circle' con radio 10000"
   ]
  },
  {
   "cell_type": "code",
   "execution_count": 10,
   "metadata": {},
   "outputs": [
    {
     "data": {
      "text/plain": [
       "10000"
      ]
     },
     "execution_count": 10,
     "metadata": {},
     "output_type": "execute_result"
    }
   ],
   "source": [
    "big_circle = Circle.get_a_big_circle()\n",
    "big_circle.radius"
   ]
  },
  {
   "cell_type": "code",
   "execution_count": 11,
   "metadata": {},
   "outputs": [],
   "source": [
    "circle1 = Circle(10)\n",
    "circle2 = Circle(15)"
   ]
  },
  {
   "cell_type": "code",
   "execution_count": 12,
   "metadata": {},
   "outputs": [
    {
     "name": "stdout",
     "output_type": "stream",
     "text": [
      "314.159265\n",
      "706.8583462500001\n"
     ]
    }
   ],
   "source": [
    "print(circle1.get_area())\n",
    "print(circle2.get_area())"
   ]
  },
  {
   "cell_type": "code",
   "execution_count": 13,
   "metadata": {},
   "outputs": [
    {
     "data": {
      "text/plain": [
       "mappingproxy({'__module__': '__main__',\n",
       "              'pi_value': 3.14159265,\n",
       "              '__init__': <function __main__.Circle.__init__(self, radius)>,\n",
       "              'get_area': <function __main__.Circle.get_area(self)>,\n",
       "              'change_pi_value': <classmethod(<function Circle.change_pi_value at 0x1099e9440>)>,\n",
       "              'get_a_big_circle': <classmethod(<function Circle.get_a_big_circle at 0x1099e9580>)>,\n",
       "              '__dict__': <attribute '__dict__' of 'Circle' objects>,\n",
       "              '__weakref__': <attribute '__weakref__' of 'Circle' objects>,\n",
       "              '__doc__': None})"
      ]
     },
     "execution_count": 13,
     "metadata": {},
     "output_type": "execute_result"
    }
   ],
   "source": [
    "Circle.__dict__"
   ]
  },
  {
   "cell_type": "markdown",
   "metadata": {},
   "source": [
    "Con este método de clase, podemos modificar atributos de clase. Podemos ver que se ha modificado en el namespace de `Circle`:"
   ]
  },
  {
   "cell_type": "code",
   "execution_count": 14,
   "metadata": {},
   "outputs": [
    {
     "data": {
      "text/plain": [
       "mappingproxy({'__module__': '__main__',\n",
       "              'pi_value': 2.71828,\n",
       "              '__init__': <function __main__.Circle.__init__(self, radius)>,\n",
       "              'get_area': <function __main__.Circle.get_area(self)>,\n",
       "              'change_pi_value': <classmethod(<function Circle.change_pi_value at 0x1099e9440>)>,\n",
       "              'get_a_big_circle': <classmethod(<function Circle.get_a_big_circle at 0x1099e9580>)>,\n",
       "              '__dict__': <attribute '__dict__' of 'Circle' objects>,\n",
       "              '__weakref__': <attribute '__weakref__' of 'Circle' objects>,\n",
       "              '__doc__': None})"
      ]
     },
     "execution_count": 14,
     "metadata": {},
     "output_type": "execute_result"
    }
   ],
   "source": [
    "# El método puede ser llamado desde la misma clase\n",
    "\n",
    "Circle.change_pi_value(2.71828)\n",
    "Circle.__dict__"
   ]
  },
  {
   "cell_type": "markdown",
   "metadata": {},
   "source": [
    "Si accedemos a `pi_value` desde las instancias `circle1` y `circle2`, como se encuentra en el namespace de `Circle` y no en el de las clases, el valor también se verá modificado:"
   ]
  },
  {
   "cell_type": "code",
   "execution_count": 15,
   "metadata": {},
   "outputs": [
    {
     "name": "stdout",
     "output_type": "stream",
     "text": [
      "2.71828\n",
      "2.71828\n"
     ]
    }
   ],
   "source": [
    "print(circle1.pi_value)\n",
    "print(circle2.pi_value)"
   ]
  },
  {
   "cell_type": "code",
   "execution_count": 16,
   "metadata": {},
   "outputs": [
    {
     "name": "stdout",
     "output_type": "stream",
     "text": [
      "271.828\n",
      "611.613\n"
     ]
    }
   ],
   "source": [
    "print(circle1.get_area())\n",
    "print(circle2.get_area())"
   ]
  },
  {
   "cell_type": "markdown",
   "metadata": {},
   "source": [
    "Si el método sería de instancia, los cambios no se verían realizados en todas las instancias (a menos de que se trate de un objeto mutable):"
   ]
  },
  {
   "cell_type": "code",
   "execution_count": 21,
   "metadata": {},
   "outputs": [],
   "source": [
    "class Circle:\n",
    "    pi_value = 3.14159265\n",
    "\n",
    "    def __init__(self, radius):\n",
    "        self.radius = radius\n",
    "\n",
    "    def get_area(self):\n",
    "        return self.radius ** 2 * self.pi_value\n",
    "    \n",
    "    # Como este método no tiene decorados @classmethod funcionará igual que un método de instancia\n",
    "    # y 'cls' apuntará a la instancia\n",
    "    def change_pi_value(cls, pi_value):\n",
    "        cls.pi_value = pi_value"
   ]
  },
  {
   "cell_type": "code",
   "execution_count": 22,
   "metadata": {},
   "outputs": [],
   "source": [
    "circle1 = Circle(10)\n",
    "circle2 = Circle(15)"
   ]
  },
  {
   "cell_type": "code",
   "execution_count": 23,
   "metadata": {},
   "outputs": [
    {
     "name": "stdout",
     "output_type": "stream",
     "text": [
      "3.14159265\n",
      "3.14159265\n"
     ]
    }
   ],
   "source": [
    "print(circle1.pi_value)\n",
    "print(circle2.pi_value)"
   ]
  },
  {
   "cell_type": "code",
   "execution_count": 24,
   "metadata": {},
   "outputs": [],
   "source": [
    "circle1.change_pi_value(2.71828)"
   ]
  },
  {
   "cell_type": "code",
   "execution_count": 25,
   "metadata": {},
   "outputs": [
    {
     "name": "stdout",
     "output_type": "stream",
     "text": [
      "2.71828\n",
      "3.14159265\n"
     ]
    }
   ],
   "source": [
    "print(circle1.pi_value)\n",
    "print(circle2.pi_value)"
   ]
  },
  {
   "cell_type": "markdown",
   "metadata": {},
   "source": [
    "## 3. Métodos estáticos\n",
    "\n",
    "Los métodos estáticos no tienen como parámetros a `self` ni a `cls`, por lo que no podrá acceder a los atributos de la clase. Son una manera de hacer *namespace* a los métodos. Usaremos el decorador `@staticmethod` para definir un método estático. "
   ]
  },
  {
   "cell_type": "code",
   "execution_count": 26,
   "metadata": {},
   "outputs": [],
   "source": [
    "import math\n",
    "\n",
    "class Coordinates:\n",
    "    central_x = 0\n",
    "    central_y = 0\n",
    "\n",
    "    def __init__(self, x, y):\n",
    "        self.x = x\n",
    "        self.y = y\n",
    "\n",
    "    def move(self, dx, dy):\n",
    "        self.x += dx\n",
    "        self.y += dy\n",
    "\n",
    "    def show_position(self):\n",
    "        print('Posición actual: [X = ' + str(self.x) + ', Y = ' + str(self.y) + ']')\n",
    "        # Podemos usar el método estático en otros métodos\n",
    "        print('La distancia a la central es: ' + str(Coordinates.distance(self.x, self.y, self.central_x, self.central_y)))\n",
    "\n",
    "    def warning(self):\n",
    "        print('¡Estoy en zona peligrosa!')\n",
    "\n",
    "        # Podemos acceder a métodos de la clase\n",
    "        self.show_position()\n",
    "\n",
    "    # Método estático\n",
    "    # Calcula la distancia entre el punto (x1, y1) y (x2, y2)\n",
    "    @staticmethod\n",
    "    def distance(x1, y1, x2, y2):\n",
    "        return math.sqrt((x1-x2) ** 2 + (y1-y2) ** 2)"
   ]
  },
  {
   "cell_type": "code",
   "execution_count": 27,
   "metadata": {},
   "outputs": [
    {
     "name": "stdout",
     "output_type": "stream",
     "text": [
      "Posición actual: [X = 3, Y = 10]\n",
      "La distancia a la central es: 10.44030650891055\n"
     ]
    }
   ],
   "source": [
    "coordinates = Coordinates(3, 10)\n",
    "coordinates.show_position()"
   ]
  },
  {
   "cell_type": "code",
   "execution_count": 28,
   "metadata": {},
   "outputs": [
    {
     "name": "stdout",
     "output_type": "stream",
     "text": [
      "¡Estoy en zona peligrosa!\n",
      "Posición actual: [X = 7, Y = 5]\n",
      "La distancia a la central es: 8.602325267042627\n"
     ]
    }
   ],
   "source": [
    "coordinates.move(4, -5)\n",
    "coordinates.warning()"
   ]
  }
 ],
 "metadata": {
  "kernelspec": {
   "display_name": "Python 3 (ipykernel)",
   "language": "python",
   "name": "python3"
  },
  "language_info": {
   "codemirror_mode": {
    "name": "ipython",
    "version": 3
   },
   "file_extension": ".py",
   "mimetype": "text/x-python",
   "name": "python",
   "nbconvert_exporter": "python",
   "pygments_lexer": "ipython3",
   "version": "3.11.7"
  }
 },
 "nbformat": 4,
 "nbformat_minor": 4
}
