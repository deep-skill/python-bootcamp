{
 "cells": [
  {
   "cell_type": "markdown",
   "metadata": {},
   "source": [
    "# 1. Conditionals"
   ]
  },
  {
   "cell_type": "markdown",
   "metadata": {},
   "source": [
    "1. Dado tres números, calcule el máximo de ellos:"
   ]
  },
  {
   "cell_type": "code",
   "execution_count": 2,
   "metadata": {
    "ExecuteTime": {
     "end_time": "2024-02-20T17:43:21.219060Z",
     "start_time": "2024-02-20T17:43:15.746065Z"
    }
   },
   "outputs": [
    {
     "name": "stdout",
     "output_type": "stream",
     "text": [
      "El máximo número es: 6\n"
     ]
    }
   ],
   "source": [
    "a = int(input('Digite el primer número: '))\n",
    "b = int(input('Digite el segundo número: '))\n",
    "c = int(input('Digite el tercer número: '))\n",
    "\n",
    "# Solución\n",
    "\n",
    "max_number = None\n",
    "\n",
    "if a >= b and a >= c:\n",
    "    max_number = a\n",
    "if b >= a and b >= c:\n",
    "    max_number = b\n",
    "if c >= a and c >= b:\n",
    "    max_number = c\n",
    "\n",
    "print('El máximo número es: ' + str(max_number))"
   ]
  },
  {
   "cell_type": "markdown",
   "metadata": {},
   "source": [
    "5. Dado la edad de una persona, determine el precio de una entrada al cine, con las siguientes reglas:\n",
    "\n",
    "    - Niños menores a 3 años: Gratis\n",
    "    - 3 - 12 años: S/. 15\n",
    "    - 13 - 17 años: S/. 20\n",
    "    - 18 - 59 años: S/. 30\n",
    "    - 60 años y mayores: S/. 18"
   ]
  },
  {
   "cell_type": "code",
   "execution_count": null,
   "metadata": {},
   "outputs": [],
   "source": [
    "age = int(input('Digite su edad: '))\n",
    "\n",
    "# Solución\n",
    "\n",
    "price = None\n",
    "\n",
    "if age < 3:\n",
    "    price = 0\n",
    "elif age <= 12:\n",
    "    price = 15\n",
    "elif age <= 17:\n",
    "    price = 20\n",
    "elif age <= 59:\n",
    "    price = 30\n",
    "else:\n",
    "    price = 18\n",
    "\n",
    "print('El precio de su entrada es: ' + str(price))"
   ]
  },
  {
   "cell_type": "markdown",
   "metadata": {},
   "source": [
    "2. Dado una letra del abecedario, determine si es vocal o consonante:"
   ]
  },
  {
   "cell_type": "code",
   "execution_count": null,
   "metadata": {},
   "outputs": [],
   "source": [
    "letter = input('Digite una letra del abecedario: ')\n",
    "\n",
    "# Solución\n",
    "\n",
    "if letter == 'a' or letter == 'e' or letter == 'i' or letter == 'o' or letter == 'u':\n",
    "    print('La letra es una vocal')\n",
    "else:\n",
    "    print('La letra es una consonante')"
   ]
  },
  {
   "cell_type": "markdown",
   "metadata": {},
   "source": [
    "3. Implemente el juego del *Piedra, Papel y Tijera*. Sabemos que:\n",
    "    - Piedra gana a tijera\n",
    "    - Tijera gana a papel\n",
    "    - Papel gana a piedra\n",
    "\n",
    "    Permita al jugador 1 y jugador 2 escribir su movimiento (rock/paper/scissor). Dado ambos movimientos, determine quién gana o si se trata de un empate."
   ]
  },
  {
   "cell_type": "code",
   "execution_count": null,
   "metadata": {},
   "outputs": [],
   "source": [
    "player1 = input('Digite su movimiento Jugador 1 (rock, paper, scissors):  ')\n",
    "player2 = input('Digite su movimiento Jugador 2 (rock, paper, scissors):  ')\n",
    "\n",
    "\n",
    "# Solución\n",
    "\n",
    "if player1 == player2:\n",
    "    print('Es un empate')\n",
    "elif (player1 == 'rock' and player2 == 'scissors') or (player1 == 'scissors' and player2 == 'paper') or (player1 == 'paper' and player2 == 'rock'):\n",
    "    print('Jugador 1 gana')\n",
    "else:\n",
    "    print('Jugador 2 gana')"
   ]
  },
  {
   "cell_type": "markdown",
   "metadata": {},
   "source": [
    "4. Dado los coeficientes de un trinomio, determine si es un polinomio positivo:\n",
    "\n",
    "    $$P(x)=ax^2+bx+c$$\n",
    "\n",
    "    *Nota:* $P(x)$ es positivo si y solo si $a > 0$ y su discriminante $(\\Delta = b^2-4ac)$ es estrictamente menor a cero."
   ]
  },
  {
   "cell_type": "code",
   "execution_count": null,
   "metadata": {},
   "outputs": [],
   "source": [
    "a = float(input())\n",
    "b = float(input())\n",
    "c = float(input())\n",
    "\n",
    "# Solución\n",
    "\n",
    "if a > 0 and (b ** 2 - 4 * a * c < 0):\n",
    "    print('P(x) es un polinomio positivo')\n",
    "else:\n",
    "    print('P(x) no es polinomio positivo')"
   ]
  },
  {
   "cell_type": "markdown",
   "metadata": {},
   "source": [
    "# 2. Bucles"
   ]
  },
  {
   "cell_type": "markdown",
   "metadata": {},
   "source": [
    "1. Dado dos números $a$ y $b$, determine cuál número tiene mayor suma de cifras."
   ]
  },
  {
   "cell_type": "code",
   "execution_count": null,
   "metadata": {},
   "outputs": [],
   "source": [
    "N = int(input())\n",
    "\n",
    "# Solución\n",
    "\n"
   ]
  },
  {
   "cell_type": "markdown",
   "metadata": {},
   "source": [
    "2. Dado un número, imprima la tabla de multiplicar del 1 al 10 para ese número."
   ]
  },
  {
   "cell_type": "code",
   "execution_count": null,
   "metadata": {},
   "outputs": [],
   "source": [
    "number = int(input())\n",
    "\n",
    "# Solución\n",
    "\n"
   ]
  },
  {
   "cell_type": "markdown",
   "metadata": {},
   "source": [
    "3. Dado un número entero positivo, le aplicaremos la siguiente operación:\n",
    "    \n",
    "    - Si el número es par, lo dividimos por dos\n",
    "    - Si el número es impar, triplícalo y súmale uno\n",
    "    \n",
    "    *Conjetura de Collatz:* Si aplicamos una cantidad necesarias de veces de esta operación a cualquier número positivo, eventualmente llegará a uno.\n",
    "\n",
    "    $$24 \\rightarrow 12 \\rightarrow 6 \\rightarrow 3 \\rightarrow 10 \\rightarrow 5 \\rightarrow 16 \\rightarrow 8 \\rightarrow 4 \\rightarrow 2 \\rightarrow 1 $$\n",
    "\n",
    "    Escriba un programa, donde dado un número, aplica el proceso e imprima todos los números que se obtienen hasta llegar a 1."
   ]
  },
  {
   "cell_type": "code",
   "execution_count": null,
   "metadata": {},
   "outputs": [],
   "source": [
    "number = int(input())\n",
    "\n",
    "# Solución\n"
   ]
  },
  {
   "cell_type": "markdown",
   "metadata": {},
   "source": [
    "4. La serie fibonacci empieza con 0 y 1. Los siguientes términos son la suma de los dos anteriores:\n",
    "\n",
    "    $$0, 1, 1, 2, 3, 5, 8, 13, 21, 34, 55, 89, \\cdots$$\n",
    "    \n",
    "    Dado $n$, imprima los primeros $n$ términos de la secuencia."
   ]
  },
  {
   "cell_type": "code",
   "execution_count": null,
   "metadata": {},
   "outputs": [],
   "source": [
    "n = int(input())\n",
    "\n",
    "\n"
   ]
  },
  {
   "cell_type": "markdown",
   "metadata": {},
   "source": [
    "5. Dado $n$, imprima un patrón de astericos en forma de una pirámide con $n$ niveles.\n",
    "\n",
    "    $n=3:$\n",
    "    \n",
    "    $$*\\\\**\\\\***$$\n",
    "\n",
    "    $n=5:$\n",
    "    \n",
    "    $$*\\\\**\\\\***\\\\****\\\\*****$$"
   ]
  },
  {
   "cell_type": "code",
   "execution_count": null,
   "metadata": {},
   "outputs": [],
   "source": [
    "n = int(input())\n",
    "\n",
    "# Código\n"
   ]
  },
  {
   "cell_type": "markdown",
   "metadata": {},
   "source": [
    "6. Dado un número $n$ encontrar el menor número $p$ mayor o igual a $n$ tal que sea primo."
   ]
  },
  {
   "cell_type": "code",
   "execution_count": null,
   "metadata": {},
   "outputs": [],
   "source": [
    "n = 366\n",
    "\n",
    "# Código\n"
   ]
  },
  {
   "cell_type": "markdown",
   "metadata": {},
   "source": [
    "7. Dado $N$, halle la suma de la cantidad de divisores de cada divisor de $N$."
   ]
  },
  {
   "cell_type": "code",
   "execution_count": null,
   "metadata": {},
   "outputs": [],
   "source": [
    "N = int(input())\n",
    "\n",
    "\n"
   ]
  }
 ],
 "metadata": {
  "kernelspec": {
   "display_name": "Python 3",
   "language": "python",
   "name": "python3"
  },
  "language_info": {
   "codemirror_mode": {
    "name": "ipython",
    "version": 3
   },
   "file_extension": ".py",
   "mimetype": "text/x-python",
   "name": "python",
   "nbconvert_exporter": "python",
   "pygments_lexer": "ipython3",
   "version": "3.11.6"
  }
 },
 "nbformat": 4,
 "nbformat_minor": 2
}
