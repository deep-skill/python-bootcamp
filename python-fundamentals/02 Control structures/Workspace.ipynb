{
 "cells": [
  {
   "cell_type": "code",
   "execution_count": 56,
   "id": "7d94ed8a",
   "metadata": {},
   "outputs": [
    {
     "name": "stdout",
     "output_type": "stream",
     "text": [
      "Digite su edad: -100\n",
      "Soy menor de edad\n"
     ]
    }
   ],
   "source": [
    "age = int(input('Digite su edad: '))\n",
    "\n",
    "# Si mi edad es mayor o igual a 18, entonces soy mayor de edad. Sino, soy menor de edad\n",
    "\n",
    "if age >= 18: # Si mi edad es mayor o igual a 18\n",
    "    print('Soy mayor de edad')\n",
    "else: # Sino    \n",
    "    print('Soy menor de edad')"
   ]
  },
  {
   "cell_type": "code",
   "execution_count": 55,
   "id": "d378d9fe",
   "metadata": {},
   "outputs": [
    {
     "name": "stdout",
     "output_type": "stream",
     "text": [
      "Digite su nota: -10\n",
      "Nota desaprobatoria\n"
     ]
    }
   ],
   "source": [
    "grade = float(input('Digite su nota: '))\n",
    "\n",
    "# [20 - 20] => Nota perfecta\n",
    "# [15 - 19] => excelente\n",
    "# [10 - 14] => aprobado\n",
    "# [0 - 9] => desaprobado\n",
    "\n",
    "\n",
    "if grade >= 20:\n",
    "    print('Nota perfecta')\n",
    "\n",
    "elif grade >= 15:\n",
    "    print('Nota excelente')\n",
    "\n",
    "elif grade >= 10:\n",
    "    print('Nota aprobatoria')\n",
    "\n",
    "else:\n",
    "    print('Nota desaprobatoria')\n",
    "    "
   ]
  },
  {
   "cell_type": "code",
   "execution_count": 46,
   "id": "b3146737",
   "metadata": {},
   "outputs": [
    {
     "name": "stdout",
     "output_type": "stream",
     "text": [
      "Digite el lado 1: 2\n",
      "Digite el lado 2: 5\n",
      "Digite el lado 3: 6\n",
      "El triangulo es escaleno\n"
     ]
    }
   ],
   "source": [
    "lado1 = int(input('Digite el lado 1: '))\n",
    "lado2 = int(input('Digite el lado 2: '))\n",
    "lado3 = int(input('Digite el lado 3: '))\n",
    "\n",
    "if lado1 == lado2 and lado2 == lado3:\n",
    "    print('El triangulo es equilatero')\n",
    "elif lado1 == lado2 or lado2 == lado3 or lado1 == lado3:\n",
    "    print('El triangulo es isosceles')\n",
    "else:\n",
    "    print('El triangulo es escaleno')\n"
   ]
  },
  {
   "cell_type": "code",
   "execution_count": 54,
   "id": "1d229e8f",
   "metadata": {},
   "outputs": [
    {
     "name": "stdout",
     "output_type": "stream",
     "text": [
      "Digite su edad: 0\n",
      "Niño\n"
     ]
    }
   ],
   "source": [
    "age = int(input('Digite su edad: '))\n",
    "\n",
    "if age >= 65:\n",
    "    print('Adulto mayor')\n",
    "elif age >= 20:\n",
    "    print('Adulto')\n",
    "elif age >= 13:\n",
    "    print('Adolescente')\n",
    "elif age >= 0:\n",
    "    print('Niño')\n",
    "else:\n",
    "    print('La edad no es valida')"
   ]
  },
  {
   "cell_type": "code",
   "execution_count": 67,
   "id": "c969baf5",
   "metadata": {},
   "outputs": [
    {
     "name": "stdout",
     "output_type": "stream",
     "text": [
      "No te voy a dejar pasar, porque eres menor de edad, tienes 12\n",
      "----- Transcurre 3 años ------\n",
      "No te voy a dejar pasar, porque eres menor de edad, tienes 15\n",
      "----- Transcurre 3 años ------\n",
      "No te voy a dejar pasar, porque eres menor de edad, tienes 18\n",
      "----- Transcurre 3 años ------\n",
      "Bienvenido, ahora ya tienes 21\n"
     ]
    }
   ],
   "source": [
    "age = 12\n",
    "\n",
    "while age < 20:\n",
    "    print('No te voy a dejar pasar, porque eres menor de edad, tienes', age)\n",
    "    print('----- Transcurre 3 años ------')\n",
    "    age = age + 3\n",
    "    \n",
    "print('Bienvenido, ahora ya tienes', age)"
   ]
  },
  {
   "cell_type": "code",
   "execution_count": 69,
   "id": "a05db664",
   "metadata": {},
   "outputs": [
    {
     "name": "stdout",
     "output_type": "stream",
     "text": [
      "No lo volvere a hacer\n",
      "No lo volvere a hacer\n",
      "No lo volvere a hacer\n",
      "No lo volvere a hacer\n",
      "No lo volvere a hacer\n",
      "No lo volvere a hacer\n",
      "No lo volvere a hacer\n",
      "No lo volvere a hacer\n",
      "No lo volvere a hacer\n",
      "No lo volvere a hacer\n",
      "No lo volvere a hacer\n",
      "No lo volvere a hacer\n",
      "No lo volvere a hacer\n",
      "No lo volvere a hacer\n",
      "No lo volvere a hacer\n",
      "No lo volvere a hacer\n",
      "No lo volvere a hacer\n",
      "No lo volvere a hacer\n",
      "No lo volvere a hacer\n",
      "No lo volvere a hacer\n",
      "No lo volvere a hacer\n",
      "No lo volvere a hacer\n",
      "No lo volvere a hacer\n",
      "No lo volvere a hacer\n",
      "No lo volvere a hacer\n",
      "No lo volvere a hacer\n",
      "No lo volvere a hacer\n",
      "No lo volvere a hacer\n",
      "No lo volvere a hacer\n",
      "No lo volvere a hacer\n",
      "No lo volvere a hacer\n",
      "No lo volvere a hacer\n",
      "No lo volvere a hacer\n",
      "No lo volvere a hacer\n",
      "No lo volvere a hacer\n",
      "No lo volvere a hacer\n",
      "No lo volvere a hacer\n",
      "No lo volvere a hacer\n",
      "No lo volvere a hacer\n",
      "No lo volvere a hacer\n",
      "No lo volvere a hacer\n",
      "No lo volvere a hacer\n",
      "No lo volvere a hacer\n",
      "No lo volvere a hacer\n",
      "No lo volvere a hacer\n",
      "No lo volvere a hacer\n",
      "No lo volvere a hacer\n",
      "No lo volvere a hacer\n",
      "No lo volvere a hacer\n",
      "No lo volvere a hacer\n"
     ]
    }
   ],
   "source": [
    "cantidad_mensajes = 0\n",
    "\n",
    "while cantidad_mensajes < 50:\n",
    "    print('No lo volvere a hacer')\n",
    "    cantidad_mensajes += 1\n",
    "    #cantidad_mensajes = cantidad_mensajes * 1"
   ]
  },
  {
   "cell_type": "code",
   "execution_count": 78,
   "id": "bf145711",
   "metadata": {},
   "outputs": [
    {
     "name": "stdout",
     "output_type": "stream",
     "text": [
      "Al factorial estamos multiplicando por 1\n",
      "Al factorial estamos multiplicando por 2\n",
      "Al factorial estamos multiplicando por 3\n",
      "Al factorial estamos multiplicando por 4\n",
      "Al factorial estamos multiplicando por 5\n",
      "Al factorial estamos multiplicando por 6\n",
      "Al factorial estamos multiplicando por 7\n",
      "Al factorial estamos multiplicando por 8\n",
      "Al factorial estamos multiplicando por 9\n",
      "Al factorial estamos multiplicando por 10\n",
      "3628800\n"
     ]
    }
   ],
   "source": [
    "# factorial(n) = 1 * 2 * 3 * ... * n\n",
    "\n",
    "n = 10\n",
    "\n",
    "factorial = 1\n",
    "i = 1\n",
    "\n",
    "while i <= n:\n",
    "    print('Al factorial estamos multiplicando por', i)\n",
    "    factorial *= i\n",
    "    i += 1\n",
    "\n",
    "print(factorial)"
   ]
  },
  {
   "cell_type": "code",
   "execution_count": 84,
   "id": "4990cffa",
   "metadata": {},
   "outputs": [
    {
     "name": "stdout",
     "output_type": "stream",
     "text": [
      "Digite un numero: 85\n",
      "El numero es multiplo de 5\n"
     ]
    }
   ],
   "source": [
    "number = int(input('Digite un numero: '))\n",
    "\n",
    "if number % 5 == 0:\n",
    "    print('El numero es multiplo de 5')\n",
    "else:\n",
    "    print('El numero no es multiplo de 5')\n"
   ]
  },
  {
   "cell_type": "code",
   "execution_count": 99,
   "id": "c816e360",
   "metadata": {},
   "outputs": [
    {
     "name": "stdout",
     "output_type": "stream",
     "text": [
      "Digite un numero: 12\n",
      "1 es un divisor\n",
      "2 es un divisor\n",
      "3 es un divisor\n",
      "4 es un divisor\n",
      "6 es un divisor\n",
      "12 es un divisor\n",
      "La suma de divisores es: 28\n"
     ]
    }
   ],
   "source": [
    "# 12 => 1, 2, 3, 4, 6, 12\n",
    "# N => [1, N]\n",
    "\n",
    "numero = int(input('Digite un numero: '))\n",
    "j = 1\n",
    "suma = 0\n",
    "\n",
    "while j <= numero:\n",
    "    if numero % j == 0: # => Si numero es multiplo de j\n",
    "        print(j, 'es un divisor')\n",
    "        suma = suma + j # => Suma de divisores\n",
    "        \n",
    "    j += 1\n",
    "    \n",
    "print('La suma de divisores es:', suma)"
   ]
  },
  {
   "cell_type": "code",
   "execution_count": 100,
   "id": "eed989ad",
   "metadata": {},
   "outputs": [
    {
     "name": "stdout",
     "output_type": "stream",
     "text": [
      "Digite un numero: 12\n",
      "1 es un divisor\n",
      "2 es un divisor\n",
      "3 es un divisor\n",
      "4 es un divisor\n",
      "6 es un divisor\n",
      "12 es un divisor\n",
      "La suma de divisores es 28\n"
     ]
    }
   ],
   "source": [
    "# range(a, b) => [a, a+1, a+2, ..., b-1]\n",
    "# range(a) => [0, 1, 2, .., a-1]\n",
    "\n",
    "# range(1, numero+1) => [1, 2, 3, ..., numero]\n",
    "\n",
    "numero = int(input('Digite un numero: '))\n",
    "suma = 0\n",
    "\n",
    "for i in range(1, numero+1):\n",
    "    if numero % i == 0:\n",
    "        print(i, 'es un divisor')\n",
    "        suma = suma + i\n",
    "    \n",
    "print('La suma de divisores es', suma)"
   ]
  },
  {
   "cell_type": "code",
   "execution_count": 111,
   "id": "26012863",
   "metadata": {},
   "outputs": [
    {
     "name": "stdout",
     "output_type": "stream",
     "text": [
      "Digite la altura del arbol: 5\n",
      "*\n",
      "**\n",
      "***\n",
      "****\n",
      "*****\n"
     ]
    }
   ],
   "source": [
    "altura = int(input('Digite la altura del arbol: '))\n",
    "\n",
    "for i in range(1, altura + 1):\n",
    "    print(i * '*')"
   ]
  },
  {
   "cell_type": "code",
   "execution_count": 115,
   "id": "a78756fc",
   "metadata": {},
   "outputs": [
    {
     "name": "stdout",
     "output_type": "stream",
     "text": [
      "Digite un numero: 735\n",
      "El numero es compuesto\n"
     ]
    }
   ],
   "source": [
    "# AL usuario le pedimos un numero, y determinar si es primo o no\n",
    "\n",
    "# Un numero es primo si es divido solamente por 1 y por si mismo\n",
    "# N = [2, N-1] si existe un divisor, el numero es compuesto\n",
    "\n",
    "N = int(input('Digite un numero: '))\n",
    "\n",
    "primo = True\n",
    "\n",
    "for i in range(2, N):\n",
    "    if N % i == 0:\n",
    "        primo = False\n",
    "        \n",
    "if primo == True:\n",
    "    print('El numero es primo')\n",
    "else:\n",
    "    print('El numero es compuesto')"
   ]
  }
 ],
 "metadata": {
  "kernelspec": {
   "display_name": "Python 3 (ipykernel)",
   "language": "python",
   "name": "python3"
  },
  "language_info": {
   "codemirror_mode": {
    "name": "ipython",
    "version": 3
   },
   "file_extension": ".py",
   "mimetype": "text/x-python",
   "name": "python",
   "nbconvert_exporter": "python",
   "pygments_lexer": "ipython3",
   "version": "3.11.7"
  }
 },
 "nbformat": 4,
 "nbformat_minor": 5
}
