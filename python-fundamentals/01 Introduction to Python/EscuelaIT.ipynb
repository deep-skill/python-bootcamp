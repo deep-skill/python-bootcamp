{
 "cells": [
  {
   "cell_type": "markdown",
   "id": "b4a4f46a-4f5e-4bd8-8e51-4ed58c9e90ad",
   "metadata": {},
   "source": [
    "# Escuela IT Notebook #"
   ]
  },
  {
   "cell_type": "code",
   "execution_count": 3,
   "id": "508ce177-9ace-4097-aaf9-01fee04c018e",
   "metadata": {},
   "outputs": [
    {
     "name": "stdout",
     "output_type": "stream",
     "text": [
      " * \n",
      "* *\n"
     ]
    }
   ],
   "source": [
    "print(\" * \")\n",
    "print(\"* *\")"
   ]
  },
  {
   "cell_type": "code",
   "execution_count": null,
   "id": "355420bd-3244-43df-9771-72cdeeb3d8b4",
   "metadata": {},
   "outputs": [],
   "source": []
  }
 ],
 "metadata": {
  "kernelspec": {
   "display_name": "Python 3 (ipykernel)",
   "language": "python",
   "name": "python3"
  },
  "language_info": {
   "codemirror_mode": {
    "name": "ipython",
    "version": 3
   },
   "file_extension": ".py",
   "mimetype": "text/x-python",
   "name": "python",
   "nbconvert_exporter": "python",
   "pygments_lexer": "ipython3",
   "version": "3.9.6"
  }
 },
 "nbformat": 4,
 "nbformat_minor": 5
}
