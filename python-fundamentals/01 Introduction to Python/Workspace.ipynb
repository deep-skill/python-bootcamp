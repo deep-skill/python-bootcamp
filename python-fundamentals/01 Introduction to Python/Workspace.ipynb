{
 "cells": [
  {
   "cell_type": "code",
   "execution_count": 18,
   "id": "cca6d684",
   "metadata": {},
   "outputs": [
    {
     "name": "stdout",
     "output_type": "stream",
     "text": [
      "<class 'int'>\n",
      "<class 'int'>\n",
      "7\n",
      "-1\n",
      "12\n",
      "0.75\n",
      "81\n"
     ]
    }
   ],
   "source": [
    "# int => integer = entero\n",
    "\n",
    "numero1 = 3\n",
    "numero2 = 4\n",
    "\n",
    "print(type(numero1))\n",
    "print(type(numero2))\n",
    "\n",
    "print(numero1 + numero2)\n",
    "print(numero1 - numero2)\n",
    "print(numero1 * numero2)\n",
    "print(numero1 / numero2)\n",
    "print(numero1 ** numero2)"
   ]
  },
  {
   "cell_type": "code",
   "execution_count": 17,
   "id": "8eab3ba5",
   "metadata": {},
   "outputs": [
    {
     "name": "stdout",
     "output_type": "stream",
     "text": [
      "<class 'float'>\n",
      "<class 'float'>\n",
      "62.79659\n",
      "137.44341\n",
      "-3736.8198092000002\n",
      "-2.6824987320290403\n"
     ]
    }
   ],
   "source": [
    "# float => flotantes\n",
    "\n",
    "float1 = 100.12\n",
    "float2 = -37.32341\n",
    "\n",
    "print(type(float1))\n",
    "print(type(float2))\n",
    "\n",
    "print(float1 + float2)\n",
    "print(float1 - float2)\n",
    "print(float1 * float2)\n",
    "print(float1 / float2)\n"
   ]
  },
  {
   "cell_type": "code",
   "execution_count": 33,
   "id": "be0d9c7d",
   "metadata": {},
   "outputs": [
    {
     "name": "stdout",
     "output_type": "stream",
     "text": [
      "<class 'str'>\n",
      "<class 'str'>\n",
      "EmanuelSoto\n"
     ]
    }
   ],
   "source": [
    "# str => string : cadena de caracteres\n",
    "\n",
    "nombre = 'Emanuel'\n",
    "apellido = 'Soto'\n",
    "\n",
    "print(type(nombre))\n",
    "print(type(apellido))\n",
    "\n",
    "print(nombre + apellido)"
   ]
  },
  {
   "cell_type": "code",
   "execution_count": 43,
   "id": "ccd10323",
   "metadata": {},
   "outputs": [
    {
     "name": "stdout",
     "output_type": "stream",
     "text": [
      "EmanuelEmanuelEmanuelEmanuel\n"
     ]
    }
   ],
   "source": [
    "numero = 4\n",
    "\n",
    "print(numero * nombre)"
   ]
  },
  {
   "cell_type": "code",
   "execution_count": 46,
   "id": "ee37e67c",
   "metadata": {},
   "outputs": [
    {
     "name": "stdout",
     "output_type": "stream",
     "text": [
      "<class 'bool'>\n",
      "<class 'bool'>\n",
      "True\n",
      "False\n"
     ]
    }
   ],
   "source": [
    "# bool => booleano \n",
    "\n",
    "bool1 = True\n",
    "bool2 = False\n",
    "\n",
    "print(type(bool1))\n",
    "print(type(bool2))\n",
    "\n",
    "print(bool1)\n",
    "print(bool2)"
   ]
  },
  {
   "cell_type": "code",
   "execution_count": 52,
   "id": "dcbc54bd",
   "metadata": {},
   "outputs": [
    {
     "name": "stdout",
     "output_type": "stream",
     "text": [
      "False\n",
      "True\n",
      "False\n"
     ]
    }
   ],
   "source": [
    "bool3 = bool1 and bool2\n",
    "bool4 = bool1 or bool2\n",
    "bool5 = not bool1\n",
    "\n",
    "print(bool3)\n",
    "print(bool4)\n",
    "print(bool5)"
   ]
  },
  {
   "cell_type": "code",
   "execution_count": 60,
   "id": "5f205c46",
   "metadata": {},
   "outputs": [
    {
     "name": "stdout",
     "output_type": "stream",
     "text": [
      "Digite un nombre: Emanuel\n"
     ]
    }
   ],
   "source": [
    "nombre = input('Digite un nombre: ')"
   ]
  },
  {
   "cell_type": "code",
   "execution_count": 61,
   "id": "e88775b3",
   "metadata": {},
   "outputs": [
    {
     "name": "stdout",
     "output_type": "stream",
     "text": [
      "Emanuel\n",
      "<class 'str'>\n"
     ]
    }
   ],
   "source": [
    "print(nombre)\n",
    "print(type(nombre))"
   ]
  },
  {
   "cell_type": "code",
   "execution_count": 68,
   "id": "a299e78f",
   "metadata": {},
   "outputs": [
    {
     "name": "stdout",
     "output_type": "stream",
     "text": [
      "Digite su edad: 21\n"
     ]
    }
   ],
   "source": [
    "edad = int(input('Digite su edad: '))"
   ]
  },
  {
   "cell_type": "code",
   "execution_count": 69,
   "id": "1535a874",
   "metadata": {},
   "outputs": [
    {
     "name": "stdout",
     "output_type": "stream",
     "text": [
      "105\n",
      "<class 'int'>\n"
     ]
    }
   ],
   "source": [
    "print(edad * 5)\n",
    "print(type(edad))"
   ]
  }
 ],
 "metadata": {
  "kernelspec": {
   "display_name": "Python 3 (ipykernel)",
   "language": "python",
   "name": "python3"
  },
  "language_info": {
   "codemirror_mode": {
    "name": "ipython",
    "version": 3
   },
   "file_extension": ".py",
   "mimetype": "text/x-python",
   "name": "python",
   "nbconvert_exporter": "python",
   "pygments_lexer": "ipython3",
   "version": "3.11.7"
  }
 },
 "nbformat": 4,
 "nbformat_minor": 5
}
