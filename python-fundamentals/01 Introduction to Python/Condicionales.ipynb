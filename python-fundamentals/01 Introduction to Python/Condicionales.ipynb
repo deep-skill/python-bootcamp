{
 "cells": [
  {
   "cell_type": "code",
   "execution_count": 9,
   "id": "e2555188",
   "metadata": {},
   "outputs": [
    {
     "ename": "SyntaxError",
     "evalue": "invalid syntax (2894896779.py, line 12)",
     "output_type": "error",
     "traceback": [
      "\u001b[0;36m  Cell \u001b[0;32mIn[9], line 12\u001b[0;36m\u001b[0m\n\u001b[0;31m    else:\u001b[0m\n\u001b[0m    ^\u001b[0m\n\u001b[0;31mSyntaxError\u001b[0m\u001b[0;31m:\u001b[0m invalid syntax\n"
     ]
    }
   ],
   "source": [
    "numero1 = int(input('Digite numero 1: '))\n",
    "numero2 = int(input('Digite numero 2: '))\n",
    "\n",
    "suma = numero1 + numero2\n",
    "\n",
    "respuesta = int(input('Digite la suma de ambos numeros: '))\n",
    "\n",
    "# Si la suma es igual a la respuesta, le doy unas felicitaciones\n",
    "# If\n",
    "\n",
    "if suma == respuesta:\n",
    "    print('Felicidades, has acertado con la respuesta')\n",
    "    print('Muchas felicidades!')\n",
    "else:\n",
    "    print('La respuesta no es correcta')\n",
    "\n",
    "print('Finalizo el programa.')"
   ]
  },
  {
   "cell_type": "code",
   "execution_count": 6,
   "id": "9e47872e",
   "metadata": {},
   "outputs": [
    {
     "name": "stdout",
     "output_type": "stream",
     "text": [
      "Digite su edad: 15\n",
      "No puedes pasar, porque eres menor de edad\n"
     ]
    }
   ],
   "source": [
    "edad = int(input('Digite su edad: '))\n",
    "\n",
    "# Si tu edad es mayor o igual a 18, puedes pasar. Sino, no puedes pasar\n",
    "# else: Sino\n",
    "\n",
    "if edad >= 18:\n",
    "    print('Bienvenido, puedes pasar')\n",
    "else:\n",
    "    print('No puedes pasar, porque eres menor de edad')"
   ]
  }
 ],
 "metadata": {
  "kernelspec": {
   "display_name": "Python 3 (ipykernel)",
   "language": "python",
   "name": "python3"
  },
  "language_info": {
   "codemirror_mode": {
    "name": "ipython",
    "version": 3
   },
   "file_extension": ".py",
   "mimetype": "text/x-python",
   "name": "python",
   "nbconvert_exporter": "python",
   "pygments_lexer": "ipython3",
   "version": "3.11.7"
  }
 },
 "nbformat": 4,
 "nbformat_minor": 5
}
