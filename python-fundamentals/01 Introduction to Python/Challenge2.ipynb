{
 "cells": [
  {
   "cell_type": "markdown",
   "metadata": {},
   "source": [
    "# Challenge #2\n",
    "\n",
    "Bienvenidos al Challenge #2 del curso. Ahora se les proporcionará una lista de problemas donde tienen que escribir código Python para resolverlos:"
   ]
  },
  {
   "cell_type": "markdown",
   "metadata": {},
   "source": [
    "## Tipos de datos y operadores básicos matemáticos"
   ]
  },
  {
   "cell_type": "markdown",
   "metadata": {},
   "source": [
    "1. ¡Preséntate! Imprime el siguiente mensaje en Python (cambia 'Emanuel' por tu nombre y 'científico de la computación' por tu ocupación o carrera que estás estudiando):\n",
    "\n",
    "    ```python\n",
    "    Hola mundo! Mi nombre es Emanuel y soy científico de la computación.\n",
    "    ```"
   ]
  },
  {
   "cell_type": "code",
   "execution_count": null,
   "metadata": {},
   "outputs": [],
   "source": [
    "# Escriba aquí la solución de la pregunta 1 ...\n"
   ]
  },
  {
   "cell_type": "markdown",
   "metadata": {},
   "source": [
    "2. Crea una calculadora de IMC de una persona utilizando su peso y altura. Puedes pedir al usuario que ingrese su peso y altura, y luego calcular el IMC:\n",
    "\n",
    "$$\n",
    "\\text{IMC} = \\frac{\\text{peso}}{\\text{altura}^2}\n",
    "$$"
   ]
  },
  {
   "cell_type": "code",
   "execution_count": null,
   "metadata": {},
   "outputs": [],
   "source": [
    "# Escriba aqui la solución de la pregunta 2 ...\n"
   ]
  },
  {
   "cell_type": "markdown",
   "metadata": {},
   "source": [
    "3. Crea un conversor de unidades de medidas de grados Celsius a grados Fahrenheit. Pide al usuario que ingrese los grados Celsius y tu programa calculará su conversión a grados Fahrenheit.\n",
    "\n",
    "$$\n",
    "^\\circ F = \\frac{9}{5} {^\\circ} C + 32\n",
    "$$"
   ]
  },
  {
   "cell_type": "code",
   "execution_count": null,
   "metadata": {},
   "outputs": [],
   "source": [
    "# Escriba aqui la solución de la pregunta 3 ...\n"
   ]
  },
  {
   "cell_type": "markdown",
   "metadata": {},
   "source": [
    "4. Dado dos numeros naturales distintos, imprima el mayor de ellos (solo es válido usar las operaciones básicas como `+`, `-`, `/`, `//`, `*`, no es válido usar condicionales como IF, ELSE, etc)."
   ]
  },
  {
   "cell_type": "code",
   "execution_count": null,
   "metadata": {},
   "outputs": [],
   "source": [
    "# Escriba aqui la solución de la pregunta 4 ...\n"
   ]
  },
  {
   "cell_type": "markdown",
   "metadata": {},
   "source": [
    "## Condicionales (IF, ELSE, ELIF)"
   ]
  },
  {
   "cell_type": "markdown",
   "metadata": {},
   "source": [
    "5. Crea un programa que solicite al usuario ingresar las longitudes de los tres lados de un triángulo y determine si es equilátero (todos los lados son iguales), isósceles (dos lados son iguales) o escaleno (ningún lado es igual a otro)."
   ]
  },
  {
   "cell_type": "code",
   "execution_count": null,
   "metadata": {},
   "outputs": [],
   "source": [
    "# Escriba aquí la solución de la pregunta 5 ...\n"
   ]
  },
  {
   "cell_type": "markdown",
   "metadata": {},
   "source": [
    "6. Crea un programa que solicite al usuario ingresar la edad de su perro en años humanos y determine la edad de su perro en años de perro. Los primeros 2 años de vida de un perro equivalen a 10.5 años humanos cada uno, y cada año adicional equivale a 4 años humanos.\n"
   ]
  },
  {
   "cell_type": "code",
   "execution_count": null,
   "metadata": {},
   "outputs": [],
   "source": [
    "# Escriba aquí la solución de la pregunta 6 ...\n"
   ]
  },
  {
   "cell_type": "markdown",
   "metadata": {},
   "source": [
    "7. Escribe un programa que solicite al usuario ingresar su edad y determine en qué categoría caen: niño (0-12 años), adolescente (13-19 años), adulto (20-64 años) o adulto mayor (65 años o más)."
   ]
  },
  {
   "cell_type": "code",
   "execution_count": null,
   "metadata": {},
   "outputs": [],
   "source": [
    "# Escriba aquí la solución de la pregunta 7 ...\n"
   ]
  },
  {
   "cell_type": "markdown",
   "metadata": {},
   "source": [
    "## Bucles"
   ]
  },
  {
   "cell_type": "markdown",
   "metadata": {},
   "source": [
    "8. Dado un número, imprima la tabla de multiplicar del 1 al 10 para ese número."
   ]
  },
  {
   "cell_type": "code",
   "execution_count": null,
   "metadata": {},
   "outputs": [],
   "source": [
    "# Escriba aquí la solución de la pregunta 8 ...\n"
   ]
  },
  {
   "cell_type": "markdown",
   "metadata": {},
   "source": [
    "9. Pida al usuario que ingrese un número $N$, y de como respuesta la suma divisores de $N$."
   ]
  },
  {
   "cell_type": "code",
   "execution_count": null,
   "metadata": {},
   "outputs": [],
   "source": [
    "# Escriba aquí la solución de la pregunta 9 ...\n"
   ]
  },
  {
   "cell_type": "markdown",
   "metadata": {},
   "source": [
    "10. Dado $n$, imprima un patrón de astericos en forma de rombo con $2 n - 1$ niveles.\n",
    "\n",
    "    $n=3:$\n",
    "    \n",
    "    $$*\\\\**\\\\***\\\\**\\\\*$$\n",
    "\n",
    "    $n=5:$\n",
    "    \n",
    "    $$*\\\\**\\\\***\\\\****\\\\*****\\\\****\\\\***\\\\**\\\\*$$"
   ]
  },
  {
   "cell_type": "code",
   "execution_count": null,
   "metadata": {},
   "outputs": [],
   "source": [
    "# Escriba aquí la solución de la pregunta 10 ...\n"
   ]
  }
 ],
 "metadata": {
  "language_info": {
   "name": "python"
  }
 },
 "nbformat": 4,
 "nbformat_minor": 2
}
