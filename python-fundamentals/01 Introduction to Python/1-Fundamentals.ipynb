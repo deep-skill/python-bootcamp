{
 "cells": [
  {
   "cell_type": "markdown",
   "metadata": {},
   "source": [
    "# Fundamentos de Python"
   ]
  },
  {
   "cell_type": "markdown",
   "metadata": {},
   "source": [
    "## Variables y tipos de datos básicos\n",
    "\n",
    "Una *variable* es un contenedor o espacio de almacenamiento con un nombre simbólico (o un identificador) que se utiliza para almacenar información o datos en un programa.\n",
    "\n",
    "Veamos como crear una variable y como acceder a su valor:"
   ]
  },
  {
   "cell_type": "code",
   "execution_count": null,
   "metadata": {},
   "outputs": [],
   "source": [
    "# Creamos un variable con 'identificador' number. Y le asignamos un valor númerico de 10\n",
    "number = 10\n",
    "\n",
    "# La función 'print' nos permite imprimir o mostrar el valor de la variable\n",
    "print(number)"
   ]
  },
  {
   "cell_type": "markdown",
   "metadata": {},
   "source": [
    "Las variables están categorizadas en distintos tipos:\n",
    "\n",
    "1. Tipo de dato `int` (número entero):"
   ]
  },
  {
   "cell_type": "code",
   "execution_count": null,
   "metadata": {},
   "outputs": [],
   "source": [
    "# Números enteros, pueden ser positivos o negativos\n",
    "\n",
    "number1 = 15         \n",
    "number2 = -10\n",
    "\n",
    "print(number1 + number2)    # Imprimimos la suma -> 15 + (-10) = 5\n",
    "print(type(number1))        # <class 'int'>\n",
    "print(type(number2))        # <class 'int'>"
   ]
  },
  {
   "cell_type": "markdown",
   "metadata": {},
   "source": [
    "2. Tipo de dato `float` (número real):"
   ]
  },
  {
   "cell_type": "code",
   "execution_count": 13,
   "metadata": {},
   "outputs": [
    {
     "name": "stdout",
     "output_type": "stream",
     "text": [
      "-6.8\n",
      "<class 'float'>\n",
      "<class 'float'>\n"
     ]
    }
   ],
   "source": [
    "number1 = -0.5\n",
    "number2 = 13.6\n",
    "\n",
    "print(number1 * number2)\n",
    "print(type(number1))\n",
    "print(type(number2))"
   ]
  },
  {
   "cell_type": "code",
   "execution_count": 12,
   "metadata": {},
   "outputs": [
    {
     "data": {
      "text/plain": [
       "100000.0"
      ]
     },
     "execution_count": 12,
     "metadata": {},
     "output_type": "execute_result"
    }
   ],
   "source": [
    "scientific_format = 1e5\n",
    "scientific_format"
   ]
  },
  {
   "cell_type": "markdown",
   "metadata": {},
   "source": [
    "Operadores entre números (también es aplicable para los flotantes, intenta cambiar los valores de `number1` y `number2` con valores flotantes):"
   ]
  },
  {
   "cell_type": "code",
   "execution_count": null,
   "metadata": {},
   "outputs": [],
   "source": [
    "Existen otros tipos numéricos como *Decimal*, *Fraction* y *Complex*.\n",
    "\n",
    "[Más allá de los flotantes](http://docs.python.org.ar/tutorial/3/floatingpoint.html)\n",
    "\n",
    "[Tipo Decimal](https://docs.python.org/3.6/library/decimal.html?highlight=decimal#module-decimal)\n",
    "\n",
    "[Tipo Fraction](https://docs.python.org/3.6/library/fractions.html?highlight=fraction#module-fractions)\n",
    "\n",
    "[Números complejos](https://relopezbriega.github.io/blog/2015/10/12/numeros-complejos-con-python/)"
   ]
  },
  {
   "cell_type": "markdown",
   "metadata": {},
   "source": [
    "3. Tipo de dato `str` (string, cadena de caracteres):"
   ]
  },
  {
   "cell_type": "code",
   "execution_count": null,
   "metadata": {},
   "outputs": [],
   "source": [
    "# Single quote example\n",
    "\n",
    "name = 'Yana Almudena'\n",
    "print(name)\n",
    "\n",
    "# Double quote example\n",
    "greeting = \"Hello, World!\"\n",
    "print(greeting)\n",
    "\n",
    "# Using quotes inside strings\n",
    "dialogue = 'She said, \"How are you?\"'\n",
    "print(dialogue)  # Output: She said, \"How are you?\"\n",
    "\n",
    "# Escaping quotes\n",
    "escaped_string = \"It\\'s a beautiful day!\"\n",
    "print(escaped_string)  # Output: It's a beautiful day!\n",
    "\n",
    "# Multi-line string\n",
    "multi_line = \"\"\"This is a multi-line string.\n",
    "It spans multiple lines.\"\"\"\n",
    "print(multi_line)"
   ]
  },
  {
   "cell_type": "code",
   "execution_count": null,
   "metadata": {},
   "outputs": [],
   "source": [
    "string1 = 'Emanuel'\n",
    "age = 21\n",
    "\n",
    "print(int(string1) + age)"
   ]
  },
  {
   "cell_type": "code",
   "execution_count": null,
   "metadata": {},
   "outputs": [],
   "source": [
    "# Podemos guardar todo tipo de caracter en las variables de tipo string:\n",
    "\n",
    "string = '!@$(*%1230?'\n",
    "print(string)\n",
    "print(type(string1))"
   ]
  },
  {
   "cell_type": "code",
   "execution_count": null,
   "metadata": {},
   "outputs": [],
   "source": [
    "# Las siguientes variables son del tipo string, pues los valores estan entre comillas\n",
    "\n",
    "string_number1 = '12'\n",
    "string_number2 = '15'\n",
    "\n",
    "print(string_number1 + string_number2) # La suma resultará una concatenación entre ambas cadenas"
   ]
  },
  {
   "cell_type": "code",
   "execution_count": null,
   "metadata": {},
   "outputs": [],
   "source": [
    "number = 10\n",
    "\n",
    "# Esto nos causará un error, pues la variable number es del tipo 'int'\n",
    "# y no podemos sumar una variable del tipo 'int' con una del tipo 'str'\n",
    "print('El numero es: ' + number)"
   ]
  },
  {
   "cell_type": "code",
   "execution_count": null,
   "metadata": {},
   "outputs": [],
   "source": [
    "number = 10\n",
    "\n",
    "# Podemos convertir al numero en tipo 'str' de la siguiente manera\n",
    "number = str(number)\n",
    "print(type(number))\n",
    "\n",
    "# Ahora podemos concatenar el texto con el número\n",
    "print('El numero es: ' + number)"
   ]
  },
  {
   "cell_type": "code",
   "execution_count": null,
   "metadata": {},
   "outputs": [],
   "source": [
    "# Una manera más simplificada:\n",
    "\n",
    "number = 10\n",
    "print('El numero es: ' + str(number)) # Esto no convierte a la variable 'number' en tipo 'str' \n",
    "                                      # pues no asignamos 'number = str(number)' como el anterior caso\n",
    "\n",
    "print(type(number))"
   ]
  },
  {
   "cell_type": "markdown",
   "metadata": {},
   "source": [
    "4. Tipo de dato `bool` (booleano):"
   ]
  },
  {
   "cell_type": "code",
   "execution_count": null,
   "metadata": {},
   "outputs": [],
   "source": [
    "# Son variables que pueden ser True (verdadero) o False (falso)\n",
    "\n",
    "bool1 = True\n",
    "bool2 = False\n",
    "\n",
    "print(bool1)\n",
    "print(bool2)\n",
    "print(type(bool1))"
   ]
  },
  {
   "cell_type": "code",
   "execution_count": null,
   "metadata": {},
   "outputs": [],
   "source": [
    "# Podemos obtener el resultado de comparaciones. Por ejemplo entre números\n",
    "\n",
    "number = 10\n",
    "\n",
    "bool3 = (number > 5)  \n",
    "bool4 = (number < -4.5)\n",
    "\n",
    "print(bool3)\n",
    "print(bool4)\n",
    "print(type(bool3))\n",
    "print(type(bool4))"
   ]
  },
  {
   "cell_type": "code",
   "execution_count": null,
   "metadata": {},
   "outputs": [],
   "source": [
    "nombre1 = 'Mario'    # Le estoy asignando a la variable nombre1 el valor de 'Mario'\n",
    "nombre2 = 'Mario'\n",
    "\n",
    "# NOTA:\n",
    "# El operador '=' es de asignación (asigna un valor a una variable)\n",
    "# El operador '==' es de comparación de igualdad (compara si dos elementos son iguales)\n",
    "# El operador '!=' es de comparación de diferencia (compara si dos elementos son distintos)\n",
    "\n",
    "bool5 = (nombre1 == nombre2)\n",
    "bool6 = (nombre1 != nombre2)\n",
    "\n",
    "print(bool5)\n",
    "print(bool6)\n",
    "print(type(bool5))\n",
    "print(type(bool6))"
   ]
  },
  {
   "cell_type": "code",
   "execution_count": null,
   "metadata": {},
   "outputs": [],
   "source": [
    "mensaje = float(input('Digite un numero real: '))"
   ]
  },
  {
   "cell_type": "code",
   "execution_count": null,
   "metadata": {},
   "outputs": [],
   "source": [
    "print(type(mensaje))"
   ]
  },
  {
   "cell_type": "code",
   "execution_count": null,
   "metadata": {},
   "outputs": [],
   "source": [
    "booleano1 = False\n",
    "number = 10\n",
    "\n",
    "print(number / booleano1)"
   ]
  }
 ],
 "metadata": {
  "kernelspec": {
   "display_name": "Python 3 (ipykernel)",
   "language": "python",
   "name": "python3"
  },
  "language_info": {
   "codemirror_mode": {
    "name": "ipython",
    "version": 3
   },
   "file_extension": ".py",
   "mimetype": "text/x-python",
   "name": "python",
   "nbconvert_exporter": "python",
   "pygments_lexer": "ipython3",
   "version": "3.12.3"
  }
 },
 "nbformat": 4,
 "nbformat_minor": 4
}
