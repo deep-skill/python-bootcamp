{
 "cells": [
  {
   "cell_type": "markdown",
   "metadata": {},
   "source": [
    "# Strings, Listas y Tuplas\n",
    "\n",
    "## Introducción a las estructuras de datos\n",
    "\n",
    "En Python, sabemos que podemos almacenar un dato en una variable. Pero que es lo que pasa si tenemos múltiples datos que queremos almacenar, para ellos podemos usar distintas **estructuras de datos** que nos proporciona Python. \n",
    "\n",
    "--- pilas colas estructuras lineales\n",
    "\n",
    "## Definición y manipulación de strings\n",
    "\n",
    "En el primer módulo vimos que los *strings* es una cadena de caracteres donde podemos almacenar texto. En general, podemos almacenar cualquier tipo de caracter del código [ascii](https://elcodigoascii.com.ar):\n",
    "\n",
    "Veamos de qué formas se pueden utilizar los strings:"
   ]
  },
  {
   "cell_type": "code",
   "execution_count": null,
   "metadata": {},
   "outputs": [],
   "source": [
    "# Para indicar que la variable es del tipo string, ponemos el valor en comillas ('') o doble comillas (\"\")\n",
    "first_name = 'Mario'\n",
    "last_name = \"Rosales\"\n",
    "\n",
    "print(type(first_name))\n",
    "print(type(last_name))\n",
    "\n",
    "print(first_name)\n",
    "print(last_name)"
   ]
  },
  {
   "cell_type": "markdown",
   "metadata": {},
   "source": [
    "Cuando usamos el operador `+` en cadenas, las cadenas se concaternarán:"
   ]
  },
  {
   "cell_type": "code",
   "execution_count": null,
   "metadata": {},
   "outputs": [],
   "source": [
    "full_name = first_name + ' ' + last_name\n",
    "print('Mi nombre es: ' + full_name)"
   ]
  },
  {
   "cell_type": "markdown",
   "metadata": {},
   "source": [
    "Podemos acceder a los caracteres de la cadena, de la siguiente manera:"
   ]
  },
  {
   "cell_type": "code",
   "execution_count": null,
   "metadata": {},
   "outputs": [],
   "source": [
    "print(first_name[0])    # Accede al primer caracter desde la izquierda\n",
    "print(first_name[1])    # Accede al segundo caracter desde la izquierda\n",
    "\n",
    "# NOTA: El primer caracter está en la posición 0, no en la posición 1"
   ]
  },
  {
   "cell_type": "code",
   "execution_count": null,
   "metadata": {},
   "outputs": [],
   "source": [
    "print(first_name[-1])   # Accede al caracter de última posición\n",
    "print(first_name[-2])   # Accede al caracter de penúltima posición"
   ]
  },
  {
   "cell_type": "markdown",
   "metadata": {},
   "source": [
    "Podemos usar la sentencia `in` para determinar si un caracter se encuentra o no en la cadena:"
   ]
  },
  {
   "cell_type": "code",
   "execution_count": null,
   "metadata": {},
   "outputs": [],
   "source": [
    "'a' in 'Mario'"
   ]
  },
  {
   "cell_type": "code",
   "execution_count": null,
   "metadata": {},
   "outputs": [],
   "source": [
    "'c' in 'Mario'"
   ]
  },
  {
   "cell_type": "code",
   "execution_count": null,
   "metadata": {},
   "outputs": [],
   "source": [
    "if 'a' in first_name:\n",
    "    print('Mi primer nombre contiene la letra a')"
   ]
  },
  {
   "cell_type": "markdown",
   "metadata": {},
   "source": [
    "Ahora veremos dos maneras de iterar sobre los caracteres de un string.\n",
    "\n",
    "**Por índice:**"
   ]
  },
  {
   "cell_type": "code",
   "execution_count": null,
   "metadata": {},
   "outputs": [],
   "source": [
    "first_name = 'Mario'\n",
    "\n",
    "# len(first_name) : cantidad de caracteres que tiene la cadena\n",
    "\n",
    "for i in range(len(first_name)):\n",
    "    print(first_name[i])"
   ]
  },
  {
   "cell_type": "markdown",
   "metadata": {},
   "source": [
    "**Los strings son objetos iterables:**"
   ]
  },
  {
   "cell_type": "code",
   "execution_count": null,
   "metadata": {},
   "outputs": [],
   "source": [
    "for c in first_name:\n",
    "    print(c)"
   ]
  },
  {
   "cell_type": "markdown",
   "metadata": {},
   "source": [
    "## Comparación de cadenas\n",
    "\n",
    "La comparación de dos cadenas es según su orden *lexicográfico*, es decir, el mismo que en el diccionario. Supongamos que dos cadenas se encuentran escritas en el diccionario, aquella que aparezca primera, será menor que la otra cadena. \n",
    "\n",
    "Podemos definir el orden *lexicográfico* en dos reglas. Dada dos cadenas $s$ y $t$, la cadena $s$ será menor lexicográficamente que la cadena $t$ si y solo si:\n",
    "\n",
    "1. $s$ es prefijo de $t$.\n",
    "    \n",
    "    Por ejemplo:\n",
    "    \n",
    "    $s$ = 'para' $\\rightarrow$ $t$ = 'paraguas'\n",
    "    \n",
    "    $s$ = 'abc' $\\rightarrow$ $t$ = 'abcdef'\n",
    "\n",
    "2. En la primera posición, desde la izquierda, donde $s$ y $t$ difieren, el carácter de $s$ es menor al de $t$.\n",
    "\n",
    "    Por ejemplo:\n",
    "\n",
    "    $s$ = 'carrito' $\\rightarrow$ $t$ = 'carroza'\n",
    "\n",
    "    $s$ = 'abcde' $\\rightarrow$ $t$ = 'abcz'\n",
    "\n",
    "    $s$ = 'ardilla' $\\rightarrow$ $t$ = 'elefante'\n"
   ]
  },
  {
   "cell_type": "code",
   "execution_count": null,
   "metadata": {},
   "outputs": [],
   "source": [
    "s = 'para'\n",
    "t = 'paraguas'\n",
    "\n",
    "s < t"
   ]
  },
  {
   "cell_type": "code",
   "execution_count": null,
   "metadata": {},
   "outputs": [],
   "source": [
    "'abc' < 'abcdef'"
   ]
  },
  {
   "cell_type": "code",
   "execution_count": null,
   "metadata": {},
   "outputs": [],
   "source": [
    "'carrito' < 'carroza'"
   ]
  },
  {
   "cell_type": "code",
   "execution_count": null,
   "metadata": {},
   "outputs": [],
   "source": [
    "'abcde' < 'abcz'"
   ]
  },
  {
   "cell_type": "code",
   "execution_count": null,
   "metadata": {},
   "outputs": [],
   "source": [
    "'ardilla' < 'elefante'"
   ]
  },
  {
   "cell_type": "markdown",
   "metadata": {},
   "source": [
    "Ahora ya sabemos cómo comparar cadenas, pero solo cadenas que contienen letras. ¿Qué sucede si comparamos cadenas que no solo consisten en letras, sino en cualquier tipo de caracter?\n",
    "\n",
    "Veamos algunos ejemplos:"
   ]
  },
  {
   "cell_type": "code",
   "execution_count": null,
   "metadata": {},
   "outputs": [],
   "source": [
    "# Comparación de dos letras\n",
    "\n",
    "'a' < 'z'"
   ]
  },
  {
   "cell_type": "code",
   "execution_count": null,
   "metadata": {},
   "outputs": [],
   "source": [
    "'a' < '('"
   ]
  },
  {
   "cell_type": "code",
   "execution_count": null,
   "metadata": {},
   "outputs": [],
   "source": [
    "'a' < '{'"
   ]
  },
  {
   "cell_type": "code",
   "execution_count": null,
   "metadata": {},
   "outputs": [],
   "source": [
    "'a' < '0'"
   ]
  },
  {
   "cell_type": "markdown",
   "metadata": {},
   "source": [
    "Vemos que la comparación entre el caracter `a` y caracteres como paréntesis, llaves o números nos retornan resultados. ¿Acaso estos resultados tienen algún sentido? Pues sí. Python, y la mayoría de lenguajes de programación, siguen el orden de la tabla ascii:\n",
    "\n",
    "<center><img src='../Images/ASCII table.jpg' width=1000/></center>\n",
    "\n",
    "Cada caracter tiene asociado un valor numérico. Un **caracter será menor que otro**, si su **valor numérico en la tabla ascii es menor**. "
   ]
  },
  {
   "cell_type": "markdown",
   "metadata": {},
   "source": [
    "Podemos obtener el valor numérico de un caracter con la función `ord()`:"
   ]
  },
  {
   "cell_type": "code",
   "execution_count": null,
   "metadata": {},
   "outputs": [],
   "source": [
    "ord('a')"
   ]
  },
  {
   "cell_type": "code",
   "execution_count": null,
   "metadata": {},
   "outputs": [],
   "source": [
    "ord('$')"
   ]
  },
  {
   "cell_type": "markdown",
   "metadata": {},
   "source": [
    "Y podemos aplicar la operación inversa, convertir un valor numérico a un caracter con `chr()`:"
   ]
  },
  {
   "cell_type": "code",
   "execution_count": null,
   "metadata": {},
   "outputs": [],
   "source": [
    "chr(97)"
   ]
  },
  {
   "cell_type": "code",
   "execution_count": null,
   "metadata": {},
   "outputs": [],
   "source": [
    "chr(36)"
   ]
  },
  {
   "cell_type": "markdown",
   "metadata": {},
   "source": [
    "Algo importante a resaltar de la tabla ascii, es que los caracteres de los números y las letras del abecedario están contiguas y en orden. Con esto, podríamos imprimir todo el abecedario:"
   ]
  },
  {
   "cell_type": "code",
   "execution_count": null,
   "metadata": {},
   "outputs": [],
   "source": [
    "a_value = ord('a')\n",
    "z_value = ord('z')\n",
    "\n",
    "# Iteramos desde el valor de 'a' hasta el valor de 'z'\n",
    "for i in range(a_value, z_value+1):\n",
    "    # Imprimimos el caracter\n",
    "    print(chr(i))"
   ]
  }
 ],
 "metadata": {
  "kernelspec": {
   "display_name": "Python 3",
   "language": "python",
   "name": "python3"
  },
  "language_info": {
   "codemirror_mode": {
    "name": "ipython",
    "version": 3
   },
   "file_extension": ".py",
   "mimetype": "text/x-python",
   "name": "python",
   "nbconvert_exporter": "python",
   "pygments_lexer": "ipython3",
   "version": "3.11.6"
  }
 },
 "nbformat": 4,
 "nbformat_minor": 2
}
