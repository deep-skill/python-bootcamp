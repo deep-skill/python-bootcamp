{
 "cells": [
  {
   "cell_type": "markdown",
   "metadata": {},
   "source": [
    "# Strings"
   ]
  },
  {
   "cell_type": "markdown",
   "metadata": {},
   "source": [
    "1. Genere el siguiente patrón:\n",
    "\n",
    "<center>A, b, C, d, E, f, G, ..., Y, z</center>"
   ]
  },
  {
   "cell_type": "code",
   "execution_count": null,
   "metadata": {},
   "outputs": [],
   "source": [
    "# Código\n",
    "\n"
   ]
  },
  {
   "cell_type": "markdown",
   "metadata": {},
   "source": [
    "2. Una palabra es palíndroma, si se lee igual de izquierda a derecha que de derecha a izquierda. Dada una palabra, determinar si es palíndroma o no."
   ]
  },
  {
   "cell_type": "code",
   "execution_count": null,
   "metadata": {},
   "outputs": [],
   "source": [
    "word = 'arenera'\n",
    "\n",
    "# Código\n",
    "\n"
   ]
  },
  {
   "cell_type": "markdown",
   "metadata": {},
   "source": [
    "3. Existen distintos métodos de encriptación de mensajes, ahora veremos en qué consiste el cifrado César. El cifrado César consiste en un mensaje (cadena) y una llave (valor numérico) `k`. A cada letra del mensaje la desplazamos `k` posiciones en el abecedario de manera circular. Es decir, si `k = 3`:\n",
    "\n",
    "    <center>\n",
    "\n",
    "    A $\\rightarrow$ D\n",
    "\n",
    "    B $\\rightarrow$ E\n",
    "\n",
    "    W $\\rightarrow$ Z\n",
    "\n",
    "    X $\\rightarrow$ A\n",
    "\n",
    "    Y $\\rightarrow$ B\n",
    "\n",
    "    </center>\n",
    "\n",
    "    Dado un mensaje y una llave, genere el mensaje encriptado mediante el cifrado César. Solo desplazar a las letras en el abecedario (ya sea minúscula o mayúscula), los demás caracteres quedan sin modificaciones."
   ]
  },
  {
   "cell_type": "code",
   "execution_count": null,
   "metadata": {},
   "outputs": [],
   "source": [
    "message = 'Hola, ¿como te encuentras? Yo estoy muy bien.'\n",
    "k = 3\n",
    "\n",
    "# Código\n",
    "\n"
   ]
  },
  {
   "cell_type": "markdown",
   "metadata": {},
   "source": [
    "4. Dado una frase (solo consiste de letras y espacios), determine la cantidad de palabras:"
   ]
  },
  {
   "cell_type": "code",
   "execution_count": null,
   "metadata": {},
   "outputs": [],
   "source": [
    "message = 'Esta frase contiene seis palabras'\n",
    "\n",
    "# Código\n"
   ]
  },
  {
   "cell_type": "markdown",
   "metadata": {},
   "source": [
    "# Listas"
   ]
  },
  {
   "cell_type": "markdown",
   "metadata": {},
   "source": [
    "1. Dada una lista de números, filtra todos los elementos que sean primos. Es decir, elimina todos los elementos *no primos* de la lista."
   ]
  },
  {
   "cell_type": "code",
   "execution_count": null,
   "metadata": {},
   "outputs": [],
   "source": [
    "number_list = [2, 10, 12, 91, 101, 31, 12, 12]\n",
    "\n",
    "# Código\n",
    "\n"
   ]
  },
  {
   "cell_type": "markdown",
   "metadata": {},
   "source": [
    "2. Dada dos listas $A$ y $B$, genera una lista con la unión de ambas listas $A\\cup B$."
   ]
  },
  {
   "cell_type": "code",
   "execution_count": null,
   "metadata": {},
   "outputs": [],
   "source": [
    "A = [2, 5, 10, 11, 13, 7]\n",
    "B = [99, 10, 45, 12, 2]\n",
    "\n",
    "# Código\n",
    "\n"
   ]
  },
  {
   "cell_type": "markdown",
   "metadata": {},
   "source": [
    "3. Dada una lista de cadenas, filtrar todas las cadenas que empiezan con alguna vocal."
   ]
  },
  {
   "cell_type": "code",
   "execution_count": null,
   "metadata": {},
   "outputs": [],
   "source": [
    "word_list = ['apple', 'windows', 'mouse', 'orange', 'kiwi', 'elephant', 'umbrella']\n",
    "\n",
    "# Código\n",
    "\n"
   ]
  },
  {
   "cell_type": "markdown",
   "metadata": {},
   "source": [
    "4. Dada una lista de números, genere una nueva lista sin duplicados."
   ]
  },
  {
   "cell_type": "code",
   "execution_count": null,
   "metadata": {},
   "outputs": [],
   "source": [
    "number_list = [2, 4, 4, 4, 7, 11, 11, 20, 20, 20, 20, 20, 20, 43, 56, 79, 81, 81, 81, 100]\n",
    "\n",
    "# Código\n",
    "\n",
    "\n"
   ]
  },
  {
   "cell_type": "markdown",
   "metadata": {},
   "source": [
    "# Listas anidadas"
   ]
  },
  {
   "cell_type": "markdown",
   "metadata": {},
   "source": [
    "1. Dada una matriz cuadrada $A$ y un número $n$, calcule $A^n$:"
   ]
  },
  {
   "cell_type": "code",
   "execution_count": null,
   "metadata": {},
   "outputs": [],
   "source": [
    "A = [[1, -1, 5],\n",
    "     [3, 2, 7],\n",
    "     [-11, 5, 10]]\n",
    "\n",
    "n = 5\n",
    "\n",
    "# Código\n",
    "\n"
   ]
  },
  {
   "cell_type": "markdown",
   "metadata": {},
   "source": [
    "2. Dada una matriz, genere su matriz transpuesta:"
   ]
  },
  {
   "cell_type": "code",
   "execution_count": null,
   "metadata": {},
   "outputs": [],
   "source": [
    "matrix = [[1, 2, 3, 4, 5],\n",
    "          [6, 7, 8, 9, 10],\n",
    "          [11, 12, 13, 14, 15]]\n",
    "\n",
    "# Código\n"
   ]
  },
  {
   "cell_type": "markdown",
   "metadata": {},
   "source": [
    "2. Dado $n$, genere una lista con las $n$ primeras filas del triángulo de pascal:\n",
    "\n",
    "    ```python\n",
    "    # n = 1\n",
    "    pascal = [[1]]\n",
    "    \n",
    "    # n = 2\n",
    "    pascal = [[1],\n",
    "              [1, 1]]\n",
    "    \n",
    "    # n = 3\n",
    "    pascal = [[1],\n",
    "              [1, 1],\n",
    "              [1, 2, 1]]\n",
    "    \n",
    "    # n = 6\n",
    "    pascal = [[1],\n",
    "              [1, 1],\n",
    "              [1, 2, 1],\n",
    "              [1, 3, 3, 1],\n",
    "              [1, 4, 6, 4, 1],\n",
    "              [1, 5, 10, 10, 5, 1]]\n",
    "    ```"
   ]
  },
  {
   "cell_type": "code",
   "execution_count": null,
   "metadata": {},
   "outputs": [],
   "source": [
    "n = 6\n",
    "\n",
    "# Código"
   ]
  }
 ],
 "metadata": {
  "language_info": {
   "name": "python"
  }
 },
 "nbformat": 4,
 "nbformat_minor": 2
}
