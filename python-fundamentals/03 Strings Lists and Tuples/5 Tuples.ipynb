{
 "cells": [
  {
   "cell_type": "markdown",
   "metadata": {},
   "source": [
    "## Introducción a tuplas\n",
    "\n",
    "Las tuplas es un tipo de estructura de datos, muy similar a una lista. Pero, mientras que las listas son **objetos mutables**, las tuplas son **objetos inmutables**."
   ]
  },
  {
   "cell_type": "code",
   "execution_count": null,
   "metadata": {},
   "outputs": [],
   "source": [
    "my_tuple = (1, 2, 3, 4, 5)\n",
    "my_tuple"
   ]
  },
  {
   "cell_type": "code",
   "execution_count": null,
   "metadata": {},
   "outputs": [],
   "source": [
    "type(my_tuple)"
   ]
  },
  {
   "cell_type": "code",
   "execution_count": null,
   "metadata": {},
   "outputs": [],
   "source": [
    "# También podemos acceder a los elementos de la tupla, de la misma manera que las listas\n",
    "\n",
    "my_tuple[0]"
   ]
  },
  {
   "cell_type": "code",
   "execution_count": null,
   "metadata": {},
   "outputs": [],
   "source": [
    "my_tuple[1]"
   ]
  },
  {
   "cell_type": "markdown",
   "metadata": {},
   "source": [
    "Incluso, podemos tener tuplas de tuplas:"
   ]
  },
  {
   "cell_type": "code",
   "execution_count": null,
   "metadata": {},
   "outputs": [],
   "source": [
    "my_tuple = ((1, 2, 3), (4, 5, 6), (7, 8, 9))\n",
    "my_tuple[2][1]"
   ]
  },
  {
   "cell_type": "markdown",
   "metadata": {},
   "source": [
    "Inmutabilidad de las tuplas:"
   ]
  },
  {
   "cell_type": "code",
   "execution_count": null,
   "metadata": {},
   "outputs": [],
   "source": [
    "my_tuple = (1, 2, 3, 4)\n",
    "\n",
    "# Si intentamos modificar un elemento de la tupla, nos dará un error\n",
    "my_tuple[0] = 7"
   ]
  },
  {
   "cell_type": "markdown",
   "metadata": {},
   "source": [
    "### ¿Por qué usar una tupla en vez de una lista?\n",
    "\n",
    "En construcción de software, habrán situaciones donde queremos que algunos *datos no varíen en el flujo del programa* y garantizar su *inmutabilidad*, para este tipo de datos podemos usar las tuplas y asegurarnos que los datos no variarán durante la ejecución del programa, y si se intentan modificar, el programa nos dará error.\n",
    "\n",
    "### Desempaquetado de listas y tuplas\n",
    "\n",
    "Supongamos que tenemos la siguiente tupla, que contiene dos datos: el nombre de una persona, su apellido y su edad"
   ]
  },
  {
   "cell_type": "code",
   "execution_count": null,
   "metadata": {},
   "outputs": [],
   "source": [
    "info = ('Mario', 'Rosales', 30)"
   ]
  },
  {
   "cell_type": "markdown",
   "metadata": {},
   "source": [
    "Queremos guardar estos datos, en tres variables: `first_name`, `last_name` y `age`"
   ]
  },
  {
   "cell_type": "code",
   "execution_count": null,
   "metadata": {},
   "outputs": [],
   "source": [
    "first_name = info[0]\n",
    "last_name = info[1]\n",
    "age = info[2]"
   ]
  },
  {
   "cell_type": "code",
   "execution_count": null,
   "metadata": {},
   "outputs": [],
   "source": [
    "print(first_name)\n",
    "print(last_name)\n",
    "print(age)"
   ]
  },
  {
   "cell_type": "markdown",
   "metadata": {},
   "source": [
    "Existe otra manera de asignar datos de una tupla en variables, *desempaquetando la tupla*:"
   ]
  },
  {
   "cell_type": "code",
   "execution_count": null,
   "metadata": {},
   "outputs": [],
   "source": [
    "info = ('Mario', 'Rosales', 30)\n",
    "\n",
    "first_name, last_name, age = info"
   ]
  },
  {
   "cell_type": "code",
   "execution_count": null,
   "metadata": {},
   "outputs": [],
   "source": [
    "print(first_name)\n",
    "print(last_name)\n",
    "print(age)"
   ]
  },
  {
   "cell_type": "markdown",
   "metadata": {},
   "source": [
    "Para poder desempaquetar una tupla, la cantidad de variables y de elementos de la tupla deben ser iguales, o nos dará un error:"
   ]
  },
  {
   "cell_type": "code",
   "execution_count": null,
   "metadata": {},
   "outputs": [],
   "source": [
    "info = ('Mario', 'Rosales', 30)\n",
    "\n",
    "first_name, last_name = info"
   ]
  },
  {
   "cell_type": "code",
   "execution_count": null,
   "metadata": {},
   "outputs": [],
   "source": [
    "info = ('Mario', 'Rosales', 30)\n",
    "\n",
    "first_name, last_name, age, height = info"
   ]
  },
  {
   "cell_type": "markdown",
   "metadata": {},
   "source": [
    "Imaginemos ahora que tenemos una lista de información de personas:"
   ]
  },
  {
   "cell_type": "code",
   "execution_count": null,
   "metadata": {},
   "outputs": [],
   "source": [
    "people_info = [('Mario', 30), ('Marco', 27), ('Rosa', 29)]\n",
    "\n",
    "for info in people_info:\n",
    "    \n",
    "    # info será una tupla, y la desempaquetamos\n",
    "    name, age = info \n",
    "\n",
    "    print('Hola soy ' + name + ' y tengo ' + str(age) + ' años')"
   ]
  },
  {
   "cell_type": "markdown",
   "metadata": {},
   "source": [
    "También podemos desempaquetar la tupla en el propio bucle:"
   ]
  },
  {
   "cell_type": "code",
   "execution_count": null,
   "metadata": {},
   "outputs": [],
   "source": [
    "people_info = [('Mario', 30), ('Marco', 27), ('Rosa', 29)]\n",
    "\n",
    "# Desempaquetamos directamente la tupla\n",
    "for name, age in people_info:\n",
    "    print('Hola soy ' + name + ' y tengo ' + str(age) + ' años')"
   ]
  }
 ],
 "metadata": {
  "language_info": {
   "name": "python"
  }
 },
 "nbformat": 4,
 "nbformat_minor": 2
}
