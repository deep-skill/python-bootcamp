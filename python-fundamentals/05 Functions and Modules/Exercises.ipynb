{
 "cells": [
  {
   "cell_type": "markdown",
   "metadata": {},
   "source": [
    "# Funciones"
   ]
  },
  {
   "cell_type": "markdown",
   "metadata": {},
   "source": [
    "1. Un número se dice que es perfecto, si la suma de sus divisores propios resulta él mismo. Implemente una función que retorne True, si el número es perfecto. En otro caso, retorne False."
   ]
  },
  {
   "cell_type": "code",
   "execution_count": null,
   "metadata": {},
   "outputs": [],
   "source": [
    "def is_perfect_number(x):\n",
    "    pass\n",
    "\n"
   ]
  },
  {
   "cell_type": "markdown",
   "metadata": {},
   "source": [
    "2. La fórmula de Herón nos permite calcular el área de un triángulo conociendo los valores de sus tres lados:\n",
    "\n",
    "    $$\\text{\\'Area} = \\sqrt{p \\cdot (p-a)\\cdot(p-b)\\cdot(p-c)}$$\n",
    "\n",
    "    donde $a, b$ y $c$ son los lados del triángulo, y $p$ su semiperímetro.\n",
    "\n",
    "    Implemente una función que calcule el área usando la fórmula de Herón. Verifique si el tríangulo existe, si no existe, retorna $-1$, en otro caso, retorne el área del triángulo. (Puedes usar la función `sqrt()` del módulo `math` para calcular la raíz de un número)."
   ]
  },
  {
   "cell_type": "code",
   "execution_count": null,
   "metadata": {},
   "outputs": [],
   "source": [
    "def heron(a, b, c):\n",
    "    pass"
   ]
  },
  {
   "cell_type": "markdown",
   "metadata": {},
   "source": [
    "3. Implemente una función que calcule el mínimo común múltiplo de dos números. Puede usar la siguiente ecuación:\n",
    "\n",
    "    $$\\text{MCM}(a,b) \\cdot \\text{MCD}(a, b) = a \\cdot b$$"
   ]
  },
  {
   "cell_type": "code",
   "execution_count": null,
   "metadata": {},
   "outputs": [],
   "source": [
    "def mcm(a, b):\n",
    "    pass"
   ]
  },
  {
   "cell_type": "markdown",
   "metadata": {},
   "source": [
    "4. Dado un número, vamos a generar un número que es el conteo de sus dígitos. Por ejemplo, para el número:\n",
    "\n",
    "    $$5102222$$\n",
    "\n",
    "    Existe **un** número 0, **un** número 1, **cuatro** números 2 y **dos** números 5. Generamos un nuevo número anotando sus frecuencias seguidos de sus dígitos correspondientes:\n",
    "\n",
    "    $$1011425$$\n",
    "\n",
    "    Implemente una función que dado un número, retorne un número que es su conteo de dígitos."
   ]
  },
  {
   "cell_type": "code",
   "execution_count": null,
   "metadata": {},
   "outputs": [],
   "source": [
    "def frecuency_number(number):\n",
    "    pass"
   ]
  },
  {
   "cell_type": "markdown",
   "metadata": {},
   "source": [
    "5. Dado un texto y una palabra, implemente una función que retorne la cantidad de veces que esa palabra aparece en el texto."
   ]
  },
  {
   "cell_type": "code",
   "execution_count": null,
   "metadata": {},
   "outputs": [],
   "source": [
    "def find_word(text, word):\n",
    "    pass"
   ]
  }
 ],
 "metadata": {
  "kernelspec": {
   "display_name": "Python 3 (ipykernel)",
   "language": "python",
   "name": "python3"
  },
  "language_info": {
   "codemirror_mode": {
    "name": "ipython",
    "version": 3
   },
   "file_extension": ".py",
   "mimetype": "text/x-python",
   "name": "python",
   "nbconvert_exporter": "python",
   "pygments_lexer": "ipython3",
   "version": "3.11.7"
  }
 },
 "nbformat": 4,
 "nbformat_minor": 4
}
