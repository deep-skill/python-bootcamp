{
 "cells": [
  {
   "cell_type": "markdown",
   "metadata": {},
   "source": [
    "## 2. Importación de Módulos\n",
    "\n",
    "En Python, existen funciones ya implementadas a nuestra dispocisión. Por ejemplo, `print()` es una de ellas. Aquí algunos otros ejemplos:"
   ]
  },
  {
   "cell_type": "code",
   "execution_count": 1,
   "metadata": {},
   "outputs": [
    {
     "data": {
      "text/plain": [
       "100"
      ]
     },
     "execution_count": 1,
     "metadata": {},
     "output_type": "execute_result"
    }
   ],
   "source": [
    "# Retorna el valor absoluto de un número\n",
    "abs(-100)"
   ]
  },
  {
   "cell_type": "code",
   "execution_count": 2,
   "metadata": {},
   "outputs": [
    {
     "data": {
      "text/plain": [
       "125"
      ]
     },
     "execution_count": 2,
     "metadata": {},
     "output_type": "execute_result"
    }
   ],
   "source": [
    "# Retorna la exponenciación\n",
    "pow(5, 3) # 5 ** 3"
   ]
  },
  {
   "cell_type": "code",
   "execution_count": 3,
   "metadata": {},
   "outputs": [
    {
     "data": {
      "text/plain": [
       "5"
      ]
     },
     "execution_count": 3,
     "metadata": {},
     "output_type": "execute_result"
    }
   ],
   "source": [
    "# Retorna la longitud de una lista, tupla, diccionario, set\n",
    "lst = [1, 2, 3, 4, 5]\n",
    "len(lst)"
   ]
  },
  {
   "cell_type": "markdown",
   "metadata": {},
   "source": [
    "Un módulo es conjunto de definiciones y declaraciones de Python. Existen módulos con funciones ya implementadas y que podemos usar. Para usar funciones de un módulo, debemos *importar el módulo*, de la siguiente manera:"
   ]
  },
  {
   "cell_type": "code",
   "execution_count": 5,
   "metadata": {},
   "outputs": [],
   "source": [
    "# El módulo 'math' contiene definiciones referidas a matemática\n",
    "\n",
    "import math"
   ]
  },
  {
   "cell_type": "markdown",
   "metadata": {},
   "source": [
    "Para llamar a algunas de sus definiciones (ya sean funciones o variables), la sintaxis es la siguiente:\n",
    "\n",
    "```python\n",
    "\n",
    "modulo_name.variable\n",
    "modulo_name.function()\n",
    "\n",
    "```"
   ]
  },
  {
   "cell_type": "code",
   "execution_count": 6,
   "metadata": {},
   "outputs": [
    {
     "data": {
      "text/plain": [
       "3.141592653589793"
      ]
     },
     "execution_count": 6,
     "metadata": {},
     "output_type": "execute_result"
    }
   ],
   "source": [
    "# La librería 'math' tiene el valor de pi en la variable 'pi'\n",
    "\n",
    "math.pi"
   ]
  },
  {
   "cell_type": "code",
   "execution_count": 7,
   "metadata": {},
   "outputs": [
    {
     "data": {
      "text/plain": [
       "1.0"
      ]
     },
     "execution_count": 7,
     "metadata": {},
     "output_type": "execute_result"
    }
   ],
   "source": [
    "# También tiene funciones trigonométricas implementadas \n",
    "\n",
    "angle = math.pi / 2\n",
    "\n",
    "# Seno de un ángulo\n",
    "math.sin(angle)"
   ]
  },
  {
   "cell_type": "code",
   "execution_count": 8,
   "metadata": {},
   "outputs": [
    {
     "data": {
      "text/plain": [
       "3628800"
      ]
     },
     "execution_count": 8,
     "metadata": {},
     "output_type": "execute_result"
    }
   ],
   "source": [
    "# Factorial de un número\n",
    "\n",
    "math.factorial(10)"
   ]
  },
  {
   "cell_type": "markdown",
   "metadata": {},
   "source": [
    "También podemos importar solo funciones o variables específicas, y evitar poner el `math.`:"
   ]
  },
  {
   "cell_type": "code",
   "execution_count": 9,
   "metadata": {},
   "outputs": [
    {
     "data": {
      "text/plain": [
       "1.0"
      ]
     },
     "execution_count": 9,
     "metadata": {},
     "output_type": "execute_result"
    }
   ],
   "source": [
    "from math import cos\n",
    "\n",
    "angle = 0\n",
    "\n",
    "# Ya no es necesario poner `math.` para llamar a la función\n",
    "cos(angle)"
   ]
  },
  {
   "cell_type": "code",
   "execution_count": 10,
   "metadata": {},
   "outputs": [
    {
     "data": {
      "text/plain": [
       "4.0"
      ]
     },
     "execution_count": 10,
     "metadata": {},
     "output_type": "execute_result"
    }
   ],
   "source": [
    "from math import log10\n",
    "\n",
    "# Logaritmo en base 10\n",
    "log10(10000)"
   ]
  },
  {
   "cell_type": "markdown",
   "metadata": {},
   "source": [
    "Incluso, podemos importar todas las declaraciones y definiciones del módulo:"
   ]
  },
  {
   "cell_type": "code",
   "execution_count": 11,
   "metadata": {},
   "outputs": [],
   "source": [
    "from math import *"
   ]
  },
  {
   "cell_type": "code",
   "execution_count": 12,
   "metadata": {},
   "outputs": [
    {
     "data": {
      "text/plain": [
       "0.775397496610753"
      ]
     },
     "execution_count": 12,
     "metadata": {},
     "output_type": "execute_result"
    }
   ],
   "source": [
    "# Función arco seno\n",
    "\n",
    "asin(0.7)"
   ]
  },
  {
   "cell_type": "code",
   "execution_count": 13,
   "metadata": {},
   "outputs": [
    {
     "data": {
      "text/plain": [
       "7"
      ]
     },
     "execution_count": 13,
     "metadata": {},
     "output_type": "execute_result"
    }
   ],
   "source": [
    "# Función Máximo común divisor de dos números\n",
    "\n",
    "gcd(21, 91)"
   ]
  },
  {
   "cell_type": "markdown",
   "metadata": {},
   "source": [
    "Supongamos que dos módulos distintos tienen una función con el mismo nombre y las importamos:\n",
    "\n",
    "```python\n",
    "\n",
    "# Supongamos que ambas tienen una función con el mismo nombre\n",
    "\n",
    "from module1 import function       # module1.function()\n",
    "from module2 import function       # module2.function()\n",
    "\n",
    "# Como module2 se importó después de module1, si llamamos a function(), se llamará a \n",
    "# module2.function()\n",
    "\n",
    "function()\n",
    "\n",
    "```"
   ]
  },
  {
   "cell_type": "markdown",
   "metadata": {},
   "source": [
    "Si queremos importar ambas funciones en nuestro código y queremos diferenciarles, podemos hacer lo siguiente:\n",
    "\n",
    "\n",
    "#### Importamos ambos módulos\n",
    "\n",
    "```python\n",
    "\n",
    "# Importamos ambos módulos\n",
    "\n",
    "import module1\n",
    "import module2\n",
    "\n",
    "# Diferenciamos por el nombre del módulo\n",
    "module1.function()\n",
    "module2.function()\n",
    "\n",
    "```\n",
    "Así, diferenciamos las funciones según de qué módulo estamos llamando.\n",
    "\n",
    "\n",
    "#### Cambiamos el nombre de la función a importar\n",
    "\n",
    "```python\n",
    "\n",
    "from module1 import function as function1\n",
    "from module2 import function as function2\n",
    "\n",
    "function1() # module1.function()\n",
    "function2() # module2.function()\n",
    "\n",
    "```\n",
    "\n",
    "Podemos sobreescribir el nombre de cada función con ayuda de `as` y así diferenciar ambas funciones."
   ]
  },
  {
   "cell_type": "markdown",
   "metadata": {},
   "source": [
    "**NOTA:** Tener cuidado cuando importemos todas las definiciones y declaraciones de varios módulos, pues pueden tener elementos con el mismo nombre y confundirnos al usarlos."
   ]
  }
 ],
 "metadata": {
  "kernelspec": {
   "display_name": "Python 3 (ipykernel)",
   "language": "python",
   "name": "python3"
  },
  "language_info": {
   "codemirror_mode": {
    "name": "ipython",
    "version": 3
   },
   "file_extension": ".py",
   "mimetype": "text/x-python",
   "name": "python",
   "nbconvert_exporter": "python",
   "pygments_lexer": "ipython3",
   "version": "3.11.7"
  }
 },
 "nbformat": 4,
 "nbformat_minor": 4
}
