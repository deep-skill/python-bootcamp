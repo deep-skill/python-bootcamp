{
 "cells": [
  {
   "cell_type": "markdown",
   "metadata": {},
   "source": [
    "# Funciones y Módulos\n",
    "\n",
    "## 1. ¿Qué es una función en programación?\n",
    "\n",
    "Las funciones son bloques de código que tienen una importante característica: *reutilizable*. Una vez declarada una función, podemos utilizarla en donde el programa lo necesite. \n",
    "\n",
    "### Sintaxis de una función\n",
    "\n",
    "```python\n",
    "def function_name(paremeter1, parameter2, parameter3):\n",
    "    <Bloque de código\n",
    "    Bloque de código\n",
    "    Bloque de código>\n",
    "```\n",
    "\n",
    "Las funciones tienen parámetros para poder trabajar sobre ellas. Veamos un ejemplo:"
   ]
  },
  {
   "cell_type": "code",
   "execution_count": null,
   "metadata": {},
   "outputs": [],
   "source": [
    "# La siguiente función calcula el factorial de un número\n",
    "# Tiene como parámetro: 'n'\n",
    "\n",
    "def print_factorial(n):\n",
    "    fn = 1\n",
    "    i = 1\n",
    "\n",
    "    while i <= n:\n",
    "        fn = fn * i\n",
    "        i += 1\n",
    "\n",
    "    print('El factorial de ' + str(n) + ' es ' + str(fn))"
   ]
  },
  {
   "cell_type": "markdown",
   "metadata": {},
   "source": [
    "Podemos observar, que la función calcula el factorial de la variable `n`. Ahora podemos llamar a nuestra función, y darle un valor a `n`:"
   ]
  },
  {
   "cell_type": "code",
   "execution_count": null,
   "metadata": {},
   "outputs": [],
   "source": [
    "# n = 5\n",
    "\n",
    "print_factorial(5)"
   ]
  },
  {
   "cell_type": "code",
   "execution_count": null,
   "metadata": {},
   "outputs": [],
   "source": [
    "# n = 10\n",
    "\n",
    "print_factorial(10)"
   ]
  },
  {
   "cell_type": "code",
   "execution_count": null,
   "metadata": {},
   "outputs": [],
   "source": [
    "# n = 5\n",
    "\n",
    "print_factorial(20)"
   ]
  },
  {
   "cell_type": "markdown",
   "metadata": {},
   "source": [
    "Vemos que los parámetros asumen los valores que insertamos a la hora de llamar a nuestra función. Veamos una función con varios parámetros:"
   ]
  },
  {
   "cell_type": "code",
   "execution_count": null,
   "metadata": {},
   "outputs": [],
   "source": [
    "def say_hello(name, career, university):\n",
    "    print('Hola soy ' + name + ' y estudio ' + career + ' en la ' + university)"
   ]
  },
  {
   "cell_type": "code",
   "execution_count": null,
   "metadata": {},
   "outputs": [],
   "source": [
    "say_hello('Emanuel', 'Ciencia de la Computación', 'UNI')"
   ]
  },
  {
   "cell_type": "code",
   "execution_count": null,
   "metadata": {},
   "outputs": [],
   "source": [
    "say_hello('Emanuel', 'UNI', 'Ciencia de la Computación')"
   ]
  },
  {
   "cell_type": "code",
   "execution_count": null,
   "metadata": {},
   "outputs": [],
   "source": [
    "say_hello('UNI', 'Ciencia de la Computación', 'Emanuel')"
   ]
  },
  {
   "cell_type": "markdown",
   "metadata": {},
   "source": [
    "Si existen varios parámetros, se asignarán los valores según el orden de los mismos.\n",
    "\n",
    "La función `print_factorial` calcula el factorial de un número, e imprime el resultado. Pero, ¿y si queremos calcular el factorial de ese número y asignarlo a una variable? Para ello usaremos la sentencia `return`:\n"
   ]
  },
  {
   "cell_type": "code",
   "execution_count": null,
   "metadata": {},
   "outputs": [],
   "source": [
    "def factorial(n):\n",
    "    fn = 1\n",
    "    i = 1\n",
    "\n",
    "    while i <= n:\n",
    "        fn = fn * i\n",
    "        i += 1\n",
    "\n",
    "    return fn        # Retornamos el valor del factorial"
   ]
  },
  {
   "cell_type": "code",
   "execution_count": null,
   "metadata": {},
   "outputs": [],
   "source": [
    "fn = factorial(5)\n",
    "fn"
   ]
  },
  {
   "cell_type": "code",
   "execution_count": null,
   "metadata": {},
   "outputs": [],
   "source": [
    "fn = factorial(10)\n",
    "fn"
   ]
  },
  {
   "cell_type": "code",
   "execution_count": null,
   "metadata": {},
   "outputs": [],
   "source": [
    "fn = factorial(20)\n",
    "fn"
   ]
  },
  {
   "cell_type": "markdown",
   "metadata": {},
   "source": [
    "Una función puede retornar cualquier tipo de dato, ya sean enteros, flotantes, strings, listas, tuplas, etc.\n",
    "\n",
    "En el segundo módulo del curso, el código para el cálculo del coeficiente binomial es el siguiente:"
   ]
  },
  {
   "cell_type": "code",
   "execution_count": null,
   "metadata": {},
   "outputs": [],
   "source": [
    "n = 10\n",
    "k = 3\n",
    "\n",
    "fn = 1               # Factorial de n\n",
    "i = 1\n",
    "\n",
    "while i <= n:\n",
    "    fn = fn * i\n",
    "    i += 1\n",
    "\n",
    "fk = 1               # Factorial de k\n",
    "i = 1\n",
    "\n",
    "while i <= k:\n",
    "    fk = fk * i\n",
    "    i += 1\n",
    "\n",
    "d = n-k\n",
    "\n",
    "fd = 1               # Factorial de n-k\n",
    "i = 1\n",
    "\n",
    "while i <= d:\n",
    "    fd = fd * i\n",
    "    i += 1\n",
    "\n",
    "coeficiente_binomial = fn // (fk * fd)\n",
    "print(coeficiente_binomial)"
   ]
  },
  {
   "cell_type": "markdown",
   "metadata": {},
   "source": [
    "Ahora podemos reemplazar el código para el cálculo del factorial con nuestra función:"
   ]
  },
  {
   "cell_type": "code",
   "execution_count": null,
   "metadata": {},
   "outputs": [],
   "source": [
    "n = 10\n",
    "k = 3\n",
    "\n",
    "d = n-k\n",
    "\n",
    "fn = factorial(n)\n",
    "fk = factorial(k)\n",
    "fd = factorial(d)\n",
    "\n",
    "binomial_coefficient = fn // (fk * fd)\n",
    "print(binomial_coefficient)"
   ]
  },
  {
   "cell_type": "markdown",
   "metadata": {},
   "source": [
    "El código con respecto al planteado en el módulo 2 es mucho más comprensible. En el primero, existen bloques de código repetitivos (el cálculo del factorial), lo cual es una mala práctica de progamación. Imaginemos que nos confundimos en alguna parte de ese bloque, tendríamos que hacer el mismo cambio para todos los bloques de código existentes en el programa, y esto puede llevar a más errores. Mientras si tenemos funciones, podemos cambiar el algoritmo dentro de la función, y el cambio se aplicará para todos a la vez.\n",
    "\n",
    "Es importante saber que la ejecución de una función termina cuando retorna un valor:"
   ]
  },
  {
   "cell_type": "code",
   "execution_count": null,
   "metadata": {},
   "outputs": [],
   "source": [
    "# Función para determinar si un número es primo o no\n",
    "\n",
    "def is_prime(n):\n",
    "    if n <= 1:\n",
    "        # Si n <= 1, entonces la función retorna False y termina la ejecución\n",
    "        return False\n",
    "\n",
    "    for i in range(2, n):\n",
    "        if n % i == 0:\n",
    "            # Si encontramos un divisor de n, entonces sabemos que n no es primo, \n",
    "            # por lo tanto retornamos False y termina la ejecución\n",
    "            return False\n",
    "        \n",
    "    # Si el flujo de ejecución llega a este punto, significa que no se encontró ningún divisor\n",
    "    # entonces n es primo\n",
    "    return True"
   ]
  },
  {
   "cell_type": "code",
   "execution_count": null,
   "metadata": {},
   "outputs": [],
   "source": [
    "is_prime(15)"
   ]
  },
  {
   "cell_type": "code",
   "execution_count": null,
   "metadata": {},
   "outputs": [],
   "source": [
    "is_prime(37)"
   ]
  },
  {
   "cell_type": "markdown",
   "metadata": {},
   "source": [
    "## Objetos mutables e inmutables como parámetros de una función"
   ]
  },
  {
   "cell_type": "markdown",
   "metadata": {},
   "source": [
    "Cuando tenemos a un **objeto inmutable** como parámetro de una función, se crea una copia de este objeto para usarlo en la función. Esto quiere decir, que si modificamos el valor de este parámetro dentro de la función, estamos modificando una copia y no al objeto mismo:"
   ]
  },
  {
   "cell_type": "code",
   "execution_count": 19,
   "metadata": {},
   "outputs": [],
   "source": [
    "# Añade en uno a un número\n",
    "\n",
    "def add_one(number):\n",
    "    number = number + 1\n",
    "    print(\"Dentro de la función\", number)"
   ]
  },
  {
   "cell_type": "code",
   "execution_count": 20,
   "metadata": {},
   "outputs": [
    {
     "name": "stdout",
     "output_type": "stream",
     "text": [
      "Dentro de la función 11\n",
      "10\n"
     ]
    }
   ],
   "source": [
    "number = 10\n",
    "add_one(number)\n",
    "\n",
    "# El valor de 'number' se conserva, a pesar de modificarlo en la función\n",
    "\n",
    "print(number)"
   ]
  },
  {
   "cell_type": "markdown",
   "metadata": {},
   "source": [
    "Con los **objetos mutables** es distinto, si los modificamos dentro de una función, estaremos modificando directamente al objeto original:"
   ]
  },
  {
   "cell_type": "code",
   "execution_count": 23,
   "metadata": {},
   "outputs": [],
   "source": [
    "def add_element(a):\n",
    "    a.append(10)"
   ]
  },
  {
   "cell_type": "code",
   "execution_count": 24,
   "metadata": {},
   "outputs": [
    {
     "name": "stdout",
     "output_type": "stream",
     "text": [
      "[1, 2, 3, 10]\n"
     ]
    }
   ],
   "source": [
    "A = [1, 2, 3]\n",
    "add_element(A)\n",
    "print(A)"
   ]
  },
  {
   "cell_type": "code",
   "execution_count": 25,
   "metadata": {},
   "outputs": [],
   "source": [
    "def add_element2(a):\n",
    "    l = list(a)\n",
    "    l.append(10)\n",
    "    return tuple(l)"
   ]
  },
  {
   "cell_type": "code",
   "execution_count": 28,
   "metadata": {},
   "outputs": [
    {
     "name": "stdout",
     "output_type": "stream",
     "text": [
      "(1, 2, 3)\n",
      "(1, 2, 3, 10)\n"
     ]
    }
   ],
   "source": [
    "T = (1, 2, 3)\n",
    "T2 = add_element2(T)\n",
    "print(T)\n",
    "print(T2)"
   ]
  }
 ],
 "metadata": {
  "kernelspec": {
   "display_name": "Python 3 (ipykernel)",
   "language": "python",
   "name": "python3"
  },
  "language_info": {
   "codemirror_mode": {
    "name": "ipython",
    "version": 3
   },
   "file_extension": ".py",
   "mimetype": "text/x-python",
   "name": "python",
   "nbconvert_exporter": "python",
   "pygments_lexer": "ipython3",
   "version": "3.11.7"
  }
 },
 "nbformat": 4,
 "nbformat_minor": 4
}
