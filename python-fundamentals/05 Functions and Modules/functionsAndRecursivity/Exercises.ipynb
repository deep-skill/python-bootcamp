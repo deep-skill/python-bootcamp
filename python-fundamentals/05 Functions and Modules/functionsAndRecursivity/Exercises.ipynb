{
 "cells": [
  {
   "cell_type": "markdown",
   "metadata": {},
   "source": [
    "# Ejercicios #"
   ]
  },
  {
   "cell_type": "markdown",
   "metadata": {},
   "source": [
    "## 1. Calculando ##\n",
    "\n",
    "Para un entero positivo `n` se define la función `f`:\n",
    "\n",
    "    f(n) =  - 1 + 2 - 3 + ... + (-1)^n * n\n",
    "\n",
    "Tu tarea es desarrollar una función para calcular `f(n)` para un dado entero `n`."
   ]
  },
  {
   "cell_type": "markdown",
   "metadata": {},
   "source": [
    "## 2. Sierpinski ##\n",
    "\n",
    "Tu tarea es dibujar el [triángulo de Sierpinski](https://es.wikipedia.org/wiki/Tri%C3%A1ngulo_de_Sierpinski) usando sólo caracteres ascii. Debes leer un número entero positivo que te indicará la profundidad del famoso fractal.\n",
    "\n",
    "**Ejemplo:**\n",
    "\n",
    "Entradas:\n",
    "     \n",
    "     3\n",
    "     2\n",
    "     1\n",
    "     \n",
    "Salidas:\n",
    "\n",
    "           /\\\n",
    "          /__\\\n",
    "         /\\  /\\\n",
    "        /__\\/__\\\n",
    "       /\\      /\\\n",
    "      /__\\    /__\\\n",
    "     /\\  /\\  /\\  /\\\n",
    "    /__\\/__\\/__\\/__\\\n",
    "\n",
    "       /\\\n",
    "      /__\\\n",
    "     /\\  /\\\n",
    "    /__\\/__\\\n",
    "\n",
    "     /\\\n",
    "    /__\\\n"
   ]
  },
  {
   "cell_type": "markdown",
   "metadata": {},
   "source": [
    "## 3. Fibonacci ##\n",
    "\n",
    "Dado un número entero positivo `n`, tu tarea es hacer una función para imprimir los `n` primeros términos de la [sucesión de Fibonacci](https://es.wikipedia.org/wiki/Sucesi%C3%B3n_de_Fibonacci). Implementa tanto la solución recursiva como iterativa.\n",
    "\n",
    "**Ejemplo:**\n",
    "\n",
    ">Entrada: 7\n",
    ">\n",
    ">Salida: 0 1 1 2 3 5 8"
   ]
  },
  {
   "cell_type": "code",
   "execution_count": 14,
   "metadata": {},
   "outputs": [],
   "source": [
    "\n"
   ]
  },
  {
   "cell_type": "code",
   "execution_count": 15,
   "metadata": {},
   "outputs": [
    {
     "name": "stdout",
     "output_type": "stream",
     "text": [
      "10\n",
      "0 1 1 2 3 5 8 13 21 34 "
     ]
    }
   ],
   "source": []
  },
  {
   "cell_type": "markdown",
   "metadata": {},
   "source": [
    "## 4. Hanoi 2 ##\n",
    "\n",
    "Nuevamente con las torres de Hanoi, ya teníamos una solución que devolvía el mínimo número de pasos, esta vez la función debe imprimir cuáles son estos pasos. La función recibe un entero positivo `n` que indica el número de discos, los discos se numeran de `1 a n`, del más pequeno al más grande. Los palos serán `A, B, C`. El formato se indica en el ejemplo.\n",
    "\n",
    "**Ejemplo:**\n",
    "\n",
    "Entrada:\n",
    "\n",
    "    2\n",
    "    \n",
    "Salida:\n",
    "\n",
    "    Disco 1 movido de A a B\n",
    "    Disco 2 movido de A a C\n",
    "    Disco 1 movido de B a C\n",
    "\n"
   ]
  }
 ],
 "metadata": {
  "kernelspec": {
   "display_name": "Python 3",
   "language": "python",
   "name": "python3"
  },
  "language_info": {
   "codemirror_mode": {
    "name": "ipython",
    "version": 3
   },
   "file_extension": ".py",
   "mimetype": "text/x-python",
   "name": "python",
   "nbconvert_exporter": "python",
   "pygments_lexer": "ipython3",
   "version": "3.7.1"
  }
 },
 "nbformat": 4,
 "nbformat_minor": 2
}
