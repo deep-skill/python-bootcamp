{
 "cells": [
  {
   "cell_type": "code",
   "execution_count": 44,
   "id": "adff620d",
   "metadata": {},
   "outputs": [],
   "source": [
    "# Void function = funcion vacia\n",
    "\n",
    "def f(x):\n",
    "    print('El cubo del numero es: ', x ** 3)"
   ]
  },
  {
   "cell_type": "code",
   "execution_count": 52,
   "id": "83477f7c",
   "metadata": {},
   "outputs": [],
   "source": [
    "def saludar(name, age, university):\n",
    "    print('Hola, mi nombre es ' + name + ', tengo ' + str(age) + ' años y estudio en ' + university)"
   ]
  },
  {
   "cell_type": "code",
   "execution_count": 53,
   "id": "d49ddc9b",
   "metadata": {},
   "outputs": [
    {
     "name": "stdout",
     "output_type": "stream",
     "text": [
      "Hola, mi nombre es Universidad Nacional de Ingenieria, tengo 21 años y estudio en Emanuel\n"
     ]
    }
   ],
   "source": [
    "saludar('Universidad Nacional de Ingenieria', 21, 'Emanuel')"
   ]
  },
  {
   "cell_type": "code",
   "execution_count": 54,
   "id": "19909e4e",
   "metadata": {},
   "outputs": [],
   "source": [
    "def cubo(x):\n",
    "    return x ** 3"
   ]
  },
  {
   "cell_type": "code",
   "execution_count": 56,
   "id": "c683ac84",
   "metadata": {},
   "outputs": [
    {
     "name": "stdout",
     "output_type": "stream",
     "text": [
      "1000\n"
     ]
    }
   ],
   "source": [
    "b = cubo(10)\n",
    "print(b)"
   ]
  },
  {
   "cell_type": "code",
   "execution_count": 57,
   "id": "c9744ce9",
   "metadata": {},
   "outputs": [
    {
     "name": "stdout",
     "output_type": "stream",
     "text": [
      "El cubo del numero es:  125\n",
      "None\n"
     ]
    }
   ],
   "source": [
    "c = f(5)\n",
    "print(c)"
   ]
  },
  {
   "cell_type": "code",
   "execution_count": 63,
   "id": "312ce10d",
   "metadata": {},
   "outputs": [],
   "source": [
    "# Crear una funcion, que dado como parametro la nota de un alumno\n",
    "# 0 <= nota <= 9 : desaprobado\n",
    "# 10 <= nota <= 15 : aprobado\n",
    "# 16 <= nota <= 20 : excelente\n",
    "\n",
    "def convertir_nota(nota):\n",
    "    if nota >= 0 and nota <= 9:\n",
    "        print('El alumno tiene una nota desaprobatoria')\n",
    "    elif nota >= 10 and nota <= 15:\n",
    "        print('El alumno tiene una nota aprobatoria')\n",
    "    elif nota >= 16 and nota <= 20:\n",
    "        print('El alumno tiene una nota excelente')\n",
    "    else:\n",
    "        print('El alumno tiene una nota no válida')"
   ]
  },
  {
   "cell_type": "code",
   "execution_count": null,
   "id": "9f0a6154",
   "metadata": {},
   "outputs": [],
   "source": []
  },
  {
   "cell_type": "code",
   "execution_count": 69,
   "id": "36d0d660",
   "metadata": {},
   "outputs": [
    {
     "name": "stdout",
     "output_type": "stream",
     "text": [
      "El alumno tiene una nota aprobatoria\n"
     ]
    }
   ],
   "source": [
    "convertir_nota(10)"
   ]
  },
  {
   "cell_type": "code",
   "execution_count": 68,
   "id": "678667e4",
   "metadata": {},
   "outputs": [
    {
     "name": "stdout",
     "output_type": "stream",
     "text": [
      "El alumno tiene una nota no válida\n"
     ]
    }
   ],
   "source": [
    "convertir_nota(-3)"
   ]
  },
  {
   "cell_type": "code",
   "execution_count": 70,
   "id": "c6541786",
   "metadata": {},
   "outputs": [
    {
     "name": "stdout",
     "output_type": "stream",
     "text": [
      "El alumno tiene una nota excelente\n"
     ]
    }
   ],
   "source": [
    "convertir_nota(20)"
   ]
  },
  {
   "cell_type": "code",
   "execution_count": 77,
   "id": "255f92bd",
   "metadata": {},
   "outputs": [],
   "source": [
    "def convertir_nota2(nota):\n",
    "    if nota >= 0 and nota <= 9:\n",
    "        return 'desaprobatoria'\n",
    "    elif nota >= 10 and nota <= 15:\n",
    "        return 'aprobatoria'\n",
    "    elif nota >= 16 and nota <= 20:\n",
    "        return 'excelente'\n",
    "    else:\n",
    "        return 'no valida'"
   ]
  },
  {
   "cell_type": "code",
   "execution_count": 75,
   "id": "00f37c21",
   "metadata": {},
   "outputs": [
    {
     "name": "stdout",
     "output_type": "stream",
     "text": [
      "El estado del alumno es aprobatoria\n"
     ]
    }
   ],
   "source": [
    "emanuel = 10\n",
    "\n",
    "estado_emanuel = convertir_nota2(emanuel)\n",
    "print('El estado del alumno es ' + estado_emanuel)"
   ]
  },
  {
   "cell_type": "code",
   "execution_count": 74,
   "id": "7c569476",
   "metadata": {},
   "outputs": [
    {
     "name": "stdout",
     "output_type": "stream",
     "text": [
      "excelente\n"
     ]
    }
   ],
   "source": [
    "maria = 19\n",
    "\n",
    "estado_maria = convertir_nota2(maria)\n",
    "print(estado_maria)"
   ]
  },
  {
   "cell_type": "code",
   "execution_count": 79,
   "id": "22ecb438",
   "metadata": {},
   "outputs": [
    {
     "name": "stdout",
     "output_type": "stream",
     "text": [
      "Estoy antes del return\n"
     ]
    }
   ],
   "source": [
    "def g():\n",
    "    print('Estoy antes del return')\n",
    "    return 2\n",
    "    print('Estoy despues del return')\n",
    "    \n",
    "a = g()"
   ]
  },
  {
   "cell_type": "code",
   "execution_count": 92,
   "id": "4ab02c25",
   "metadata": {},
   "outputs": [],
   "source": [
    "# papel, tijera, piedra\n",
    "\n",
    "# Retorna el ganador\n",
    "\n",
    "def yankenpo(nombre1, movimiento1, nombre2, movimiento2):\n",
    "    if movimiento1 == movimiento2:\n",
    "        return 'Empate'\n",
    "    \n",
    "    if movimiento1 == 'papel' and movimiento2 == 'tijera':\n",
    "        return nombre2\n",
    "    elif movimiento1 == 'papel' and movimiento2 == 'piedra':\n",
    "        return nombre1\n",
    "    elif movimiento1 == 'tijera' and movimiento2 == 'pieda':\n",
    "        return nombre2\n",
    "    elif movimiento1 == 'tijera' and movimiento2 == 'papel':\n",
    "        return nombre1\n",
    "    elif movimiento1 == 'piedra' and movimiento2 == 'tijera':\n",
    "        return nombre1\n",
    "    elif movimiento1 == 'piedra' and movimiento2 == 'papel':\n",
    "        return nombre2\n",
    "    else:\n",
    "        return 'Movimientos invalidos'\n"
   ]
  },
  {
   "cell_type": "code",
   "execution_count": 87,
   "id": "360e6d58",
   "metadata": {},
   "outputs": [
    {
     "name": "stdout",
     "output_type": "stream",
     "text": [
      "Digite el nombre del primer jugador: Emanuel\n",
      "Digite su movimiento: piedra\n",
      "Digite el nombre del segundo jugador: Enrique\n",
      "Digite su movimiento: papel\n",
      "El ganador es Enrique\n"
     ]
    }
   ],
   "source": [
    "nombre1 = input('Digite el nombre del primer jugador: ')\n",
    "movimiento1 = input('Digite su movimiento: ')\n",
    "\n",
    "nombre2 = input('Digite el nombre del segundo jugador: ')\n",
    "movimiento2 = input('Digite su movimiento: ')\n",
    "\n",
    "winner = yankenpo(nombre1, movimiento1, nombre2, movimiento2)\n",
    "print('El ganador es ' + winner)"
   ]
  },
  {
   "cell_type": "code",
   "execution_count": 93,
   "id": "68368c6f",
   "metadata": {},
   "outputs": [
    {
     "name": "stdout",
     "output_type": "stream",
     "text": [
      "Movimientos invalidos\n"
     ]
    }
   ],
   "source": [
    "winner = yankenpo('Emanuel', 'culebra', 'Enrique', 'papel')\n",
    "print(winner)"
   ]
  },
  {
   "cell_type": "code",
   "execution_count": null,
   "id": "f2ab572d",
   "metadata": {},
   "outputs": [],
   "source": [
    "# Crear una funcion con 3 parametros: numero1, numero2, operador\n",
    "# Si el operador = '+' => retornar la suma de los numeros\n",
    "# Si el operador = '-' => retorna la resta de los numeros\n",
    "#.                 '*' => retorna la multiplicacion\n",
    "#                  '/' => retorna la division\n",
    "\n",
    "calculadora(10, 5, '*') # = 50\n",
    "calculadora(100, 20, '+') # = 120\n",
    "calculadora(30, 6, '/') # = 5"
   ]
  },
  {
   "cell_type": "code",
   "execution_count": 94,
   "id": "6a451754",
   "metadata": {},
   "outputs": [],
   "source": [
    "# Funcion, tiene como parametros a N:\n",
    "# Me tiene retornar el n-esimo termino de la secuencia fibonacci\n",
    "\n",
    "def fibonacci(n):\n",
    "    # CASOS BASES\n",
    "    \n",
    "    if n == 1:\n",
    "        return 1\n",
    "    if n == 2:\n",
    "        return 1\n",
    "    \n",
    "    valor = fibonacci(n-1) + fibonacci(n-2)\n",
    "    return valor"
   ]
  },
  {
   "cell_type": "code",
   "execution_count": 100,
   "id": "afd05fd2",
   "metadata": {},
   "outputs": [
    {
     "data": {
      "text/plain": [
       "55"
      ]
     },
     "execution_count": 100,
     "metadata": {},
     "output_type": "execute_result"
    }
   ],
   "source": [
    "fibonacci(10)"
   ]
  },
  {
   "cell_type": "code",
   "execution_count": 108,
   "id": "d4606741",
   "metadata": {},
   "outputs": [],
   "source": [
    "def factorial(n):\n",
    "    # CASOS BASES\n",
    "    # CASOS TERMINALES\n",
    "    \n",
    "    if n == 0:\n",
    "        return 1\n",
    "    \n",
    "    return n * factorial(n-1)"
   ]
  },
  {
   "cell_type": "code",
   "execution_count": 109,
   "id": "84da3217",
   "metadata": {},
   "outputs": [
    {
     "data": {
      "text/plain": [
       "3628800"
      ]
     },
     "execution_count": 109,
     "metadata": {},
     "output_type": "execute_result"
    }
   ],
   "source": [
    "factorial(10)"
   ]
  },
  {
   "cell_type": "code",
   "execution_count": null,
   "id": "806361bc",
   "metadata": {},
   "outputs": [],
   "source": [
    "# Hanoi(N discos, posteA, posteC) = Hanoi(N-1 discos, posteA, posteB) + MOVER(disco_grande, posteA, posteC) + Hanoi(N-1 discos, posteB, posteC)"
   ]
  },
  {
   "cell_type": "code",
   "execution_count": 110,
   "id": "b9c8c221",
   "metadata": {},
   "outputs": [],
   "source": [
    "def hanoi(N, poste_origen, poste_objetivo, poste_sobrante):\n",
    "    if N == 0:\n",
    "        return\n",
    "    \n",
    "    hanoi(N-1, poste_origen, poste_sobrante, poste_objetivo)\n",
    "    print('MOVER ' + poste_origen +' -> ' + poste_objetivo)\n",
    "    hanoi(N-1, poste_sobrante, poste_objetivo, poste_origen)\n",
    "    \n",
    "    "
   ]
  },
  {
   "cell_type": "code",
   "execution_count": 111,
   "id": "106be979",
   "metadata": {},
   "outputs": [
    {
     "name": "stdout",
     "output_type": "stream",
     "text": [
      "MOVER A -> B\n",
      "MOVER A -> C\n",
      "MOVER B -> C\n",
      "MOVER A -> B\n",
      "MOVER C -> A\n",
      "MOVER C -> B\n",
      "MOVER A -> B\n",
      "MOVER A -> C\n",
      "MOVER B -> C\n",
      "MOVER B -> A\n",
      "MOVER C -> A\n",
      "MOVER B -> C\n",
      "MOVER A -> B\n",
      "MOVER A -> C\n",
      "MOVER B -> C\n"
     ]
    }
   ],
   "source": [
    "hanoi(4, 'A', 'C', 'B')"
   ]
  },
  {
   "cell_type": "code",
   "execution_count": 113,
   "id": "01889214",
   "metadata": {},
   "outputs": [
    {
     "name": "stdout",
     "output_type": "stream",
     "text": [
      "125\n"
     ]
    }
   ],
   "source": [
    "number = pow(5, 3)\n",
    "print(number)"
   ]
  },
  {
   "cell_type": "code",
   "execution_count": 119,
   "id": "adad93b8",
   "metadata": {},
   "outputs": [
    {
     "name": "stdout",
     "output_type": "stream",
     "text": [
      "2.718281828459045\n",
      "0.977684487651043\n"
     ]
    }
   ],
   "source": [
    "# MODULOS, LIBRERIAS => Conjunto de funciones y variables\n",
    " \n",
    "# LIBRERIA  math => Contiene funciones matematicas y variables\n",
    "\n",
    "import math\n",
    "\n",
    "number = math.e\n",
    "print(number)\n",
    "#math.pi\n",
    "\n",
    "print(math.sin(number / 2))"
   ]
  },
  {
   "cell_type": "code",
   "execution_count": 180,
   "id": "513546d2",
   "metadata": {},
   "outputs": [
    {
     "name": "stdout",
     "output_type": "stream",
     "text": [
      "10\n"
     ]
    }
   ],
   "source": [
    "import random\n",
    "\n",
    "number = random.randint(10, 20)\n",
    "print(number)"
   ]
  },
  {
   "cell_type": "code",
   "execution_count": 197,
   "id": "53638fb3",
   "metadata": {},
   "outputs": [
    {
     "name": "stdout",
     "output_type": "stream",
     "text": [
      "Digite el nombre del jugador: papel\n",
      "Digite su movimiento: papel\n",
      "Terminator ha jugado papel\n",
      "El resultado: Empate\n"
     ]
    }
   ],
   "source": [
    "lista = ['piedra', 'papel', 'tijera']\n",
    "\n",
    "indice_maquina = random.randint(0, 2)\n",
    "nombre_maquina = 'Terminator'\n",
    "movimiento_maquina = lista[indice_maquina]\n",
    "\n",
    "nombre_jugador = input('Digite el nombre del jugador: ')\n",
    "movimiento_jugador = input('Digite su movimiento: ')\n",
    "\n",
    "winner = yankenpo(nombre_jugador, movimiento_jugador, nombre_maquina, movimiento_maquina)\n",
    "\n",
    "print(nombre_maquina + ' ha jugado ' + movimiento_maquina)\n",
    "print('El resultado: ' + winner)\n"
   ]
  }
 ],
 "metadata": {
  "kernelspec": {
   "display_name": "Python 3 (ipykernel)",
   "language": "python",
   "name": "python3"
  },
  "language_info": {
   "codemirror_mode": {
    "name": "ipython",
    "version": 3
   },
   "file_extension": ".py",
   "mimetype": "text/x-python",
   "name": "python",
   "nbconvert_exporter": "python",
   "pygments_lexer": "ipython3",
   "version": "3.11.7"
  }
 },
 "nbformat": 4,
 "nbformat_minor": 5
}
