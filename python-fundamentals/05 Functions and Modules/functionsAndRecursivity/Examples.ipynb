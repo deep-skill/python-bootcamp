{
 "cells": [
  {
   "cell_type": "markdown",
   "metadata": {},
   "source": [
    "# Ejemplos de clase #"
   ]
  },
  {
   "cell_type": "markdown",
   "metadata": {},
   "source": [
    "## 1. 3n + 1 ##\n",
    "\n",
    "Sea la siguiente operación, aplicable a cualquier número entero positivo:\n",
    "\n",
    ">Si el número es 1, se termina.\n",
    ">\n",
    ">Si el número es par, se divide entre 2.\n",
    ">\n",
    ">Si el número es impar, se multiplica por 3 y se suma 1.\n",
    "\n",
    "Escribe una función que realice las operaciones arriba descritas y retorne el número de pasos hasta llegar a 1.  \n",
    "\n",
    "[Más sobre la conjetura 3n + 1](https://es.wikipedia.org/wiki/Conjetura_de_Collatz)\n",
    "\n",
    "### Solución ###"
   ]
  },
  {
   "cell_type": "code",
   "execution_count": 1,
   "metadata": {},
   "outputs": [],
   "source": [
    "def collatz(n):\n",
    "    step = 0\n",
    "    while n != 1:\n",
    "        if n % 2 == 0:\n",
    "            n /= 2\n",
    "        else:\n",
    "            n = n * 3 + 1\n",
    "        step += 1\n",
    "    return step"
   ]
  },
  {
   "cell_type": "code",
   "execution_count": 4,
   "metadata": {},
   "outputs": [
    {
     "name": "stdin",
     "output_type": "stream",
     "text": [
      " 15\n"
     ]
    },
    {
     "data": {
      "text/plain": [
       "17"
      ]
     },
     "execution_count": 4,
     "metadata": {},
     "output_type": "execute_result"
    }
   ],
   "source": [
    "m = int(input())\n",
    "collatz(m)"
   ]
  },
  {
   "cell_type": "markdown",
   "metadata": {},
   "source": [
    "## 2. Mayor de 3 ##\n",
    "\n",
    "La tarea es desarrollar un programa que lea tres números y determine el mayor de estos usando una función que llamarás `mayor3`.\n",
    "\n",
    "**Ejemplo:**\n",
    "\n",
    ">Entrada: 5, 9, 7\n",
    ">\n",
    ">Salida: 9\n",
    "\n",
    "### Solución ###"
   ]
  },
  {
   "cell_type": "code",
   "execution_count": 5,
   "metadata": {},
   "outputs": [],
   "source": [
    "def may3(a, b, c):\n",
    "    return a"
   ]
  },
  {
   "cell_type": "code",
   "execution_count": 6,
   "metadata": {},
   "outputs": [
    {
     "name": "stdin",
     "output_type": "stream",
     "text": [
      " 5 9 7\n"
     ]
    },
    {
     "data": {
      "text/plain": [
       "5"
      ]
     },
     "execution_count": 6,
     "metadata": {},
     "output_type": "execute_result"
    }
   ],
   "source": [
    "a, b, c = map(int, input().split())\n",
    "may3(a, b, c)"
   ]
  },
  {
   "cell_type": "markdown",
   "metadata": {},
   "source": [
    "Apoyándonos en operadores lógicos podemos encontrar una solución corta."
   ]
  },
  {
   "cell_type": "code",
   "execution_count": 7,
   "metadata": {},
   "outputs": [],
   "source": [
    "def mayor3(a, b, c):\n",
    "    if a > b and a > c:\n",
    "        return a\n",
    "    elif b > c:\n",
    "        return b\n",
    "    return c"
   ]
  },
  {
   "cell_type": "code",
   "execution_count": null,
   "metadata": {},
   "outputs": [],
   "source": [
    "def mayor3(a, b, c):\n",
    "    mayor = 0\n",
    "    if a > b and a > c:\n",
    "        mayor = a\n",
    "    elif b > c:\n",
    "        mayor = b\n",
    "    mayor = c\n",
    "    return mayor"
   ]
  },
  {
   "cell_type": "code",
   "execution_count": 10,
   "metadata": {},
   "outputs": [
    {
     "name": "stdin",
     "output_type": "stream",
     "text": [
      " 20 56 79\n"
     ]
    },
    {
     "data": {
      "text/plain": [
       "79"
      ]
     },
     "execution_count": 10,
     "metadata": {},
     "output_type": "execute_result"
    }
   ],
   "source": [
    "x, y, z = map(int, input().split())\n",
    "mayor3(x, y, z)"
   ]
  },
  {
   "cell_type": "markdown",
   "metadata": {},
   "source": [
    "Aprovechando la modularización que nos dan las funciones podemos desarrollar una solución más legible."
   ]
  },
  {
   "cell_type": "code",
   "execution_count": 11,
   "metadata": {},
   "outputs": [],
   "source": [
    "def mayor2(a, b):\n",
    "    if a > b:\n",
    "        return a\n",
    "    return b"
   ]
  },
  {
   "cell_type": "code",
   "execution_count": 12,
   "metadata": {},
   "outputs": [],
   "source": [
    "def mayor3(a, b, c):\n",
    "    return mayor2(mayor2(a, b), c)"
   ]
  },
  {
   "cell_type": "code",
   "execution_count": 13,
   "metadata": {},
   "outputs": [
    {
     "data": {
      "text/plain": [
       "79"
      ]
     },
     "execution_count": 13,
     "metadata": {},
     "output_type": "execute_result"
    }
   ],
   "source": [
    "mayor3(x, y, z)"
   ]
  },
  {
   "cell_type": "markdown",
   "metadata": {},
   "source": [
    "## 3. Factorial ##\n",
    "\n",
    "Tienes que implementar un función que reciba un número entero no negativo como parámetro y devuelva el factorial de este.\n",
    "\n",
    "**Ejemplo:**\n",
    "\n",
    ">Entrada: 5\n",
    ">\n",
    ">Salida: 120\n",
    "\n",
    "[Más sobre Factorial](https://es.wikipedia.org/wiki/Factorial)\n",
    "\n",
    "### Solución ###"
   ]
  },
  {
   "cell_type": "markdown",
   "metadata": {},
   "source": [
    "Ya que sabemos que `n! = n * (n - 1) ... * 2 * 1`, podemos usar un bucle para acumular el producto total. Esta sería una solución iterativa."
   ]
  },
  {
   "cell_type": "code",
   "execution_count": 14,
   "metadata": {},
   "outputs": [
    {
     "name": "stdin",
     "output_type": "stream",
     "text": [
      " 5\n"
     ]
    },
    {
     "data": {
      "text/plain": [
       "120"
      ]
     },
     "execution_count": 14,
     "metadata": {},
     "output_type": "execute_result"
    }
   ],
   "source": [
    "n = int(input())\n",
    "\n",
    "def factorial(n):\n",
    "    if n == 0 or n == 1:\n",
    "        return 1\n",
    "    f = 1\n",
    "    for i in range(1, n + 1):\n",
    "        f *= i\n",
    "    return f\n",
    "\n",
    "factorial(n)"
   ]
  },
  {
   "cell_type": "markdown",
   "metadata": {},
   "source": [
    "Como también sabemos que `n! = n * (n - 1)!`, podemos plantear una solución recursiva. "
   ]
  },
  {
   "cell_type": "code",
   "execution_count": 15,
   "metadata": {},
   "outputs": [
    {
     "data": {
      "text/plain": [
       "120"
      ]
     },
     "execution_count": 15,
     "metadata": {},
     "output_type": "execute_result"
    }
   ],
   "source": [
    "def factorial(n):\n",
    "    if n == 1:\n",
    "        return 1\n",
    "    return n * factorial(n - 1)\n",
    "\n",
    "factorial(n)"
   ]
  },
  {
   "cell_type": "markdown",
   "metadata": {},
   "source": [
    "## 4. Hanoi ##\n",
    "\n",
    "Implementa una función que reciba un número entero positivo y devuelva el mínimo número de pasos para resolver el conocido juego torres de Hanoi.\n",
    "\n",
    "**Ejemplo:**\n",
    "\n",
    ">Entrada: 3\n",
    ">\n",
    ">Salida: 7\n",
    "\n",
    "[Más sobre torres de Hanoi](https://es.wikipedia.org/wiki/Torres_de_Han%C3%B3i)\n",
    "\n",
    "[Jugar torres de Hanoi](https://www.mathsisfun.com/games/towerofhanoi.html)\n",
    "\n",
    "### Solución ###"
   ]
  },
  {
   "cell_type": "markdown",
   "metadata": {},
   "source": [
    "Si definimos que el número de pasos para mover una torre de `n` discos es de `hanoi(n)`, entonces podemos darnos cuenta que para mover esta torre de `n` discos de un lado a otro primero debemos mover la torre de `n - 1` discos, luego mover el disco más grande, y por último nuevamente la torre de `n - 1` encima del disco grande. Esto nos da un total de `2 * hanoi(n - 1) + 1` pasos. Lo que define una función recursiva."
   ]
  },
  {
   "cell_type": "code",
   "execution_count": 18,
   "metadata": {},
   "outputs": [
    {
     "name": "stdin",
     "output_type": "stream",
     "text": [
      " 5\n"
     ]
    },
    {
     "data": {
      "text/plain": [
       "31"
      ]
     },
     "execution_count": 18,
     "metadata": {},
     "output_type": "execute_result"
    }
   ],
   "source": [
    "n = int(input())\n",
    "\n",
    "def hanoi(n):\n",
    "    if n == 1:\n",
    "        return 1\n",
    "    return 2 * hanoi(n - 1) + 1\n",
    "\n",
    "hanoi(n)"
   ]
  },
  {
   "cell_type": "markdown",
   "metadata": {},
   "source": [
    "Con los primeros resultados obtenidos y usando inducción matemática llegamos a encontrar que el número ls solución de las torres de Hanoi sigue la función `2 ^ n - 1`. Esta es otra solución y más eficiente inclusive."
   ]
  },
  {
   "cell_type": "code",
   "execution_count": 19,
   "metadata": {},
   "outputs": [
    {
     "data": {
      "text/plain": [
       "31"
      ]
     },
     "execution_count": 19,
     "metadata": {},
     "output_type": "execute_result"
    }
   ],
   "source": [
    "def hanoi(n):\n",
    "    return 2 ** n - 1\n",
    "\n",
    "hanoi(n)"
   ]
  }
 ],
 "metadata": {
  "kernelspec": {
   "display_name": "Python 3 (ipykernel)",
   "language": "python",
   "name": "python3"
  },
  "language_info": {
   "codemirror_mode": {
    "name": "ipython",
    "version": 3
   },
   "file_extension": ".py",
   "mimetype": "text/x-python",
   "name": "python",
   "nbconvert_exporter": "python",
   "pygments_lexer": "ipython3",
   "version": "3.11.7"
  }
 },
 "nbformat": 4,
 "nbformat_minor": 4
}
