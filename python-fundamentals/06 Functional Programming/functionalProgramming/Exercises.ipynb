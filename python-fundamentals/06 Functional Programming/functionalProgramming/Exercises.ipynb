{
 "cells": [
  {
   "cell_type": "markdown",
   "metadata": {},
   "source": [
    "# Ejercicios #"
   ]
  },
  {
   "cell_type": "markdown",
   "metadata": {},
   "source": [
    "\n",
    "## 1. Diagonal secundaria ##\n",
    "\n",
    "La [traza de una matriz](https://es.wikipedia.org/wiki/Traza_(%C3%A1lgebra_lineal)) es la suma de todos los elementos de la diagonal principal de una matriz. Nosotros queremos hallar la **traza secundaria** que es la suma de elementos de la diagonal secundaria.\n",
    "\n",
    "![Diagonal secundaria](images/diagonal_secundaria.png \"Diagonal secundaria\")\n",
    "\n",
    "Dadas dos listas de igual longitud `A` y `B`, debes formar la matriz a partir de la suma de todos los elementos de `A` con todos los elementos de `B` uno a uno. Es decir si `A = [a, b]` y `B = [c, d]`, entonces la matriz será: `[[a + c, a + d], [b + c, b + d]]`.\n"
   ]
  },
  {
   "cell_type": "markdown",
   "metadata": {},
   "source": [
    "## 2. Super Input() ##\n",
    "\n",
    "Vamos a formar una matriz de `n x m`, o sea `n` filas y `m`columnas, y para esto usaremos la función `input`. En la primera línea leeremos los enteros `n` y `m`, y en las sucesivas `n` líneas leeremos `m` valores enteros.\n",
    "\n",
    "**Ejemplo:**\n",
    "\n",
    "Entrada:\n",
    "    \n",
    "    2 3\n",
    "    1 1 1\n",
    "    2 2 2\n",
    "\n",
    "Salida:\n",
    "\n",
    "    [[1, 1, 1], [2, 2, 2]]\n"
   ]
  },
  {
   "cell_type": "markdown",
   "metadata": {},
   "source": [
    "## 3. Emails ##\n",
    "\n",
    "Lees un entero `n` seguido por `n` emails. Tu tareas es imprimir una lista sólamente conteniendo emails válidos en order lexicográfico.\n",
    "\n",
    "Un email válido sigue las siguientes reglas:\n",
    "\n",
    ">1. Este debe tener el siguiente formato: username@websitename.extension.\n",
    ">\n",
    ">2. El username puede sólo contener letras, dígitos, guiones y subguiones.\n",
    ">\n",
    ">3. El website name puede sólo tener letras y dígitos.\n",
    ">\n",
    ">4. La máxima longitud de la extensión es 3.\n",
    "\n",
    "**Ejemplo:**\n",
    "\n",
    "Entrada:\n",
    "\n",
    "    3 user@area51.com user_2@area51.es user3@area_51.com\n",
    "    \n",
    "Salida:\n",
    "\n",
    "    ['user@area51.com', 'user_2@area51.es']\n"
   ]
  },
  {
   "cell_type": "markdown",
   "metadata": {},
   "source": [
    "## 4. Fibonacci al cubo ##\n",
    "\n",
    "Tu tarea esta vez es imprimir una lista de `n` (leído con `input`) tuplas, que contengan al término de fibonacci correspondiente y al mismo elevado al cubo.\n",
    "\n",
    "**Ejemplo:**\n",
    "\n",
    "Entrada:\n",
    "\n",
    "    5\n",
    "    \n",
    "Salida:\n",
    "\n",
    "    [(0, 0), (1, 1), (1, 1), (2, 8), (3, 27)]"
   ]
  },
  {
   "cell_type": "code",
   "execution_count": 3,
   "metadata": {},
   "outputs": [
    {
     "data": {
      "text/plain": [
       "[(0, 0),\n",
       " (1, 1),\n",
       " (1, 1),\n",
       " (2, 8),\n",
       " (3, 27),\n",
       " (5, 125),\n",
       " (8, 512),\n",
       " (13, 2197),\n",
       " (21, 9261),\n",
       " (34, 39304)]"
      ]
     },
     "execution_count": 3,
     "metadata": {},
     "output_type": "execute_result"
    }
   ],
   "source": [
    "def fibo(n):\n",
    "    if n <= 1:\n",
    "        return n\n",
    "    return fibo(n - 1) + fibo(n - 2)\n",
    "\n",
    "l = [fibo(i) for i in range(10)]\n",
    "list(zip(l, map(lambda x: x**3, l)))"
   ]
  }
 ],
 "metadata": {
  "kernelspec": {
   "display_name": "Python 3",
   "language": "python",
   "name": "python3"
  },
  "language_info": {
   "codemirror_mode": {
    "name": "ipython",
    "version": 3
   },
   "file_extension": ".py",
   "mimetype": "text/x-python",
   "name": "python",
   "nbconvert_exporter": "python",
   "pygments_lexer": "ipython3",
   "version": "3.7.1"
  }
 },
 "nbformat": 4,
 "nbformat_minor": 2
}
