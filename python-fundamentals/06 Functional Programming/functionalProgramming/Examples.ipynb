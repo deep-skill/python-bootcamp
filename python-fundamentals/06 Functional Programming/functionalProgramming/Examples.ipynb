{
 "cells": [
  {
   "cell_type": "markdown",
   "metadata": {},
   "source": [
    "# Ejemplos de Clase #"
   ]
  },
  {
   "cell_type": "markdown",
   "metadata": {},
   "source": [
    "## 1. Piedra, papel y tijera ##\n",
    "\n",
    "Todos conocemos el típico juego, nos piden que desarrollemos un programa que liste todas las posibles combinaciones si juegan dos amigos.\n",
    "\n",
    "### Solución ###"
   ]
  },
  {
   "cell_type": "markdown",
   "metadata": {},
   "source": [
    "Bastaría con usar dos bucles anidados para generar las combinaciones."
   ]
  },
  {
   "cell_type": "code",
   "execution_count": 1,
   "metadata": {},
   "outputs": [
    {
     "name": "stdout",
     "output_type": "stream",
     "text": [
      "piedra - piedra\n",
      "piedra - papel\n",
      "piedra - tijera\n",
      "papel - piedra\n",
      "papel - papel\n",
      "papel - tijera\n",
      "tijera - piedra\n",
      "tijera - papel\n",
      "tijera - tijera\n"
     ]
    }
   ],
   "source": [
    "values = ['piedra', 'papel', 'tijera']\n",
    "\n",
    "for i in values:\n",
    "    for j in values:\n",
    "        print(i, '-', j)"
   ]
  },
  {
   "cell_type": "code",
   "execution_count": 2,
   "metadata": {},
   "outputs": [
    {
     "data": {
      "text/plain": [
       "[('piedra', 'piedra'),\n",
       " ('piedra', 'papel'),\n",
       " ('piedra', 'tijera'),\n",
       " ('papel', 'piedra'),\n",
       " ('papel', 'papel'),\n",
       " ('papel', 'tijera'),\n",
       " ('tijera', 'piedra'),\n",
       " ('tijera', 'papel'),\n",
       " ('tijera', 'tijera')]"
      ]
     },
     "execution_count": 2,
     "metadata": {},
     "output_type": "execute_result"
    }
   ],
   "source": [
    "values = ['piedra', 'papel', 'tijera']\n",
    "\n",
    "combinations = []\n",
    "\n",
    "for u in values:\n",
    "    for v in values:\n",
    "        combinations.append((u, v))\n",
    "\n",
    "combinations"
   ]
  },
  {
   "cell_type": "markdown",
   "metadata": {},
   "source": [
    "Mucho más elegante resulta usar listas por comprensión."
   ]
  },
  {
   "cell_type": "code",
   "execution_count": 3,
   "metadata": {},
   "outputs": [
    {
     "name": "stdout",
     "output_type": "stream",
     "text": [
      "[0, 1, 2, 3, 4, 5, 6, 7, 8, 9]\n",
      "[0, 2, 4, 6, 8]\n"
     ]
    },
    {
     "data": {
      "text/plain": [
       "[('piedra', 'piedra'),\n",
       " ('piedra', 'papel'),\n",
       " ('piedra', 'tijera'),\n",
       " ('papel', 'piedra'),\n",
       " ('papel', 'papel'),\n",
       " ('papel', 'tijera'),\n",
       " ('tijera', 'piedra'),\n",
       " ('tijera', 'papel'),\n",
       " ('tijera', 'tijera')]"
      ]
     },
     "execution_count": 3,
     "metadata": {},
     "output_type": "execute_result"
    }
   ],
   "source": [
    "print([x for x in range(10)])\n",
    "print([x for x in range(10) if x % 2 == 0])\n",
    "[(u, v) for u in values for v in values]"
   ]
  },
  {
   "cell_type": "markdown",
   "metadata": {},
   "source": [
    "## 2. Input() ##\n",
    "\n",
    "Hemos usado la función `input` varias veces hasta ahora, debes volver a usarla para leer el ingreso de una cantidad no fija números enteros separados por un espacio. Imprime una lista con estos números.\n",
    "\n",
    "**Ejemplo:**\n",
    "\n",
    "> Entrada: 1 2 4 6 3 23 43\n",
    ">\n",
    "> Salida: [1, 2, 4, 6, 3, 23, 43]\n",
    "\n",
    "### Solución ###"
   ]
  },
  {
   "cell_type": "markdown",
   "metadata": {},
   "source": [
    "Usamos `input` para leer la cadena y con split armamos una lista de cadenas, luego con un bucle y la función `int` armamos la lista de enteros."
   ]
  },
  {
   "cell_type": "code",
   "execution_count": 4,
   "metadata": {},
   "outputs": [
    {
     "name": "stdin",
     "output_type": "stream",
     "text": [
      " 4 5 6 890 23 546 21\n"
     ]
    },
    {
     "data": {
      "text/plain": [
       "[4, 5, 6, 890, 23, 546, 21]"
      ]
     },
     "execution_count": 4,
     "metadata": {},
     "output_type": "execute_result"
    }
   ],
   "source": [
    "string = input()\n",
    "str_array = string.split()\n",
    "int_array = []\n",
    "for s in str_array:\n",
    "    int_array.append(int(s))\n",
    "int_array"
   ]
  },
  {
   "cell_type": "markdown",
   "metadata": {},
   "source": [
    "Pero usando `map` es mucho más simple."
   ]
  },
  {
   "cell_type": "code",
   "execution_count": 5,
   "metadata": {},
   "outputs": [
    {
     "name": "stdin",
     "output_type": "stream",
     "text": [
      " 4 5 6 890 23 546 21\n"
     ]
    },
    {
     "data": {
      "text/plain": [
       "[4, 5, 6, 890, 23, 546, 21]"
      ]
     },
     "execution_count": 5,
     "metadata": {},
     "output_type": "execute_result"
    }
   ],
   "source": [
    "list(map(int, input().split()))"
   ]
  },
  {
   "cell_type": "code",
   "execution_count": 10,
   "metadata": {},
   "outputs": [
    {
     "data": {
      "text/plain": [
       "62230152778611417071440640537801242405902521687211671331011166147896988340353834411839448231257136169569665895551224821247160434722900390625"
      ]
     },
     "execution_count": 10,
     "metadata": {},
     "output_type": "execute_result"
    }
   ],
   "source": [
    "5 ** 200"
   ]
  },
  {
   "cell_type": "markdown",
   "metadata": {},
   "source": [
    "## 3. Celulares ##\n",
    "\n",
    "Lees una cantidad no fija de números de celulares y debes regresar una lista que contenga sólo aquellos números que sean válidos. Un número de celular válido es aquel que tiene 9 dígitos y su primer dígito es 7, 8 o 9.\n",
    "\n",
    "**Ejemplo:**\n",
    "\n",
    ">Entrada: 999999999 989898980 799999 99999999999 787890980\n",
    ">\n",
    ">Salida: [999999999, 989898980, 787890980]\n",
    "\n",
    "### Solución ###"
   ]
  },
  {
   "cell_type": "markdown",
   "metadata": {},
   "source": [
    "Leemos los números y filtramos aquellos que cumplan con la condición pedida, para esto nos apoyamos en la función `filter`."
   ]
  },
  {
   "cell_type": "code",
   "execution_count": 6,
   "metadata": {},
   "outputs": [
    {
     "name": "stdin",
     "output_type": "stream",
     "text": [
      " 999999999 989898980 799999 99999999999 787890980\n"
     ]
    },
    {
     "data": {
      "text/plain": [
       "['999999999', '989898980', '787890980']"
      ]
     },
     "execution_count": 6,
     "metadata": {},
     "output_type": "execute_result"
    }
   ],
   "source": [
    "array = input().split()\n",
    "list(filter(lambda n: 7 <= int(n[0]) <= 9 and len(n) == 9, array))"
   ]
  },
  {
   "cell_type": "markdown",
   "metadata": {},
   "source": [
    "## 4. Coordenadas ##\n",
    "\n",
    "Por error en una medición de coordenadas se registraron por separado las longitudes `X` y las latitudes `Y`, tu tarea es leer ambos registros e imprimir una lista de coordenadas. Además debes imprimir la suma de todas las coordenadas.\n",
    "\n",
    "**Ejemplo:**\n",
    "\n",
    "Entrada:\n",
    "\n",
    "    1 2 3\n",
    "    1 2 3\n",
    "    \n",
    "Salida:\n",
    "\n",
    "    [(1, 1), (2, 2), (3, 3)]\n",
    "    (6, 6)\n",
    "\n",
    "### Solución ###"
   ]
  },
  {
   "cell_type": "markdown",
   "metadata": {},
   "source": [
    "Apoyándonos en la función `zip` podemos rápidamente unir las latitudes y longitudes, posteriormente usamos `reduce` para sumar todas las coordenadas."
   ]
  },
  {
   "cell_type": "code",
   "execution_count": 7,
   "metadata": {},
   "outputs": [
    {
     "name": "stdin",
     "output_type": "stream",
     "text": [
      " 1 2 3 4 5 6\n",
      " 1 2 3 4 5 6\n"
     ]
    },
    {
     "name": "stdout",
     "output_type": "stream",
     "text": [
      "[(1, 1), (2, 2), (3, 3), (4, 4), (5, 5), (6, 6)]\n"
     ]
    },
    {
     "data": {
      "text/plain": [
       "(21, 21)"
      ]
     },
     "execution_count": 7,
     "metadata": {},
     "output_type": "execute_result"
    }
   ],
   "source": [
    "from functools import reduce\n",
    "\n",
    "X = map(int, input().split())\n",
    "Y = map(int, input().split())\n",
    "\n",
    "coords = [p for p in zip(X, Y)]\n",
    "print(coords)\n",
    "reduce(lambda p1, p2: (p1[0] + p2[0], p1[1] + p2[1]), coords)"
   ]
  }
 ],
 "metadata": {
  "kernelspec": {
   "display_name": "Python 3 (ipykernel)",
   "language": "python",
   "name": "python3"
  },
  "language_info": {
   "codemirror_mode": {
    "name": "ipython",
    "version": 3
   },
   "file_extension": ".py",
   "mimetype": "text/x-python",
   "name": "python",
   "nbconvert_exporter": "python",
   "pygments_lexer": "ipython3",
   "version": "3.11.7"
  }
 },
 "nbformat": 4,
 "nbformat_minor": 4
}
