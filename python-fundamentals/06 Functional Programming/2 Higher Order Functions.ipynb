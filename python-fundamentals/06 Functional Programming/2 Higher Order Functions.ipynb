{
 "cells": [
  {
   "cell_type": "markdown",
   "metadata": {},
   "source": [
    "## 2. Funciones de orden superior principales de Python\n",
    "\n",
    "Una **función de orden superior** es aquella que toma a alguna función como uno de sus parámetros y/o que retorne una función. Esto significa que las funciones son tratadas como cualquier otro tipo de objeto, y pueden ser manipuladas de la misma manera que otros tipos de datos."
   ]
  },
  {
   "cell_type": "code",
   "execution_count": 1,
   "metadata": {},
   "outputs": [
    {
     "data": {
      "text/plain": [
       "12.566370614359172"
      ]
     },
     "execution_count": 1,
     "metadata": {},
     "output_type": "execute_result"
    }
   ],
   "source": [
    "from math import pi\n",
    "\n",
    "area_circle = lambda radius : (radius ** 2) * pi\n",
    "area_circle(2)"
   ]
  },
  {
   "cell_type": "code",
   "execution_count": 5,
   "metadata": {},
   "outputs": [
    {
     "data": {
      "text/plain": [
       "3.8971143170299736"
      ]
     },
     "execution_count": 5,
     "metadata": {},
     "output_type": "execute_result"
    }
   ],
   "source": [
    "area_equilateral_triangle = lambda side : (3 ** 0.5) / 4 * (side ** 2)\n",
    "area_equilateral_triangle(3)"
   ]
  },
  {
   "cell_type": "code",
   "execution_count": 6,
   "metadata": {},
   "outputs": [],
   "source": [
    "def get_area(value, area_function):\n",
    "    return area_function(value)"
   ]
  },
  {
   "cell_type": "code",
   "execution_count": 4,
   "metadata": {},
   "outputs": [
    {
     "data": {
      "text/plain": [
       "50.26548245743669"
      ]
     },
     "execution_count": 4,
     "metadata": {},
     "output_type": "execute_result"
    }
   ],
   "source": [
    "get_area(4, area_circle)"
   ]
  },
  {
   "cell_type": "code",
   "execution_count": 8,
   "metadata": {},
   "outputs": [
    {
     "data": {
      "text/plain": [
       "50.26548245743669"
      ]
     },
     "execution_count": 8,
     "metadata": {},
     "output_type": "execute_result"
    }
   ],
   "source": [
    "get_area(4, lambda radius : radius ** 2 * pi)"
   ]
  },
  {
   "cell_type": "code",
   "execution_count": 9,
   "metadata": {},
   "outputs": [
    {
     "data": {
      "text/plain": [
       "6.928203230275509"
      ]
     },
     "execution_count": 9,
     "metadata": {},
     "output_type": "execute_result"
    }
   ],
   "source": [
    "get_area(4, area_equilateral_triangle)"
   ]
  },
  {
   "cell_type": "code",
   "execution_count": 10,
   "metadata": {},
   "outputs": [],
   "source": [
    "def get_area_function(shape):\n",
    "    if shape == 'circle':\n",
    "        return area_circle\n",
    "    if shape == 'triangle':\n",
    "        return area_equilateral_triangle"
   ]
  },
  {
   "cell_type": "code",
   "execution_count": 11,
   "metadata": {},
   "outputs": [
    {
     "data": {
      "text/plain": [
       "50.26548245743669"
      ]
     },
     "execution_count": 11,
     "metadata": {},
     "output_type": "execute_result"
    }
   ],
   "source": [
    "function_area = get_area_function('circle')\n",
    "function_area(4)"
   ]
  },
  {
   "cell_type": "code",
   "execution_count": 12,
   "metadata": {},
   "outputs": [
    {
     "data": {
      "text/plain": [
       "6.928203230275509"
      ]
     },
     "execution_count": 12,
     "metadata": {},
     "output_type": "execute_result"
    }
   ],
   "source": [
    "function_area = get_area_function('triangle')\n",
    "function_area(4)"
   ]
  },
  {
   "cell_type": "markdown",
   "metadata": {},
   "source": [
    "### Filter\n",
    "\n",
    "Es una función de orden superior que filtra los elementos de un iterable según una función de prueba. Retorna los elementos filtrados.\n",
    "\n",
    "```python\n",
    "filter(function, iterable)\n",
    "```"
   ]
  },
  {
   "cell_type": "code",
   "execution_count": 13,
   "metadata": {},
   "outputs": [
    {
     "name": "stdout",
     "output_type": "stream",
     "text": [
      "<class 'filter'>\n",
      "[2, 20, 22, 64]\n"
     ]
    }
   ],
   "source": [
    "# Filtrar los números pares de una lista\n",
    "\n",
    "number_list = [2, 5, 7, 20, 22, 41, 64, 75]\n",
    "is_even = lambda x : x % 2 == 0       # Función lambda que retorna True si 'x' es par\n",
    "\n",
    "even_list = filter(is_even, number_list)\n",
    "\n",
    "print(type(even_list))                 # Es del tipo 'filter'\n",
    "\n",
    "even_list = list(even_list)            # Lo convertimos a lista\n",
    "print(even_list)                       # Obtenemos la lista de con solo números pares de 'number_list'"
   ]
  },
  {
   "cell_type": "markdown",
   "metadata": {},
   "source": [
    "Podemos usar funciones que no sean lambda:"
   ]
  },
  {
   "cell_type": "code",
   "execution_count": 14,
   "metadata": {},
   "outputs": [
    {
     "data": {
      "text/plain": [
       "[2, 5, 7, 97, 41]"
      ]
     },
     "execution_count": 14,
     "metadata": {},
     "output_type": "execute_result"
    }
   ],
   "source": [
    "# Filtrar todos los números primos\n",
    "\n",
    "def is_prime(n):\n",
    "    if n <= 1:\n",
    "        return False\n",
    "    \n",
    "    for i in range(2, n):\n",
    "        if n % i == 0:\n",
    "            return False\n",
    "        \n",
    "    return True\n",
    "\n",
    "number_list = [2, 5, 7, 20, 97, 41, 64, 75]\n",
    "prime_list = list(filter(is_prime, number_list))\n",
    "prime_list"
   ]
  },
  {
   "cell_type": "code",
   "execution_count": 15,
   "metadata": {},
   "outputs": [
    {
     "data": {
      "text/plain": [
       "['Mario', 'Linda', 'Rocio', 'Kevin']"
      ]
     },
     "execution_count": 15,
     "metadata": {},
     "output_type": "execute_result"
    }
   ],
   "source": [
    "# Filtrar los nombres con longitud igual a 5\n",
    "\n",
    "name_list = ['Mario', 'Stephanie', 'Linda', 'Rocio', 'Jhon', 'Kevin']\n",
    "filtered_name_list = list(filter(lambda name : len(name) == 5, name_list))\n",
    "filtered_name_list"
   ]
  },
  {
   "cell_type": "code",
   "execution_count": 16,
   "metadata": {},
   "outputs": [
    {
     "data": {
      "text/plain": [
       "[2, 4, 1, 8]"
      ]
     },
     "execution_count": 16,
     "metadata": {},
     "output_type": "execute_result"
    }
   ],
   "source": [
    "# Dado los radios de unos círculos, filtrar aquellos que su área sea menor a 300.0\n",
    "\n",
    "radius_list = [2, 10, 4, 1, 19, 8, 14]\n",
    "filtered_radius_list = list(filter(lambda radius : area_circle(radius) < 300.0, radius_list))\n",
    "filtered_radius_list"
   ]
  },
  {
   "cell_type": "code",
   "execution_count": 17,
   "metadata": {},
   "outputs": [
    {
     "data": {
      "text/plain": [
       "[{'name': 'Ana', 'edad': 25}, {'name': 'Carlos', 'edad': 31}]"
      ]
     },
     "execution_count": 17,
     "metadata": {},
     "output_type": "execute_result"
    }
   ],
   "source": [
    "# Dada una lista, filtrar a todas las personas mayores de edad\n",
    "\n",
    "people_list = [\n",
    "                {\"name\" : \"Ana\", \"edad\" : 25}, \n",
    "                {\"name\" : \"Juan\", \"edad\" : 13}, \n",
    "                {\"name\" : \"Maria\", \"edad\" : 17}, \n",
    "                {\"name\" : \"Carlos\", \"edad\" : 31}\n",
    "]\n",
    "\n",
    "filtered_people_list = list(filter(lambda person : person['edad'] >= 18, people_list))\n",
    "filtered_people_list"
   ]
  },
  {
   "cell_type": "markdown",
   "metadata": {},
   "source": [
    "### Map\n",
    "\n",
    "Es una función de orden superior que aplica una función a todos los elementos de un iterable y retorna un nuevo iterable con los resultados:\n",
    "\n",
    "```python\n",
    "\n",
    "map(function, iterable)\n",
    "\n",
    "```"
   ]
  },
  {
   "cell_type": "code",
   "execution_count": 18,
   "metadata": {},
   "outputs": [
    {
     "data": {
      "text/plain": [
       "[25, 100, 529, 16, 25]"
      ]
     },
     "execution_count": 18,
     "metadata": {},
     "output_type": "execute_result"
    }
   ],
   "source": [
    "number_list = [5, 10, 23, 4, 5]\n",
    "square_list = list(map(lambda x : x ** 2, number_list))\n",
    "square_list"
   ]
  },
  {
   "cell_type": "code",
   "execution_count": 19,
   "metadata": {},
   "outputs": [
    {
     "data": {
      "text/plain": [
       "[120, 3628800, 25852016738884976640000, 24, 120]"
      ]
     },
     "execution_count": 19,
     "metadata": {},
     "output_type": "execute_result"
    }
   ],
   "source": [
    "import math\n",
    "\n",
    "number_list = [5, 10, 23, 4, 5]\n",
    "\n",
    "# math.factorial es una función, y puede ser usada como parámetro en 'map'\n",
    "factorial_list = list(map(math.factorial, number_list))\n",
    "factorial_list"
   ]
  },
  {
   "cell_type": "code",
   "execution_count": 20,
   "metadata": {},
   "outputs": [
    {
     "data": {
      "text/plain": [
       "[5, 9, 5, 5, 4, 5]"
      ]
     },
     "execution_count": 20,
     "metadata": {},
     "output_type": "execute_result"
    }
   ],
   "source": [
    "name_list = ['Mario', 'Stephanie', 'Linda', 'Rocio', 'Jhon', 'Kevin']\n",
    "len_list = list(map(len, name_list))\n",
    "len_list"
   ]
  },
  {
   "cell_type": "markdown",
   "metadata": {},
   "source": [
    "Al igual que `filter`, podemos usar funciones no lambda en `map`:"
   ]
  },
  {
   "cell_type": "code",
   "execution_count": 21,
   "metadata": {},
   "outputs": [
    {
     "data": {
      "text/plain": [
       "[12, 14, 11, 8, 12, 8]"
      ]
     },
     "execution_count": 21,
     "metadata": {},
     "output_type": "execute_result"
    }
   ],
   "source": [
    "def digit_sum(n):\n",
    "    accum = 0\n",
    "\n",
    "    while n > 0:\n",
    "        accum += n % 10\n",
    "        n //= 10\n",
    "\n",
    "    return accum\n",
    "\n",
    "number_list = [3234, 4235, 5123, 53, 2019, 2024]\n",
    "\n",
    "sum_digit_list = list(map(digit_sum, number_list))\n",
    "sum_digit_list"
   ]
  },
  {
   "cell_type": "markdown",
   "metadata": {},
   "source": [
    "### Reduce\n",
    "\n",
    "Es una función de orden superior que se encuentra en el módulo `functools` y se utiliza para aplicar repetidamente una función binaria (funciones con dos parámetros) de un iterable, de manera acumulativa. \n",
    "\n",
    "La función binaria, primero se aplica a los dos primeros elementos. El resultado, ahora es aplicado la función junto al siguiente término de la lista. Y así sucesivamente. `reduce()` retornará el resultado luego de aplicar la función binaria a todos los elementos del iterable.\n",
    "\n",
    "```python\n",
    "\n",
    "from functools import reduce\n",
    "reduce(function, iterable, [initializer])\n",
    "\n",
    "```\n",
    "\n",
    "El tercer parámetro `initializer` es opcional, y es un valor inicial que se utiliza como primer argumento en la primera llamada a la función."
   ]
  },
  {
   "cell_type": "code",
   "execution_count": 22,
   "metadata": {},
   "outputs": [],
   "source": [
    "from functools import reduce"
   ]
  },
  {
   "cell_type": "code",
   "execution_count": 23,
   "metadata": {},
   "outputs": [
    {
     "data": {
      "text/plain": [
       "236"
      ]
     },
     "execution_count": 23,
     "metadata": {},
     "output_type": "execute_result"
    }
   ],
   "source": [
    "number_list = [2, 5, 75, 20, 22, 41, 64, 7]\n",
    "total_sum = reduce(lambda a, b : a + b, number_list)\n",
    "total_sum"
   ]
  },
  {
   "cell_type": "code",
   "execution_count": 24,
   "metadata": {},
   "outputs": [
    {
     "data": {
      "text/plain": [
       "75"
      ]
     },
     "execution_count": 24,
     "metadata": {},
     "output_type": "execute_result"
    }
   ],
   "source": [
    "number_list = [2, 5, 75, 20, 22, 41, 64, 7]\n",
    "total_sum = reduce(max, number_list)\n",
    "total_sum"
   ]
  },
  {
   "cell_type": "code",
   "execution_count": 25,
   "metadata": {},
   "outputs": [
    {
     "data": {
      "text/plain": [
       "75"
      ]
     },
     "execution_count": 25,
     "metadata": {},
     "output_type": "execute_result"
    }
   ],
   "source": [
    "max(number_list)"
   ]
  },
  {
   "cell_type": "code",
   "execution_count": 26,
   "metadata": {},
   "outputs": [
    {
     "data": {
      "text/plain": [
       "7"
      ]
     },
     "execution_count": 26,
     "metadata": {},
     "output_type": "execute_result"
    }
   ],
   "source": [
    "max(4, 7)"
   ]
  }
 ],
 "metadata": {
  "kernelspec": {
   "display_name": "Python 3 (ipykernel)",
   "language": "python",
   "name": "python3"
  },
  "language_info": {
   "codemirror_mode": {
    "name": "ipython",
    "version": 3
   },
   "file_extension": ".py",
   "mimetype": "text/x-python",
   "name": "python",
   "nbconvert_exporter": "python",
   "pygments_lexer": "ipython3",
   "version": "3.11.7"
  }
 },
 "nbformat": 4,
 "nbformat_minor": 4
}
