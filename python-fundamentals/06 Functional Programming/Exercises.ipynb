{
 "cells": [
  {
   "cell_type": "markdown",
   "metadata": {},
   "source": [
    "# Programación Funcional"
   ]
  },
  {
   "cell_type": "markdown",
   "metadata": {},
   "source": [
    "## Filter"
   ]
  },
  {
   "cell_type": "markdown",
   "metadata": {},
   "source": [
    "1. Dada una lista de palabras, filtra las que contienen la letra `a`."
   ]
  },
  {
   "cell_type": "code",
   "execution_count": null,
   "metadata": {},
   "outputs": [],
   "source": [
    "palabras = [\"python\", \"java\", \"c++\", \"javascript\", \"ruby\"]\n",
    "\n",
    "# Código\n"
   ]
  },
  {
   "cell_type": "markdown",
   "metadata": {},
   "source": [
    "2. Dada una matriz (lista anidada), filtra todas las filas donde todos sus elementos son igual a 0."
   ]
  },
  {
   "cell_type": "code",
   "execution_count": 6,
   "metadata": {},
   "outputs": [],
   "source": [
    "matrix = [[1, 3, 5, 0, 2],\n",
    "          [-1, 0, 1, 0, -1],\n",
    "          [0, 0, 0, 0, 0],\n",
    "          [4, 10, 11, 3, -17],\n",
    "          [0, 0, 0, 1, 0],\n",
    "          [0, 0, 0, 0, 0],\n",
    "          [0, 0, 0, 0, 0],\n",
    "          [13, -13, 13, -13, 13]]\n",
    "\n",
    "# Código\n"
   ]
  },
  {
   "cell_type": "markdown",
   "metadata": {},
   "source": [
    "3. Dado una lista de alumnos con sus cuatro notas respectivas, filtra los aprobados. Un alumno aprobado es aquel que su promedio de notas es mayor o igual a 10."
   ]
  },
  {
   "cell_type": "code",
   "execution_count": null,
   "metadata": {},
   "outputs": [],
   "source": [
    "students = [{'name' : 'Clara', 'grades' : [13, 15, 8, 11]},\n",
    "            {'name' : 'Jose', 'grades' : [7, 15, 20, 2]},\n",
    "            {'name' : 'Linda', 'grades' : [19, 18, 19, 17]},\n",
    "            {'name' : 'Mario', 'grades' : [5, 9, 3, 4]},\n",
    "            {'name' : 'Miguel', 'grades' : [13, 11, 4, 16]}\n",
    "            ]\n",
    "\n",
    "# Código\n",
    "\n"
   ]
  },
  {
   "cell_type": "markdown",
   "metadata": {},
   "source": [
    "## Map"
   ]
  },
  {
   "cell_type": "markdown",
   "metadata": {},
   "source": [
    "1. Dada una lista de radios de círculos, calcular el área del círculo para cada radio."
   ]
  },
  {
   "cell_type": "code",
   "execution_count": null,
   "metadata": {},
   "outputs": [],
   "source": [
    "radius = [10, 7, 15, 20, 13, 1]\n",
    "\n",
    "# Código\n"
   ]
  },
  {
   "cell_type": "markdown",
   "metadata": {},
   "source": [
    "2. Vimos el cifrado César en el módulo 3. Dada una lista de mensajes y llaves (la llave es un número), cifrar cada uno de ellos con el cifrado César. (Crea una función que aplique el cifrado César)."
   ]
  },
  {
   "cell_type": "code",
   "execution_count": null,
   "metadata": {},
   "outputs": [],
   "source": [
    "messages_list = [('Hola a todos', 4), ('Mensaje que quiero cifrar', 10), ('Informacion sensible', 17)]\n",
    "\n",
    "# Código"
   ]
  },
  {
   "cell_type": "markdown",
   "metadata": {},
   "source": [
    "## Reduce"
   ]
  },
  {
   "cell_type": "markdown",
   "metadata": {},
   "source": [
    "1. Dada una lista de números, use `reduce` para calcular el máximo común divisor de todos los números de la lista."
   ]
  },
  {
   "cell_type": "code",
   "execution_count": null,
   "metadata": {},
   "outputs": [],
   "source": [
    "number_list = [24, 36, 102, 78, 516, 96]\n",
    "\n",
    "# Código\n"
   ]
  }
 ],
 "metadata": {
  "kernelspec": {
   "display_name": "Python 3 (ipykernel)",
   "language": "python",
   "name": "python3"
  },
  "language_info": {
   "codemirror_mode": {
    "name": "ipython",
    "version": 3
   },
   "file_extension": ".py",
   "mimetype": "text/x-python",
   "name": "python",
   "nbconvert_exporter": "python",
   "pygments_lexer": "ipython3",
   "version": "3.11.7"
  }
 },
 "nbformat": 4,
 "nbformat_minor": 4
}
