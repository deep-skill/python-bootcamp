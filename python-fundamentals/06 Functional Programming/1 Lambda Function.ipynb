{
 "cells": [
  {
   "cell_type": "markdown",
   "metadata": {},
   "source": [
    "## 1. Funciones lambda\n",
    "\n",
    "Las funciones lambda son funciones anónimas pequeñas que pueden tener cualquier número de parámetros, pero solo pueden tener una expresión. \n",
    "\n",
    "### Sintaxis de la función lambda\n",
    "\n",
    "```python\n",
    "\n",
    "function_name = lambda parameter1, parameter2, parameter3 : expression\n",
    "\n",
    "```\n",
    "\n",
    "Veamos algunos ejemplos:"
   ]
  },
  {
   "cell_type": "code",
   "execution_count": null,
   "metadata": {},
   "outputs": [],
   "source": [
    "exponentation = lambda x, y : x ** y\n",
    "exponentation(3, 5)"
   ]
  },
  {
   "cell_type": "code",
   "execution_count": null,
   "metadata": {},
   "outputs": [],
   "source": [
    "from math import pi\n",
    "\n",
    "area_circle = lambda radius : (radius ** 2) * pi\n",
    "area_circle(2)"
   ]
  },
  {
   "cell_type": "code",
   "execution_count": null,
   "metadata": {},
   "outputs": [],
   "source": [
    "area_equilateral_triangle = lambda side : (3 ** 0.5) / 4 * (side ** 2)\n",
    "area_equilateral_triangle(3)"
   ]
  }
 ],
 "metadata": {
  "language_info": {
   "name": "python"
  }
 },
 "nbformat": 4,
 "nbformat_minor": 2
}
