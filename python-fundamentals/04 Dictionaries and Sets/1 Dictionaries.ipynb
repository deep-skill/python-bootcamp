{
 "cells": [
  {
   "cell_type": "markdown",
   "metadata": {},
   "source": [
    "# Diccionarios y Sets\n",
    "\n",
    "## 1. Diccionarios\n",
    "\n",
    "Los *diccionarios* en Python son estructuras de datos que nos van a permitir relacionar **llaves** con **valores**. Para declarar un diccionario, usaremos los caracteres llaves `{}`.\n",
    "\n",
    "```python\n",
    "dictionary = {key1 : value1, key2 : value2, key3 : value3}\n",
    "```\n",
    "\n",
    "Las **llaves** y los **valores** pueden ser de cualquier tipo.\n",
    "\n",
    "Podemos acceder al valor de una llave de la siguiente manera:\n",
    "\n",
    "```python\n",
    "dictionary[key1]\n",
    "```\n",
    "\n",
    "Veamos un ejemplo de un diccionario, donde almacenamos datos de una persona:\n",
    "\n",
    "- Nombre\n",
    "- Apellido\n",
    "- Edad"
   ]
  },
  {
   "cell_type": "code",
   "execution_count": 1,
   "metadata": {},
   "outputs": [
    {
     "name": "stdout",
     "output_type": "stream",
     "text": [
      "{'first_name': 'Mario', 'last_name': 'Rosales', 'age': 30}\n",
      "<class 'dict'>\n"
     ]
    }
   ],
   "source": [
    "person_data = {'first_name' : 'Mario', 'last_name' : 'Rosales', 'age' : 30}\n",
    "\n",
    "print(person_data)\n",
    "print(type(person_data))"
   ]
  },
  {
   "cell_type": "markdown",
   "metadata": {},
   "source": [
    "En una lista, accedemos a sus elementos mediante sus índices. Los índices siempre son números enteros. En el caso de un diccionario, la llave puede ser del tipo `str`, `int`, etc. "
   ]
  },
  {
   "cell_type": "code",
   "execution_count": 2,
   "metadata": {},
   "outputs": [
    {
     "data": {
      "text/plain": [
       "'Mario'"
      ]
     },
     "execution_count": 2,
     "metadata": {},
     "output_type": "execute_result"
    }
   ],
   "source": [
    "person_data['first_name']"
   ]
  },
  {
   "cell_type": "code",
   "execution_count": 3,
   "metadata": {},
   "outputs": [
    {
     "data": {
      "text/plain": [
       "'Rosales'"
      ]
     },
     "execution_count": 3,
     "metadata": {},
     "output_type": "execute_result"
    }
   ],
   "source": [
    "person_data['last_name']"
   ]
  },
  {
   "cell_type": "code",
   "execution_count": 4,
   "metadata": {},
   "outputs": [
    {
     "data": {
      "text/plain": [
       "30"
      ]
     },
     "execution_count": 4,
     "metadata": {},
     "output_type": "execute_result"
    }
   ],
   "source": [
    "person_data['age']"
   ]
  },
  {
   "cell_type": "code",
   "execution_count": 5,
   "metadata": {},
   "outputs": [
    {
     "data": {
      "text/plain": [
       "'Hola, soy Mario Rosales y tengo 30 años'"
      ]
     },
     "execution_count": 5,
     "metadata": {},
     "output_type": "execute_result"
    }
   ],
   "source": [
    "'Hola, soy ' + person_data['first_name'] + ' ' + person_data['last_name'] + ' y tengo ' + str(person_data['age']) + ' años'"
   ]
  },
  {
   "cell_type": "markdown",
   "metadata": {},
   "source": [
    "Es posible modificar el valor de una llave. Simplemente le asignamos otro valor:"
   ]
  },
  {
   "cell_type": "code",
   "execution_count": 6,
   "metadata": {},
   "outputs": [
    {
     "data": {
      "text/plain": [
       "{'first_name': 'Mario', 'last_name': 'Rosales', 'age': 25}"
      ]
     },
     "execution_count": 6,
     "metadata": {},
     "output_type": "execute_result"
    }
   ],
   "source": [
    "person_data['age'] = 25\n",
    "person_data"
   ]
  },
  {
   "cell_type": "markdown",
   "metadata": {},
   "source": [
    "Para añadir un elemento en el diccionario, simplemente asignamos un *valor* a la *llave* a añadir:"
   ]
  },
  {
   "cell_type": "code",
   "execution_count": 7,
   "metadata": {},
   "outputs": [
    {
     "data": {
      "text/plain": [
       "{'first_name': 'Mario', 'last_name': 'Rosales', 'age': 25, 'gender': 'male'}"
      ]
     },
     "execution_count": 7,
     "metadata": {},
     "output_type": "execute_result"
    }
   ],
   "source": [
    "person_data['gender'] = 'male'\n",
    "person_data"
   ]
  },
  {
   "cell_type": "code",
   "execution_count": 8,
   "metadata": {},
   "outputs": [
    {
     "data": {
      "text/plain": [
       "{'first_name': 'Mario',\n",
       " 'last_name': 'Rosales',\n",
       " 'age': 25,\n",
       " 'gender': 'male',\n",
       " 'profession': 'engineer'}"
      ]
     },
     "execution_count": 8,
     "metadata": {},
     "output_type": "execute_result"
    }
   ],
   "source": [
    "person_data['profession'] = 'engineer'\n",
    "person_data"
   ]
  },
  {
   "cell_type": "markdown",
   "metadata": {},
   "source": [
    "Podemos usar la sentencia `in` para determinar si existe la llave en el diccionario o no:"
   ]
  },
  {
   "cell_type": "code",
   "execution_count": 9,
   "metadata": {},
   "outputs": [
    {
     "data": {
      "text/plain": [
       "True"
      ]
     },
     "execution_count": 9,
     "metadata": {},
     "output_type": "execute_result"
    }
   ],
   "source": [
    "# Existe la llave 'gender' en el diccionario\n",
    "\n",
    "'gender' in person_data"
   ]
  },
  {
   "cell_type": "code",
   "execution_count": 10,
   "metadata": {},
   "outputs": [
    {
     "data": {
      "text/plain": [
       "False"
      ]
     },
     "execution_count": 10,
     "metadata": {},
     "output_type": "execute_result"
    }
   ],
   "source": [
    "# No existe la llave 'height' en el diccionario\n",
    "\n",
    "'height' in person_data"
   ]
  },
  {
   "cell_type": "code",
   "execution_count": 11,
   "metadata": {},
   "outputs": [
    {
     "data": {
      "text/plain": [
       "False"
      ]
     },
     "execution_count": 11,
     "metadata": {},
     "output_type": "execute_result"
    }
   ],
   "source": [
    "# 'Mario' es el valor de la llave 'first_name' pero no una llave\n",
    "\n",
    "'Mario' in person_data"
   ]
  },
  {
   "cell_type": "markdown",
   "metadata": {},
   "source": [
    "## Aplicación de diccionarios\n",
    "\n",
    "Los diccionarios nos pueden ayudar para obtener la *frecuencia de elementos de alguna estructura*. Por ejemplo, podemos calcular la frecuencia de letras en una palabra:"
   ]
  },
  {
   "cell_type": "code",
   "execution_count": 12,
   "metadata": {},
   "outputs": [
    {
     "name": "stdout",
     "output_type": "stream",
     "text": [
      "{'o': 6, 't': 1, 'r': 3, 'i': 2, 'n': 2, 'l': 2, 'a': 1, 'g': 2}\n"
     ]
    }
   ],
   "source": [
    "word = 'otorrinolaringologo'\n",
    "letter_frecuency = {}\n",
    "\n",
    "for c in word:\n",
    "\n",
    "    # Si 'c' no existe como llave del diccionario, creamos el elemento\n",
    "    # e inicializamos la frecuencia en cero\n",
    "    if not c in letter_frecuency:\n",
    "        letter_frecuency[c] = 0\n",
    "\n",
    "    # Añadimos en 1 a la frecuencia de 'c'\n",
    "    letter_frecuency[c] += 1\n",
    "\n",
    "print(letter_frecuency)"
   ]
  },
  {
   "cell_type": "markdown",
   "metadata": {},
   "source": [
    "### Obtener las llaves, valores y elementos de un diccionario"
   ]
  },
  {
   "cell_type": "code",
   "execution_count": 13,
   "metadata": {},
   "outputs": [],
   "source": [
    "person_data = {'first_name': 'Mario',\n",
    "               'last_name': 'Rosales',\n",
    "               'age': 25,\n",
    "               'gender': 'male',\n",
    "               'profession': 'engineer'}"
   ]
  },
  {
   "cell_type": "code",
   "execution_count": 14,
   "metadata": {},
   "outputs": [
    {
     "data": {
      "text/plain": [
       "dict_keys(['first_name', 'last_name', 'age', 'gender', 'profession'])"
      ]
     },
     "execution_count": 14,
     "metadata": {},
     "output_type": "execute_result"
    }
   ],
   "source": [
    "# LLAVES DEL DICCIONARIO\n",
    "\n",
    "person_data.keys()"
   ]
  },
  {
   "cell_type": "code",
   "execution_count": 15,
   "metadata": {},
   "outputs": [
    {
     "name": "stdout",
     "output_type": "stream",
     "text": [
      "first_name\n",
      "last_name\n",
      "age\n",
      "gender\n",
      "profession\n"
     ]
    }
   ],
   "source": [
    "# Podemos iterar sobre sus llaves\n",
    "\n",
    "for key in person_data.keys():\n",
    "    print(key)"
   ]
  },
  {
   "cell_type": "code",
   "execution_count": 16,
   "metadata": {},
   "outputs": [
    {
     "data": {
      "text/plain": [
       "dict_values(['Mario', 'Rosales', 25, 'male', 'engineer'])"
      ]
     },
     "execution_count": 16,
     "metadata": {},
     "output_type": "execute_result"
    }
   ],
   "source": [
    "# VALORES DEL DICCIONARIO\n",
    " \n",
    "person_data.values()"
   ]
  },
  {
   "cell_type": "code",
   "execution_count": 17,
   "metadata": {},
   "outputs": [
    {
     "name": "stdout",
     "output_type": "stream",
     "text": [
      "Mario\n",
      "Rosales\n",
      "25\n",
      "male\n",
      "engineer\n"
     ]
    }
   ],
   "source": [
    "for value in person_data.values():\n",
    "    print(value)"
   ]
  },
  {
   "cell_type": "code",
   "execution_count": 18,
   "metadata": {},
   "outputs": [
    {
     "data": {
      "text/plain": [
       "dict_items([('first_name', 'Mario'), ('last_name', 'Rosales'), ('age', 25), ('gender', 'male'), ('profession', 'engineer')])"
      ]
     },
     "execution_count": 18,
     "metadata": {},
     "output_type": "execute_result"
    }
   ],
   "source": [
    "# ELEMENTOS DEL DICCIONARIO\n",
    "\n",
    "# Una lista de tuplas\n",
    "# [(key1, value1), (key2, value2), (key3, value3)]\n",
    "\n",
    "person_data.items()"
   ]
  },
  {
   "cell_type": "code",
   "execution_count": 22,
   "metadata": {},
   "outputs": [
    {
     "name": "stdout",
     "output_type": "stream",
     "text": [
      "first_name Mario\n",
      "last_name Rosales\n",
      "age 25\n",
      "gender male\n",
      "profession engineer\n"
     ]
    }
   ],
   "source": [
    "# Desempaquetamos la tupla en las variables 'key' y 'value'\n",
    "\n",
    "for key, value in person_data.items():\n",
    "    print(key, value)\n",
    "    #print('La llave (' + str(key) + ') tiene valor: (' + str(value) + ')')"
   ]
  }
 ],
 "metadata": {
  "kernelspec": {
   "display_name": "Python 3 (ipykernel)",
   "language": "python",
   "name": "python3"
  },
  "language_info": {
   "codemirror_mode": {
    "name": "ipython",
    "version": 3
   },
   "file_extension": ".py",
   "mimetype": "text/x-python",
   "name": "python",
   "nbconvert_exporter": "python",
   "pygments_lexer": "ipython3",
   "version": "3.11.7"
  }
 },
 "nbformat": 4,
 "nbformat_minor": 4
}
