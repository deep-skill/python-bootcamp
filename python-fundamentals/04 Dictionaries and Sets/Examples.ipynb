{
 "cells": [
  {
   "cell_type": "markdown",
   "metadata": {},
   "source": [
    "# Ejemplos de Clase #"
   ]
  },
  {
   "cell_type": "markdown",
   "metadata": {},
   "source": [
    "## 1. Promedios ##\n",
    "\n",
    "Dada una lista de enteros que representan medidas de altura de plantas, el profesor de botánica Dr. Pierre Curie te pide de favor que calcules el promedio de altura de todas las plantas y además lo más importante, el promedio de las plantas con alturas distintas.\n",
    "\n",
    "### Solución ###"
   ]
  },
  {
   "cell_type": "markdown",
   "metadata": {},
   "source": [
    "Nos apoyamos en la propiedad de set de no tener elementos duplicados para eliminar los elementos repetidos en la lista de plantas."
   ]
  },
  {
   "cell_type": "code",
   "execution_count": 1,
   "metadata": {},
   "outputs": [
    {
     "name": "stdout",
     "output_type": "stream",
     "text": [
      "{2, 3, 100, 5, 6, 8, 10}\n",
      "15.5 19.142857142857142\n"
     ]
    }
   ],
   "source": [
    "array = [3, 3, 5, 6, 8, 8, 2, 10, 100, 10]\n",
    "\n",
    "mean = sum(array) / len(array)\n",
    "\n",
    "array_no_duplicate = set(array)\n",
    "\n",
    "print(array_no_duplicate)\n",
    "\n",
    "mean_no_duplicate = sum(array_no_duplicate) / len(array_no_duplicate)\n",
    "\n",
    "print(mean, mean_no_duplicate)"
   ]
  },
  {
   "cell_type": "markdown",
   "metadata": {},
   "source": [
    "## 2. Pares de sumas ##\n",
    "\n",
    "Dada una lista de números enteros y un valor dado `m`, debes encontrar todos los pares de elementos de la lista que sumen `m`.\n",
    "\n",
    "### Solución ###"
   ]
  },
  {
   "cell_type": "markdown",
   "metadata": {},
   "source": [
    "La idea es mantener una lista auxiliar en la que iremos buscando el complemento (la diferencia para obtener la suma deseada) de cada elemento de la primera lista y luego este elemento es agregado a la lista auxiliar ya que es un nuevo posible complemento."
   ]
  },
  {
   "cell_type": "code",
   "execution_count": 2,
   "metadata": {
    "scrolled": true
   },
   "outputs": [
    {
     "name": "stdout",
     "output_type": "stream",
     "text": [
      "7 7\n",
      "5 9\n",
      "6 8\n",
      "8 6\n",
      "9 5\n"
     ]
    }
   ],
   "source": [
    "array = [7, 5, 2, 6, 4, 8, 9]\n",
    "m = 14\n",
    "\n",
    "for e in array:\n",
    "    for f in array:\n",
    "        if e + f == m:\n",
    "            print(e, f)"
   ]
  },
  {
   "cell_type": "code",
   "execution_count": 3,
   "metadata": {},
   "outputs": [
    {
     "name": "stdout",
     "output_type": "stream",
     "text": [
      "6 8\n",
      "5 9\n"
     ]
    }
   ],
   "source": [
    "con = 0\n",
    "array_aux = []\n",
    "for i in array:\n",
    "    if m - i in array_aux:\n",
    "        print(m - i, i)\n",
    "        con += 1\n",
    "    array_aux.append(i)"
   ]
  },
  {
   "cell_type": "code",
   "execution_count": 8,
   "metadata": {},
   "outputs": [
    {
     "name": "stdout",
     "output_type": "stream",
     "text": [
      "31985\n"
     ]
    }
   ],
   "source": [
    "import random\n",
    "\n",
    "array = [] \n",
    "for i in range(100000):\n",
    "    array.append(random.randint(0, 100000))\n",
    "m = random.randint(0, 120250)\n",
    "#print(array)\n",
    "print(m)"
   ]
  },
  {
   "cell_type": "code",
   "execution_count": 9,
   "metadata": {},
   "outputs": [
    {
     "name": "stdout",
     "output_type": "stream",
     "text": [
      "11724 16.472527027130127\n"
     ]
    }
   ],
   "source": [
    "import time\n",
    "\n",
    "start = time.time()\n",
    "\n",
    "con = 0\n",
    "array_aux = list()\n",
    "for i in array:\n",
    "    if m - i in array_aux:\n",
    "        #print(m - i, i)\n",
    "        con += 1\n",
    "    array_aux.append(i)\n",
    "\n",
    "end = time.time()\n",
    "print(con, end - start)"
   ]
  },
  {
   "cell_type": "markdown",
   "metadata": {},
   "source": [
    "La búsqueda en listas son lentas, así que nos apoyamos en un set que tiene búsquedas eficientes."
   ]
  },
  {
   "cell_type": "code",
   "execution_count": 10,
   "metadata": {},
   "outputs": [
    {
     "name": "stdout",
     "output_type": "stream",
     "text": [
      "11724 0.03742218017578125\n"
     ]
    }
   ],
   "source": [
    "start = time.time()\n",
    "hash_table = set()\n",
    "con = 0\n",
    "for i in array:\n",
    "    if m - i in hash_table:\n",
    "        #print(m - i, i)\n",
    "        con += 1\n",
    "    hash_table.add(i)\n",
    "end = time.time()\n",
    "print(con, end - start)"
   ]
  },
  {
   "cell_type": "markdown",
   "metadata": {},
   "source": [
    "## 3. Ocurrencias ##\n",
    "\n",
    "Lee una cadena de caracteres, y debes imprimir cada palabra en esta cadena y el número de ocurrencias de esta.\n",
    "\n",
    "**Ejemplo:**\n",
    "\n",
    "Entrada:\n",
    "\n",
    "    \"bbb aaa bbb bbb aaa\"\n",
    "\n",
    "Salida:\n",
    "\n",
    "    bbb 3\n",
    "    aaa 2\n",
    "\n",
    "### Solución ###"
   ]
  },
  {
   "cell_type": "markdown",
   "metadata": {},
   "source": [
    "Para contar eficientemente las ocurrencias podemos apoyarnos en un diccionario."
   ]
  },
  {
   "cell_type": "code",
   "execution_count": 11,
   "metadata": {},
   "outputs": [
    {
     "name": "stdin",
     "output_type": "stream",
     "text": [
      " bbb aaa bbb bbb aaa cc ccc dd dd\n"
     ]
    },
    {
     "name": "stdout",
     "output_type": "stream",
     "text": [
      "bbb 3\n",
      "aaa 2\n",
      "cc 1\n",
      "ccc 1\n",
      "dd 2\n"
     ]
    }
   ],
   "source": [
    "array_words = input().split()\n",
    "\n",
    "d = {}\n",
    "for word in array_words:\n",
    "    if d.get(word) == None:\n",
    "        d[word] = 1\n",
    "    else:\n",
    "        d[word] += 1\n",
    "\n",
    "for k, v in d.items():\n",
    "    print(k, v)"
   ]
  },
  {
   "cell_type": "markdown",
   "metadata": {},
   "source": [
    "## 4. Simple número ##\n",
    "\n",
    "Dada una lista de enteros no vacía, cada elemento aparece dos veces, excepto uno. Encuentra este número.\n",
    "\n",
    "**Ejemplo:**\n",
    "\n",
    ">Entrada: [2,2,1]\n",
    ">\n",
    ">Salida: 1\n",
    "\n",
    "\n",
    "### Solución ###"
   ]
  },
  {
   "cell_type": "markdown",
   "metadata": {},
   "source": [
    "La idea es eliminar todos los pares repetidos, así nos quedamos sólo con el elemento único. Para esto creamos un diccionario en el que iremos guardando cada elemento nuevo que provenga de la lista, pero si este elemento ya existe lo eliminamos. Obviamente ya no consideramos una lista porque las busquedas en esta son menos efecientes."
   ]
  },
  {
   "cell_type": "code",
   "execution_count": 12,
   "metadata": {},
   "outputs": [
    {
     "name": "stdout",
     "output_type": "stream",
     "text": [
      "7\n"
     ]
    }
   ],
   "source": [
    "nums = [2, 2, 3, 3, 4, 5, 5, 6, 6, 7, 4]\n",
    "\n",
    "d = {}\n",
    "for i in nums:\n",
    "    if d.get(i): # i in d\n",
    "        del d[i] # d.pop(i)\n",
    "    else:\n",
    "        d[i] = 1\n",
    "\n",
    "print(d.popitem()[0])"
   ]
  },
  {
   "cell_type": "markdown",
   "metadata": {},
   "source": [
    "También podríamos resolverlo apoyándonos en las matemáticas. Si eliminamos los duplicados, el doble de la suma de estos elementos sería mayor, en una cantidad igual al elemento buscado, que la suma total de los elementos de la lista dada.\n",
    "\n",
    "Es decir, si la lista fuera `[a, a, b, b, c]` tendríamos: `2 ∗ (a+b+c) − (a+a+b+b+c) = c`"
   ]
  },
  {
   "cell_type": "code",
   "execution_count": 13,
   "metadata": {},
   "outputs": [
    {
     "name": "stdout",
     "output_type": "stream",
     "text": [
      "7\n"
     ]
    }
   ],
   "source": [
    "print(2 * sum(set(nums)) - sum(nums))"
   ]
  },
  {
   "cell_type": "code",
   "execution_count": null,
   "metadata": {},
   "outputs": [],
   "source": [
    "5 ^ 6"
   ]
  },
  {
   "cell_type": "code",
   "execution_count": null,
   "metadata": {},
   "outputs": [],
   "source": [
    "# XOR \n",
    "\n",
    "x = nums[0]\n",
    "\n",
    "for i in range(1, len(nums)):\n",
    "    x ^= nums[i]\n",
    "print(x)"
   ]
  }
 ],
 "metadata": {
  "kernelspec": {
   "display_name": "Python 3 (ipykernel)",
   "language": "python",
   "name": "python3"
  },
  "language_info": {
   "codemirror_mode": {
    "name": "ipython",
    "version": 3
   },
   "file_extension": ".py",
   "mimetype": "text/x-python",
   "name": "python",
   "nbconvert_exporter": "python",
   "pygments_lexer": "ipython3",
   "version": "3.11.7"
  }
 },
 "nbformat": 4,
 "nbformat_minor": 4
}
