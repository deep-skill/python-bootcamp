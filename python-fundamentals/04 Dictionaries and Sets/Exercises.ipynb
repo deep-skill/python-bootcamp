{
 "cells": [
  {
   "cell_type": "markdown",
   "metadata": {},
   "source": [
    "# Diccionarios"
   ]
  },
  {
   "cell_type": "markdown",
   "metadata": {},
   "source": [
    "1. Dos cadenas son anagramas si contienen las mismas letras en la misma cantidad. Dado dos cadenas, determine si son anagagramas (ignorar espacios, además no hay diferencia entre mayúsculas y minúsculas de una misma letra):\n",
    "\n",
    "    Ejemplos de anagramas:\n",
    "    \n",
    "    - \"Amor\" y \"Roma\"\n",
    "    - \"William Shakespeare\" y \"I am a weakish speller\"\n",
    "    - \"Eleven plus two\" y \"Twelve plus one\"\n",
    "        "
   ]
  },
  {
   "cell_type": "code",
   "execution_count": null,
   "metadata": {},
   "outputs": [],
   "source": [
    "phrase1 = \"William Shakespeare\"\n",
    "phrase2 = \"I am a weakish speller\"\n",
    "\n",
    "# Código\n",
    "\n"
   ]
  },
  {
   "cell_type": "markdown",
   "metadata": {},
   "source": [
    "2. Dada una frase, determine las palabras que tienen mayor frecuencia en la frase (pueden existir varias palabras con frecuencia máxima) y guárdalas en una lista."
   ]
  },
  {
   "cell_type": "code",
   "execution_count": null,
   "metadata": {},
   "outputs": [],
   "source": [
    "phrase1 = \"La tecnología no es buena ni mala; ni es neutral. Su carácter es el de su usuario. En la tecnología, como en la vida, algunas veces es necesario reiniciar y aprender de nuevo. Sin embargo, el aprendizaje constante es clave para dominar las complejidades de la tecnología moderna.\"\n",
    "\n",
    "# Código\n"
   ]
  },
  {
   "cell_type": "markdown",
   "metadata": {},
   "source": [
    "3. Cada alumno tiene cuatro notas registradas. Su promedio final es el promedio de las tres mayores notas. Dado un diccionario con las notas de cada alumno, generar un diccionario con los promedios:\n",
    "\n",
    "    ```python\n",
    "    # De este diccionario de notas\n",
    "    grades = {'Mario' : [12, 15, 7, 19], 'Rosa' : [5, 20, 20, 11], 'Kevin' : [11, 11, 11, 11], 'Linda' : [19, 18, 17, 16]}\n",
    "    ```\n",
    "\n",
    "    ```python\n",
    "    # Generar un diccionario de promedio\n",
    "    grade_average = {'Mario' : 15.33333, 'Rosa' : 17, 'Kevin' : 11, 'Linda' : 18}\n",
    "    ```"
   ]
  },
  {
   "cell_type": "code",
   "execution_count": null,
   "metadata": {},
   "outputs": [],
   "source": [
    "grades = {'Mario' : [12, 15, 7, 19], 'Rosa' : [5, 20, 20, 11], 'Kevin' : [11, 11, 11, 11], 'Linda' : [19, 18, 17, 16]}\n",
    "\n",
    "# Código\n"
   ]
  },
  {
   "cell_type": "markdown",
   "metadata": {},
   "source": [
    "4. Desarrolla un programa que dado un diccionario, cree uno nuevo que tenga las llaves y valores invertidos. Es decir, las llaves ahora serán valores y los valores serán las nuevas llaves.\n",
    "\n",
    "    ```python\n",
    "    original_dic = {\n",
    "        'rojo': 'color',\n",
    "        'manzana': 'fruta',\n",
    "        'azul': 'color',\n",
    "        'naranja': 'fruta',\n",
    "        'espinaca': 'vegetal',\n",
    "        'fresa': 'fruta',\n",
    "        'verde': 'color',\n",
    "        'zanahoria': 'vegetal',\n",
    "        'uva': 'fruta',\n",
    "        'amarillo': 'color',\n",
    "        'banana': 'fruta',\n",
    "        'Peru': 'pais'\n",
    "    }\n",
    "    ```\n",
    "\n",
    "    ```python\n",
    "    inverted_dic = {'color': ['rojo', 'azul', 'verde', 'amarillo'], \n",
    "                    'fruta': ['manzana', 'naranja', 'fresa', 'uva', 'banana'], \n",
    "                    'vegetal': ['espinaca', 'zanahoria'], \n",
    "                    'pais': ['Peru']}\n",
    "    ```"
   ]
  },
  {
   "cell_type": "code",
   "execution_count": 2,
   "metadata": {},
   "outputs": [],
   "source": [
    "original_dic = {\n",
    "        'rojo': 'color',\n",
    "        'manzana': 'fruta',\n",
    "        'azul': 'color',\n",
    "        'naranja': 'fruta',\n",
    "        'espinaca': 'vegetal',\n",
    "        'fresa': 'fruta',\n",
    "        'verde': 'color',\n",
    "        'zanahoria': 'vegetal',\n",
    "        'uva': 'fruta',\n",
    "        'amarillo': 'color',\n",
    "        'banana': 'fruta',\n",
    "        'Peru': 'pais'\n",
    "    }\n",
    "\n",
    "# Codigo"
   ]
  },
  {
   "cell_type": "markdown",
   "metadata": {},
   "source": [
    "# Sets"
   ]
  },
  {
   "cell_type": "markdown",
   "metadata": {},
   "source": [
    "1. Intersección de conjuntos: Dado dos conjuntos, genere otro conjunto con la intersección de ambos."
   ]
  },
  {
   "cell_type": "markdown",
   "metadata": {},
   "source": [
    "2. Diferencia de conjuntos: Dado dos conjuntos $A$ y $B$, genere otro conjunto $A-B$."
   ]
  }
 ],
 "metadata": {
  "kernelspec": {
   "display_name": "Python 3",
   "language": "python",
   "name": "python3"
  },
  "language_info": {
   "codemirror_mode": {
    "name": "ipython",
    "version": 3
   },
   "file_extension": ".py",
   "mimetype": "text/x-python",
   "name": "python",
   "nbconvert_exporter": "python",
   "pygments_lexer": "ipython3",
   "version": "3.11.6"
  }
 },
 "nbformat": 4,
 "nbformat_minor": 2
}
